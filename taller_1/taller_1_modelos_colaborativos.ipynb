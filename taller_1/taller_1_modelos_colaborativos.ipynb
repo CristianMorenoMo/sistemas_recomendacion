{
 "cells": [
  {
   "cell_type": "markdown",
   "metadata": {},
   "source": [
    "# MINE 4201- Sistemas de Recomendación\n",
    "# Taller 1 -  Modelos Colaborativos"
   ]
  },
  {
   "cell_type": "markdown",
   "metadata": {},
   "source": [
    "### **Integrantes**\n",
    "* Cristian C. Moreno Mojica(c.morenom@uniandes.edu.co) \n",
    "* Juan J. Ovalle Villamil(jj.ovalle@uniandes.edu.co) \n",
    "* Maria C. Rodríguez Niño (mc.rodriguezn12@uniandes.edu.co)"
   ]
  },
  {
   "cell_type": "markdown",
   "metadata": {},
   "source": [
    "## Librerias"
   ]
  },
  {
   "cell_type": "code",
   "execution_count": 1,
   "metadata": {},
   "outputs": [],
   "source": [
    "import matplotlib.pyplot as plt\n",
    "import pandas as pd \n",
    "import numpy as np\n",
    "import seaborn as sns\n",
    "from surprise import Reader\n",
    "from surprise import Dataset\n",
    "from surprise.model_selection import train_test_split\n",
    "from sklearn.model_selection import train_test_split  as train_test_split1\n",
    "from surprise import KNNBasic\n",
    "from surprise import accuracy\n",
    "from surprise.model_selection import GridSearchCV\n",
    "from joblib import dump, load\n",
    "from sklearn.metrics import mean_squared_error"
   ]
  },
  {
   "cell_type": "markdown",
   "metadata": {},
   "source": [
    "## 1) Conocimiento del dataset de trabajo"
   ]
  },
  {
   "cell_type": "markdown",
   "metadata": {},
   "source": [
    "Existen dos conjuntos de datos:\n",
    "1. user_info : contiene información del usuario como genero, edad, pais y fecah de registro.\n",
    "2. user_interact : contiene la interaccion de los usuarios y los items (artistas y canciones)."
   ]
  },
  {
   "cell_type": "code",
   "execution_count": 2,
   "metadata": {},
   "outputs": [
    {
     "data": {
      "text/html": [
       "<div>\n",
       "<style scoped>\n",
       "    .dataframe tbody tr th:only-of-type {\n",
       "        vertical-align: middle;\n",
       "    }\n",
       "\n",
       "    .dataframe tbody tr th {\n",
       "        vertical-align: top;\n",
       "    }\n",
       "\n",
       "    .dataframe thead th {\n",
       "        text-align: right;\n",
       "    }\n",
       "</style>\n",
       "<table border=\"1\" class=\"dataframe\">\n",
       "  <thead>\n",
       "    <tr style=\"text-align: right;\">\n",
       "      <th></th>\n",
       "      <th>#id</th>\n",
       "      <th>gender</th>\n",
       "      <th>age</th>\n",
       "      <th>country</th>\n",
       "      <th>registered</th>\n",
       "    </tr>\n",
       "  </thead>\n",
       "  <tbody>\n",
       "    <tr>\n",
       "      <th>0</th>\n",
       "      <td>user_000001</td>\n",
       "      <td>m</td>\n",
       "      <td>NaN</td>\n",
       "      <td>Japan</td>\n",
       "      <td>Aug 13, 2006</td>\n",
       "    </tr>\n",
       "    <tr>\n",
       "      <th>1</th>\n",
       "      <td>user_000002</td>\n",
       "      <td>f</td>\n",
       "      <td>NaN</td>\n",
       "      <td>Peru</td>\n",
       "      <td>Feb 24, 2006</td>\n",
       "    </tr>\n",
       "    <tr>\n",
       "      <th>2</th>\n",
       "      <td>user_000003</td>\n",
       "      <td>m</td>\n",
       "      <td>22.0</td>\n",
       "      <td>United States</td>\n",
       "      <td>Oct 30, 2005</td>\n",
       "    </tr>\n",
       "    <tr>\n",
       "      <th>3</th>\n",
       "      <td>user_000004</td>\n",
       "      <td>f</td>\n",
       "      <td>NaN</td>\n",
       "      <td>NaN</td>\n",
       "      <td>Apr 26, 2006</td>\n",
       "    </tr>\n",
       "    <tr>\n",
       "      <th>4</th>\n",
       "      <td>user_000005</td>\n",
       "      <td>m</td>\n",
       "      <td>NaN</td>\n",
       "      <td>Bulgaria</td>\n",
       "      <td>Jun 29, 2006</td>\n",
       "    </tr>\n",
       "  </tbody>\n",
       "</table>\n",
       "</div>"
      ],
      "text/plain": [
       "           #id gender   age        country    registered\n",
       "0  user_000001      m   NaN          Japan  Aug 13, 2006\n",
       "1  user_000002      f   NaN           Peru  Feb 24, 2006\n",
       "2  user_000003      m  22.0  United States  Oct 30, 2005\n",
       "3  user_000004      f   NaN            NaN  Apr 26, 2006\n",
       "4  user_000005      m   NaN       Bulgaria  Jun 29, 2006"
      ]
     },
     "execution_count": 2,
     "metadata": {},
     "output_type": "execute_result"
    }
   ],
   "source": [
    "user_info = pd.read_csv('data/lastfm-dataset-1K/userid-profile.tsv', sep = '\\t')\n",
    "user_info.head() "
   ]
  },
  {
   "cell_type": "code",
   "execution_count": 3,
   "metadata": {
    "scrolled": false
   },
   "outputs": [
    {
     "data": {
      "text/html": [
       "<div>\n",
       "<style scoped>\n",
       "    .dataframe tbody tr th:only-of-type {\n",
       "        vertical-align: middle;\n",
       "    }\n",
       "\n",
       "    .dataframe tbody tr th {\n",
       "        vertical-align: top;\n",
       "    }\n",
       "\n",
       "    .dataframe thead th {\n",
       "        text-align: right;\n",
       "    }\n",
       "</style>\n",
       "<table border=\"1\" class=\"dataframe\">\n",
       "  <thead>\n",
       "    <tr style=\"text-align: right;\">\n",
       "      <th></th>\n",
       "      <th>UserId</th>\n",
       "      <th>TimeStamp</th>\n",
       "      <th>ArtId</th>\n",
       "      <th>ArtName</th>\n",
       "      <th>TraId</th>\n",
       "      <th>TraName</th>\n",
       "    </tr>\n",
       "  </thead>\n",
       "  <tbody>\n",
       "    <tr>\n",
       "      <th>0</th>\n",
       "      <td>user_000001</td>\n",
       "      <td>2009-05-04T23:08:57Z</td>\n",
       "      <td>f1b1cf71-bd35-4e99-8624-24a6e15f133a</td>\n",
       "      <td>Deep Dish</td>\n",
       "      <td>NaN</td>\n",
       "      <td>Fuck Me Im Famous (Pacha Ibiza)-09-28-2007</td>\n",
       "    </tr>\n",
       "    <tr>\n",
       "      <th>1</th>\n",
       "      <td>user_000001</td>\n",
       "      <td>2009-05-04T13:54:10Z</td>\n",
       "      <td>a7f7df4a-77d8-4f12-8acd-5c60c93f4de8</td>\n",
       "      <td>坂本龍一</td>\n",
       "      <td>NaN</td>\n",
       "      <td>Composition 0919 (Live_2009_4_15)</td>\n",
       "    </tr>\n",
       "    <tr>\n",
       "      <th>2</th>\n",
       "      <td>user_000001</td>\n",
       "      <td>2009-05-04T13:52:04Z</td>\n",
       "      <td>a7f7df4a-77d8-4f12-8acd-5c60c93f4de8</td>\n",
       "      <td>坂本龍一</td>\n",
       "      <td>NaN</td>\n",
       "      <td>Mc2 (Live_2009_4_15)</td>\n",
       "    </tr>\n",
       "    <tr>\n",
       "      <th>3</th>\n",
       "      <td>user_000001</td>\n",
       "      <td>2009-05-04T13:42:52Z</td>\n",
       "      <td>a7f7df4a-77d8-4f12-8acd-5c60c93f4de8</td>\n",
       "      <td>坂本龍一</td>\n",
       "      <td>NaN</td>\n",
       "      <td>Hibari (Live_2009_4_15)</td>\n",
       "    </tr>\n",
       "    <tr>\n",
       "      <th>4</th>\n",
       "      <td>user_000001</td>\n",
       "      <td>2009-05-04T13:42:11Z</td>\n",
       "      <td>a7f7df4a-77d8-4f12-8acd-5c60c93f4de8</td>\n",
       "      <td>坂本龍一</td>\n",
       "      <td>NaN</td>\n",
       "      <td>Mc1 (Live_2009_4_15)</td>\n",
       "    </tr>\n",
       "  </tbody>\n",
       "</table>\n",
       "</div>"
      ],
      "text/plain": [
       "        UserId             TimeStamp                                 ArtId  \\\n",
       "0  user_000001  2009-05-04T23:08:57Z  f1b1cf71-bd35-4e99-8624-24a6e15f133a   \n",
       "1  user_000001  2009-05-04T13:54:10Z  a7f7df4a-77d8-4f12-8acd-5c60c93f4de8   \n",
       "2  user_000001  2009-05-04T13:52:04Z  a7f7df4a-77d8-4f12-8acd-5c60c93f4de8   \n",
       "3  user_000001  2009-05-04T13:42:52Z  a7f7df4a-77d8-4f12-8acd-5c60c93f4de8   \n",
       "4  user_000001  2009-05-04T13:42:11Z  a7f7df4a-77d8-4f12-8acd-5c60c93f4de8   \n",
       "\n",
       "     ArtName TraId                                     TraName  \n",
       "0  Deep Dish   NaN  Fuck Me Im Famous (Pacha Ibiza)-09-28-2007  \n",
       "1       坂本龍一   NaN           Composition 0919 (Live_2009_4_15)  \n",
       "2       坂本龍一   NaN                        Mc2 (Live_2009_4_15)  \n",
       "3       坂本龍一   NaN                     Hibari (Live_2009_4_15)  \n",
       "4       坂本龍一   NaN                        Mc1 (Live_2009_4_15)  "
      ]
     },
     "execution_count": 3,
     "metadata": {},
     "output_type": "execute_result"
    }
   ],
   "source": [
    "user_interact = pd.read_csv('data/lastfm-dataset-1K/userid-timestamp-artid-artname-traid-traname.tsv',\n",
    "                  sep = '\\t',\n",
    "                 names = ['UserId', 'TimeStamp', 'ArtId', 'ArtName', 'TraId', 'TraName'])\n",
    "user_interact.head()"
   ]
  },
  {
   "cell_type": "markdown",
   "metadata": {},
   "source": [
    "La base user_interact refleja las interacciones de los usuarios y los items. Dicha relación se puede ver desde los dos tipos de items disponibles, es decir, canciones y artistas. Asi, **cada registro de la tabla representa una cancion de un artista x escuchada por un usuario y**. Con esto en mente, podemos llegar a insights relevantes para entender el conjunto de datos. Por ejemplo, si se desea ver las canciones o artistas mas escuchados,  basta con realizar un conteo por el id del artista o el id de la canción respectivamente."
   ]
  },
  {
   "cell_type": "code",
   "execution_count": 4,
   "metadata": {},
   "outputs": [
    {
     "name": "stdout",
     "output_type": "stream",
     "text": [
      "------------------------ Top 10 Artistas ------------------------\n"
     ]
    },
    {
     "data": {
      "text/html": [
       "<div>\n",
       "<style scoped>\n",
       "    .dataframe tbody tr th:only-of-type {\n",
       "        vertical-align: middle;\n",
       "    }\n",
       "\n",
       "    .dataframe tbody tr th {\n",
       "        vertical-align: top;\n",
       "    }\n",
       "\n",
       "    .dataframe thead th {\n",
       "        text-align: right;\n",
       "    }\n",
       "</style>\n",
       "<table border=\"1\" class=\"dataframe\">\n",
       "  <thead>\n",
       "    <tr style=\"text-align: right;\">\n",
       "      <th></th>\n",
       "      <th>ArtId</th>\n",
       "      <th>ArtName</th>\n",
       "      <th>Frecuencia</th>\n",
       "    </tr>\n",
       "  </thead>\n",
       "  <tbody>\n",
       "    <tr>\n",
       "      <th>70252</th>\n",
       "      <td>a74b1b7f-71a5-4011-9441-d0b5e4122711</td>\n",
       "      <td>Radiohead</td>\n",
       "      <td>115099</td>\n",
       "    </tr>\n",
       "    <tr>\n",
       "      <th>74262</th>\n",
       "      <td>b10bbbfc-cf9e-42e0-be17-e2c3e1d2600d</td>\n",
       "      <td>The Beatles</td>\n",
       "      <td>100126</td>\n",
       "    </tr>\n",
       "    <tr>\n",
       "      <th>77135</th>\n",
       "      <td>b7ffd2af-418f-4be2-bdd1-22f8b48613da</td>\n",
       "      <td>Nine Inch Nails</td>\n",
       "      <td>84317</td>\n",
       "    </tr>\n",
       "    <tr>\n",
       "      <th>65734</th>\n",
       "      <td>9c9f1380-2516-4fc9-a3e6-f9f61941d090</td>\n",
       "      <td>Muse</td>\n",
       "      <td>63139</td>\n",
       "    </tr>\n",
       "    <tr>\n",
       "      <th>85720</th>\n",
       "      <td>cc197bad-dc9c-440d-a5b5-d52ba2e14234</td>\n",
       "      <td>Coldplay</td>\n",
       "      <td>62212</td>\n",
       "    </tr>\n",
       "    <tr>\n",
       "      <th>55945</th>\n",
       "      <td>8538e728-ca0b-4321-b7e5-cff6565dd4c0</td>\n",
       "      <td>Depeche Mode</td>\n",
       "      <td>59609</td>\n",
       "    </tr>\n",
       "    <tr>\n",
       "      <th>55359</th>\n",
       "      <td>83d91898-7763-47d7-b03b-b92132375c47</td>\n",
       "      <td>Pink Floyd</td>\n",
       "      <td>58484</td>\n",
       "    </tr>\n",
       "    <tr>\n",
       "      <th>99</th>\n",
       "      <td>0039c7ae-e1a7-4a7d-9b49-0cbc716821a6</td>\n",
       "      <td>Death Cab For Cutie</td>\n",
       "      <td>58046</td>\n",
       "    </tr>\n",
       "    <tr>\n",
       "      <th>55629</th>\n",
       "      <td>847e8284-8582-4b0e-9c26-b042a4f49e57</td>\n",
       "      <td>Placebo</td>\n",
       "      <td>53467</td>\n",
       "    </tr>\n",
       "    <tr>\n",
       "      <th>1610</th>\n",
       "      <td>03ad1736-b7c9-412a-b442-82536d63a5c4</td>\n",
       "      <td>Elliott Smith</td>\n",
       "      <td>50202</td>\n",
       "    </tr>\n",
       "  </tbody>\n",
       "</table>\n",
       "</div>"
      ],
      "text/plain": [
       "                                      ArtId              ArtName  Frecuencia\n",
       "70252  a74b1b7f-71a5-4011-9441-d0b5e4122711            Radiohead      115099\n",
       "74262  b10bbbfc-cf9e-42e0-be17-e2c3e1d2600d          The Beatles      100126\n",
       "77135  b7ffd2af-418f-4be2-bdd1-22f8b48613da      Nine Inch Nails       84317\n",
       "65734  9c9f1380-2516-4fc9-a3e6-f9f61941d090                 Muse       63139\n",
       "85720  cc197bad-dc9c-440d-a5b5-d52ba2e14234             Coldplay       62212\n",
       "55945  8538e728-ca0b-4321-b7e5-cff6565dd4c0         Depeche Mode       59609\n",
       "55359  83d91898-7763-47d7-b03b-b92132375c47           Pink Floyd       58484\n",
       "99     0039c7ae-e1a7-4a7d-9b49-0cbc716821a6  Death Cab For Cutie       58046\n",
       "55629  847e8284-8582-4b0e-9c26-b042a4f49e57              Placebo       53467\n",
       "1610   03ad1736-b7c9-412a-b442-82536d63a5c4        Elliott Smith       50202"
      ]
     },
     "metadata": {},
     "output_type": "display_data"
    },
    {
     "name": "stdout",
     "output_type": "stream",
     "text": [
      "------------------------ Top 10 Canciones ------------------------\n"
     ]
    },
    {
     "data": {
      "text/html": [
       "<div>\n",
       "<style scoped>\n",
       "    .dataframe tbody tr th:only-of-type {\n",
       "        vertical-align: middle;\n",
       "    }\n",
       "\n",
       "    .dataframe tbody tr th {\n",
       "        vertical-align: top;\n",
       "    }\n",
       "\n",
       "    .dataframe thead th {\n",
       "        text-align: right;\n",
       "    }\n",
       "</style>\n",
       "<table border=\"1\" class=\"dataframe\">\n",
       "  <thead>\n",
       "    <tr style=\"text-align: right;\">\n",
       "      <th></th>\n",
       "      <th>TraId</th>\n",
       "      <th>TraName</th>\n",
       "      <th>Frecuencia</th>\n",
       "    </tr>\n",
       "  </thead>\n",
       "  <tbody>\n",
       "    <tr>\n",
       "      <th>821625</th>\n",
       "      <td>db16d0b3-b8ce-4aa8-a11a-e4d53cc7f8a6</td>\n",
       "      <td>Such Great Heights</td>\n",
       "      <td>3991</td>\n",
       "    </tr>\n",
       "    <tr>\n",
       "      <th>476769</th>\n",
       "      <td>7f1f45c0-0101-49e9-8d69-23951d271163</td>\n",
       "      <td>Love Will Tear Us Apart</td>\n",
       "      <td>3651</td>\n",
       "    </tr>\n",
       "    <tr>\n",
       "      <th>593060</th>\n",
       "      <td>9e2ad5bc-c6f9-40d2-a36f-3122ee2072a3</td>\n",
       "      <td>Karma Police</td>\n",
       "      <td>3533</td>\n",
       "    </tr>\n",
       "    <tr>\n",
       "      <th>293118</th>\n",
       "      <td>4e17b118-70a6-4c1f-b326-b4ce91fd3fad</td>\n",
       "      <td>Soul Meets Body</td>\n",
       "      <td>3479</td>\n",
       "    </tr>\n",
       "    <tr>\n",
       "      <th>957215</th>\n",
       "      <td>ff1e3e1a-f6e8-4692-b426-355880383bb6</td>\n",
       "      <td>Supermassive Black Hole</td>\n",
       "      <td>3463</td>\n",
       "    </tr>\n",
       "    <tr>\n",
       "      <th>822442</th>\n",
       "      <td>db4c9220-df76-4b42-b6f5-8bf52cc80f77</td>\n",
       "      <td>Heartbeats</td>\n",
       "      <td>3155</td>\n",
       "    </tr>\n",
       "    <tr>\n",
       "      <th>932176</th>\n",
       "      <td>f874c752-65bc-4d50-ac7e-932243ae9f02</td>\n",
       "      <td>Rebellion (Lies)</td>\n",
       "      <td>3047</td>\n",
       "    </tr>\n",
       "    <tr>\n",
       "      <th>363124</th>\n",
       "      <td>60e94685-0481-4d3d-bd84-11c389d9b2a5</td>\n",
       "      <td>Starlight</td>\n",
       "      <td>3040</td>\n",
       "    </tr>\n",
       "    <tr>\n",
       "      <th>710562</th>\n",
       "      <td>bd782340-6fa5-4b52-aa5a-ceafb9bc0340</td>\n",
       "      <td>Gimme More</td>\n",
       "      <td>3002</td>\n",
       "    </tr>\n",
       "    <tr>\n",
       "      <th>280955</th>\n",
       "      <td>4ad08552-6c35-49ed-bcc6-6822c8f9dfd8</td>\n",
       "      <td>When You Were Young</td>\n",
       "      <td>2997</td>\n",
       "    </tr>\n",
       "  </tbody>\n",
       "</table>\n",
       "</div>"
      ],
      "text/plain": [
       "                                       TraId                  TraName  \\\n",
       "821625  db16d0b3-b8ce-4aa8-a11a-e4d53cc7f8a6       Such Great Heights   \n",
       "476769  7f1f45c0-0101-49e9-8d69-23951d271163  Love Will Tear Us Apart   \n",
       "593060  9e2ad5bc-c6f9-40d2-a36f-3122ee2072a3             Karma Police   \n",
       "293118  4e17b118-70a6-4c1f-b326-b4ce91fd3fad          Soul Meets Body   \n",
       "957215  ff1e3e1a-f6e8-4692-b426-355880383bb6  Supermassive Black Hole   \n",
       "822442  db4c9220-df76-4b42-b6f5-8bf52cc80f77               Heartbeats   \n",
       "932176  f874c752-65bc-4d50-ac7e-932243ae9f02         Rebellion (Lies)   \n",
       "363124  60e94685-0481-4d3d-bd84-11c389d9b2a5                Starlight   \n",
       "710562  bd782340-6fa5-4b52-aa5a-ceafb9bc0340               Gimme More   \n",
       "280955  4ad08552-6c35-49ed-bcc6-6822c8f9dfd8      When You Were Young   \n",
       "\n",
       "        Frecuencia  \n",
       "821625        3991  \n",
       "476769        3651  \n",
       "593060        3533  \n",
       "293118        3479  \n",
       "957215        3463  \n",
       "822442        3155  \n",
       "932176        3047  \n",
       "363124        3040  \n",
       "710562        3002  \n",
       "280955        2997  "
      ]
     },
     "execution_count": 4,
     "metadata": {},
     "output_type": "execute_result"
    }
   ],
   "source": [
    "print('------------------------ Top 10 Artistas ------------------------')\n",
    "display(user_interact.groupby(['ArtId','ArtName']).size().reset_index(name = 'Frecuencia').sort_values(by = 'Frecuencia',  ascending = False).head(10))\n",
    "\n",
    "print('------------------------ Top 10 Canciones ------------------------')\n",
    "user_interact.groupby(['TraId','TraName']).size().reset_index(name = 'Frecuencia').sort_values(by = 'Frecuencia',  ascending = False).head(10)"
   ]
  },
  {
   "cell_type": "markdown",
   "metadata": {},
   "source": [
    "## 2) Preprocesamiento de datos\n"
   ]
  },
  {
   "cell_type": "markdown",
   "metadata": {},
   "source": [
    "### a) Transforme los datos correspondientes a la interacción entre usuarios e ítems, implementando una estrategia para convertir estos datos en unos que sean compatibles con los modelos vistos en clase. Justifique en el informe sus decisiones en este paso."
   ]
  },
  {
   "cell_type": "markdown",
   "metadata": {},
   "source": [
    "Antes de establecer una forma de medir los ratings de cada usuario, se necesita establecer una definición de item, es decir, si se utilizaran canciones o artistas."
   ]
  },
  {
   "cell_type": "code",
   "execution_count": 5,
   "metadata": {},
   "outputs": [
    {
     "data": {
      "text/plain": [
       "107296"
      ]
     },
     "execution_count": 5,
     "metadata": {},
     "output_type": "execute_result"
    }
   ],
   "source": [
    "len(user_interact['ArtId'].unique())"
   ]
  },
  {
   "cell_type": "code",
   "execution_count": 6,
   "metadata": {},
   "outputs": [
    {
     "data": {
      "text/plain": [
       "992"
      ]
     },
     "execution_count": 6,
     "metadata": {},
     "output_type": "execute_result"
    }
   ],
   "source": [
    "len(user_interact['TraId'].unique())\n",
    "len(user_interact['UserId'].unique())"
   ]
  },
  {
   "cell_type": "markdown",
   "metadata": {},
   "source": [
    "Existen 107296 artistas unicos y 960403 canciones unicas en el conjunto de datos. Por limitaciones de las maquinas utilizadas, se trabajaran los artistas como items. "
   ]
  },
  {
   "cell_type": "markdown",
   "metadata": {},
   "source": [
    "Con base en Jawaheer, Szomszor y Kostkova (2010) (https://core.ac.uk/download/pdf/207051652.pdf) decidimos utilizar 3 alternativas para medir los ratings de los usuarios:\n",
    "1. La frecuencia total de los items por usuario.\n",
    "2. El logaritmo de la frecuencia total de los items por usuario.\n",
    "3. Una normalizacion de la frecuencia total de los items por usuario definida de la siguiente forma: la frecuencia sobre el numero total de artistas que un usuario ha esuchado."
   ]
  },
  {
   "cell_type": "code",
   "execution_count": 7,
   "metadata": {},
   "outputs": [
    {
     "data": {
      "text/html": [
       "<div>\n",
       "<style scoped>\n",
       "    .dataframe tbody tr th:only-of-type {\n",
       "        vertical-align: middle;\n",
       "    }\n",
       "\n",
       "    .dataframe tbody tr th {\n",
       "        vertical-align: top;\n",
       "    }\n",
       "\n",
       "    .dataframe thead th {\n",
       "        text-align: right;\n",
       "    }\n",
       "</style>\n",
       "<table border=\"1\" class=\"dataframe\">\n",
       "  <thead>\n",
       "    <tr style=\"text-align: right;\">\n",
       "      <th></th>\n",
       "      <th>UserId</th>\n",
       "      <th>Nart</th>\n",
       "    </tr>\n",
       "  </thead>\n",
       "  <tbody>\n",
       "    <tr>\n",
       "      <th>0</th>\n",
       "      <td>user_000001</td>\n",
       "      <td>578</td>\n",
       "    </tr>\n",
       "    <tr>\n",
       "      <th>1</th>\n",
       "      <td>user_000002</td>\n",
       "      <td>1211</td>\n",
       "    </tr>\n",
       "    <tr>\n",
       "      <th>2</th>\n",
       "      <td>user_000003</td>\n",
       "      <td>840</td>\n",
       "    </tr>\n",
       "    <tr>\n",
       "      <th>3</th>\n",
       "      <td>user_000004</td>\n",
       "      <td>1623</td>\n",
       "    </tr>\n",
       "    <tr>\n",
       "      <th>4</th>\n",
       "      <td>user_000005</td>\n",
       "      <td>847</td>\n",
       "    </tr>\n",
       "  </tbody>\n",
       "</table>\n",
       "</div>"
      ],
      "text/plain": [
       "        UserId  Nart\n",
       "0  user_000001   578\n",
       "1  user_000002  1211\n",
       "2  user_000003   840\n",
       "3  user_000004  1623\n",
       "4  user_000005   847"
      ]
     },
     "execution_count": 7,
     "metadata": {},
     "output_type": "execute_result"
    }
   ],
   "source": [
    "#Se encuentra el numero total de artistas para cada usuario y se guarda en aux_artistas\n",
    "aux_artistas = user_interact.groupby('UserId').agg({'ArtId':'nunique'}).reset_index().rename(columns = {'ArtId':'Nart'})\n",
    "aux_artistas.head()"
   ]
  },
  {
   "cell_type": "code",
   "execution_count": 8,
   "metadata": {
    "scrolled": true
   },
   "outputs": [
    {
     "data": {
      "text/html": [
       "<div>\n",
       "<style scoped>\n",
       "    .dataframe tbody tr th:only-of-type {\n",
       "        vertical-align: middle;\n",
       "    }\n",
       "\n",
       "    .dataframe tbody tr th {\n",
       "        vertical-align: top;\n",
       "    }\n",
       "\n",
       "    .dataframe thead th {\n",
       "        text-align: right;\n",
       "    }\n",
       "</style>\n",
       "<table border=\"1\" class=\"dataframe\">\n",
       "  <thead>\n",
       "    <tr style=\"text-align: right;\">\n",
       "      <th></th>\n",
       "      <th>UserId</th>\n",
       "      <th>ArtId</th>\n",
       "      <th>frecuencia</th>\n",
       "      <th>log_frecuencia</th>\n",
       "      <th>Nart</th>\n",
       "      <th>normalizada</th>\n",
       "    </tr>\n",
       "  </thead>\n",
       "  <tbody>\n",
       "    <tr>\n",
       "      <th>0</th>\n",
       "      <td>user_000001</td>\n",
       "      <td>00c73a38-a449-4990-86ca-5088dde1b8df</td>\n",
       "      <td>2</td>\n",
       "      <td>0.301030</td>\n",
       "      <td>578</td>\n",
       "      <td>0.00346</td>\n",
       "    </tr>\n",
       "    <tr>\n",
       "      <th>1</th>\n",
       "      <td>user_000001</td>\n",
       "      <td>012a77c9-c897-494f-87d0-0a730996494d</td>\n",
       "      <td>1</td>\n",
       "      <td>0.000000</td>\n",
       "      <td>578</td>\n",
       "      <td>0.00173</td>\n",
       "    </tr>\n",
       "    <tr>\n",
       "      <th>2</th>\n",
       "      <td>user_000001</td>\n",
       "      <td>014ba96b-b8da-49e3-8a2b-b720ae42e84c</td>\n",
       "      <td>3</td>\n",
       "      <td>0.477121</td>\n",
       "      <td>578</td>\n",
       "      <td>0.00519</td>\n",
       "    </tr>\n",
       "    <tr>\n",
       "      <th>3</th>\n",
       "      <td>user_000001</td>\n",
       "      <td>01ce7548-dab4-4ca6-8dfc-8e2e4b50d461</td>\n",
       "      <td>4</td>\n",
       "      <td>0.602060</td>\n",
       "      <td>578</td>\n",
       "      <td>0.00692</td>\n",
       "    </tr>\n",
       "    <tr>\n",
       "      <th>4</th>\n",
       "      <td>user_000001</td>\n",
       "      <td>03282c56-8a24-42f4-8bfc-96188933aefa</td>\n",
       "      <td>4</td>\n",
       "      <td>0.602060</td>\n",
       "      <td>578</td>\n",
       "      <td>0.00692</td>\n",
       "    </tr>\n",
       "  </tbody>\n",
       "</table>\n",
       "</div>"
      ],
      "text/plain": [
       "        UserId                                 ArtId  frecuencia  \\\n",
       "0  user_000001  00c73a38-a449-4990-86ca-5088dde1b8df           2   \n",
       "1  user_000001  012a77c9-c897-494f-87d0-0a730996494d           1   \n",
       "2  user_000001  014ba96b-b8da-49e3-8a2b-b720ae42e84c           3   \n",
       "3  user_000001  01ce7548-dab4-4ca6-8dfc-8e2e4b50d461           4   \n",
       "4  user_000001  03282c56-8a24-42f4-8bfc-96188933aefa           4   \n",
       "\n",
       "   log_frecuencia  Nart  normalizada  \n",
       "0        0.301030   578      0.00346  \n",
       "1        0.000000   578      0.00173  \n",
       "2        0.477121   578      0.00519  \n",
       "3        0.602060   578      0.00692  \n",
       "4        0.602060   578      0.00692  "
      ]
     },
     "execution_count": 8,
     "metadata": {},
     "output_type": "execute_result"
    }
   ],
   "source": [
    "#Se encuentran cada una de las alternativas\n",
    "ratings_artistas = user_interact.groupby(['UserId', 'ArtId']).size().reset_index(name = 'frecuencia')\n",
    "ratings_artistas['log_frecuencia'] = np.log10(ratings_artistas['frecuencia'])\n",
    "ratings_artistas_merged = ratings_artistas.merge(aux_artistas, on = 'UserId', how = 'left')\n",
    "ratings_artistas_merged['normalizada'] = ratings_artistas_merged['frecuencia']/ratings_artistas_merged['Nart']\n",
    "ratings_artistas_merged.head()"
   ]
  },
  {
   "cell_type": "code",
   "execution_count": 9,
   "metadata": {},
   "outputs": [
    {
     "data": {
      "text/html": [
       "<div>\n",
       "<style scoped>\n",
       "    .dataframe tbody tr th:only-of-type {\n",
       "        vertical-align: middle;\n",
       "    }\n",
       "\n",
       "    .dataframe tbody tr th {\n",
       "        vertical-align: top;\n",
       "    }\n",
       "\n",
       "    .dataframe thead th {\n",
       "        text-align: right;\n",
       "    }\n",
       "</style>\n",
       "<table border=\"1\" class=\"dataframe\">\n",
       "  <thead>\n",
       "    <tr style=\"text-align: right;\">\n",
       "      <th></th>\n",
       "      <th>UserId</th>\n",
       "      <th>ArtId</th>\n",
       "      <th>frecuencia</th>\n",
       "      <th>log_frecuencia</th>\n",
       "      <th>normalizada</th>\n",
       "    </tr>\n",
       "  </thead>\n",
       "  <tbody>\n",
       "    <tr>\n",
       "      <th>0</th>\n",
       "      <td>user_000001</td>\n",
       "      <td>00c73a38-a449-4990-86ca-5088dde1b8df</td>\n",
       "      <td>2</td>\n",
       "      <td>0.301030</td>\n",
       "      <td>0.00346</td>\n",
       "    </tr>\n",
       "    <tr>\n",
       "      <th>1</th>\n",
       "      <td>user_000001</td>\n",
       "      <td>012a77c9-c897-494f-87d0-0a730996494d</td>\n",
       "      <td>1</td>\n",
       "      <td>0.000000</td>\n",
       "      <td>0.00173</td>\n",
       "    </tr>\n",
       "    <tr>\n",
       "      <th>2</th>\n",
       "      <td>user_000001</td>\n",
       "      <td>014ba96b-b8da-49e3-8a2b-b720ae42e84c</td>\n",
       "      <td>3</td>\n",
       "      <td>0.477121</td>\n",
       "      <td>0.00519</td>\n",
       "    </tr>\n",
       "    <tr>\n",
       "      <th>3</th>\n",
       "      <td>user_000001</td>\n",
       "      <td>01ce7548-dab4-4ca6-8dfc-8e2e4b50d461</td>\n",
       "      <td>4</td>\n",
       "      <td>0.602060</td>\n",
       "      <td>0.00692</td>\n",
       "    </tr>\n",
       "    <tr>\n",
       "      <th>4</th>\n",
       "      <td>user_000001</td>\n",
       "      <td>03282c56-8a24-42f4-8bfc-96188933aefa</td>\n",
       "      <td>4</td>\n",
       "      <td>0.602060</td>\n",
       "      <td>0.00692</td>\n",
       "    </tr>\n",
       "  </tbody>\n",
       "</table>\n",
       "</div>"
      ],
      "text/plain": [
       "        UserId                                 ArtId  frecuencia  \\\n",
       "0  user_000001  00c73a38-a449-4990-86ca-5088dde1b8df           2   \n",
       "1  user_000001  012a77c9-c897-494f-87d0-0a730996494d           1   \n",
       "2  user_000001  014ba96b-b8da-49e3-8a2b-b720ae42e84c           3   \n",
       "3  user_000001  01ce7548-dab4-4ca6-8dfc-8e2e4b50d461           4   \n",
       "4  user_000001  03282c56-8a24-42f4-8bfc-96188933aefa           4   \n",
       "\n",
       "   log_frecuencia  normalizada  \n",
       "0        0.301030      0.00346  \n",
       "1        0.000000      0.00173  \n",
       "2        0.477121      0.00519  \n",
       "3        0.602060      0.00692  \n",
       "4        0.602060      0.00692  "
      ]
     },
     "execution_count": 9,
     "metadata": {},
     "output_type": "execute_result"
    }
   ],
   "source": [
    "#Se elimina numero total de artistas.\n",
    "ratings_artistas_merged = ratings_artistas_merged.drop('Nart', axis = 1)\n",
    "ratings_artistas_merged.head()"
   ]
  },
  {
   "cell_type": "markdown",
   "metadata": {},
   "source": [
    "### b) Tome los datos compatibles con modelos colaborativos y pártalos en dos conjuntos: un grupo de datos le sirve para construir el modelo y el resto para medir sus predicciones. Sepárelos en archivos distintos."
   ]
  },
  {
   "cell_type": "markdown",
   "metadata": {},
   "source": [
    "En el siguiente loop, con el fin de escoger cual metrica representa mejor los ratings de cada usuario, se realiza la separación de train y test para cada una de las alternativas. El procedimiento es:\n",
    "1. Se define la escala de los ratings en el Reader.\n",
    "2. Se carga el conjunto de datos a la estructura que utiliza la libreria surprise.\n",
    "3. Se divide en train y test respectivamente."
   ]
  },
  {
   "cell_type": "code",
   "execution_count": 10,
   "metadata": {},
   "outputs": [
    {
     "name": "stdout",
     "output_type": "stream",
     "text": [
      "---------  Alternativa: frecuencia ---------\n",
      "La escala para la alternativa frecuenciava de 1 hasta 26496\n",
      "<class 'surprise.dataset.DatasetAutoFolds'>\n",
      "<class 'surprise.trainset.Trainset'>\n",
      "<class 'list'>\n",
      "realizado.\n",
      "---------  Alternativa: log_frecuencia ---------\n",
      "La escala para la alternativa log_frecuenciava de 0.0 hasta 4.42\n",
      "<class 'surprise.dataset.DatasetAutoFolds'>\n",
      "<class 'surprise.trainset.Trainset'>\n",
      "<class 'list'>\n",
      "realizado.\n",
      "---------  Alternativa: normalizada ---------\n",
      "La escala para la alternativa normalizadava de 0.0 hasta 236.57\n",
      "<class 'surprise.dataset.DatasetAutoFolds'>\n",
      "<class 'surprise.trainset.Trainset'>\n",
      "<class 'list'>\n",
      "realizado.\n"
     ]
    }
   ],
   "source": [
    "for each in ['frecuencia','log_frecuencia', 'normalizada']:\n",
    "    print('---------' + '  Alternativa: ' + str(each) + ' ---------')\n",
    "    print('La escala para la alternativa ' + str(each) + 'va de ' + str(round(min(ratings_artistas_merged[each]), 2)) + ' hasta ' + str(round(max(ratings_artistas_merged[each]), 2)))\n",
    "    reader = Reader(rating_scale = (min(ratings_artistas_merged[each]), max(ratings_artistas_merged[each])))\n",
    "    surprise_dataset = Dataset.load_from_df( ratings_artistas_merged[[ 'UserId', 'ArtId', each]], reader )\n",
    "    train_set, test_set = train_test_split(surprise_dataset, test_size = 0.2, )\n",
    "    print(str(type(surprise_dataset)))\n",
    "    print(str(type(train_set)))\n",
    "    print(str(type(test_set)))\n",
    "    print('realizado.')"
   ]
  },
  {
   "cell_type": "markdown",
   "metadata": {},
   "source": [
    "## 3) Construcción de modelos colaborativos usuario-usuario"
   ]
  },
  {
   "cell_type": "markdown",
   "metadata": {},
   "source": [
    "Como son 3 alternativas a probar, los procedimiento de los literales a) b) y c) son realizados en forma de loop."
   ]
  },
  {
   "cell_type": "code",
   "execution_count": 11,
   "metadata": {
    "scrolled": true
   },
   "outputs": [
    {
     "name": "stdout",
     "output_type": "stream",
     "text": [
      "---------  Alternativa: frecuencia pearson ---------\n",
      "Computing the pearson similarity matrix...\n",
      "Done computing similarity matrix.\n",
      "Computing the pearson similarity matrix...\n",
      "Done computing similarity matrix.\n",
      "RMSE: 125.0326\n",
      "125.03256479553293\n",
      "realizado.\n",
      "---------  Alternativa: frecuencia cosine ---------\n",
      "Computing the cosine similarity matrix...\n",
      "Done computing similarity matrix.\n",
      "Computing the cosine similarity matrix...\n",
      "Done computing similarity matrix.\n",
      "RMSE: 138.8532\n",
      "138.85321808069418\n",
      "realizado.\n",
      "---------  Alternativa: log_frecuencia pearson ---------\n",
      "Computing the pearson similarity matrix...\n"
     ]
    },
    {
     "name": "stderr",
     "output_type": "stream",
     "text": [
      "C:\\Users\\mariac.rodriguez\\Anaconda3\\lib\\site-packages\\surprise\\prediction_algorithms\\algo_base.py:249: RuntimeWarning: invalid value encountered in sqrt\n",
      "  sim = construction_func[name](*args)\n"
     ]
    },
    {
     "name": "stdout",
     "output_type": "stream",
     "text": [
      "Done computing similarity matrix.\n",
      "Computing the pearson similarity matrix...\n",
      "Done computing similarity matrix.\n",
      "RMSE: 0.6365\n",
      "0.6365116027253243\n",
      "realizado.\n",
      "---------  Alternativa: log_frecuencia cosine ---------\n",
      "Computing the cosine similarity matrix...\n"
     ]
    },
    {
     "name": "stderr",
     "output_type": "stream",
     "text": [
      "C:\\Users\\mariac.rodriguez\\Anaconda3\\lib\\site-packages\\surprise\\prediction_algorithms\\algo_base.py:249: RuntimeWarning: invalid value encountered in double_scalars\n",
      "  sim = construction_func[name](*args)\n"
     ]
    },
    {
     "name": "stdout",
     "output_type": "stream",
     "text": [
      "Done computing similarity matrix.\n",
      "Computing the cosine similarity matrix...\n",
      "Done computing similarity matrix.\n",
      "RMSE: 0.6455\n",
      "0.645505178284323\n",
      "realizado.\n",
      "---------  Alternativa: normalizada pearson ---------\n",
      "Computing the pearson similarity matrix...\n",
      "Done computing similarity matrix.\n",
      "Computing the pearson similarity matrix...\n",
      "Done computing similarity matrix.\n",
      "RMSE: 0.4124\n",
      "0.41236457968003615\n",
      "realizado.\n",
      "---------  Alternativa: normalizada cosine ---------\n",
      "Computing the cosine similarity matrix...\n",
      "Done computing similarity matrix.\n",
      "Computing the cosine similarity matrix...\n",
      "Done computing similarity matrix.\n",
      "RMSE: 0.3820\n",
      "0.38198121165170396\n",
      "realizado.\n"
     ]
    }
   ],
   "source": [
    "alternativa = ['frecuencia','log_frecuencia', 'normalizada']\n",
    "metrica_similitud = ['pearson', 'cosine']\n",
    "rmse = []\n",
    "for each in alternativa:\n",
    "    for each_2 in metrica_similitud:\n",
    "        print('---------' + '  Alternativa: ' + str(each) + ' ' + str(each_2)+ ' ---------')\n",
    "        reader = Reader(rating_scale = (min(ratings_artistas_merged[each]), max(ratings_artistas_merged[each])))\n",
    "        surprise_dataset = Dataset.load_from_df( ratings_artistas_merged[[ 'UserId', 'ArtId', each]], reader )\n",
    "        train_set, test_set = train_test_split(surprise_dataset, test_size = 0.2)\n",
    "        algoritmo = KNNBasic(k = 20, min_k = 2,\n",
    "                sim_options = dict(name = each_2,\n",
    "                                  user_based = True)).fit(trainset = train_set)\n",
    "        algoritmo.fit(trainset = train_set)\n",
    "        test_predictions = algoritmo.test(test_set)\n",
    "        rmse_intern = accuracy.rmse(test_predictions, verbose = True )\n",
    "        print(rmse_intern)\n",
    "        rmse.append(rmse_intern)\n",
    "        print('realizado.')"
   ]
  },
  {
   "cell_type": "markdown",
   "metadata": {},
   "source": [
    "Para evaluar las predicciones de cada uno de los modelos se utiliza el RMSE. Así, se quiere encontrar el modelo con el menor RMSE posible."
   ]
  },
  {
   "cell_type": "code",
   "execution_count": 13,
   "metadata": {
    "scrolled": true
   },
   "outputs": [
    {
     "name": "stdout",
     "output_type": "stream",
     "text": [
      "Resultados con k = 20\n"
     ]
    },
    {
     "data": {
      "text/html": [
       "<div>\n",
       "<style scoped>\n",
       "    .dataframe tbody tr th:only-of-type {\n",
       "        vertical-align: middle;\n",
       "    }\n",
       "\n",
       "    .dataframe tbody tr th {\n",
       "        vertical-align: top;\n",
       "    }\n",
       "\n",
       "    .dataframe thead th {\n",
       "        text-align: right;\n",
       "    }\n",
       "</style>\n",
       "<table border=\"1\" class=\"dataframe\">\n",
       "  <thead>\n",
       "    <tr style=\"text-align: right;\">\n",
       "      <th></th>\n",
       "      <th>Alternativa</th>\n",
       "      <th>Metrica Similitud</th>\n",
       "      <th>RMSE</th>\n",
       "    </tr>\n",
       "  </thead>\n",
       "  <tbody>\n",
       "    <tr>\n",
       "      <th>5</th>\n",
       "      <td>normalizada</td>\n",
       "      <td>cosine</td>\n",
       "      <td>0.381981</td>\n",
       "    </tr>\n",
       "    <tr>\n",
       "      <th>4</th>\n",
       "      <td>normalizada</td>\n",
       "      <td>pearson</td>\n",
       "      <td>0.412365</td>\n",
       "    </tr>\n",
       "    <tr>\n",
       "      <th>2</th>\n",
       "      <td>log_frecuencia</td>\n",
       "      <td>pearson</td>\n",
       "      <td>0.636512</td>\n",
       "    </tr>\n",
       "    <tr>\n",
       "      <th>3</th>\n",
       "      <td>log_frecuencia</td>\n",
       "      <td>cosine</td>\n",
       "      <td>0.645505</td>\n",
       "    </tr>\n",
       "    <tr>\n",
       "      <th>0</th>\n",
       "      <td>frecuencia</td>\n",
       "      <td>pearson</td>\n",
       "      <td>125.032565</td>\n",
       "    </tr>\n",
       "    <tr>\n",
       "      <th>1</th>\n",
       "      <td>frecuencia</td>\n",
       "      <td>cosine</td>\n",
       "      <td>138.853218</td>\n",
       "    </tr>\n",
       "  </tbody>\n",
       "</table>\n",
       "</div>"
      ],
      "text/plain": [
       "      Alternativa Metrica Similitud        RMSE\n",
       "5     normalizada            cosine    0.381981\n",
       "4     normalizada           pearson    0.412365\n",
       "2  log_frecuencia           pearson    0.636512\n",
       "3  log_frecuencia            cosine    0.645505\n",
       "0      frecuencia           pearson  125.032565\n",
       "1      frecuencia            cosine  138.853218"
      ]
     },
     "execution_count": 13,
     "metadata": {},
     "output_type": "execute_result"
    }
   ],
   "source": [
    "resultados_1 = pd.DataFrame(list(zip(np.repeat(alternativa, 2), metrica_similitud*3, rmse)), columns = ['Alternativa','Metrica Similitud', 'RMSE']).sort_values('RMSE')\n",
    "print('Resultados con k = 20')\n",
    "resultados_1"
   ]
  },
  {
   "cell_type": "markdown",
   "metadata": {},
   "source": [
    "Desde esta primera aproximación del modelo user-user, se puede evidencair que la mejor alternativa es la normalizada, luego la log_frecuencia y por ultimo la frecuencia. Estos resultados tienen logica con lo encontrado por Jawaheer, Szomszor y Kostkova (2010)."
   ]
  },
  {
   "cell_type": "markdown",
   "metadata": {},
   "source": [
    " ## Artistas - jaccard con Normalizada  modelo User-User"
   ]
  },
  {
   "cell_type": "markdown",
   "metadata": {},
   "source": [
    "### d) Para jaccard se construyo una fucnion especifc auwe reaclice torod el proceso para  hallar la similitud entre cada usuario o item y realice la predcción de acuerdo al tipo de modelo establecido  "
   ]
  },
  {
   "cell_type": "code",
   "execution_count": 14,
   "metadata": {},
   "outputs": [],
   "source": [
    "def jaccard_user(train_pivot,item,user,k):\n",
    "    train_pivot = np.array(train_pivot)\n",
    "    sim = []\n",
    "    for row in range(len(train_pivot)):\n",
    "        a = train_pivot[[row,user]][:,~np.isnan(train_pivot[[row,user]]).any(axis=0)]\n",
    "        if a.size!=0:\n",
    "            s_a = set(a[0])\n",
    "            s_b = set(a[1])\n",
    "            sim.append(len(s_a.intersection(s_b))/len(s_a.union(s_b)))\n",
    "        else:\n",
    "            sim.append(0)\n",
    "    rating = [train_pivot[i][item] for i in range(train_pivot.shape[0])] \n",
    "    rating = np.where(np.isnan(rating),0,rating)\n",
    "    sim_k = sorted(sim)[-k:]\n",
    "    rating_k = rating[[sim.index(i) for i in sim_k[-k:]] ]\n",
    "    estimate = (rating_k * sim_k).sum() / sum(sim_k)\n",
    "    return estimate"
   ]
  },
  {
   "cell_type": "code",
   "execution_count": 27,
   "metadata": {},
   "outputs": [],
   "source": [
    "reader = Reader( rating_scale = ( min(ratings_artistas_merged['normalizada']), max(ratings_artistas_merged['normalizada']) ) )\n",
    "ratings_artistas_frec = ratings_artistas_merged[['UserId', 'ArtId','normalizada']].copy()\n",
    "user = ratings_artistas_frec.groupby('UserId').agg({'ArtId':'count'}).reset_index()\n",
    "user = user[user.ArtId>1]\n",
    "ratings_artistas_frec = ratings_artistas_frec[ratings_artistas_frec.UserId.isin(user.UserId)]\n",
    "train_set, test_set = train_test_split1(ratings_artistas_frec, test_size=.2, random_state=42, stratify=ratings_artistas_frec['UserId'])"
   ]
  },
  {
   "cell_type": "code",
   "execution_count": 43,
   "metadata": {},
   "outputs": [],
   "source": [
    "train_pivot=train_set.pivot_table(index=['UserId'], columns=['ArtId'], values='normalizada')"
   ]
  },
  {
   "cell_type": "code",
   "execution_count": 52,
   "metadata": {},
   "outputs": [
    {
     "name": "stdout",
     "output_type": "stream",
     "text": [
      "0.036225525766172294\n",
      "0.036225525766172294\n",
      "0.036225525766172294\n",
      "0.036225525766172294\n"
     ]
    },
    {
     "data": {
      "text/plain": [
       "[[0.036225525766172294, 40],\n",
       " [0.036225525766172294, 60],\n",
       " [0.036225525766172294, 80],\n",
       " [0.036225525766172294, 100]]"
      ]
     },
     "metadata": {},
     "output_type": "display_data"
    },
    {
     "name": "stdout",
     "output_type": "stream",
     "text": [
      "Wall time: 1min 17s\n"
     ]
    }
   ],
   "source": [
    "%%time\n",
    "predict = []\n",
    "lista=[]\n",
    "k=20\n",
    "while (k <100):\n",
    "    for i in range(40):\n",
    "        UserId , ArtId =  test_set.iloc[i,:][['UserId','ArtId']]\n",
    "        item = train_pivot.columns.get_loc(ArtId)\n",
    "        user = train_pivot.index.get_loc(UserId)\n",
    "        predict.append([UserId,ArtId, jaccard_user(train_pivot,item,user,k)])\n",
    "    predict=pd.DataFrame(predict, columns=['UserId','ArtId','Jaccard'])\n",
    "    predict=pd.merge(test_set, predict)\n",
    "    rms = np.sqrt(mean_squared_error(predict['normalizada'], predict['Jaccard']))\n",
    "    k=k+20\n",
    "    print(rms)\n",
    "    lista.append([rms,k])\n",
    "display(lista)\n",
    "    "
   ]
  },
  {
   "cell_type": "markdown",
   "metadata": {},
   "source": [
    "## Artistas Jaccard con Normalizada modelo  item-item"
   ]
  },
  {
   "cell_type": "code",
   "execution_count": 42,
   "metadata": {},
   "outputs": [],
   "source": [
    "rating = ratings_artistas_merged[['UserId', 'ArtId','normalizada']].copy()\n",
    "lista_items =  rating.groupby('ArtId').agg({'UserId':'count'}).reset_index()\n",
    "lista_items = lista_items [lista_items.UserId > np.percentile(lista_items.UserId,0.9)]\n",
    "ratings_artistas_frec = rating[rating.ArtId.isin(lista_items.ArtId)]\n",
    "train_set, test_set = train_test_split1(ratings_artistas_frec, test_size=.2, random_state=42, stratify=ratings_artistas_frec['ArtId'])"
   ]
  },
  {
   "cell_type": "code",
   "execution_count": 50,
   "metadata": {},
   "outputs": [],
   "source": [
    "train_pivot_item=train_set.pivot_table(index=['ArtId'], columns=['UserId'], values='normalizada')"
   ]
  },
  {
   "cell_type": "code",
   "execution_count": null,
   "metadata": {},
   "outputs": [
    {
     "name": "stdout",
     "output_type": "stream",
     "text": [
      "0.09362647634834854\n",
      "0.09362647634834854\n"
     ]
    }
   ],
   "source": [
    "%%time\n",
    "predict_item = []\n",
    "ista=[]\n",
    "k=20\n",
    "while (k <100):\n",
    "    for i in range(150):\n",
    "        UserId , ArtId =  test_set.iloc[i,:][['UserId','ArtId']]\n",
    "        item = train_pivot_item.columns.get_loc(UserId)\n",
    "        user = train_pivot_item.index.get_loc(ArtId)\n",
    "        predict_item.append([UserId,ArtId, jaccard_user(train_pivot_item,item,user,k)])\n",
    "    predict_item=pd.DataFrame(predict_item, columns=['UserId','ArtId','Jaccard'])\n",
    "    predict_item=pd.merge(test_set, predict_item)\n",
    "    rms = np.sqrt(mean_squared_error(predict_item['normalizada'], predict_item['Jaccard']))\n",
    "    k=k+20\n",
    "    print(rms)\n",
    "    lista.append([rms,k])\n",
    "display(lista)\n",
    "   "
   ]
  },
  {
   "cell_type": "markdown",
   "metadata": {},
   "source": [
    "### d) Varíe la estrategia de selección de vecinos por umbral de similitud y por número de vecinos. Revise cuál es el impacto al variar estos parámetros."
   ]
  },
  {
   "cell_type": "markdown",
   "metadata": {},
   "source": [
    "Se define una busqueda de grilla con 5 folds de validacion cruzada que va a recorrer las siguientes opciones :\n",
    "1. Todos los k's dentro de [20,99]\n",
    "2. metrica de similitud coseno y pearson."
   ]
  },
  {
   "cell_type": "code",
   "execution_count": null,
   "metadata": {},
   "outputs": [],
   "source": [
    "#Se establece el diccionario para pasar a la busqueda de grilla.\n",
    "grilla = dict(k = range(20, 100),\n",
    "             sim_options = dict(name = ['cosine', 'pearson'],\n",
    "                               user_based = [True]))"
   ]
  },
  {
   "cell_type": "code",
   "execution_count": null,
   "metadata": {},
   "outputs": [],
   "source": [
    "#Se crean las bases para cada una de las alternativas\n",
    "data = Dataset.load_from_df( ratings_artistas_merged[[ 'UserId', 'ArtId', 'frecuencia']],\n",
    "                            Reader(rating_scale = (min(ratings_artistas_merged['frecuencia']), max(ratings_artistas_merged['frecuencia']))) )\n",
    "data2 = Dataset.load_from_df( ratings_artistas_merged[[ 'UserId', 'ArtId', 'log_frecuencia']],\n",
    "                             Reader(rating_scale = (min(ratings_artistas_merged['log_frecuencia']), max(ratings_artistas_merged['log_frecuencia']))) )\n",
    "data3 = Dataset.load_from_df( ratings_artistas_merged[[ 'UserId', 'ArtId', 'normalizada']],\n",
    "                             Reader(rating_scale = (min(ratings_artistas_merged['normalizada']), max(ratings_artistas_merged['normalizada']))))\n"
   ]
  },
  {
   "cell_type": "markdown",
   "metadata": {},
   "source": [
    "Los parametros del mejor modelo son guardados mediante la libreria joblib dado que cada busqueda de grilla demora 6 horas aproximadamente. Ademas, se pueden guardar los resultados en un conjunto de datos."
   ]
  },
  {
   "cell_type": "code",
   "execution_count": null,
   "metadata": {},
   "outputs": [],
   "source": [
    "#%%time\n",
    "#gs = GridSearchCV(KNNBasic, grilla, measures = ['RMSE','MAE'], cv = 5, joblib_verbose = 0)\n",
    "#gs.fit(data)\n",
    "#dump(gs.best_params, 'best_model_frencuencia.joblib')"
   ]
  },
  {
   "cell_type": "code",
   "execution_count": null,
   "metadata": {},
   "outputs": [],
   "source": [
    "#%%time\n",
    "#gs2 = GridSearchCV(KNNBasic, grilla, measures = ['RMSE','MAE'], cv = 5, joblib_verbose = 0)\n",
    "#gs2.fit(data2)\n",
    "#dump(gs2.best_params, 'best_model_log_frencuencia.joblib')"
   ]
  },
  {
   "cell_type": "code",
   "execution_count": null,
   "metadata": {},
   "outputs": [],
   "source": [
    "#%%time\n",
    "#gs3 = GridSearchCV(KNNBasic, grilla, measures = ['RMSE','MAE'], cv = 5, joblib_verbose = 0)\n",
    "#gs3.fit(data3)\n",
    "#dump(gs3.best_params, 'best_model_normalizado.joblib') "
   ]
  },
  {
   "cell_type": "code",
   "execution_count": null,
   "metadata": {},
   "outputs": [],
   "source": [
    "#Guardar resultados\n",
    "#best_results_freq = pd.DataFrame(gs.cv_results)\n",
    "#best_results_freq['alternativa'] = 'frencuencia'\n",
    "\n",
    "#best_results_log = pd.DataFrame(gs2.cv_results)\n",
    "#best_results_log['alternativa'] = 'log_frecuencia'\n",
    "\n",
    "#best_results_norm = pd.DataFrame(gs3.cv_results)\n",
    "#best_results_norm['alternativa'] = 'normalizada'\n",
    "\n",
    "#best_results = best_results_freq.append(best_results_norm).append(best_results_log)\n",
    "#best_results.to_csv('best_results_user_user.csv')"
   ]
  },
  {
   "cell_type": "code",
   "execution_count": 82,
   "metadata": {},
   "outputs": [
    {
     "data": {
      "text/plain": [
       "{'rmse': {'k': 99, 'sim_options': {'name': 'cosine', 'user_based': True}},\n",
       " 'mae': {'k': 34, 'sim_options': {'name': 'cosine', 'user_based': True}}}"
      ]
     },
     "metadata": {},
     "output_type": "display_data"
    },
    {
     "data": {
      "text/plain": [
       "{'rmse': {'k': 37, 'sim_options': {'name': 'pearson', 'user_based': True}},\n",
       " 'mae': {'k': 25, 'sim_options': {'name': 'pearson', 'user_based': True}}}"
      ]
     },
     "metadata": {},
     "output_type": "display_data"
    },
    {
     "data": {
      "text/plain": [
       "{'rmse': {'k': 99, 'sim_options': {'name': 'cosine', 'user_based': True}},\n",
       " 'mae': {'k': 99, 'sim_options': {'name': 'cosine', 'user_based': True}}}"
      ]
     },
     "execution_count": 82,
     "metadata": {},
     "output_type": "execute_result"
    }
   ],
   "source": [
    "#Resultados\n",
    "freq_user_based = load('best_model_frencuencia.joblib')\n",
    "display(freq_user_based)\n",
    "\n",
    "logfreq_user_based = load('best_model_log_frencuencia.joblib')\n",
    "display(logfreq_user_based)\n",
    "\n",
    "norm_user_based = load('best_model_normalizado.joblib')\n",
    "norm_user_based"
   ]
  },
  {
   "cell_type": "code",
   "execution_count": 83,
   "metadata": {
    "scrolled": true
   },
   "outputs": [
    {
     "data": {
      "text/plain": [
       "(480, 24)"
      ]
     },
     "metadata": {},
     "output_type": "display_data"
    },
    {
     "data": {
      "text/html": [
       "<div>\n",
       "<style scoped>\n",
       "    .dataframe tbody tr th:only-of-type {\n",
       "        vertical-align: middle;\n",
       "    }\n",
       "\n",
       "    .dataframe tbody tr th {\n",
       "        vertical-align: top;\n",
       "    }\n",
       "\n",
       "    .dataframe thead th {\n",
       "        text-align: right;\n",
       "    }\n",
       "</style>\n",
       "<table border=\"1\" class=\"dataframe\">\n",
       "  <thead>\n",
       "    <tr style=\"text-align: right;\">\n",
       "      <th></th>\n",
       "      <th>split0_test_rmse</th>\n",
       "      <th>split1_test_rmse</th>\n",
       "      <th>split2_test_rmse</th>\n",
       "      <th>split3_test_rmse</th>\n",
       "      <th>split4_test_rmse</th>\n",
       "      <th>mean_test_rmse</th>\n",
       "      <th>std_test_rmse</th>\n",
       "      <th>rank_test_rmse</th>\n",
       "      <th>split0_test_mae</th>\n",
       "      <th>split1_test_mae</th>\n",
       "      <th>...</th>\n",
       "      <th>std_test_mae</th>\n",
       "      <th>rank_test_mae</th>\n",
       "      <th>mean_fit_time</th>\n",
       "      <th>std_fit_time</th>\n",
       "      <th>mean_test_time</th>\n",
       "      <th>std_test_time</th>\n",
       "      <th>params</th>\n",
       "      <th>param_k</th>\n",
       "      <th>param_sim_options</th>\n",
       "      <th>alternativa</th>\n",
       "    </tr>\n",
       "  </thead>\n",
       "  <tbody>\n",
       "    <tr>\n",
       "      <th>0</th>\n",
       "      <td>147.958025</td>\n",
       "      <td>109.591278</td>\n",
       "      <td>130.751027</td>\n",
       "      <td>116.724733</td>\n",
       "      <td>114.641542</td>\n",
       "      <td>123.933321</td>\n",
       "      <td>13.911597</td>\n",
       "      <td>80</td>\n",
       "      <td>29.998217</td>\n",
       "      <td>29.524472</td>\n",
       "      <td>...</td>\n",
       "      <td>0.189500</td>\n",
       "      <td>48</td>\n",
       "      <td>8.024063</td>\n",
       "      <td>0.511251</td>\n",
       "      <td>19.109706</td>\n",
       "      <td>0.550599</td>\n",
       "      <td>{'k': 20, 'sim_options': {'name': 'cosine', 'u...</td>\n",
       "      <td>20</td>\n",
       "      <td>{'name': 'cosine', 'user_based': True}</td>\n",
       "      <td>frencuencia</td>\n",
       "    </tr>\n",
       "    <tr>\n",
       "      <th>1</th>\n",
       "      <td>151.052021</td>\n",
       "      <td>114.798900</td>\n",
       "      <td>132.632230</td>\n",
       "      <td>118.841519</td>\n",
       "      <td>117.316292</td>\n",
       "      <td>126.928192</td>\n",
       "      <td>13.560220</td>\n",
       "      <td>160</td>\n",
       "      <td>31.982804</td>\n",
       "      <td>31.666923</td>\n",
       "      <td>...</td>\n",
       "      <td>0.159692</td>\n",
       "      <td>160</td>\n",
       "      <td>9.744283</td>\n",
       "      <td>0.087713</td>\n",
       "      <td>17.849639</td>\n",
       "      <td>0.450464</td>\n",
       "      <td>{'k': 20, 'sim_options': {'name': 'pearson', '...</td>\n",
       "      <td>20</td>\n",
       "      <td>{'name': 'pearson', 'user_based': True}</td>\n",
       "      <td>frencuencia</td>\n",
       "    </tr>\n",
       "    <tr>\n",
       "      <th>2</th>\n",
       "      <td>147.805276</td>\n",
       "      <td>109.460653</td>\n",
       "      <td>130.682048</td>\n",
       "      <td>116.534074</td>\n",
       "      <td>114.511492</td>\n",
       "      <td>123.798709</td>\n",
       "      <td>13.916198</td>\n",
       "      <td>79</td>\n",
       "      <td>29.982147</td>\n",
       "      <td>29.510860</td>\n",
       "      <td>...</td>\n",
       "      <td>0.185299</td>\n",
       "      <td>43</td>\n",
       "      <td>7.482852</td>\n",
       "      <td>0.038255</td>\n",
       "      <td>18.166304</td>\n",
       "      <td>0.414805</td>\n",
       "      <td>{'k': 21, 'sim_options': {'name': 'cosine', 'u...</td>\n",
       "      <td>21</td>\n",
       "      <td>{'name': 'cosine', 'user_based': True}</td>\n",
       "      <td>frencuencia</td>\n",
       "    </tr>\n",
       "    <tr>\n",
       "      <th>3</th>\n",
       "      <td>150.862114</td>\n",
       "      <td>114.666573</td>\n",
       "      <td>132.554724</td>\n",
       "      <td>118.662178</td>\n",
       "      <td>117.200316</td>\n",
       "      <td>126.789181</td>\n",
       "      <td>13.547691</td>\n",
       "      <td>159</td>\n",
       "      <td>31.952605</td>\n",
       "      <td>31.645516</td>\n",
       "      <td>...</td>\n",
       "      <td>0.153400</td>\n",
       "      <td>159</td>\n",
       "      <td>9.717759</td>\n",
       "      <td>0.033683</td>\n",
       "      <td>18.313668</td>\n",
       "      <td>0.904423</td>\n",
       "      <td>{'k': 21, 'sim_options': {'name': 'pearson', '...</td>\n",
       "      <td>21</td>\n",
       "      <td>{'name': 'pearson', 'user_based': True}</td>\n",
       "      <td>frencuencia</td>\n",
       "    </tr>\n",
       "    <tr>\n",
       "      <th>4</th>\n",
       "      <td>147.658388</td>\n",
       "      <td>109.360647</td>\n",
       "      <td>130.619558</td>\n",
       "      <td>116.428772</td>\n",
       "      <td>114.391270</td>\n",
       "      <td>123.691727</td>\n",
       "      <td>13.907010</td>\n",
       "      <td>78</td>\n",
       "      <td>29.958932</td>\n",
       "      <td>29.504555</td>\n",
       "      <td>...</td>\n",
       "      <td>0.184436</td>\n",
       "      <td>40</td>\n",
       "      <td>7.498153</td>\n",
       "      <td>0.028871</td>\n",
       "      <td>18.323338</td>\n",
       "      <td>0.503419</td>\n",
       "      <td>{'k': 22, 'sim_options': {'name': 'cosine', 'u...</td>\n",
       "      <td>22</td>\n",
       "      <td>{'name': 'cosine', 'user_based': True}</td>\n",
       "      <td>frencuencia</td>\n",
       "    </tr>\n",
       "  </tbody>\n",
       "</table>\n",
       "<p>5 rows × 24 columns</p>\n",
       "</div>"
      ],
      "text/plain": [
       "   split0_test_rmse  split1_test_rmse  split2_test_rmse  split3_test_rmse  \\\n",
       "0        147.958025        109.591278        130.751027        116.724733   \n",
       "1        151.052021        114.798900        132.632230        118.841519   \n",
       "2        147.805276        109.460653        130.682048        116.534074   \n",
       "3        150.862114        114.666573        132.554724        118.662178   \n",
       "4        147.658388        109.360647        130.619558        116.428772   \n",
       "\n",
       "   split4_test_rmse  mean_test_rmse  std_test_rmse  rank_test_rmse  \\\n",
       "0        114.641542      123.933321      13.911597              80   \n",
       "1        117.316292      126.928192      13.560220             160   \n",
       "2        114.511492      123.798709      13.916198              79   \n",
       "3        117.200316      126.789181      13.547691             159   \n",
       "4        114.391270      123.691727      13.907010              78   \n",
       "\n",
       "   split0_test_mae  split1_test_mae  ...  std_test_mae  rank_test_mae  \\\n",
       "0        29.998217        29.524472  ...      0.189500             48   \n",
       "1        31.982804        31.666923  ...      0.159692            160   \n",
       "2        29.982147        29.510860  ...      0.185299             43   \n",
       "3        31.952605        31.645516  ...      0.153400            159   \n",
       "4        29.958932        29.504555  ...      0.184436             40   \n",
       "\n",
       "   mean_fit_time  std_fit_time  mean_test_time  std_test_time  \\\n",
       "0       8.024063      0.511251       19.109706       0.550599   \n",
       "1       9.744283      0.087713       17.849639       0.450464   \n",
       "2       7.482852      0.038255       18.166304       0.414805   \n",
       "3       9.717759      0.033683       18.313668       0.904423   \n",
       "4       7.498153      0.028871       18.323338       0.503419   \n",
       "\n",
       "                                              params  param_k  \\\n",
       "0  {'k': 20, 'sim_options': {'name': 'cosine', 'u...       20   \n",
       "1  {'k': 20, 'sim_options': {'name': 'pearson', '...       20   \n",
       "2  {'k': 21, 'sim_options': {'name': 'cosine', 'u...       21   \n",
       "3  {'k': 21, 'sim_options': {'name': 'pearson', '...       21   \n",
       "4  {'k': 22, 'sim_options': {'name': 'cosine', 'u...       22   \n",
       "\n",
       "                         param_sim_options  alternativa  \n",
       "0   {'name': 'cosine', 'user_based': True}  frencuencia  \n",
       "1  {'name': 'pearson', 'user_based': True}  frencuencia  \n",
       "2   {'name': 'cosine', 'user_based': True}  frencuencia  \n",
       "3  {'name': 'pearson', 'user_based': True}  frencuencia  \n",
       "4   {'name': 'cosine', 'user_based': True}  frencuencia  \n",
       "\n",
       "[5 rows x 24 columns]"
      ]
     },
     "execution_count": 83,
     "metadata": {},
     "output_type": "execute_result"
    }
   ],
   "source": [
    "#Resultados user user\n",
    "best_user_user = pd.read_csv('best_results_user_user.csv')\n",
    "display(best_user_user.shape)\n",
    "best_user_user.head()"
   ]
  },
  {
   "cell_type": "code",
   "execution_count": 106,
   "metadata": {},
   "outputs": [
    {
     "name": "stdout",
     "output_type": "stream",
     "text": [
      "------------------------ Mejores modelos user-based -----------------\n"
     ]
    },
    {
     "data": {
      "text/html": [
       "<div>\n",
       "<style scoped>\n",
       "    .dataframe tbody tr th:only-of-type {\n",
       "        vertical-align: middle;\n",
       "    }\n",
       "\n",
       "    .dataframe tbody tr th {\n",
       "        vertical-align: top;\n",
       "    }\n",
       "\n",
       "    .dataframe thead th {\n",
       "        text-align: right;\n",
       "    }\n",
       "</style>\n",
       "<table border=\"1\" class=\"dataframe\">\n",
       "  <thead>\n",
       "    <tr style=\"text-align: right;\">\n",
       "      <th></th>\n",
       "      <th>alternativa</th>\n",
       "      <th>param_k</th>\n",
       "      <th>param_sim_options</th>\n",
       "      <th>mean_test_rmse</th>\n",
       "    </tr>\n",
       "  </thead>\n",
       "  <tbody>\n",
       "    <tr>\n",
       "      <th>318</th>\n",
       "      <td>normalizada</td>\n",
       "      <td>99</td>\n",
       "      <td>{'name': 'cosine', 'user_based': True}</td>\n",
       "      <td>0.383043</td>\n",
       "    </tr>\n",
       "    <tr>\n",
       "      <th>355</th>\n",
       "      <td>log_frecuencia</td>\n",
       "      <td>37</td>\n",
       "      <td>{'name': 'pearson', 'user_based': True}</td>\n",
       "      <td>0.646242</td>\n",
       "    </tr>\n",
       "    <tr>\n",
       "      <th>158</th>\n",
       "      <td>frencuencia</td>\n",
       "      <td>99</td>\n",
       "      <td>{'name': 'cosine', 'user_based': True}</td>\n",
       "      <td>122.261087</td>\n",
       "    </tr>\n",
       "  </tbody>\n",
       "</table>\n",
       "</div>"
      ],
      "text/plain": [
       "        alternativa  param_k                        param_sim_options  \\\n",
       "318     normalizada       99   {'name': 'cosine', 'user_based': True}   \n",
       "355  log_frecuencia       37  {'name': 'pearson', 'user_based': True}   \n",
       "158     frencuencia       99   {'name': 'cosine', 'user_based': True}   \n",
       "\n",
       "     mean_test_rmse  \n",
       "318        0.383043  \n",
       "355        0.646242  \n",
       "158      122.261087  "
      ]
     },
     "execution_count": 106,
     "metadata": {},
     "output_type": "execute_result"
    }
   ],
   "source": [
    "#Una vez mas los mejores modelos fueron\n",
    "best_user_user_sum = best_user_user[['alternativa','param_k','param_sim_options','mean_test_rmse']][best_user_user['rank_test_rmse'] == 1].sort_values('mean_test_rmse')\n",
    "print('------------------------ Mejores modelos user-based -----------------')\n",
    "best_user_user_sum\n"
   ]
  },
  {
   "cell_type": "code",
   "execution_count": 108,
   "metadata": {
    "scrolled": true
   },
   "outputs": [
    {
     "data": {
      "image/png": "[encoded data removed]",
      "text/plain": [
       "<Figure size 432x288 with 1 Axes>"
      ]
     },
     "metadata": {
      "needs_background": "light"
     },
     "output_type": "display_data"
    },
    {
     "data": {
      "image/png": "[encoded data removed]",
      "text/plain": [
       "<Figure size 432x288 with 1 Axes>"
      ]
     },
     "metadata": {
      "needs_background": "light"
     },
     "output_type": "display_data"
    },
    {
     "data": {
      "image/png": "[encoded data removed]",
      "text/plain": [
       "<Figure size 432x288 with 1 Axes>"
      ]
     },
     "metadata": {
      "needs_background": "light"
     },
     "output_type": "display_data"
    }
   ],
   "source": [
    "for each in ['frencuencia','log_frecuencia','normalizada']:\n",
    "    temp = best_user_user[['param_k','param_sim_options','mean_test_rmse','alternativa']][best_user_user['alternativa'] == each]\n",
    "    sns.lineplot(data = temp, x = 'param_k', y = 'mean_test_rmse', hue = 'param_sim_options')\n",
    "    plt.title(each)\n",
    "    plt.show()"
   ]
  },
  {
   "cell_type": "markdown",
   "metadata": {},
   "source": [
    "### e) Revise la estrategia de ponderación por significancia de McLaughlin’s [1] (McLaughlin’s significance weighting) y revise cuál es el impacto al variar los parámetros de esta estrategia. "
   ]
  },
  {
   "cell_type": "markdown",
   "metadata": {},
   "source": [
    "Respecto a la estrategia de ponderacion menciondad por McLaughlin’s Nos pareció útil ajustar las ponderaciones de similitud según la cantidad de usuarios en común, si la cantidad de usuarios comunes estaba por debajo de un cierto umbral y e ubral definido fue los de percentil 90 adicional por recursos tencologico de las maquinas  donde se ejecutaba el modelo. "
   ]
  },
  {
   "cell_type": "markdown",
   "metadata": {},
   "source": [
    "## 4) Construcción de modelos colaborativos ítem - ítem\n"
   ]
  },
  {
   "cell_type": "markdown",
   "metadata": {},
   "source": [
    "Antes de realizar el mismo proceso, es importante tener en cuenta que:\n",
    "   1. Por limitaciones de las maquinas solo se podra utilizar una parte de los items para realizar los mdoelos.\n",
    "   2. Esta seleccion se hara apartir del conteo de ratings de cada item"
   ]
  },
  {
   "cell_type": "code",
   "execution_count": 111,
   "metadata": {},
   "outputs": [
    {
     "name": "stdout",
     "output_type": "stream",
     "text": [
      "Como se puede ver, para usuarios si era posible utilizar toda la base ya que eran unicamente 992 usuarios, por ende, solo tenia que calcular 992 similitudes. Sin embargo, para items este proceso se tendria que hacer 107295 veces.\n",
      "992\n"
     ]
    },
    {
     "data": {
      "text/plain": [
       "107295"
      ]
     },
     "execution_count": 111,
     "metadata": {},
     "output_type": "execute_result"
    }
   ],
   "source": [
    "print('Como se puede ver, para usuarios si era posible utilizar toda la base ya que eran unicamente 992 usuarios, por ende, solo tenia que calcular 992 similitudes. Sin embargo, para items este proceso se tendria que hacer 107295 veces.')\n",
    "\n",
    "print(len(ratings_artistas_merged.UserId.unique()))\n",
    "len(ratings_artistas_merged.ArtId.unique())"
   ]
  },
  {
   "cell_type": "code",
   "execution_count": 112,
   "metadata": {},
   "outputs": [
    {
     "data": {
      "text/html": [
       "<div>\n",
       "<style scoped>\n",
       "    .dataframe tbody tr th:only-of-type {\n",
       "        vertical-align: middle;\n",
       "    }\n",
       "\n",
       "    .dataframe tbody tr th {\n",
       "        vertical-align: top;\n",
       "    }\n",
       "\n",
       "    .dataframe thead th {\n",
       "        text-align: right;\n",
       "    }\n",
       "</style>\n",
       "<table border=\"1\" class=\"dataframe\">\n",
       "  <thead>\n",
       "    <tr style=\"text-align: right;\">\n",
       "      <th></th>\n",
       "      <th>Frecuencia</th>\n",
       "    </tr>\n",
       "    <tr>\n",
       "      <th>ArtId</th>\n",
       "      <th></th>\n",
       "    </tr>\n",
       "  </thead>\n",
       "  <tbody>\n",
       "    <tr>\n",
       "      <th>a74b1b7f-71a5-4011-9441-d0b5e4122711</th>\n",
       "      <td>710</td>\n",
       "    </tr>\n",
       "    <tr>\n",
       "      <th>cc197bad-dc9c-440d-a5b5-d52ba2e14234</th>\n",
       "      <td>636</td>\n",
       "    </tr>\n",
       "    <tr>\n",
       "      <th>b10bbbfc-cf9e-42e0-be17-e2c3e1d2600d</th>\n",
       "      <td>615</td>\n",
       "    </tr>\n",
       "    <tr>\n",
       "      <th>9c9f1380-2516-4fc9-a3e6-f9f61941d090</th>\n",
       "      <td>594</td>\n",
       "    </tr>\n",
       "    <tr>\n",
       "      <th>69ee3720-a7cb-4402-b48d-a02c366f2bcf</th>\n",
       "      <td>577</td>\n",
       "    </tr>\n",
       "    <tr>\n",
       "      <th>...</th>\n",
       "      <td>...</td>\n",
       "    </tr>\n",
       "    <tr>\n",
       "      <th>74c67807-de42-4558-8943-5dee420a79b2</th>\n",
       "      <td>1</td>\n",
       "    </tr>\n",
       "    <tr>\n",
       "      <th>74c7da0f-0c22-4159-a621-d982b8267d67</th>\n",
       "      <td>1</td>\n",
       "    </tr>\n",
       "    <tr>\n",
       "      <th>74c86936-f54b-43cd-bc22-5fbc9e70b8a9</th>\n",
       "      <td>1</td>\n",
       "    </tr>\n",
       "    <tr>\n",
       "      <th>74ca90c6-2f9f-4c99-bdf9-734e4ab571d6</th>\n",
       "      <td>1</td>\n",
       "    </tr>\n",
       "    <tr>\n",
       "      <th>ffff44bd-e5a5-4e87-8700-35481264e37d</th>\n",
       "      <td>1</td>\n",
       "    </tr>\n",
       "  </tbody>\n",
       "</table>\n",
       "<p>107295 rows × 1 columns</p>\n",
       "</div>"
      ],
      "text/plain": [
       "                                      Frecuencia\n",
       "ArtId                                           \n",
       "a74b1b7f-71a5-4011-9441-d0b5e4122711         710\n",
       "cc197bad-dc9c-440d-a5b5-d52ba2e14234         636\n",
       "b10bbbfc-cf9e-42e0-be17-e2c3e1d2600d         615\n",
       "9c9f1380-2516-4fc9-a3e6-f9f61941d090         594\n",
       "69ee3720-a7cb-4402-b48d-a02c366f2bcf         577\n",
       "...                                          ...\n",
       "74c67807-de42-4558-8943-5dee420a79b2           1\n",
       "74c7da0f-0c22-4159-a621-d982b8267d67           1\n",
       "74c86936-f54b-43cd-bc22-5fbc9e70b8a9           1\n",
       "74ca90c6-2f9f-4c99-bdf9-734e4ab571d6           1\n",
       "ffff44bd-e5a5-4e87-8700-35481264e37d           1\n",
       "\n",
       "[107295 rows x 1 columns]"
      ]
     },
     "execution_count": 112,
     "metadata": {},
     "output_type": "execute_result"
    }
   ],
   "source": [
    "ratings_artistas_merged.groupby('ArtId').size().reset_index(name = 'Frecuencia').sort_values('Frecuencia', ascending = False).set_index('ArtId')"
   ]
  },
  {
   "cell_type": "code",
   "execution_count": 125,
   "metadata": {},
   "outputs": [
    {
     "name": "stdout",
     "output_type": "stream",
     "text": [
      "---Se filtra el cojunto de datos a el 10% mas calificado --\n",
      "13.0 es el percentil 90\n"
     ]
    }
   ],
   "source": [
    "#Se crea una lista con los id de los items que interesan\n",
    "temp_1 = ratings_artistas_merged.groupby('ArtId').size().reset_index(name = 'Frecuencia').sort_values('Frecuencia', ascending = False)\n",
    "items_disponibles = list(temp_1['ArtId'][temp_1['Frecuencia'] > np.percentile(temp_1['Frecuencia'] , 90)].unique())\n",
    "print('---Se filtra el cojunto de datos a el 10% mas calificado --')\n",
    "print(str( np.percentile(temp_1['Frecuencia'] , 90)) + ' es el percentil 90')"
   ]
  },
  {
   "cell_type": "code",
   "execution_count": 126,
   "metadata": {},
   "outputs": [
    {
     "data": {
      "text/plain": [
       "(566888, 5)"
      ]
     },
     "execution_count": 126,
     "metadata": {},
     "output_type": "execute_result"
    }
   ],
   "source": [
    "#Se filtra  el conjuto de datos que se utilizaran para los modelos item-item\n",
    "ratings_artistas_merged_item = ratings_artistas_merged[ratings_artistas_merged['ArtId'].isin(items_disponibles)]\n",
    "ratings_artistas_merged_item.shape"
   ]
  },
  {
   "cell_type": "code",
   "execution_count": 127,
   "metadata": {
    "scrolled": true
   },
   "outputs": [
    {
     "name": "stdout",
     "output_type": "stream",
     "text": [
      "---------  Alternativa: frecuencia pearson ---------\n",
      "Computing the pearson similarity matrix...\n",
      "Done computing similarity matrix.\n",
      "Computing the pearson similarity matrix...\n",
      "Done computing similarity matrix.\n",
      "RMSE: 129.9694\n",
      "129.96944911935984\n",
      "realizado.\n",
      "---------  Alternativa: frecuencia cosine ---------\n",
      "Computing the cosine similarity matrix...\n",
      "Done computing similarity matrix.\n",
      "Computing the cosine similarity matrix...\n",
      "Done computing similarity matrix.\n",
      "RMSE: 140.5441\n",
      "140.54408095130304\n",
      "realizado.\n",
      "---------  Alternativa: log_frecuencia pearson ---------\n",
      "Computing the pearson similarity matrix...\n"
     ]
    },
    {
     "name": "stderr",
     "output_type": "stream",
     "text": [
      "C:\\ProgramData\\Anaconda3\\lib\\site-packages\\surprise\\prediction_algorithms\\algo_base.py:249: RuntimeWarning: invalid value encountered in sqrt\n",
      "  sim = construction_func[name](*args)\n"
     ]
    },
    {
     "name": "stdout",
     "output_type": "stream",
     "text": [
      "Done computing similarity matrix.\n",
      "Computing the pearson similarity matrix...\n",
      "Done computing similarity matrix.\n",
      "RMSE: 0.6850\n",
      "0.6850431331790121\n",
      "realizado.\n",
      "---------  Alternativa: log_frecuencia cosine ---------\n",
      "Computing the cosine similarity matrix...\n"
     ]
    },
    {
     "name": "stderr",
     "output_type": "stream",
     "text": [
      "C:\\ProgramData\\Anaconda3\\lib\\site-packages\\surprise\\prediction_algorithms\\algo_base.py:249: RuntimeWarning: invalid value encountered in double_scalars\n",
      "  sim = construction_func[name](*args)\n"
     ]
    },
    {
     "name": "stdout",
     "output_type": "stream",
     "text": [
      "Done computing similarity matrix.\n",
      "Computing the cosine similarity matrix...\n",
      "Done computing similarity matrix.\n",
      "RMSE: 0.6767\n",
      "0.6766797119844228\n",
      "realizado.\n",
      "---------  Alternativa: normalizada pearson ---------\n",
      "Computing the pearson similarity matrix...\n",
      "Done computing similarity matrix.\n",
      "Computing the pearson similarity matrix...\n",
      "Done computing similarity matrix.\n",
      "RMSE: 0.2977\n",
      "0.29766566626841995\n",
      "realizado.\n",
      "---------  Alternativa: normalizada cosine ---------\n",
      "Computing the cosine similarity matrix...\n",
      "Done computing similarity matrix.\n",
      "Computing the cosine similarity matrix...\n",
      "Done computing similarity matrix.\n",
      "RMSE: 0.2522\n",
      "0.25219362290240077\n",
      "realizado.\n"
     ]
    }
   ],
   "source": [
    "alternativa = ['frecuencia','log_frecuencia', 'normalizada']\n",
    "metrica_similitud = ['pearson', 'cosine']\n",
    "rmse_item = []\n",
    "for each in alternativa:\n",
    "    for each_2 in metrica_similitud:\n",
    "        print('---------' + '  Alternativa: ' + str(each) + ' ' + str(each_2)+ ' ---------')\n",
    "        reader = Reader(rating_scale = (min(ratings_artistas_merged_item[each]), max(ratings_artistas_merged_item[each])))\n",
    "        surprise_dataset = Dataset.load_from_df( ratings_artistas_merged_item[[ 'UserId', 'ArtId', each]], reader )\n",
    "        train_set, test_set = train_test_split(surprise_dataset, test_size = 0.2)\n",
    "        algoritmo = KNNBasic(k = 20, min_k = 2,\n",
    "                sim_options = dict(name = each_2,\n",
    "                                  user_based = False)).fit(trainset = train_set)\n",
    "        algoritmo.fit(trainset = train_set)\n",
    "        test_predictions = algoritmo.test(test_set)\n",
    "        rmse_intern = accuracy.rmse(test_predictions, verbose = True )\n",
    "        print(rmse_intern)\n",
    "        rmse_item.append(rmse_intern)\n",
    "        print('realizado.')"
   ]
  },
  {
   "cell_type": "code",
   "execution_count": 128,
   "metadata": {},
   "outputs": [
    {
     "name": "stdout",
     "output_type": "stream",
     "text": [
      "Con K fijo a 20\n"
     ]
    },
    {
     "data": {
      "text/html": [
       "<div>\n",
       "<style scoped>\n",
       "    .dataframe tbody tr th:only-of-type {\n",
       "        vertical-align: middle;\n",
       "    }\n",
       "\n",
       "    .dataframe tbody tr th {\n",
       "        vertical-align: top;\n",
       "    }\n",
       "\n",
       "    .dataframe thead th {\n",
       "        text-align: right;\n",
       "    }\n",
       "</style>\n",
       "<table border=\"1\" class=\"dataframe\">\n",
       "  <thead>\n",
       "    <tr style=\"text-align: right;\">\n",
       "      <th></th>\n",
       "      <th>Alternativa</th>\n",
       "      <th>Metrica Similitud</th>\n",
       "      <th>RMSE</th>\n",
       "    </tr>\n",
       "  </thead>\n",
       "  <tbody>\n",
       "    <tr>\n",
       "      <th>5</th>\n",
       "      <td>normalizada</td>\n",
       "      <td>cosine</td>\n",
       "      <td>0.252194</td>\n",
       "    </tr>\n",
       "    <tr>\n",
       "      <th>4</th>\n",
       "      <td>normalizada</td>\n",
       "      <td>pearson</td>\n",
       "      <td>0.297666</td>\n",
       "    </tr>\n",
       "    <tr>\n",
       "      <th>3</th>\n",
       "      <td>log_frecuencia</td>\n",
       "      <td>cosine</td>\n",
       "      <td>0.676680</td>\n",
       "    </tr>\n",
       "    <tr>\n",
       "      <th>2</th>\n",
       "      <td>log_frecuencia</td>\n",
       "      <td>pearson</td>\n",
       "      <td>0.685043</td>\n",
       "    </tr>\n",
       "    <tr>\n",
       "      <th>0</th>\n",
       "      <td>frecuencia</td>\n",
       "      <td>pearson</td>\n",
       "      <td>129.969449</td>\n",
       "    </tr>\n",
       "    <tr>\n",
       "      <th>1</th>\n",
       "      <td>frecuencia</td>\n",
       "      <td>cosine</td>\n",
       "      <td>140.544081</td>\n",
       "    </tr>\n",
       "  </tbody>\n",
       "</table>\n",
       "</div>"
      ],
      "text/plain": [
       "      Alternativa Metrica Similitud        RMSE\n",
       "5     normalizada            cosine    0.252194\n",
       "4     normalizada           pearson    0.297666\n",
       "3  log_frecuencia            cosine    0.676680\n",
       "2  log_frecuencia           pearson    0.685043\n",
       "0      frecuencia           pearson  129.969449\n",
       "1      frecuencia            cosine  140.544081"
      ]
     },
     "execution_count": 128,
     "metadata": {},
     "output_type": "execute_result"
    }
   ],
   "source": [
    "resultados_2 = pd.DataFrame(list(zip(np.repeat(alternativa, 2), metrica_similitud*3, rmse_item)), columns = ['Alternativa','Metrica Similitud', 'RMSE']).sort_values('RMSE')\n",
    "print('Con K fijo a 20')\n",
    "resultados_2"
   ]
  },
  {
   "cell_type": "code",
   "execution_count": 130,
   "metadata": {},
   "outputs": [],
   "source": [
    "#Se establece el diccionario para pasar a la busqueda de grilla.\n",
    "grilla_item = dict(k = [10, 20, 30, 40, 50, 60, 70, 80, 90, 100],\n",
    "             sim_options = dict(name = ['cosine', 'pearson'],\n",
    "                               user_based = [False]))"
   ]
  },
  {
   "cell_type": "code",
   "execution_count": 131,
   "metadata": {},
   "outputs": [],
   "source": [
    "#Se crean las bases para cada una de las alternativas\n",
    "data_item = Dataset.load_from_df( ratings_artistas_merged_item[[ 'UserId', 'ArtId', 'frecuencia']],\n",
    "                            Reader(rating_scale = (min(ratings_artistas_merged_item['frecuencia']), max(ratings_artistas_merged_item['frecuencia']))) )\n",
    "data_item2 = Dataset.load_from_df( ratings_artistas_merged_item[[ 'UserId', 'ArtId', 'log_frecuencia']],\n",
    "                             Reader(rating_scale = (min(ratings_artistas_merged_item['log_frecuencia']), max(ratings_artistas_merged_item['log_frecuencia']))) )\n",
    "data_item3 = Dataset.load_from_df( ratings_artistas_merged_item[[ 'UserId', 'ArtId', 'normalizada']],\n",
    "                             Reader(rating_scale = (min(ratings_artistas_merged_item['normalizada']), max(ratings_artistas_merged_item['normalizada']))))\n"
   ]
  },
  {
   "cell_type": "code",
   "execution_count": 132,
   "metadata": {},
   "outputs": [],
   "source": [
    "#%%time\n",
    "#gs_item = GridSearchCV(KNNBasic, grilla_item, measures = ['RMSE','MAE'], cv = 5, joblib_verbose = 0)\n",
    "#gs_item.fit(data_item)\n",
    "#dump(gs_item.best_params, 'best_model_item_frencuencia.joblib')\n"
   ]
  },
  {
   "cell_type": "code",
   "execution_count": 133,
   "metadata": {},
   "outputs": [],
   "source": [
    "#%%time\n",
    "#gs2_item = GridSearchCV(KNNBasic, grilla_item, measures = ['RMSE','MAE'], cv = 5, joblib_verbose = 0)\n",
    "#gs2_item.fit(data_item2)\n",
    "#dump(gs2_item.best_params, 'best_model_item_logfrencuencia.joblib')\n"
   ]
  },
  {
   "cell_type": "code",
   "execution_count": 134,
   "metadata": {},
   "outputs": [],
   "source": [
    "#%%time\n",
    "#gs3_item = GridSearchCV(KNNBasic, grilla_item, measures = ['RMSE','MAE'], cv = 5, joblib_verbose = 0)\n",
    "#gs3_item.fit(data_item3)\n",
    "#dump(gs3_item.best_params, 'best_model_item_normalizado.joblib') \n"
   ]
  },
  {
   "cell_type": "code",
   "execution_count": 135,
   "metadata": {},
   "outputs": [],
   "source": [
    "#Guardar resultados\n",
    "\n",
    "#best_results_freq_item = pd.DataFrame(gs_item.cv_results)\n",
    "#best_results_freq_item['alternativa'] = 'frencuencia'\n",
    "\n",
    "#best_results_log_item = pd.DataFrame(gs2_item.cv_results)\n",
    "#best_results_log_item['alternativa'] = 'log_frecuencia'\n",
    "\n",
    "#best_results_norm_item = pd.DataFrame(gs3_item.cv_results)\n",
    "#best_results_norm_item['alternativa'] = 'normalizada'\n",
    "\n",
    "#best_results_item = best_results_freq_item.append(best_results_norm_item).append(best_results_log_item)\n",
    "#best_results_item.to_csv('best_results_item_item.csv')"
   ]
  },
  {
   "cell_type": "code",
   "execution_count": 137,
   "metadata": {},
   "outputs": [
    {
     "data": {
      "text/plain": [
       "{'rmse': {'k': 100, 'sim_options': {'name': 'pearson', 'user_based': False}},\n",
       " 'mae': {'k': 40, 'sim_options': {'name': 'cosine', 'user_based': False}}}"
      ]
     },
     "metadata": {},
     "output_type": "display_data"
    },
    {
     "data": {
      "text/plain": [
       "{'rmse': {'k': 100, 'sim_options': {'name': 'cosine', 'user_based': False}},\n",
       " 'mae': {'k': 100, 'sim_options': {'name': 'cosine', 'user_based': False}}}"
      ]
     },
     "metadata": {},
     "output_type": "display_data"
    },
    {
     "data": {
      "text/plain": [
       "{'rmse': {'k': 100, 'sim_options': {'name': 'cosine', 'user_based': False}},\n",
       " 'mae': {'k': 20, 'sim_options': {'name': 'cosine', 'user_based': False}}}"
      ]
     },
     "execution_count": 137,
     "metadata": {},
     "output_type": "execute_result"
    }
   ],
   "source": [
    "#Resultados\n",
    "freq_item_based = load('best_model_item_frencuencia.joblib')\n",
    "display(freq_item_based)\n",
    "\n",
    "logfreq_item_based = load('best_model_item_logfrencuencia.joblib')\n",
    "display(logfreq_item_based)\n",
    "\n",
    "norm_item_based = load('best_model_item_normalizado.joblib')\n",
    "norm_item_based"
   ]
  },
  {
   "cell_type": "code",
   "execution_count": 139,
   "metadata": {},
   "outputs": [
    {
     "data": {
      "text/plain": [
       "(60, 24)"
      ]
     },
     "metadata": {},
     "output_type": "display_data"
    },
    {
     "data": {
      "text/html": [
       "<div>\n",
       "<style scoped>\n",
       "    .dataframe tbody tr th:only-of-type {\n",
       "        vertical-align: middle;\n",
       "    }\n",
       "\n",
       "    .dataframe tbody tr th {\n",
       "        vertical-align: top;\n",
       "    }\n",
       "\n",
       "    .dataframe thead th {\n",
       "        text-align: right;\n",
       "    }\n",
       "</style>\n",
       "<table border=\"1\" class=\"dataframe\">\n",
       "  <thead>\n",
       "    <tr style=\"text-align: right;\">\n",
       "      <th></th>\n",
       "      <th>split0_test_rmse</th>\n",
       "      <th>split1_test_rmse</th>\n",
       "      <th>split2_test_rmse</th>\n",
       "      <th>split3_test_rmse</th>\n",
       "      <th>split4_test_rmse</th>\n",
       "      <th>mean_test_rmse</th>\n",
       "      <th>std_test_rmse</th>\n",
       "      <th>rank_test_rmse</th>\n",
       "      <th>split0_test_mae</th>\n",
       "      <th>split1_test_mae</th>\n",
       "      <th>...</th>\n",
       "      <th>std_test_mae</th>\n",
       "      <th>rank_test_mae</th>\n",
       "      <th>mean_fit_time</th>\n",
       "      <th>std_fit_time</th>\n",
       "      <th>mean_test_time</th>\n",
       "      <th>std_test_time</th>\n",
       "      <th>params</th>\n",
       "      <th>param_k</th>\n",
       "      <th>param_sim_options</th>\n",
       "      <th>alternativa</th>\n",
       "    </tr>\n",
       "  </thead>\n",
       "  <tbody>\n",
       "    <tr>\n",
       "      <th>0</th>\n",
       "      <td>153.460801</td>\n",
       "      <td>141.117203</td>\n",
       "      <td>124.856203</td>\n",
       "      <td>145.767490</td>\n",
       "      <td>142.148596</td>\n",
       "      <td>141.470059</td>\n",
       "      <td>9.368575</td>\n",
       "      <td>19</td>\n",
       "      <td>31.052126</td>\n",
       "      <td>30.647245</td>\n",
       "      <td>...</td>\n",
       "      <td>0.249108</td>\n",
       "      <td>10</td>\n",
       "      <td>116.637496</td>\n",
       "      <td>3.093445</td>\n",
       "      <td>79.800855</td>\n",
       "      <td>0.770371</td>\n",
       "      <td>{'k': 10, 'sim_options': {'name': 'cosine', 'u...</td>\n",
       "      <td>10</td>\n",
       "      <td>{'name': 'cosine', 'user_based': False}</td>\n",
       "      <td>frencuencia</td>\n",
       "    </tr>\n",
       "    <tr>\n",
       "      <th>1</th>\n",
       "      <td>153.700671</td>\n",
       "      <td>141.793363</td>\n",
       "      <td>125.005914</td>\n",
       "      <td>146.700420</td>\n",
       "      <td>142.318011</td>\n",
       "      <td>141.903676</td>\n",
       "      <td>9.464629</td>\n",
       "      <td>20</td>\n",
       "      <td>32.090876</td>\n",
       "      <td>31.660585</td>\n",
       "      <td>...</td>\n",
       "      <td>0.204960</td>\n",
       "      <td>14</td>\n",
       "      <td>149.542995</td>\n",
       "      <td>0.878265</td>\n",
       "      <td>78.928262</td>\n",
       "      <td>0.264251</td>\n",
       "      <td>{'k': 10, 'sim_options': {'name': 'pearson', '...</td>\n",
       "      <td>10</td>\n",
       "      <td>{'name': 'pearson', 'user_based': False}</td>\n",
       "      <td>frencuencia</td>\n",
       "    </tr>\n",
       "    <tr>\n",
       "      <th>2</th>\n",
       "      <td>152.619995</td>\n",
       "      <td>139.234467</td>\n",
       "      <td>122.650332</td>\n",
       "      <td>144.350983</td>\n",
       "      <td>140.120442</td>\n",
       "      <td>139.795244</td>\n",
       "      <td>9.793847</td>\n",
       "      <td>18</td>\n",
       "      <td>30.858767</td>\n",
       "      <td>30.264558</td>\n",
       "      <td>...</td>\n",
       "      <td>0.234860</td>\n",
       "      <td>6</td>\n",
       "      <td>114.349657</td>\n",
       "      <td>1.116860</td>\n",
       "      <td>82.792768</td>\n",
       "      <td>1.032718</td>\n",
       "      <td>{'k': 20, 'sim_options': {'name': 'cosine', 'u...</td>\n",
       "      <td>20</td>\n",
       "      <td>{'name': 'cosine', 'user_based': False}</td>\n",
       "      <td>frencuencia</td>\n",
       "    </tr>\n",
       "    <tr>\n",
       "      <th>3</th>\n",
       "      <td>152.436374</td>\n",
       "      <td>139.293941</td>\n",
       "      <td>122.379086</td>\n",
       "      <td>144.149287</td>\n",
       "      <td>140.142718</td>\n",
       "      <td>139.680281</td>\n",
       "      <td>9.822264</td>\n",
       "      <td>17</td>\n",
       "      <td>31.951311</td>\n",
       "      <td>31.391564</td>\n",
       "      <td>...</td>\n",
       "      <td>0.228907</td>\n",
       "      <td>11</td>\n",
       "      <td>150.144235</td>\n",
       "      <td>0.618811</td>\n",
       "      <td>82.604720</td>\n",
       "      <td>0.262996</td>\n",
       "      <td>{'k': 20, 'sim_options': {'name': 'pearson', '...</td>\n",
       "      <td>20</td>\n",
       "      <td>{'name': 'pearson', 'user_based': False}</td>\n",
       "      <td>frencuencia</td>\n",
       "    </tr>\n",
       "    <tr>\n",
       "      <th>4</th>\n",
       "      <td>152.059237</td>\n",
       "      <td>138.784611</td>\n",
       "      <td>121.896382</td>\n",
       "      <td>143.429006</td>\n",
       "      <td>139.360574</td>\n",
       "      <td>139.105962</td>\n",
       "      <td>9.826635</td>\n",
       "      <td>16</td>\n",
       "      <td>30.767893</td>\n",
       "      <td>30.185341</td>\n",
       "      <td>...</td>\n",
       "      <td>0.225657</td>\n",
       "      <td>3</td>\n",
       "      <td>114.025661</td>\n",
       "      <td>0.352688</td>\n",
       "      <td>85.976145</td>\n",
       "      <td>0.349646</td>\n",
       "      <td>{'k': 30, 'sim_options': {'name': 'cosine', 'u...</td>\n",
       "      <td>30</td>\n",
       "      <td>{'name': 'cosine', 'user_based': False}</td>\n",
       "      <td>frencuencia</td>\n",
       "    </tr>\n",
       "  </tbody>\n",
       "</table>\n",
       "<p>5 rows × 24 columns</p>\n",
       "</div>"
      ],
      "text/plain": [
       "   split0_test_rmse  split1_test_rmse  split2_test_rmse  split3_test_rmse  \\\n",
       "0        153.460801        141.117203        124.856203        145.767490   \n",
       "1        153.700671        141.793363        125.005914        146.700420   \n",
       "2        152.619995        139.234467        122.650332        144.350983   \n",
       "3        152.436374        139.293941        122.379086        144.149287   \n",
       "4        152.059237        138.784611        121.896382        143.429006   \n",
       "\n",
       "   split4_test_rmse  mean_test_rmse  std_test_rmse  rank_test_rmse  \\\n",
       "0        142.148596      141.470059       9.368575              19   \n",
       "1        142.318011      141.903676       9.464629              20   \n",
       "2        140.120442      139.795244       9.793847              18   \n",
       "3        140.142718      139.680281       9.822264              17   \n",
       "4        139.360574      139.105962       9.826635              16   \n",
       "\n",
       "   split0_test_mae  split1_test_mae  ...  std_test_mae  rank_test_mae  \\\n",
       "0        31.052126        30.647245  ...      0.249108             10   \n",
       "1        32.090876        31.660585  ...      0.204960             14   \n",
       "2        30.858767        30.264558  ...      0.234860              6   \n",
       "3        31.951311        31.391564  ...      0.228907             11   \n",
       "4        30.767893        30.185341  ...      0.225657              3   \n",
       "\n",
       "   mean_fit_time  std_fit_time  mean_test_time  std_test_time  \\\n",
       "0     116.637496      3.093445       79.800855       0.770371   \n",
       "1     149.542995      0.878265       78.928262       0.264251   \n",
       "2     114.349657      1.116860       82.792768       1.032718   \n",
       "3     150.144235      0.618811       82.604720       0.262996   \n",
       "4     114.025661      0.352688       85.976145       0.349646   \n",
       "\n",
       "                                              params  param_k  \\\n",
       "0  {'k': 10, 'sim_options': {'name': 'cosine', 'u...       10   \n",
       "1  {'k': 10, 'sim_options': {'name': 'pearson', '...       10   \n",
       "2  {'k': 20, 'sim_options': {'name': 'cosine', 'u...       20   \n",
       "3  {'k': 20, 'sim_options': {'name': 'pearson', '...       20   \n",
       "4  {'k': 30, 'sim_options': {'name': 'cosine', 'u...       30   \n",
       "\n",
       "                          param_sim_options  alternativa  \n",
       "0   {'name': 'cosine', 'user_based': False}  frencuencia  \n",
       "1  {'name': 'pearson', 'user_based': False}  frencuencia  \n",
       "2   {'name': 'cosine', 'user_based': False}  frencuencia  \n",
       "3  {'name': 'pearson', 'user_based': False}  frencuencia  \n",
       "4   {'name': 'cosine', 'user_based': False}  frencuencia  \n",
       "\n",
       "[5 rows x 24 columns]"
      ]
     },
     "execution_count": 139,
     "metadata": {},
     "output_type": "execute_result"
    }
   ],
   "source": [
    "best_item_item = pd.read_csv('best_results_item_item.csv').drop('Unnamed: 0', axis = 1)\n",
    "display(best_item_item.shape)\n",
    "best_item_item.head()"
   ]
  },
  {
   "cell_type": "code",
   "execution_count": 140,
   "metadata": {},
   "outputs": [
    {
     "name": "stdout",
     "output_type": "stream",
     "text": [
      "------------------------ Mejores modelos item-based -----------------\n"
     ]
    },
    {
     "data": {
      "text/html": [
       "<div>\n",
       "<style scoped>\n",
       "    .dataframe tbody tr th:only-of-type {\n",
       "        vertical-align: middle;\n",
       "    }\n",
       "\n",
       "    .dataframe tbody tr th {\n",
       "        vertical-align: top;\n",
       "    }\n",
       "\n",
       "    .dataframe thead th {\n",
       "        text-align: right;\n",
       "    }\n",
       "</style>\n",
       "<table border=\"1\" class=\"dataframe\">\n",
       "  <thead>\n",
       "    <tr style=\"text-align: right;\">\n",
       "      <th></th>\n",
       "      <th>alternativa</th>\n",
       "      <th>param_k</th>\n",
       "      <th>param_sim_options</th>\n",
       "      <th>mean_test_rmse</th>\n",
       "    </tr>\n",
       "  </thead>\n",
       "  <tbody>\n",
       "    <tr>\n",
       "      <th>38</th>\n",
       "      <td>normalizada</td>\n",
       "      <td>100</td>\n",
       "      <td>{'name': 'cosine', 'user_based': False}</td>\n",
       "      <td>0.439530</td>\n",
       "    </tr>\n",
       "    <tr>\n",
       "      <th>58</th>\n",
       "      <td>log_frecuencia</td>\n",
       "      <td>100</td>\n",
       "      <td>{'name': 'cosine', 'user_based': False}</td>\n",
       "      <td>0.640830</td>\n",
       "    </tr>\n",
       "    <tr>\n",
       "      <th>19</th>\n",
       "      <td>frencuencia</td>\n",
       "      <td>100</td>\n",
       "      <td>{'name': 'pearson', 'user_based': False}</td>\n",
       "      <td>137.335848</td>\n",
       "    </tr>\n",
       "  </tbody>\n",
       "</table>\n",
       "</div>"
      ],
      "text/plain": [
       "       alternativa  param_k                         param_sim_options  \\\n",
       "38     normalizada      100   {'name': 'cosine', 'user_based': False}   \n",
       "58  log_frecuencia      100   {'name': 'cosine', 'user_based': False}   \n",
       "19     frencuencia      100  {'name': 'pearson', 'user_based': False}   \n",
       "\n",
       "    mean_test_rmse  \n",
       "38        0.439530  \n",
       "58        0.640830  \n",
       "19      137.335848  "
      ]
     },
     "execution_count": 140,
     "metadata": {},
     "output_type": "execute_result"
    }
   ],
   "source": [
    "#Una vez mas los mejores modelos fueron\n",
    "best_item_item_sum = best_item_item[['alternativa','param_k','param_sim_options','mean_test_rmse']][best_item_item['rank_test_rmse'] == 1].sort_values('mean_test_rmse')\n",
    "print('------------------------ Mejores modelos item-based -----------------')\n",
    "best_item_item_sum\n"
   ]
  },
  {
   "cell_type": "code",
   "execution_count": 141,
   "metadata": {
    "scrolled": true
   },
   "outputs": [
    {
     "data": {
      "image/png": "[encoded data removed]",
      "text/plain": [
       "<Figure size 432x288 with 1 Axes>"
      ]
     },
     "metadata": {
      "needs_background": "light"
     },
     "output_type": "display_data"
    },
    {
     "data": {
      "image/png": "[encoded data removed]",
      "text/plain": [
       "<Figure size 432x288 with 1 Axes>"
      ]
     },
     "metadata": {
      "needs_background": "light"
     },
     "output_type": "display_data"
    },
    {
     "data": {
      "image/png": "[encoded data removed]",
      "text/plain": [
       "<Figure size 432x288 with 1 Axes>"
      ]
     },
     "metadata": {
      "needs_background": "light"
     },
     "output_type": "display_data"
    }
   ],
   "source": [
    "for each in ['frencuencia','log_frecuencia','normalizada']:\n",
    "    temp = best_item_item[['param_k','param_sim_options','mean_test_rmse','alternativa']][best_item_item['alternativa'] == each]\n",
    "    sns.lineplot(data = temp, x = 'param_k', y = 'mean_test_rmse', hue = 'param_sim_options')\n",
    "    plt.title(each)\n",
    "    plt.show()"
   ]
  }
 ],
 "metadata": {
  "kernelspec": {
   "display_name": "Python 3",
   "language": "python",
   "name": "python3"
  },
  "language_info": {
   "codemirror_mode": {
    "name": "ipython",
    "version": 3
   },
   "file_extension": ".py",
   "mimetype": "text/x-python",
   "name": "python",
   "nbconvert_exporter": "python",
   "pygments_lexer": "ipython3",
   "version": "3.7.9"
  }
 },
 "nbformat": 4,
 "nbformat_minor": 4
}
