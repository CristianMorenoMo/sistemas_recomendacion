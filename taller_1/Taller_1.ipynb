{
 "cells": [
  {
   "cell_type": "code",
   "execution_count": 1,
   "id": "unlikely-success",
   "metadata": {},
   "outputs": [],
   "source": [
    "import pandas as pd \n",
    "import numpy as np\n",
    "from surprise import Reader\n",
    "from surprise import Dataset\n",
    "from surprise.model_selection import train_test_split\n",
    "from surprise import KNNBasic\n",
    "from surprise import accuracy"
   ]
  },
  {
   "cell_type": "code",
   "execution_count": null,
   "id": "parallel-battery",
   "metadata": {},
   "outputs": [],
   "source": [
    "df = pd.read_csv('path',sep=',')"
   ]
  },
  {
   "cell_type": "code",
   "execution_count": null,
   "id": "equivalent-coupon",
   "metadata": {},
   "outputs": [],
   "source": [
    "### dataset item,user,rating\n",
    "### item, descripcion\n",
    "### user, name, email\n"
   ]
  },
  {
   "cell_type": "code",
   "execution_count": null,
   "id": "blocked-forty",
   "metadata": {},
   "outputs": [],
   "source": [
    "####\n",
    "reader = Reader( rating_scale = ( 1, 5 ) )\n",
    "#Se crea el dataset a partir del dataframe\n",
    "surprise_dataset = Dataset.load_from_df( ratings[ [ 'user_id', 'item_id', 'rating' ] ], reader )\n",
    "train_set, test_set=  train_test_split(surprise_dataset, test_size=.2)"
   ]
  }
 ],
 "metadata": {
  "kernelspec": {
   "display_name": "Python 3",
   "language": "python",
   "name": "python3"
  },
  "language_info": {
   "codemirror_mode": {
    "name": "ipython",
    "version": 3
   },
   "file_extension": ".py",
   "mimetype": "text/x-python",
   "name": "python",
   "nbconvert_exporter": "python",
   "pygments_lexer": "ipython3",
   "version": "3.7.9"
  }
 },
 "nbformat": 4,
 "nbformat_minor": 5
}
