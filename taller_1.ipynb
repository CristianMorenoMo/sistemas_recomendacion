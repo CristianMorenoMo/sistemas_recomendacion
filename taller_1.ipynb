{
  "nbformat": 4,
  "nbformat_minor": 0,
  "metadata": {
    "colab": {
      "name": "Copia de MINE_4201_SR_Laboratorio_1.ipynb",
      "provenance": [],
      "collapsed_sections": [],
      "toc_visible": true
    },
    "kernelspec": {
      "name": "python3",
      "display_name": "Python 3"
    }
  },
  "cells": [
    {
      "cell_type": "markdown",
      "metadata": {
        "id": "-ODlNBWj3QZx"
      },
      "source": [
        "# MINE 4201- SR -  Laboratorio 1 \n",
        "# Exploración modelos KNN\n",
        "\n"
      ]
    },
    {
      "cell_type": "markdown",
      "metadata": {
        "id": "ed1-j-PSjcXX"
      },
      "source": [
        "Vamos a utilizar las siguientes librerias en el laboratorio\n"
      ]
    },
    {
      "cell_type": "code",
      "metadata": {
        "id": "g7SNsxhDkO6k",
        "colab": {
          "base_uri": "https://localhost:8080/"
        },
        "outputId": "528a6c29-3857-4cd4-eed0-35305450d49c"
      },
      "source": [
        "!pip install numpy\n",
        "!pip install scikit-surprise\n",
        "!pip install pandas\n",
        "!pip install seaborn"
      ],
      "execution_count": null,
      "outputs": [
        {
          "output_type": "stream",
          "text": [
            "Requirement already satisfied: numpy in /usr/local/lib/python3.6/dist-packages (1.19.5)\n",
            "Collecting scikit-surprise\n",
            "\u001b[?25l  Downloading https://files.pythonhosted.org/packages/97/37/5d334adaf5ddd65da99fc65f6507e0e4599d092ba048f4302fe8775619e8/scikit-surprise-1.1.1.tar.gz (11.8MB)\n",
            "\u001b[K     |████████████████████████████████| 11.8MB 8.9MB/s \n",
            "\u001b[?25hRequirement already satisfied: joblib>=0.11 in /usr/local/lib/python3.6/dist-packages (from scikit-surprise) (1.0.0)\n",
            "Requirement already satisfied: numpy>=1.11.2 in /usr/local/lib/python3.6/dist-packages (from scikit-surprise) (1.19.5)\n",
            "Requirement already satisfied: scipy>=1.0.0 in /usr/local/lib/python3.6/dist-packages (from scikit-surprise) (1.4.1)\n",
            "Requirement already satisfied: six>=1.10.0 in /usr/local/lib/python3.6/dist-packages (from scikit-surprise) (1.15.0)\n",
            "Building wheels for collected packages: scikit-surprise\n",
            "  Building wheel for scikit-surprise (setup.py) ... \u001b[?25l\u001b[?25hdone\n",
            "  Created wheel for scikit-surprise: filename=scikit_surprise-1.1.1-cp36-cp36m-linux_x86_64.whl size=1618305 sha256=61854254ee1a92ff16c461183302f9e359bd8c8442e87ad5f144e43d9069b3e7\n",
            "  Stored in directory: /root/.cache/pip/wheels/78/9c/3d/41b419c9d2aff5b6e2b4c0fc8d25c538202834058f9ed110d0\n",
            "Successfully built scikit-surprise\n",
            "Installing collected packages: scikit-surprise\n",
            "Successfully installed scikit-surprise-1.1.1\n",
            "Requirement already satisfied: pandas in /usr/local/lib/python3.6/dist-packages (1.1.5)\n",
            "Requirement already satisfied: numpy>=1.15.4 in /usr/local/lib/python3.6/dist-packages (from pandas) (1.19.5)\n",
            "Requirement already satisfied: python-dateutil>=2.7.3 in /usr/local/lib/python3.6/dist-packages (from pandas) (2.8.1)\n",
            "Requirement already satisfied: pytz>=2017.2 in /usr/local/lib/python3.6/dist-packages (from pandas) (2018.9)\n",
            "Requirement already satisfied: six>=1.5 in /usr/local/lib/python3.6/dist-packages (from python-dateutil>=2.7.3->pandas) (1.15.0)\n",
            "Requirement already satisfied: seaborn in /usr/local/lib/python3.6/dist-packages (0.11.1)\n",
            "Requirement already satisfied: scipy>=1.0 in /usr/local/lib/python3.6/dist-packages (from seaborn) (1.4.1)\n",
            "Requirement already satisfied: matplotlib>=2.2 in /usr/local/lib/python3.6/dist-packages (from seaborn) (3.2.2)\n",
            "Requirement already satisfied: numpy>=1.15 in /usr/local/lib/python3.6/dist-packages (from seaborn) (1.19.5)\n",
            "Requirement already satisfied: pandas>=0.23 in /usr/local/lib/python3.6/dist-packages (from seaborn) (1.1.5)\n",
            "Requirement already satisfied: kiwisolver>=1.0.1 in /usr/local/lib/python3.6/dist-packages (from matplotlib>=2.2->seaborn) (1.3.1)\n",
            "Requirement already satisfied: pyparsing!=2.0.4,!=2.1.2,!=2.1.6,>=2.0.1 in /usr/local/lib/python3.6/dist-packages (from matplotlib>=2.2->seaborn) (2.4.7)\n",
            "Requirement already satisfied: python-dateutil>=2.1 in /usr/local/lib/python3.6/dist-packages (from matplotlib>=2.2->seaborn) (2.8.1)\n",
            "Requirement already satisfied: cycler>=0.10 in /usr/local/lib/python3.6/dist-packages (from matplotlib>=2.2->seaborn) (0.10.0)\n",
            "Requirement already satisfied: pytz>=2017.2 in /usr/local/lib/python3.6/dist-packages (from pandas>=0.23->seaborn) (2018.9)\n",
            "Requirement already satisfied: six>=1.5 in /usr/local/lib/python3.6/dist-packages (from python-dateutil>=2.1->matplotlib>=2.2->seaborn) (1.15.0)\n"
          ],
          "name": "stdout"
        }
      ]
    },
    {
      "cell_type": "code",
      "metadata": {
        "id": "Ue3y8dqL7osB"
      },
      "source": [
        "pwd"
      ],
      "execution_count": null,
      "outputs": []
    },
    {
      "cell_type": "code",
      "metadata": {
        "colab": {
          "base_uri": "https://localhost:8080/"
        },
        "id": "6Btxvfc-oyJl",
        "outputId": "bd1743b1-b0e7-4b0d-eea5-71f45493fa6a"
      },
      "source": [
        "from google.colab import drive\n",
        "drive.mount('/content/drive')"
      ],
      "execution_count": null,
      "outputs": [
        {
          "output_type": "stream",
          "text": [
            "Mounted at /content/drive\n"
          ],
          "name": "stdout"
        }
      ]
    },
    {
      "cell_type": "code",
      "metadata": {
        "id": "MZy484IS5l04"
      },
      "source": [
        "import os\n",
        "import numpy as np\n",
        "import pandas as pd\n",
        "import seaborn as sns\n",
        "from surprise import Reader\n",
        "from surprise import Dataset\n",
        "from surprise.model_selection import train_test_split\n",
        "from surprise import KNNBasic\n",
        "from surprise import accuracy\n",
        "import random\n",
        "import matplotlib.pyplot as plt\n",
        "\n",
        "#Para garantizar reproducibilidad en resultados\n",
        "seed = 10\n",
        "random.seed(seed)\n",
        "np.random.seed(seed)\n"
      ],
      "execution_count": null,
      "outputs": []
    },
    {
      "cell_type": "markdown",
      "metadata": {
        "id": "VApWKvPdWmtm"
      },
      "source": [
        "## Suba al servidor los archivos u.data y u.item que se encuentran en el dataset descargado, en la pestaña files"
      ]
    },
    {
      "cell_type": "code",
      "metadata": {
        "id": "-ayxnwj06r4C",
        "colab": {
          "base_uri": "https://localhost:8080/",
          "height": 219
        },
        "outputId": "429af697-7101-4246-82fa-3f3db2ea2119"
      },
      "source": [
        "if not (os.path.exists('/content/u.data') and os.path.exists('/content/u.item')):\n",
        "  raise ValueError('Los archivos u.data e u.item no fueron encontrados en el path')\n",
        "else:\n",
        "  print(\"Los archivos han sido cargados\")"
      ],
      "execution_count": null,
      "outputs": [
        {
          "output_type": "error",
          "ename": "ValueError",
          "evalue": "ignored",
          "traceback": [
            "\u001b[0;31m---------------------------------------------------------------------------\u001b[0m",
            "\u001b[0;31mValueError\u001b[0m                                Traceback (most recent call last)",
            "\u001b[0;32m<ipython-input-6-a0449e0d21bd>\u001b[0m in \u001b[0;36m<module>\u001b[0;34m()\u001b[0m\n\u001b[1;32m      1\u001b[0m \u001b[0;32mif\u001b[0m \u001b[0;32mnot\u001b[0m \u001b[0;34m(\u001b[0m\u001b[0mos\u001b[0m\u001b[0;34m.\u001b[0m\u001b[0mpath\u001b[0m\u001b[0;34m.\u001b[0m\u001b[0mexists\u001b[0m\u001b[0;34m(\u001b[0m\u001b[0;34m'/content/u.data'\u001b[0m\u001b[0;34m)\u001b[0m \u001b[0;32mand\u001b[0m \u001b[0mos\u001b[0m\u001b[0;34m.\u001b[0m\u001b[0mpath\u001b[0m\u001b[0;34m.\u001b[0m\u001b[0mexists\u001b[0m\u001b[0;34m(\u001b[0m\u001b[0;34m'/content/u.item'\u001b[0m\u001b[0;34m)\u001b[0m\u001b[0;34m)\u001b[0m\u001b[0;34m:\u001b[0m\u001b[0;34m\u001b[0m\u001b[0;34m\u001b[0m\u001b[0m\n\u001b[0;32m----> 2\u001b[0;31m   \u001b[0;32mraise\u001b[0m \u001b[0mValueError\u001b[0m\u001b[0;34m(\u001b[0m\u001b[0;34m'Los archivos u.data e u.item no fueron encontrados en el path'\u001b[0m\u001b[0;34m)\u001b[0m\u001b[0;34m\u001b[0m\u001b[0;34m\u001b[0m\u001b[0m\n\u001b[0m\u001b[1;32m      3\u001b[0m \u001b[0;32melse\u001b[0m\u001b[0;34m:\u001b[0m\u001b[0;34m\u001b[0m\u001b[0;34m\u001b[0m\u001b[0m\n\u001b[1;32m      4\u001b[0m   \u001b[0mprint\u001b[0m\u001b[0;34m(\u001b[0m\u001b[0;34m\"Los archivos han sido cargados\"\u001b[0m\u001b[0;34m)\u001b[0m\u001b[0;34m\u001b[0m\u001b[0;34m\u001b[0m\u001b[0m\n",
            "\u001b[0;31mValueError\u001b[0m: Los archivos u.data e u.item no fueron encontrados en el path"
          ]
        }
      ]
    },
    {
      "cell_type": "code",
      "metadata": {
        "id": "2fY0BV4Y7Cfn"
      },
      "source": [
        "ratings=pd.read_csv('/content/u.data', sep = '\\t', names = [ 'user_id', 'item_id', 'rating', 'timestamp' ] )"
      ],
      "execution_count": null,
      "outputs": []
    },
    {
      "cell_type": "code",
      "metadata": {
        "id": "4xh6HByEXjLN",
        "colab": {
          "base_uri": "https://localhost:8080/"
        },
        "outputId": "117255af-1f4f-4224-f618-595d34636993"
      },
      "source": [
        "items=pd.read_csv('/content/u.item', sep = '\\|', names = ['movie id' ,'movie title','release date','video release date','IMDb URL ','unknown',\n",
        "                                                          'Action','Adventure','Animation','Children','Comedy','Crime','Documentary','Drama',\n",
        "                                                          'Fantasy','Film-Noir','Horror','Musical','Mystery','Romance','Sci-Fi','Thriller','War','Western'], encoding='latin-1' )"
      ],
      "execution_count": null,
      "outputs": [
        {
          "output_type": "stream",
          "text": [
            "/usr/local/lib/python3.6/dist-packages/ipykernel_launcher.py:3: ParserWarning: Falling back to the 'python' engine because the 'c' engine does not support regex separators (separators > 1 char and different from '\\s+' are interpreted as regex); you can avoid this warning by specifying engine='python'.\n",
            "  This is separate from the ipykernel package so we can avoid doing imports until\n"
          ],
          "name": "stderr"
        }
      ]
    },
    {
      "cell_type": "markdown",
      "metadata": {
        "id": "hyGTV0lPiGZJ"
      },
      "source": [
        "Verifique que los ratings y los items hayan sido cargados correctamente\n",
        "\n",
        "\n",
        "\n"
      ]
    },
    {
      "cell_type": "code",
      "metadata": {
        "id": "JF-3Z1T4iAaI",
        "colab": {
          "base_uri": "https://localhost:8080/",
          "height": 293
        },
        "outputId": "e5bb33ac-34c7-4da7-b64e-57d486d89355"
      },
      "source": [
        "display(ratings.head(2))\n",
        "items.head(2)"
      ],
      "execution_count": null,
      "outputs": [
        {
          "output_type": "display_data",
          "data": {
            "text/html": [
              "<div>\n",
              "<style scoped>\n",
              "    .dataframe tbody tr th:only-of-type {\n",
              "        vertical-align: middle;\n",
              "    }\n",
              "\n",
              "    .dataframe tbody tr th {\n",
              "        vertical-align: top;\n",
              "    }\n",
              "\n",
              "    .dataframe thead th {\n",
              "        text-align: right;\n",
              "    }\n",
              "</style>\n",
              "<table border=\"1\" class=\"dataframe\">\n",
              "  <thead>\n",
              "    <tr style=\"text-align: right;\">\n",
              "      <th></th>\n",
              "      <th>user_id</th>\n",
              "      <th>item_id</th>\n",
              "      <th>rating</th>\n",
              "      <th>timestamp</th>\n",
              "    </tr>\n",
              "  </thead>\n",
              "  <tbody>\n",
              "    <tr>\n",
              "      <th>0</th>\n",
              "      <td>196</td>\n",
              "      <td>242</td>\n",
              "      <td>3</td>\n",
              "      <td>881250949</td>\n",
              "    </tr>\n",
              "    <tr>\n",
              "      <th>1</th>\n",
              "      <td>186</td>\n",
              "      <td>302</td>\n",
              "      <td>3</td>\n",
              "      <td>891717742</td>\n",
              "    </tr>\n",
              "  </tbody>\n",
              "</table>\n",
              "</div>"
            ],
            "text/plain": [
              "   user_id  item_id  rating  timestamp\n",
              "0      196      242       3  881250949\n",
              "1      186      302       3  891717742"
            ]
          },
          "metadata": {
            "tags": []
          }
        },
        {
          "output_type": "execute_result",
          "data": {
            "text/html": [
              "<div>\n",
              "<style scoped>\n",
              "    .dataframe tbody tr th:only-of-type {\n",
              "        vertical-align: middle;\n",
              "    }\n",
              "\n",
              "    .dataframe tbody tr th {\n",
              "        vertical-align: top;\n",
              "    }\n",
              "\n",
              "    .dataframe thead th {\n",
              "        text-align: right;\n",
              "    }\n",
              "</style>\n",
              "<table border=\"1\" class=\"dataframe\">\n",
              "  <thead>\n",
              "    <tr style=\"text-align: right;\">\n",
              "      <th></th>\n",
              "      <th>movie id</th>\n",
              "      <th>movie title</th>\n",
              "      <th>release date</th>\n",
              "      <th>video release date</th>\n",
              "      <th>IMDb URL</th>\n",
              "      <th>unknown</th>\n",
              "      <th>Action</th>\n",
              "      <th>Adventure</th>\n",
              "      <th>Animation</th>\n",
              "      <th>Children</th>\n",
              "      <th>Comedy</th>\n",
              "      <th>Crime</th>\n",
              "      <th>Documentary</th>\n",
              "      <th>Drama</th>\n",
              "      <th>Fantasy</th>\n",
              "      <th>Film-Noir</th>\n",
              "      <th>Horror</th>\n",
              "      <th>Musical</th>\n",
              "      <th>Mystery</th>\n",
              "      <th>Romance</th>\n",
              "      <th>Sci-Fi</th>\n",
              "      <th>Thriller</th>\n",
              "      <th>War</th>\n",
              "      <th>Western</th>\n",
              "    </tr>\n",
              "  </thead>\n",
              "  <tbody>\n",
              "    <tr>\n",
              "      <th>0</th>\n",
              "      <td>1</td>\n",
              "      <td>Toy Story (1995)</td>\n",
              "      <td>01-Jan-1995</td>\n",
              "      <td>NaN</td>\n",
              "      <td>http://us.imdb.com/M/title-exact?Toy%20Story%2...</td>\n",
              "      <td>0</td>\n",
              "      <td>0</td>\n",
              "      <td>0</td>\n",
              "      <td>1</td>\n",
              "      <td>1</td>\n",
              "      <td>1</td>\n",
              "      <td>0</td>\n",
              "      <td>0</td>\n",
              "      <td>0</td>\n",
              "      <td>0</td>\n",
              "      <td>0</td>\n",
              "      <td>0</td>\n",
              "      <td>0</td>\n",
              "      <td>0</td>\n",
              "      <td>0</td>\n",
              "      <td>0</td>\n",
              "      <td>0</td>\n",
              "      <td>0</td>\n",
              "      <td>0</td>\n",
              "    </tr>\n",
              "    <tr>\n",
              "      <th>1</th>\n",
              "      <td>2</td>\n",
              "      <td>GoldenEye (1995)</td>\n",
              "      <td>01-Jan-1995</td>\n",
              "      <td>NaN</td>\n",
              "      <td>http://us.imdb.com/M/title-exact?GoldenEye%20(...</td>\n",
              "      <td>0</td>\n",
              "      <td>1</td>\n",
              "      <td>1</td>\n",
              "      <td>0</td>\n",
              "      <td>0</td>\n",
              "      <td>0</td>\n",
              "      <td>0</td>\n",
              "      <td>0</td>\n",
              "      <td>0</td>\n",
              "      <td>0</td>\n",
              "      <td>0</td>\n",
              "      <td>0</td>\n",
              "      <td>0</td>\n",
              "      <td>0</td>\n",
              "      <td>0</td>\n",
              "      <td>0</td>\n",
              "      <td>1</td>\n",
              "      <td>0</td>\n",
              "      <td>0</td>\n",
              "    </tr>\n",
              "  </tbody>\n",
              "</table>\n",
              "</div>"
            ],
            "text/plain": [
              "   movie id       movie title release date  ...  Thriller War  Western\n",
              "0         1  Toy Story (1995)  01-Jan-1995  ...         0   0        0\n",
              "1         2  GoldenEye (1995)  01-Jan-1995  ...         1   0        0\n",
              "\n",
              "[2 rows x 24 columns]"
            ]
          },
          "metadata": {
            "tags": []
          },
          "execution_count": 24
        }
      ]
    },
    {
      "cell_type": "code",
      "metadata": {
        "id": "ztMyJLZjRIiU"
      },
      "source": [
        "# Se cambia el índice por la columna movie id\r\n",
        "items=items.set_index(items['movie id'])"
      ],
      "execution_count": null,
      "outputs": []
    },
    {
      "cell_type": "code",
      "metadata": {
        "id": "2_B1Bpq3xF18",
        "colab": {
          "base_uri": "https://localhost:8080/",
          "height": 199
        },
        "outputId": "e13cc709-0a7b-46dd-d9d9-e782b911372e"
      },
      "source": [
        "items.head(2)"
      ],
      "execution_count": null,
      "outputs": [
        {
          "output_type": "execute_result",
          "data": {
            "text/html": [
              "<div>\n",
              "<style scoped>\n",
              "    .dataframe tbody tr th:only-of-type {\n",
              "        vertical-align: middle;\n",
              "    }\n",
              "\n",
              "    .dataframe tbody tr th {\n",
              "        vertical-align: top;\n",
              "    }\n",
              "\n",
              "    .dataframe thead th {\n",
              "        text-align: right;\n",
              "    }\n",
              "</style>\n",
              "<table border=\"1\" class=\"dataframe\">\n",
              "  <thead>\n",
              "    <tr style=\"text-align: right;\">\n",
              "      <th></th>\n",
              "      <th>movie id</th>\n",
              "      <th>movie title</th>\n",
              "      <th>release date</th>\n",
              "      <th>video release date</th>\n",
              "      <th>IMDb URL</th>\n",
              "      <th>unknown</th>\n",
              "      <th>Action</th>\n",
              "      <th>Adventure</th>\n",
              "      <th>Animation</th>\n",
              "      <th>Children</th>\n",
              "      <th>Comedy</th>\n",
              "      <th>Crime</th>\n",
              "      <th>Documentary</th>\n",
              "      <th>Drama</th>\n",
              "      <th>Fantasy</th>\n",
              "      <th>Film-Noir</th>\n",
              "      <th>Horror</th>\n",
              "      <th>Musical</th>\n",
              "      <th>Mystery</th>\n",
              "      <th>Romance</th>\n",
              "      <th>Sci-Fi</th>\n",
              "      <th>Thriller</th>\n",
              "      <th>War</th>\n",
              "      <th>Western</th>\n",
              "    </tr>\n",
              "  </thead>\n",
              "  <tbody>\n",
              "    <tr>\n",
              "      <th>0</th>\n",
              "      <td>1</td>\n",
              "      <td>Toy Story (1995)</td>\n",
              "      <td>01-Jan-1995</td>\n",
              "      <td>NaN</td>\n",
              "      <td>http://us.imdb.com/M/title-exact?Toy%20Story%2...</td>\n",
              "      <td>0</td>\n",
              "      <td>0</td>\n",
              "      <td>0</td>\n",
              "      <td>1</td>\n",
              "      <td>1</td>\n",
              "      <td>1</td>\n",
              "      <td>0</td>\n",
              "      <td>0</td>\n",
              "      <td>0</td>\n",
              "      <td>0</td>\n",
              "      <td>0</td>\n",
              "      <td>0</td>\n",
              "      <td>0</td>\n",
              "      <td>0</td>\n",
              "      <td>0</td>\n",
              "      <td>0</td>\n",
              "      <td>0</td>\n",
              "      <td>0</td>\n",
              "      <td>0</td>\n",
              "    </tr>\n",
              "    <tr>\n",
              "      <th>1</th>\n",
              "      <td>2</td>\n",
              "      <td>GoldenEye (1995)</td>\n",
              "      <td>01-Jan-1995</td>\n",
              "      <td>NaN</td>\n",
              "      <td>http://us.imdb.com/M/title-exact?GoldenEye%20(...</td>\n",
              "      <td>0</td>\n",
              "      <td>1</td>\n",
              "      <td>1</td>\n",
              "      <td>0</td>\n",
              "      <td>0</td>\n",
              "      <td>0</td>\n",
              "      <td>0</td>\n",
              "      <td>0</td>\n",
              "      <td>0</td>\n",
              "      <td>0</td>\n",
              "      <td>0</td>\n",
              "      <td>0</td>\n",
              "      <td>0</td>\n",
              "      <td>0</td>\n",
              "      <td>0</td>\n",
              "      <td>0</td>\n",
              "      <td>1</td>\n",
              "      <td>0</td>\n",
              "      <td>0</td>\n",
              "    </tr>\n",
              "  </tbody>\n",
              "</table>\n",
              "</div>"
            ],
            "text/plain": [
              "   movie id       movie title release date  ...  Thriller War  Western\n",
              "0         1  Toy Story (1995)  01-Jan-1995  ...         0   0        0\n",
              "1         2  GoldenEye (1995)  01-Jan-1995  ...         1   0        0\n",
              "\n",
              "[2 rows x 24 columns]"
            ]
          },
          "metadata": {
            "tags": []
          },
          "execution_count": 13
        }
      ]
    },
    {
      "cell_type": "markdown",
      "metadata": {
        "id": "lkhrr5u0lVl_"
      },
      "source": [
        "## Visualice la distribución de ratings, ¿Qué puede decir al respecto?"
      ]
    },
    {
      "cell_type": "code",
      "metadata": {
        "colab": {
          "base_uri": "https://localhost:8080/"
        },
        "id": "wavh7C1WqXyI",
        "outputId": "e29fe985-3c0b-43fa-d7c2-1c358f322ad3"
      },
      "source": [
        "(ratings.rating.value_counts()/len(ratings))*100"
      ],
      "execution_count": null,
      "outputs": [
        {
          "output_type": "execute_result",
          "data": {
            "text/plain": [
              "4    34.174\n",
              "3    27.145\n",
              "5    21.201\n",
              "2    11.370\n",
              "1     6.110\n",
              "Name: rating, dtype: float64"
            ]
          },
          "metadata": {
            "tags": []
          },
          "execution_count": 13
        }
      ]
    },
    {
      "cell_type": "code",
      "metadata": {
        "id": "CrVPRhE_ZkvM",
        "colab": {
          "base_uri": "https://localhost:8080/",
          "height": 296
        },
        "outputId": "89a50391-4fc5-44f6-b741-5f2c39ffd9f3"
      },
      "source": [
        "sns.countplot(y='rating', data=ratings)"
      ],
      "execution_count": null,
      "outputs": [
        {
          "output_type": "execute_result",
          "data": {
            "text/plain": [
              "<matplotlib.axes._subplots.AxesSubplot at 0x7f6a23703748>"
            ]
          },
          "metadata": {
            "tags": []
          },
          "execution_count": 13
        },
        {
          "output_type": "display_data",
          "data": {
            "image/png": "[encoded data removed]",
            "text/plain": [
              "<Figure size 432x288 with 1 Axes>"
            ]
          },
          "metadata": {
            "tags": [],
            "needs_background": "light"
          }
        }
      ]
    },
    {
      "cell_type": "markdown",
      "metadata": {
        "id": "gmhIRCIwwq-U"
      },
      "source": [
        "La distribución de los puntajes asignados a  las peliculas ( valores entre 1 y 5)   presentan una distribución en la cual  la mayor asiganción de puntaje  dad para el valor \"4\" con un 34.1% de usuarios, continuado con el puntajaje \"3\" conun 27%  luego el \"5\" con un 21.2% y por ultimos el valor de \"2\" con 11.3% y \"1\" con 6.11%. Indicando que porcentaje de califcaciones que podriamos decir como bajas corresponde al 17.48%."
      ]
    },
    {
      "cell_type": "markdown",
      "metadata": {
        "id": "Rvyd2GmRnegf"
      },
      "source": [
        "## En la siguiente celda se esta calculando el número de ratings por usuario y  el promedio de sus calificaciones, el dataframe esta ordenado por el número de calificaciones"
      ]
    },
    {
      "cell_type": "code",
      "metadata": {
        "id": "JapJ5D8Sg8ZZ",
        "colab": {
          "base_uri": "https://localhost:8080/",
          "height": 450
        },
        "outputId": "68f8e01f-da1f-43ca-b856-3dbf53341767"
      },
      "source": [
        "display(ratings.groupby('user_id')['rating'].agg({'count','mean'}).sort_values(by='count', ascending=False))\r\n"
      ],
      "execution_count": null,
      "outputs": [
        {
          "output_type": "display_data",
          "data": {
            "text/html": [
              "<div>\n",
              "<style scoped>\n",
              "    .dataframe tbody tr th:only-of-type {\n",
              "        vertical-align: middle;\n",
              "    }\n",
              "\n",
              "    .dataframe tbody tr th {\n",
              "        vertical-align: top;\n",
              "    }\n",
              "\n",
              "    .dataframe thead th {\n",
              "        text-align: right;\n",
              "    }\n",
              "</style>\n",
              "<table border=\"1\" class=\"dataframe\">\n",
              "  <thead>\n",
              "    <tr style=\"text-align: right;\">\n",
              "      <th></th>\n",
              "      <th>count</th>\n",
              "      <th>mean</th>\n",
              "    </tr>\n",
              "    <tr>\n",
              "      <th>user_id</th>\n",
              "      <th></th>\n",
              "      <th></th>\n",
              "    </tr>\n",
              "  </thead>\n",
              "  <tbody>\n",
              "    <tr>\n",
              "      <th>405</th>\n",
              "      <td>737</td>\n",
              "      <td>1.834464</td>\n",
              "    </tr>\n",
              "    <tr>\n",
              "      <th>655</th>\n",
              "      <td>685</td>\n",
              "      <td>2.908029</td>\n",
              "    </tr>\n",
              "    <tr>\n",
              "      <th>13</th>\n",
              "      <td>636</td>\n",
              "      <td>3.097484</td>\n",
              "    </tr>\n",
              "    <tr>\n",
              "      <th>450</th>\n",
              "      <td>540</td>\n",
              "      <td>3.864815</td>\n",
              "    </tr>\n",
              "    <tr>\n",
              "      <th>276</th>\n",
              "      <td>518</td>\n",
              "      <td>3.465251</td>\n",
              "    </tr>\n",
              "    <tr>\n",
              "      <th>...</th>\n",
              "      <td>...</td>\n",
              "      <td>...</td>\n",
              "    </tr>\n",
              "    <tr>\n",
              "      <th>685</th>\n",
              "      <td>20</td>\n",
              "      <td>2.050000</td>\n",
              "    </tr>\n",
              "    <tr>\n",
              "      <th>475</th>\n",
              "      <td>20</td>\n",
              "      <td>3.600000</td>\n",
              "    </tr>\n",
              "    <tr>\n",
              "      <th>36</th>\n",
              "      <td>20</td>\n",
              "      <td>3.800000</td>\n",
              "    </tr>\n",
              "    <tr>\n",
              "      <th>732</th>\n",
              "      <td>20</td>\n",
              "      <td>3.700000</td>\n",
              "    </tr>\n",
              "    <tr>\n",
              "      <th>596</th>\n",
              "      <td>20</td>\n",
              "      <td>3.600000</td>\n",
              "    </tr>\n",
              "  </tbody>\n",
              "</table>\n",
              "<p>943 rows × 2 columns</p>\n",
              "</div>"
            ],
            "text/plain": [
              "         count      mean\n",
              "user_id                 \n",
              "405        737  1.834464\n",
              "655        685  2.908029\n",
              "13         636  3.097484\n",
              "450        540  3.864815\n",
              "276        518  3.465251\n",
              "...        ...       ...\n",
              "685         20  2.050000\n",
              "475         20  3.600000\n",
              "36          20  3.800000\n",
              "732         20  3.700000\n",
              "596         20  3.600000\n",
              "\n",
              "[943 rows x 2 columns]"
            ]
          },
          "metadata": {
            "tags": []
          }
        }
      ]
    },
    {
      "cell_type": "markdown",
      "metadata": {
        "id": "IOH5jtpUokKn"
      },
      "source": [
        "##Utilice las siguientes celdas para encontrar respuesta a las siguientes preguntas\n",
        "\n",
        "¿Cómo es la distribución del número de ratings por usuario?\n",
        "\n",
        "¿Cómo es la distribución del promedio de calificación por usuario?\n"
      ]
    },
    {
      "cell_type": "code",
      "metadata": {
        "id": "rq2oX6Sg0iaK"
      },
      "source": [
        ""
      ],
      "execution_count": null,
      "outputs": []
    },
    {
      "cell_type": "code",
      "metadata": {
        "id": "9PA43szmpTiQ",
        "colab": {
          "base_uri": "https://localhost:8080/",
          "height": 369
        },
        "outputId": "fce0a5b4-bfc0-478a-f7be-f42fb711a38d"
      },
      "source": [
        "ratings_count = ratings.groupby('user_id')['rating'].agg({'count'}).sort_values(by='count', ascending=False)\n",
        "sns.displot(y='count', data=ratings_count)\n",
        "plt.show()\n"
      ],
      "execution_count": null,
      "outputs": [
        {
          "output_type": "display_data",
          "data": {
            "image/png": "[encoded data removed]",
            "text/plain": [
              "<Figure size 360x360 with 1 Axes>"
            ]
          },
          "metadata": {
            "tags": [],
            "needs_background": "light"
          }
        }
      ]
    },
    {
      "cell_type": "code",
      "metadata": {
        "id": "O2UkypiRpTLA",
        "colab": {
          "base_uri": "https://localhost:8080/",
          "height": 369
        },
        "outputId": "98ea50c2-7090-4c0b-e2d3-fb1b2d338ec7"
      },
      "source": [
        "mean_rating = ratings.groupby('user_id')['rating'].agg({'mean'}).reset_index()\n",
        "sns.displot(y='mean', data=mean_rating)\n",
        "plt.show()"
      ],
      "execution_count": null,
      "outputs": [
        {
          "output_type": "display_data",
          "data": {
            "image/png": "[encoded data removed]",
            "text/plain": [
              "<Figure size 360x360 with 1 Axes>"
            ]
          },
          "metadata": {
            "tags": [],
            "needs_background": "light"
          }
        }
      ]
    },
    {
      "cell_type": "markdown",
      "metadata": {
        "id": "Sb2m2qv9sqZt"
      },
      "source": [
        "##En la siguiente celda se esta calculando el número de ratings por items, el promedio de sus calificaciones y la varianza de sus calificaciones. "
      ]
    },
    {
      "cell_type": "code",
      "metadata": {
        "id": "xXZw4Iy2aARs"
      },
      "source": [
        "ratings.groupby('item_id')['rating'].agg({'count','mean','var'}).join(items['movie title'], how='left')"
      ],
      "execution_count": null,
      "outputs": []
    },
    {
      "cell_type": "markdown",
      "metadata": {
        "id": "mLsd_rohxMhc"
      },
      "source": [
        "##Utilice las siguientes celdas para encontrar la respuesta a las siguientes preguntas\n",
        "\n",
        "¿Cuáles son los items con más calificaciones?  \n",
        "\n",
        "¿Se puede observar el fenomeno de cola larga en este dataset?, evidencielo por medio de un gráfico\n",
        "\n",
        "\n"
      ]
    },
    {
      "cell_type": "code",
      "metadata": {
        "id": "TP264UnaCzm5",
        "colab": {
          "base_uri": "https://localhost:8080/",
          "height": 677
        },
        "outputId": "c7829893-8a54-4327-9122-64c40f6a6d54"
      },
      "source": [
        "ratings.groupby('item_id').size().reset_index(name = 'conteo').sort_values(by = 'conteo', ascending = False).head(20).rename(columns= {'conteo':'Numero_calificaciones'})"
      ],
      "execution_count": null,
      "outputs": [
        {
          "output_type": "execute_result",
          "data": {
            "text/html": [
              "<div>\n",
              "<style scoped>\n",
              "    .dataframe tbody tr th:only-of-type {\n",
              "        vertical-align: middle;\n",
              "    }\n",
              "\n",
              "    .dataframe tbody tr th {\n",
              "        vertical-align: top;\n",
              "    }\n",
              "\n",
              "    .dataframe thead th {\n",
              "        text-align: right;\n",
              "    }\n",
              "</style>\n",
              "<table border=\"1\" class=\"dataframe\">\n",
              "  <thead>\n",
              "    <tr style=\"text-align: right;\">\n",
              "      <th></th>\n",
              "      <th>item_id</th>\n",
              "      <th>Numero_calificaciones</th>\n",
              "    </tr>\n",
              "  </thead>\n",
              "  <tbody>\n",
              "    <tr>\n",
              "      <th>49</th>\n",
              "      <td>50</td>\n",
              "      <td>583</td>\n",
              "    </tr>\n",
              "    <tr>\n",
              "      <th>257</th>\n",
              "      <td>258</td>\n",
              "      <td>509</td>\n",
              "    </tr>\n",
              "    <tr>\n",
              "      <th>99</th>\n",
              "      <td>100</td>\n",
              "      <td>508</td>\n",
              "    </tr>\n",
              "    <tr>\n",
              "      <th>180</th>\n",
              "      <td>181</td>\n",
              "      <td>507</td>\n",
              "    </tr>\n",
              "    <tr>\n",
              "      <th>293</th>\n",
              "      <td>294</td>\n",
              "      <td>485</td>\n",
              "    </tr>\n",
              "    <tr>\n",
              "      <th>285</th>\n",
              "      <td>286</td>\n",
              "      <td>481</td>\n",
              "    </tr>\n",
              "    <tr>\n",
              "      <th>287</th>\n",
              "      <td>288</td>\n",
              "      <td>478</td>\n",
              "    </tr>\n",
              "    <tr>\n",
              "      <th>0</th>\n",
              "      <td>1</td>\n",
              "      <td>452</td>\n",
              "    </tr>\n",
              "    <tr>\n",
              "      <th>299</th>\n",
              "      <td>300</td>\n",
              "      <td>431</td>\n",
              "    </tr>\n",
              "    <tr>\n",
              "      <th>120</th>\n",
              "      <td>121</td>\n",
              "      <td>429</td>\n",
              "    </tr>\n",
              "    <tr>\n",
              "      <th>173</th>\n",
              "      <td>174</td>\n",
              "      <td>420</td>\n",
              "    </tr>\n",
              "    <tr>\n",
              "      <th>126</th>\n",
              "      <td>127</td>\n",
              "      <td>413</td>\n",
              "    </tr>\n",
              "    <tr>\n",
              "      <th>55</th>\n",
              "      <td>56</td>\n",
              "      <td>394</td>\n",
              "    </tr>\n",
              "    <tr>\n",
              "      <th>6</th>\n",
              "      <td>7</td>\n",
              "      <td>392</td>\n",
              "    </tr>\n",
              "    <tr>\n",
              "      <th>97</th>\n",
              "      <td>98</td>\n",
              "      <td>390</td>\n",
              "    </tr>\n",
              "    <tr>\n",
              "      <th>236</th>\n",
              "      <td>237</td>\n",
              "      <td>384</td>\n",
              "    </tr>\n",
              "    <tr>\n",
              "      <th>116</th>\n",
              "      <td>117</td>\n",
              "      <td>378</td>\n",
              "    </tr>\n",
              "    <tr>\n",
              "      <th>171</th>\n",
              "      <td>172</td>\n",
              "      <td>367</td>\n",
              "    </tr>\n",
              "    <tr>\n",
              "      <th>221</th>\n",
              "      <td>222</td>\n",
              "      <td>365</td>\n",
              "    </tr>\n",
              "    <tr>\n",
              "      <th>312</th>\n",
              "      <td>313</td>\n",
              "      <td>350</td>\n",
              "    </tr>\n",
              "  </tbody>\n",
              "</table>\n",
              "</div>"
            ],
            "text/plain": [
              "     item_id  Numero_calificaciones\n",
              "49        50                    583\n",
              "257      258                    509\n",
              "99       100                    508\n",
              "180      181                    507\n",
              "293      294                    485\n",
              "285      286                    481\n",
              "287      288                    478\n",
              "0          1                    452\n",
              "299      300                    431\n",
              "120      121                    429\n",
              "173      174                    420\n",
              "126      127                    413\n",
              "55        56                    394\n",
              "6          7                    392\n",
              "97        98                    390\n",
              "236      237                    384\n",
              "116      117                    378\n",
              "171      172                    367\n",
              "221      222                    365\n",
              "312      313                    350"
            ]
          },
          "metadata": {
            "tags": []
          },
          "execution_count": 36
        }
      ]
    },
    {
      "cell_type": "code",
      "metadata": {
        "id": "HMAgCCejCza5",
        "colab": {
          "base_uri": "https://localhost:8080/",
          "height": 316
        },
        "outputId": "6255cd1a-27d3-4bbe-e245-785601628c9f"
      },
      "source": [
        "ratings.groupby('item_id').size().reset_index(name = 'conteo').sort_values(by = 'conteo', ascending = False).hist(column = 'conteo')"
      ],
      "execution_count": null,
      "outputs": [
        {
          "output_type": "execute_result",
          "data": {
            "text/plain": [
              "array([[<matplotlib.axes._subplots.AxesSubplot object at 0x7f11d94ea780>]],\n",
              "      dtype=object)"
            ]
          },
          "metadata": {
            "tags": []
          },
          "execution_count": 60
        },
        {
          "output_type": "display_data",
          "data": {
            "image/png": "[encoded data removed]",
            "text/plain": [
              "<Figure size 432x288 with 1 Axes>"
            ]
          },
          "metadata": {
            "tags": [],
            "needs_background": "light"
          }
        }
      ]
    },
    {
      "cell_type": "markdown",
      "metadata": {
        "id": "kG9eggK7cQIc"
      },
      "source": [
        "## Creación de listas de recomendación no personalizadas\n",
        "\n",
        "Genere inicialmente una lista de recomendación de tamaño 10 no personalizada con los items con mejor promedio, en teoría estos serían los mejores items del dataset y una buena lista inicial con los elementos más aclamados por los usuarios del sistema\n",
        "\n",
        "¿Qué problemas tiene generar una lista no personalizada solamente con el promedio?\n",
        "\n",
        "¿Es posible generar una mejor lista de recomendación teniendo en cuenta que tanto el número de ratings del item como su promedio? \n",
        "\n",
        "Cree una lista top 10 con los mejores items globales siguiendo la estrategia seleccionada\n",
        "\n",
        "Ver: \n",
        "\n",
        "http://www.evanmiller.org/how-not-to-sort-by-average-rating.html\n",
        "\n",
        "https://es.wikipedia.org/wiki/Intervalo_de_confianza\n"
      ]
    },
    {
      "cell_type": "code",
      "metadata": {
        "id": "LD-po-a_5xL1"
      },
      "source": [
        "### Top 10  de los items con mejores promedios"
      ],
      "execution_count": null,
      "outputs": []
    },
    {
      "cell_type": "code",
      "metadata": {
        "id": "4XMG1LkAdXAv",
        "colab": {
          "base_uri": "https://localhost:8080/",
          "height": 363
        },
        "outputId": "78fcb083-c558-474b-9fe4-5841f09791a4"
      },
      "source": [
        "ratings.groupby('item_id').size().reset_index(name = 'mean').sort_values(by = 'mean', ascending = False).head(10)\n"
      ],
      "execution_count": null,
      "outputs": [
        {
          "output_type": "execute_result",
          "data": {
            "text/html": [
              "<div>\n",
              "<style scoped>\n",
              "    .dataframe tbody tr th:only-of-type {\n",
              "        vertical-align: middle;\n",
              "    }\n",
              "\n",
              "    .dataframe tbody tr th {\n",
              "        vertical-align: top;\n",
              "    }\n",
              "\n",
              "    .dataframe thead th {\n",
              "        text-align: right;\n",
              "    }\n",
              "</style>\n",
              "<table border=\"1\" class=\"dataframe\">\n",
              "  <thead>\n",
              "    <tr style=\"text-align: right;\">\n",
              "      <th></th>\n",
              "      <th>item_id</th>\n",
              "      <th>mean</th>\n",
              "    </tr>\n",
              "  </thead>\n",
              "  <tbody>\n",
              "    <tr>\n",
              "      <th>49</th>\n",
              "      <td>50</td>\n",
              "      <td>583</td>\n",
              "    </tr>\n",
              "    <tr>\n",
              "      <th>257</th>\n",
              "      <td>258</td>\n",
              "      <td>509</td>\n",
              "    </tr>\n",
              "    <tr>\n",
              "      <th>99</th>\n",
              "      <td>100</td>\n",
              "      <td>508</td>\n",
              "    </tr>\n",
              "    <tr>\n",
              "      <th>180</th>\n",
              "      <td>181</td>\n",
              "      <td>507</td>\n",
              "    </tr>\n",
              "    <tr>\n",
              "      <th>293</th>\n",
              "      <td>294</td>\n",
              "      <td>485</td>\n",
              "    </tr>\n",
              "    <tr>\n",
              "      <th>285</th>\n",
              "      <td>286</td>\n",
              "      <td>481</td>\n",
              "    </tr>\n",
              "    <tr>\n",
              "      <th>287</th>\n",
              "      <td>288</td>\n",
              "      <td>478</td>\n",
              "    </tr>\n",
              "    <tr>\n",
              "      <th>0</th>\n",
              "      <td>1</td>\n",
              "      <td>452</td>\n",
              "    </tr>\n",
              "    <tr>\n",
              "      <th>299</th>\n",
              "      <td>300</td>\n",
              "      <td>431</td>\n",
              "    </tr>\n",
              "    <tr>\n",
              "      <th>120</th>\n",
              "      <td>121</td>\n",
              "      <td>429</td>\n",
              "    </tr>\n",
              "  </tbody>\n",
              "</table>\n",
              "</div>"
            ],
            "text/plain": [
              "     item_id  mean\n",
              "49        50   583\n",
              "257      258   509\n",
              "99       100   508\n",
              "180      181   507\n",
              "293      294   485\n",
              "285      286   481\n",
              "287      288   478\n",
              "0          1   452\n",
              "299      300   431\n",
              "120      121   429"
            ]
          },
          "metadata": {
            "tags": []
          },
          "execution_count": 65
        }
      ]
    },
    {
      "cell_type": "code",
      "metadata": {
        "id": "UGlfPRO_AYmw"
      },
      "source": [
        ""
      ],
      "execution_count": null,
      "outputs": []
    },
    {
      "cell_type": "code",
      "metadata": {
        "id": "XWiogp7udWwI",
        "colab": {
          "base_uri": "https://localhost:8080/",
          "height": 363
        },
        "outputId": "7cf2daf7-8124-4063-aa6f-ebfb08a0a6fb"
      },
      "source": [
        "### https://www.sciencedirect.com/science/article/pii/S1877050918308718\n",
        "\n",
        "f = ratings.groupby('item_id')['rating'].agg({'count','mean'}).reset_index().rename(columns={'count':'numero_calificacione',\n",
        "                                                                                          'mean':'promedio_calificaciones'})\n",
        "def weight_item(mean,count,count_max):\n",
        "    return (mean/5) *(count/count_max)\n",
        "n = f.numero_calificacione.max()\n",
        "f = f.assign(peso = f.apply(lambda x: weight_item(x.numero_calificacione,x.promedio_calificaciones,n),axis=1))\n",
        "f.sort_values(by='peso',ascending=False).head(10).join(items['movie title'], how='left')[['movie title','numero_calificacione', \t'promedio_calificaciones', \t'peso']]"
      ],
      "execution_count": null,
      "outputs": [
        {
          "output_type": "execute_result",
          "data": {
            "text/html": [
              "<div>\n",
              "<style scoped>\n",
              "    .dataframe tbody tr th:only-of-type {\n",
              "        vertical-align: middle;\n",
              "    }\n",
              "\n",
              "    .dataframe tbody tr th {\n",
              "        vertical-align: top;\n",
              "    }\n",
              "\n",
              "    .dataframe thead th {\n",
              "        text-align: right;\n",
              "    }\n",
              "</style>\n",
              "<table border=\"1\" class=\"dataframe\">\n",
              "  <thead>\n",
              "    <tr style=\"text-align: right;\">\n",
              "      <th></th>\n",
              "      <th>movie title</th>\n",
              "      <th>numero_calificacione</th>\n",
              "      <th>promedio_calificaciones</th>\n",
              "      <th>peso</th>\n",
              "    </tr>\n",
              "  </thead>\n",
              "  <tbody>\n",
              "    <tr>\n",
              "      <th>49</th>\n",
              "      <td>I.Q. (1994)</td>\n",
              "      <td>583</td>\n",
              "      <td>4.358491</td>\n",
              "      <td>0.871698</td>\n",
              "    </tr>\n",
              "    <tr>\n",
              "      <th>99</th>\n",
              "      <td>Snow White and the Seven Dwarfs (1937)</td>\n",
              "      <td>508</td>\n",
              "      <td>4.155512</td>\n",
              "      <td>0.724185</td>\n",
              "    </tr>\n",
              "    <tr>\n",
              "      <th>180</th>\n",
              "      <td>Apocalypse Now (1979)</td>\n",
              "      <td>507</td>\n",
              "      <td>4.007890</td>\n",
              "      <td>0.697084</td>\n",
              "    </tr>\n",
              "    <tr>\n",
              "      <th>257</th>\n",
              "      <td>Men in Black (1997)</td>\n",
              "      <td>509</td>\n",
              "      <td>3.803536</td>\n",
              "      <td>0.664151</td>\n",
              "    </tr>\n",
              "    <tr>\n",
              "      <th>173</th>\n",
              "      <td>Princess Bride, The (1987)</td>\n",
              "      <td>420</td>\n",
              "      <td>4.252381</td>\n",
              "      <td>0.612693</td>\n",
              "    </tr>\n",
              "    <tr>\n",
              "      <th>126</th>\n",
              "      <td>Spitfire Grill, The (1996)</td>\n",
              "      <td>413</td>\n",
              "      <td>4.283293</td>\n",
              "      <td>0.606861</td>\n",
              "    </tr>\n",
              "    <tr>\n",
              "      <th>285</th>\n",
              "      <td>Secrets &amp; Lies (1996)</td>\n",
              "      <td>481</td>\n",
              "      <td>3.656965</td>\n",
              "      <td>0.603431</td>\n",
              "    </tr>\n",
              "    <tr>\n",
              "      <th>0</th>\n",
              "      <td>NaN</td>\n",
              "      <td>452</td>\n",
              "      <td>3.878319</td>\n",
              "      <td>0.601372</td>\n",
              "    </tr>\n",
              "    <tr>\n",
              "      <th>97</th>\n",
              "      <td>Dances with Wolves (1990)</td>\n",
              "      <td>390</td>\n",
              "      <td>4.289744</td>\n",
              "      <td>0.573928</td>\n",
              "    </tr>\n",
              "    <tr>\n",
              "      <th>287</th>\n",
              "      <td>Marvin's Room (1996)</td>\n",
              "      <td>478</td>\n",
              "      <td>3.441423</td>\n",
              "      <td>0.564322</td>\n",
              "    </tr>\n",
              "  </tbody>\n",
              "</table>\n",
              "</div>"
            ],
            "text/plain": [
              "                                movie title  ...      peso\n",
              "49                              I.Q. (1994)  ...  0.871698\n",
              "99   Snow White and the Seven Dwarfs (1937)  ...  0.724185\n",
              "180                   Apocalypse Now (1979)  ...  0.697084\n",
              "257                     Men in Black (1997)  ...  0.664151\n",
              "173              Princess Bride, The (1987)  ...  0.612693\n",
              "126              Spitfire Grill, The (1996)  ...  0.606861\n",
              "285                   Secrets & Lies (1996)  ...  0.603431\n",
              "0                                       NaN  ...  0.601372\n",
              "97                Dances with Wolves (1990)  ...  0.573928\n",
              "287                    Marvin's Room (1996)  ...  0.564322\n",
              "\n",
              "[10 rows x 4 columns]"
            ]
          },
          "metadata": {
            "tags": []
          },
          "execution_count": 99
        }
      ]
    },
    {
      "cell_type": "markdown",
      "metadata": {
        "id": "c7BO4guxySk3"
      },
      "source": [
        "#Creación del dataset de entrenamiento y prueba\n",
        "\n",
        "El próximo paso es cargar los datos a surprise, para esto vamos a inicializar un modelo de datos de surprise con la información de los ratings cargados en el dataframe"
      ]
    },
    {
      "cell_type": "markdown",
      "metadata": {
        "id": "1PE9yuetbxnQ"
      },
      "source": [
        ""
      ]
    },
    {
      "cell_type": "code",
      "metadata": {
        "id": "xzF3iMfVzWiz"
      },
      "source": [
        "reader = Reader( rating_scale = ( 1, 5 ) )\n",
        "#Se crea el dataset a partir del dataframe\n",
        "surprise_dataset = Dataset.load_from_df( ratings[ [ 'user_id', 'item_id', 'rating' ] ], reader )"
      ],
      "execution_count": null,
      "outputs": []
    },
    {
      "cell_type": "markdown",
      "metadata": {
        "id": "aBSHMZu-IaDE"
      },
      "source": [
        "Se divide el dataset en entrenamiento y test. El dataset de entrenamiento será presentado al algoritmo de recomendación y el dataset de test nos servirá para medir qué tan buenas fueron las predicciones del sistema de recomendación. El conjunto de test generado es una lista con los ratings de prueba"
      ]
    },
    {
      "cell_type": "code",
      "metadata": {
        "id": "wVCXEv2zHDN7"
      },
      "source": [
        "train_set, test_set=  train_test_split(surprise_dataset, test_size=.2)"
      ],
      "execution_count": null,
      "outputs": []
    },
    {
      "cell_type": "code",
      "metadata": {
        "id": "z3NBak6JZWgP",
        "colab": {
          "base_uri": "https://localhost:8080/"
        },
        "outputId": "c792f91a-d493-430c-927b-2ea57eb81970"
      },
      "source": [
        "train_set.n_ratings"
      ],
      "execution_count": null,
      "outputs": [
        {
          "output_type": "execute_result",
          "data": {
            "text/plain": [
              "80000"
            ]
          },
          "metadata": {
            "tags": []
          },
          "execution_count": 108
        }
      ]
    },
    {
      "cell_type": "code",
      "metadata": {
        "id": "bUyMSnUEdOOT",
        "colab": {
          "base_uri": "https://localhost:8080/"
        },
        "outputId": "4f2f9c55-fd6d-4a6d-801f-7b72c8251ea8"
      },
      "source": [
        "len(test_set)"
      ],
      "execution_count": null,
      "outputs": [
        {
          "output_type": "execute_result",
          "data": {
            "text/plain": [
              "20000"
            ]
          },
          "metadata": {
            "tags": []
          },
          "execution_count": 109
        }
      ]
    },
    {
      "cell_type": "code",
      "metadata": {
        "id": "HDamSIDVZabW",
        "colab": {
          "base_uri": "https://localhost:8080/"
        },
        "outputId": "d81d27cd-2125-4a00-e8e7-35ecd162f46c"
      },
      "source": [
        "#Este es el primer elemento del dataset de prueba (usuario 154, pelicula 302, rating 4)\n",
        "test_set[0]"
      ],
      "execution_count": null,
      "outputs": [
        {
          "output_type": "execute_result",
          "data": {
            "text/plain": [
              "(154, 302, 4.0)"
            ]
          },
          "metadata": {
            "tags": []
          },
          "execution_count": 112
        }
      ]
    },
    {
      "cell_type": "markdown",
      "metadata": {
        "id": "kOd-SiVhLd_x"
      },
      "source": [
        "## Creación de modelo de filtrado colaborativo basado en similitud con usuarios o items cercanos\n",
        "\n",
        "Surprise cuenta con la implementación de los modelos colaborativos dentro de la clase [KNNBasic](https://surprise.readthedocs.io/en/stable/knn_inspired.html) \n",
        "\n",
        "El modelo recibe los siguientes parámetros: \n",
        "\n",
        "\n",
        "*   k: El máximo número de vecinos con el que se hará la extrapolación\n",
        "*   min_k : El mínimo número de vecinos con el que se extrapolará un rating\n",
        "*   sim_options : Opciones de similitud pasadas como un diccionario de python, aqui se le configura al modelo el tipo de similitud a usar para encontrar los vecinos y si la extrapolación debe hacerse usando usuarios o items similares. Revise el formato y similitudes disponibles en surprise en [este link](https://surprise.readthedocs.io/en/stable/prediction_algorithms.html#similarity-measure-configuration)\n",
        "\n",
        "\n",
        "\n"
      ]
    },
    {
      "cell_type": "code",
      "metadata": {
        "id": "s5A8reiHLdXy"
      },
      "source": [
        "# se crea un modelo knnbasic item-item con similitud coseno \n",
        "sim_options = {'name': 'cosine',\n",
        "               'user_based': False  # calcule similitud item-item\n",
        "               }\n",
        "algo = KNNBasic(k=20, min_k=2, sim_options=sim_options)"
      ],
      "execution_count": null,
      "outputs": []
    },
    {
      "cell_type": "code",
      "metadata": {
        "id": "_G8gUHeoUzR-",
        "colab": {
          "base_uri": "https://localhost:8080/"
        },
        "outputId": "078d0045-eb1b-4def-f370-cdb22740d7ac"
      },
      "source": [
        "#Se le pasa la matriz de utilidad al algoritmo \n",
        "algo.fit(trainset=train_set)"
      ],
      "execution_count": null,
      "outputs": [
        {
          "output_type": "stream",
          "text": [
            "Computing the cosine similarity matrix...\n",
            "Done computing similarity matrix.\n"
          ],
          "name": "stdout"
        },
        {
          "output_type": "execute_result",
          "data": {
            "text/plain": [
              "<surprise.prediction_algorithms.knns.KNNBasic at 0x7f11d1d174a8>"
            ]
          },
          "metadata": {
            "tags": []
          },
          "execution_count": 116
        }
      ]
    },
    {
      "cell_type": "code",
      "metadata": {
        "id": "0XRLsbtuKjaz"
      },
      "source": [
        ""
      ],
      "execution_count": null,
      "outputs": []
    },
    {
      "cell_type": "markdown",
      "metadata": {
        "id": "4B1_I0LqY6rd"
      },
      "source": [
        "Una vez cargados los ratings al modelo, se puede realizar una predicción para un usuario, en este caso vamos a calcular la predicción que el modelo esta realizando para la primera entrada del dataset de test la predicción para el usuario con id 154 y el item con id 302, que corresponde a la película L.A. Confidential (1997)\n",
        "\n",
        "---\n",
        "\n"
      ]
    },
    {
      "cell_type": "code",
      "metadata": {
        "id": "AdwrR8gVFQuD",
        "colab": {
          "base_uri": "https://localhost:8080/"
        },
        "outputId": "07abc33e-0ebe-4d05-cdfe-8c71c26f10ca"
      },
      "source": [
        "#Verifique la propiedad est de la predicción\n",
        "algo.predict(154,302)"
      ],
      "execution_count": null,
      "outputs": [
        {
          "output_type": "execute_result",
          "data": {
            "text/plain": [
              "Prediction(uid=154, iid=302, r_ui=None, est=4.249202065377386, details={'actual_k': 20, 'was_impossible': False})"
            ]
          },
          "metadata": {
            "tags": []
          },
          "execution_count": 117
        }
      ]
    },
    {
      "cell_type": "code",
      "metadata": {
        "colab": {
          "base_uri": "https://localhost:8080/"
        },
        "id": "H3l5kMLEGM_A",
        "outputId": "b4761788-bb15-4edc-8a1a-671f7da1906d"
      },
      "source": [
        "ratings[(ratings.user_id == 154) & (ratings.item_id==302)]['rating'].values[0]"
      ],
      "execution_count": null,
      "outputs": [
        {
          "output_type": "execute_result",
          "data": {
            "text/plain": [
              "4"
            ]
          },
          "metadata": {
            "tags": []
          },
          "execution_count": 125
        }
      ]
    },
    {
      "cell_type": "code",
      "metadata": {
        "id": "dzK37VDQIRIT",
        "colab": {
          "base_uri": "https://localhost:8080/",
          "height": 219
        },
        "outputId": "ea3c7521-2a15-41fb-c829-6232d91af7df"
      },
      "source": [
        "items[items['movie id']==302]"
      ],
      "execution_count": null,
      "outputs": [
        {
          "output_type": "execute_result",
          "data": {
            "text/html": [
              "<div>\n",
              "<style scoped>\n",
              "    .dataframe tbody tr th:only-of-type {\n",
              "        vertical-align: middle;\n",
              "    }\n",
              "\n",
              "    .dataframe tbody tr th {\n",
              "        vertical-align: top;\n",
              "    }\n",
              "\n",
              "    .dataframe thead th {\n",
              "        text-align: right;\n",
              "    }\n",
              "</style>\n",
              "<table border=\"1\" class=\"dataframe\">\n",
              "  <thead>\n",
              "    <tr style=\"text-align: right;\">\n",
              "      <th></th>\n",
              "      <th>movie id</th>\n",
              "      <th>movie title</th>\n",
              "      <th>release date</th>\n",
              "      <th>video release date</th>\n",
              "      <th>IMDb URL</th>\n",
              "      <th>unknown</th>\n",
              "      <th>Action</th>\n",
              "      <th>Adventure</th>\n",
              "      <th>Animation</th>\n",
              "      <th>Children</th>\n",
              "      <th>Comedy</th>\n",
              "      <th>Crime</th>\n",
              "      <th>Documentary</th>\n",
              "      <th>Drama</th>\n",
              "      <th>Fantasy</th>\n",
              "      <th>Film-Noir</th>\n",
              "      <th>Horror</th>\n",
              "      <th>Musical</th>\n",
              "      <th>Mystery</th>\n",
              "      <th>Romance</th>\n",
              "      <th>Sci-Fi</th>\n",
              "      <th>Thriller</th>\n",
              "      <th>War</th>\n",
              "      <th>Western</th>\n",
              "    </tr>\n",
              "    <tr>\n",
              "      <th>movie id</th>\n",
              "      <th></th>\n",
              "      <th></th>\n",
              "      <th></th>\n",
              "      <th></th>\n",
              "      <th></th>\n",
              "      <th></th>\n",
              "      <th></th>\n",
              "      <th></th>\n",
              "      <th></th>\n",
              "      <th></th>\n",
              "      <th></th>\n",
              "      <th></th>\n",
              "      <th></th>\n",
              "      <th></th>\n",
              "      <th></th>\n",
              "      <th></th>\n",
              "      <th></th>\n",
              "      <th></th>\n",
              "      <th></th>\n",
              "      <th></th>\n",
              "      <th></th>\n",
              "      <th></th>\n",
              "      <th></th>\n",
              "      <th></th>\n",
              "    </tr>\n",
              "  </thead>\n",
              "  <tbody>\n",
              "    <tr>\n",
              "      <th>302</th>\n",
              "      <td>302</td>\n",
              "      <td>L.A. Confidential (1997)</td>\n",
              "      <td>01-Jan-1997</td>\n",
              "      <td>NaN</td>\n",
              "      <td>http://us.imdb.com/M/title-exact?L%2EA%2E+Conf...</td>\n",
              "      <td>0</td>\n",
              "      <td>0</td>\n",
              "      <td>0</td>\n",
              "      <td>0</td>\n",
              "      <td>0</td>\n",
              "      <td>0</td>\n",
              "      <td>1</td>\n",
              "      <td>0</td>\n",
              "      <td>0</td>\n",
              "      <td>0</td>\n",
              "      <td>1</td>\n",
              "      <td>0</td>\n",
              "      <td>0</td>\n",
              "      <td>1</td>\n",
              "      <td>0</td>\n",
              "      <td>0</td>\n",
              "      <td>1</td>\n",
              "      <td>0</td>\n",
              "      <td>0</td>\n",
              "    </tr>\n",
              "  </tbody>\n",
              "</table>\n",
              "</div>"
            ],
            "text/plain": [
              "          movie id               movie title  ... War  Western\n",
              "movie id                                      ...             \n",
              "302            302  L.A. Confidential (1997)  ...   0        0\n",
              "\n",
              "[1 rows x 24 columns]"
            ]
          },
          "metadata": {
            "tags": []
          },
          "execution_count": 118
        }
      ]
    },
    {
      "cell_type": "markdown",
      "metadata": {
        "id": "75RWLbA2a2BE"
      },
      "source": [
        "Como podemos ver, la predicción (4.24) del modelo no esta alejada de lo que realmente opinó el usuario  (4.0)\n",
        "\n",
        "Para medir la calidad de la predicción para todos los usuarios e items del dataset de prueba, vamos a comparar lo que dice el modelo de predicción vs lo que dice el conjunto de prueba, para esto vamos a usar la métrica [RMSE](https://surprise.readthedocs.io/en/stable/accuracy.html#surprise.accuracy.rmse)\n",
        "\n",
        "Inicialmente calculamos la predicción para todos los elementos del conjunto de test"
      ]
    },
    {
      "cell_type": "code",
      "metadata": {
        "id": "xOl2ObNSIk8T"
      },
      "source": [
        "test_predictions=algo.test(test_set)"
      ],
      "execution_count": null,
      "outputs": []
    },
    {
      "cell_type": "code",
      "metadata": {
        "id": "kRlvK_f2ZN7t",
        "colab": {
          "base_uri": "https://localhost:8080/"
        },
        "outputId": "e13c5cd0-853e-4b19-9447-dc1c75c5e4cc"
      },
      "source": [
        "#5 primeras predicciones\n",
        "test_predictions[0:5]"
      ],
      "execution_count": null,
      "outputs": [
        {
          "output_type": "execute_result",
          "data": {
            "text/plain": [
              "[Prediction(uid=154, iid=302, r_ui=4.0, est=4.249202065377386, details={'actual_k': 20, 'was_impossible': False}),\n",
              " Prediction(uid=896, iid=484, r_ui=4.0, est=2.8976616922320964, details={'actual_k': 20, 'was_impossible': False}),\n",
              " Prediction(uid=230, iid=371, r_ui=4.0, est=4.1968378983432535, details={'actual_k': 20, 'was_impossible': False}),\n",
              " Prediction(uid=234, iid=294, r_ui=3.0, est=3.0978778071364186, details={'actual_k': 20, 'was_impossible': False}),\n",
              " Prediction(uid=25, iid=729, r_ui=4.0, est=4.148885433441103, details={'actual_k': 20, 'was_impossible': False})]"
            ]
          },
          "metadata": {
            "tags": []
          },
          "execution_count": 127
        }
      ]
    },
    {
      "cell_type": "markdown",
      "metadata": {
        "id": "yqgYbxzwe59D"
      },
      "source": [
        "Ahora se mide el RMSE de las predicciones vs el valor del dataset"
      ]
    },
    {
      "cell_type": "code",
      "metadata": {
        "id": "RDK_8jlUeyVL",
        "colab": {
          "base_uri": "https://localhost:8080/"
        },
        "outputId": "9585db8f-8865-4f11-f1ac-fbe9ae8480e8"
      },
      "source": [
        "# En promedio, el sistema encuentra ratings que estan una estrella por encima o por debajo del rating del usuario\n",
        "accuracy.rmse( test_predictions, verbose = True )"
      ],
      "execution_count": null,
      "outputs": [
        {
          "output_type": "stream",
          "text": [
            "RMSE: 1.0453\n"
          ],
          "name": "stdout"
        },
        {
          "output_type": "execute_result",
          "data": {
            "text/plain": [
              "1.0453343976192102"
            ]
          },
          "metadata": {
            "tags": []
          },
          "execution_count": 128
        }
      ]
    },
    {
      "cell_type": "markdown",
      "metadata": {
        "id": "Ge8msMcPgFwy"
      },
      "source": [
        "##Utilice las siguientes celdas para encontrar la respuesta a las siguientes preguntas\n",
        "\n",
        "¿Cuál es el RMSE de un modelo usuario-usuario con los mismos parámetros de similitud?\n",
        "\n",
        "¿Cuál es el efecto de cambiar el número de vecinos en la calidad del modelo usuario-usuario ? \n",
        "\n",
        "Pruebe para un número diferente de vecinos (e.j 5, 10, 20, 50, 100)"
      ]
    },
    {
      "cell_type": "code",
      "metadata": {
        "id": "0Eb-sHBnfw8b",
        "colab": {
          "base_uri": "https://localhost:8080/"
        },
        "outputId": "63bb2d6f-6e37-4f9b-8900-b6f10a282039"
      },
      "source": [
        "for i in range(1,100,10):\n",
        "  print(i)\n",
        "  sim_options = {'name': 'cosine',\n",
        "                'user_based': True  # calcule similitud item-item\n",
        "                }\n",
        "  algo = KNNBasic(k=20, min_k=i, sim_options=sim_options)\n",
        "  algo.fit(trainset=train_set)\n",
        "  print(algo.predict(154,302).est)"
      ],
      "execution_count": null,
      "outputs": [
        {
          "output_type": "stream",
          "text": [
            "1\n",
            "Computing the cosine similarity matrix...\n",
            "Done computing similarity matrix.\n",
            "4.35\n",
            "11\n",
            "Computing the cosine similarity matrix...\n",
            "Done computing similarity matrix.\n",
            "4.35\n",
            "21\n",
            "Computing the cosine similarity matrix...\n",
            "Done computing similarity matrix.\n",
            "3.5282375\n",
            "31\n",
            "Computing the cosine similarity matrix...\n",
            "Done computing similarity matrix.\n",
            "3.5282375\n",
            "41\n",
            "Computing the cosine similarity matrix...\n",
            "Done computing similarity matrix.\n",
            "3.5282375\n",
            "51\n",
            "Computing the cosine similarity matrix...\n",
            "Done computing similarity matrix.\n",
            "3.5282375\n",
            "61\n",
            "Computing the cosine similarity matrix...\n",
            "Done computing similarity matrix.\n",
            "3.5282375\n",
            "71\n",
            "Computing the cosine similarity matrix...\n",
            "Done computing similarity matrix.\n",
            "3.5282375\n",
            "81\n",
            "Computing the cosine similarity matrix...\n",
            "Done computing similarity matrix.\n",
            "3.5282375\n",
            "91\n",
            "Computing the cosine similarity matrix...\n",
            "Done computing similarity matrix.\n",
            "3.5282375\n"
          ],
          "name": "stdout"
        }
      ]
    },
    {
      "cell_type": "markdown",
      "metadata": {
        "id": "ZqMr2MlbkJch"
      },
      "source": [
        "##Generando listas de predicciones para los usuarios\n",
        "\n",
        "Retomemos nuestro modelo inicial y ajustémolo con todos los ratings disponibles\n",
        "\n",
        "Para generar una lista de recomendación se debe crear un dataset de \"test\" con las entradas faltantes de la matriz utilidad para que el modelo cree las predicciones (terminar de llenar la matriz de utilidad)\n",
        "\n"
      ]
    },
    {
      "cell_type": "code",
      "metadata": {
        "id": "y0ZYsiPXktjg",
        "colab": {
          "base_uri": "https://localhost:8080/"
        },
        "outputId": "73449aaa-c41f-4f4c-ac5e-bfa6909f2753"
      },
      "source": [
        "#Se crea el dataset para modelo \n",
        "rating_data=surprise_dataset.build_full_trainset()\n",
        "# Se crea dataset de \"prueba\" con las entradas faltantes para generar las predicciones\n",
        "test=rating_data.build_anti_testset()\n",
        "\n",
        "# se crea el mismo modelo que el del ejemplo\n",
        "sim_options = {'name': 'cosine',\n",
        "               'user_based': False  # calcule similitud item-item\n",
        "               }\n",
        "algo = KNNBasic(k=20, min_k=2, sim_options=sim_options)\n",
        "algo.fit(rating_data)\n",
        "predictions=algo.test(test)"
      ],
      "execution_count": null,
      "outputs": [
        {
          "output_type": "stream",
          "text": [
            "Computing the cosine similarity matrix...\n",
            "Done computing similarity matrix.\n"
          ],
          "name": "stdout"
        }
      ]
    },
    {
      "cell_type": "code",
      "metadata": {
        "colab": {
          "base_uri": "https://localhost:8080/",
          "height": 49
        },
        "id": "9R49H9oGMhzT",
        "outputId": "829155ab-bfa5-4fd4-aadc-922caf75c04d"
      },
      "source": [
        "ratings[(ratings.user_id ==196) & (ratings.item_id ==302)]"
      ],
      "execution_count": null,
      "outputs": [
        {
          "output_type": "execute_result",
          "data": {
            "text/html": [
              "<div>\n",
              "<style scoped>\n",
              "    .dataframe tbody tr th:only-of-type {\n",
              "        vertical-align: middle;\n",
              "    }\n",
              "\n",
              "    .dataframe tbody tr th {\n",
              "        vertical-align: top;\n",
              "    }\n",
              "\n",
              "    .dataframe thead th {\n",
              "        text-align: right;\n",
              "    }\n",
              "</style>\n",
              "<table border=\"1\" class=\"dataframe\">\n",
              "  <thead>\n",
              "    <tr style=\"text-align: right;\">\n",
              "      <th></th>\n",
              "      <th>user_id</th>\n",
              "      <th>item_id</th>\n",
              "      <th>rating</th>\n",
              "      <th>timestamp</th>\n",
              "    </tr>\n",
              "  </thead>\n",
              "  <tbody>\n",
              "  </tbody>\n",
              "</table>\n",
              "</div>"
            ],
            "text/plain": [
              "Empty DataFrame\n",
              "Columns: [user_id, item_id, rating, timestamp]\n",
              "Index: []"
            ]
          },
          "metadata": {
            "tags": []
          },
          "execution_count": 147
        }
      ]
    },
    {
      "cell_type": "code",
      "metadata": {
        "id": "eH2O_3iFsR6e",
        "colab": {
          "base_uri": "https://localhost:8080/"
        },
        "outputId": "a1de1ee1-aeea-4053-ad1f-498cdd5faa89"
      },
      "source": [
        "#10 primeras predicciones\n",
        "predictions[0:10]"
      ],
      "execution_count": null,
      "outputs": [
        {
          "output_type": "execute_result",
          "data": {
            "text/plain": [
              "[Prediction(uid=196, iid=302, r_ui=3.52986, est=3.4998074068929244, details={'actual_k': 20, 'was_impossible': False}),\n",
              " Prediction(uid=196, iid=377, r_ui=3.52986, est=3.531852919263047, details={'actual_k': 20, 'was_impossible': False}),\n",
              " Prediction(uid=196, iid=51, r_ui=3.52986, est=3.59549677885145, details={'actual_k': 20, 'was_impossible': False}),\n",
              " Prediction(uid=196, iid=346, r_ui=3.52986, est=3.5471070543165877, details={'actual_k': 20, 'was_impossible': False}),\n",
              " Prediction(uid=196, iid=474, r_ui=3.52986, est=3.7990088769026116, details={'actual_k': 20, 'was_impossible': False}),\n",
              " Prediction(uid=196, iid=265, r_ui=3.52986, est=3.4464297466659812, details={'actual_k': 20, 'was_impossible': False}),\n",
              " Prediction(uid=196, iid=465, r_ui=3.52986, est=3.5022156502733557, details={'actual_k': 20, 'was_impossible': False}),\n",
              " Prediction(uid=196, iid=451, r_ui=3.52986, est=3.6948301041629965, details={'actual_k': 20, 'was_impossible': False}),\n",
              " Prediction(uid=196, iid=86, r_ui=3.52986, est=3.750152492406962, details={'actual_k': 20, 'was_impossible': False}),\n",
              " Prediction(uid=196, iid=1014, r_ui=3.52986, est=3.345072753258412, details={'actual_k': 20, 'was_impossible': False})]"
            ]
          },
          "metadata": {
            "tags": []
          },
          "execution_count": 145
        }
      ]
    },
    {
      "cell_type": "code",
      "metadata": {
        "id": "Bd8lOnRXpPBm",
        "colab": {
          "base_uri": "https://localhost:8080/"
        },
        "outputId": "afedb76e-cefc-437f-82d5-726302dd4c0d"
      },
      "source": [
        "#Predicciones para usuario 196\n",
        "user_predictions=list(filter(lambda x: x[0]==196,predictions))\n",
        "user_predictions"
      ],
      "execution_count": null,
      "outputs": [
        {
          "output_type": "execute_result",
          "data": {
            "text/plain": [
              "[Prediction(uid=196, iid=302, r_ui=3.52986, est=3.4998074068929244, details={'actual_k': 20, 'was_impossible': False}),\n",
              " Prediction(uid=196, iid=377, r_ui=3.52986, est=3.531852919263047, details={'actual_k': 20, 'was_impossible': False}),\n",
              " Prediction(uid=196, iid=51, r_ui=3.52986, est=3.59549677885145, details={'actual_k': 20, 'was_impossible': False}),\n",
              " Prediction(uid=196, iid=346, r_ui=3.52986, est=3.5471070543165877, details={'actual_k': 20, 'was_impossible': False}),\n",
              " Prediction(uid=196, iid=474, r_ui=3.52986, est=3.7990088769026116, details={'actual_k': 20, 'was_impossible': False}),\n",
              " Prediction(uid=196, iid=265, r_ui=3.52986, est=3.4464297466659812, details={'actual_k': 20, 'was_impossible': False}),\n",
              " Prediction(uid=196, iid=465, r_ui=3.52986, est=3.5022156502733557, details={'actual_k': 20, 'was_impossible': False}),\n",
              " Prediction(uid=196, iid=451, r_ui=3.52986, est=3.6948301041629965, details={'actual_k': 20, 'was_impossible': False}),\n",
              " Prediction(uid=196, iid=86, r_ui=3.52986, est=3.750152492406962, details={'actual_k': 20, 'was_impossible': False}),\n",
              " Prediction(uid=196, iid=1014, r_ui=3.52986, est=3.345072753258412, details={'actual_k': 20, 'was_impossible': False}),\n",
              " Prediction(uid=196, iid=222, r_ui=3.52986, est=3.749394699126473, details={'actual_k': 20, 'was_impossible': False}),\n",
              " Prediction(uid=196, iid=40, r_ui=3.52986, est=3.552038691940714, details={'actual_k': 20, 'was_impossible': False}),\n",
              " Prediction(uid=196, iid=29, r_ui=3.52986, est=3.647101545749883, details={'actual_k': 20, 'was_impossible': False}),\n",
              " Prediction(uid=196, iid=785, r_ui=3.52986, est=3.5497006655868892, details={'actual_k': 20, 'was_impossible': False}),\n",
              " Prediction(uid=196, iid=387, r_ui=3.52986, est=3.749544319022761, details={'actual_k': 20, 'was_impossible': False}),\n",
              " Prediction(uid=196, iid=274, r_ui=3.52986, est=3.5947124478731296, details={'actual_k': 20, 'was_impossible': False}),\n",
              " Prediction(uid=196, iid=1042, r_ui=3.52986, est=3.7437326895617793, details={'actual_k': 20, 'was_impossible': False}),\n",
              " Prediction(uid=196, iid=1184, r_ui=3.52986, est=3.594958847170798, details={'actual_k': 20, 'was_impossible': False}),\n",
              " Prediction(uid=196, iid=392, r_ui=3.52986, est=3.650262271064715, details={'actual_k': 20, 'was_impossible': False}),\n",
              " Prediction(uid=196, iid=486, r_ui=3.52986, est=3.549050094168025, details={'actual_k': 20, 'was_impossible': False}),\n",
              " Prediction(uid=196, iid=144, r_ui=3.52986, est=3.700531334767831, details={'actual_k': 20, 'was_impossible': False}),\n",
              " Prediction(uid=196, iid=118, r_ui=3.52986, est=3.499690855964583, details={'actual_k': 20, 'was_impossible': False}),\n",
              " Prediction(uid=196, iid=1, r_ui=3.52986, est=3.795965727019783, details={'actual_k': 20, 'was_impossible': False}),\n",
              " Prediction(uid=196, iid=546, r_ui=3.52986, est=3.2982566724716516, details={'actual_k': 20, 'was_impossible': False}),\n",
              " Prediction(uid=196, iid=95, r_ui=3.52986, est=3.6974013758893967, details={'actual_k': 20, 'was_impossible': False}),\n",
              " Prediction(uid=196, iid=768, r_ui=3.52986, est=3.6509430679565607, details={'actual_k': 20, 'was_impossible': False}),\n",
              " Prediction(uid=196, iid=277, r_ui=3.52986, est=3.550506666363337, details={'actual_k': 20, 'was_impossible': False}),\n",
              " Prediction(uid=196, iid=234, r_ui=3.52986, est=3.6994507241066907, details={'actual_k': 20, 'was_impossible': False}),\n",
              " Prediction(uid=196, iid=246, r_ui=3.52986, est=3.8497141758273363, details={'actual_k': 20, 'was_impossible': False}),\n",
              " Prediction(uid=196, iid=98, r_ui=3.52986, est=3.6008713809918533, details={'actual_k': 20, 'was_impossible': False}),\n",
              " Prediction(uid=196, iid=193, r_ui=3.52986, est=3.7995533760734417, details={'actual_k': 20, 'was_impossible': False}),\n",
              " Prediction(uid=196, iid=88, r_ui=3.52986, est=3.600482371586907, details={'actual_k': 20, 'was_impossible': False}),\n",
              " Prediction(uid=196, iid=194, r_ui=3.52986, est=3.749765502677539, details={'actual_k': 20, 'was_impossible': False}),\n",
              " Prediction(uid=196, iid=1081, r_ui=3.52986, est=3.5523320630560358, details={'actual_k': 20, 'was_impossible': False}),\n",
              " Prediction(uid=196, iid=603, r_ui=3.52986, est=3.6519138416672643, details={'actual_k': 20, 'was_impossible': False}),\n",
              " Prediction(uid=196, iid=796, r_ui=3.52986, est=3.751777870334881, details={'actual_k': 20, 'was_impossible': False}),\n",
              " Prediction(uid=196, iid=32, r_ui=3.52986, est=3.7469160468789204, details={'actual_k': 20, 'was_impossible': False}),\n",
              " Prediction(uid=196, iid=16, r_ui=3.52986, est=3.3499015179065843, details={'actual_k': 20, 'was_impossible': False}),\n",
              " Prediction(uid=196, iid=304, r_ui=3.52986, est=3.447440846247758, details={'actual_k': 20, 'was_impossible': False}),\n",
              " Prediction(uid=196, iid=979, r_ui=3.52986, est=3.5439348912470043, details={'actual_k': 20, 'was_impossible': False}),\n",
              " Prediction(uid=196, iid=564, r_ui=3.52986, est=3.6080894947406015, details={'actual_k': 20, 'was_impossible': False}),\n",
              " Prediction(uid=196, iid=327, r_ui=3.52986, est=3.8024521536143934, details={'actual_k': 20, 'was_impossible': False}),\n",
              " Prediction(uid=196, iid=201, r_ui=3.52986, est=3.399189326585518, details={'actual_k': 20, 'was_impossible': False}),\n",
              " Prediction(uid=196, iid=1137, r_ui=3.52986, est=3.4509719533117877, details={'actual_k': 20, 'was_impossible': False}),\n",
              " Prediction(uid=196, iid=241, r_ui=3.52986, est=3.49844721629533, details={'actual_k': 20, 'was_impossible': False}),\n",
              " Prediction(uid=196, iid=4, r_ui=3.52986, est=3.6503408990415354, details={'actual_k': 20, 'was_impossible': False}),\n",
              " Prediction(uid=196, iid=332, r_ui=3.52986, est=3.595128340942491, details={'actual_k': 20, 'was_impossible': False}),\n",
              " Prediction(uid=196, iid=100, r_ui=3.52986, est=3.7509665617100967, details={'actual_k': 20, 'was_impossible': False}),\n",
              " Prediction(uid=196, iid=432, r_ui=3.52986, est=3.5979568069612933, details={'actual_k': 20, 'was_impossible': False}),\n",
              " Prediction(uid=196, iid=322, r_ui=3.52986, est=3.545624645347399, details={'actual_k': 20, 'was_impossible': False}),\n",
              " Prediction(uid=196, iid=181, r_ui=3.52986, est=3.6485328763708886, details={'actual_k': 20, 'was_impossible': False}),\n",
              " Prediction(uid=196, iid=196, r_ui=3.52986, est=3.500395366562253, details={'actual_k': 20, 'was_impossible': False}),\n",
              " Prediction(uid=196, iid=679, r_ui=3.52986, est=3.853263239820415, details={'actual_k': 20, 'was_impossible': False}),\n",
              " Prediction(uid=196, iid=384, r_ui=3.52986, est=3.642642096970637, details={'actual_k': 20, 'was_impossible': False}),\n",
              " Prediction(uid=196, iid=143, r_ui=3.52986, est=3.5982145011892337, details={'actual_k': 20, 'was_impossible': False}),\n",
              " Prediction(uid=196, iid=423, r_ui=3.52986, est=3.751150684659328, details={'actual_k': 20, 'was_impossible': False}),\n",
              " Prediction(uid=196, iid=515, r_ui=3.52986, est=3.6483836739267934, details={'actual_k': 20, 'was_impossible': False}),\n",
              " Prediction(uid=196, iid=20, r_ui=3.52986, est=3.599819547256718, details={'actual_k': 20, 'was_impossible': False}),\n",
              " Prediction(uid=196, iid=288, r_ui=3.52986, est=3.6482534094042207, details={'actual_k': 20, 'was_impossible': False}),\n",
              " Prediction(uid=196, iid=219, r_ui=3.52986, est=3.551752289933001, details={'actual_k': 20, 'was_impossible': False}),\n",
              " Prediction(uid=196, iid=526, r_ui=3.52986, est=3.5033986084897317, details={'actual_k': 20, 'was_impossible': False}),\n",
              " Prediction(uid=196, iid=919, r_ui=3.52986, est=3.4900008710406842, details={'actual_k': 20, 'was_impossible': False}),\n",
              " Prediction(uid=196, iid=26, r_ui=3.52986, est=3.6481057195216193, details={'actual_k': 20, 'was_impossible': False}),\n",
              " Prediction(uid=196, iid=232, r_ui=3.52986, est=3.599640842238485, details={'actual_k': 20, 'was_impossible': False}),\n",
              " Prediction(uid=196, iid=427, r_ui=3.52986, est=3.848760996852321, details={'actual_k': 20, 'was_impossible': False}),\n",
              " Prediction(uid=196, iid=512, r_ui=3.52986, est=3.5485849307127104, details={'actual_k': 20, 'was_impossible': False}),\n",
              " Prediction(uid=196, iid=15, r_ui=3.52986, est=3.6501886841353444, details={'actual_k': 20, 'was_impossible': False}),\n",
              " Prediction(uid=196, iid=1049, r_ui=3.52986, est=3.202894036872293, details={'actual_k': 20, 'was_impossible': False}),\n",
              " Prediction(uid=196, iid=416, r_ui=3.52986, est=3.9483257593392587, details={'actual_k': 20, 'was_impossible': False}),\n",
              " Prediction(uid=196, iid=165, r_ui=3.52986, est=3.5490305814973113, details={'actual_k': 20, 'was_impossible': False}),\n",
              " Prediction(uid=196, iid=690, r_ui=3.52986, est=3.547391069147832, details={'actual_k': 20, 'was_impossible': False}),\n",
              " Prediction(uid=196, iid=248, r_ui=3.52986, est=3.6479089372750684, details={'actual_k': 20, 'was_impossible': False}),\n",
              " Prediction(uid=196, iid=1444, r_ui=3.52986, est=3.337760167543059, details={'actual_k': 20, 'was_impossible': False}),\n",
              " Prediction(uid=196, iid=5, r_ui=3.52986, est=3.750260712938632, details={'actual_k': 20, 'was_impossible': False}),\n",
              " Prediction(uid=196, iid=229, r_ui=3.52986, est=3.6972717296703235, details={'actual_k': 20, 'was_impossible': False}),\n",
              " Prediction(uid=196, iid=237, r_ui=3.52986, est=3.6502175542113604, details={'actual_k': 20, 'was_impossible': False}),\n",
              " Prediction(uid=196, iid=480, r_ui=3.52986, est=3.7492640289646473, details={'actual_k': 20, 'was_impossible': False}),\n",
              " Prediction(uid=196, iid=54, r_ui=3.52986, est=3.700199486170988, details={'actual_k': 20, 'was_impossible': False}),\n",
              " Prediction(uid=196, iid=366, r_ui=3.52986, est=3.753103823206445, details={'actual_k': 20, 'was_impossible': False}),\n",
              " Prediction(uid=196, iid=518, r_ui=3.52986, est=3.3997081780869283, details={'actual_k': 20, 'was_impossible': False}),\n",
              " Prediction(uid=196, iid=403, r_ui=3.52986, est=3.59779276558341, details={'actual_k': 20, 'was_impossible': False}),\n",
              " Prediction(uid=196, iid=625, r_ui=3.52986, est=3.6011243309571337, details={'actual_k': 20, 'was_impossible': False}),\n",
              " Prediction(uid=196, iid=338, r_ui=3.52986, est=3.2356083519635073, details={'actual_k': 20, 'was_impossible': False}),\n",
              " Prediction(uid=196, iid=1016, r_ui=3.52986, est=3.5501052227003007, details={'actual_k': 20, 'was_impossible': False}),\n",
              " Prediction(uid=196, iid=154, r_ui=3.52986, est=3.5529118019340022, details={'actual_k': 20, 'was_impossible': False}),\n",
              " Prediction(uid=196, iid=275, r_ui=3.52986, est=3.649630616190127, details={'actual_k': 20, 'was_impossible': False}),\n",
              " Prediction(uid=196, iid=1153, r_ui=3.52986, est=3.3459999333179145, details={'actual_k': 20, 'was_impossible': False}),\n",
              " Prediction(uid=196, iid=498, r_ui=3.52986, est=3.651990036873481, details={'actual_k': 20, 'was_impossible': False}),\n",
              " Prediction(uid=196, iid=209, r_ui=3.52986, est=3.551186042161012, details={'actual_k': 20, 'was_impossible': False}),\n",
              " Prediction(uid=196, iid=23, r_ui=3.52986, est=3.650837642443409, details={'actual_k': 20, 'was_impossible': False}),\n",
              " Prediction(uid=196, iid=294, r_ui=3.52986, est=3.6483465667833674, details={'actual_k': 20, 'was_impossible': False}),\n",
              " Prediction(uid=196, iid=208, r_ui=3.52986, est=3.6009658147485526, details={'actual_k': 20, 'was_impossible': False}),\n",
              " Prediction(uid=196, iid=685, r_ui=3.52986, est=3.746069635863245, details={'actual_k': 20, 'was_impossible': False}),\n",
              " Prediction(uid=196, iid=328, r_ui=3.52986, est=3.452873059381781, details={'actual_k': 20, 'was_impossible': False}),\n",
              " Prediction(uid=196, iid=496, r_ui=3.52986, est=3.6011550478009835, details={'actual_k': 20, 'was_impossible': False}),\n",
              " Prediction(uid=196, iid=132, r_ui=3.52986, est=3.848510785757594, details={'actual_k': 20, 'was_impossible': False}),\n",
              " Prediction(uid=196, iid=174, r_ui=3.52986, est=3.6497606858253557, details={'actual_k': 20, 'was_impossible': False}),\n",
              " Prediction(uid=196, iid=96, r_ui=3.52986, est=3.7479136983251924, details={'actual_k': 20, 'was_impossible': False}),\n",
              " Prediction(uid=196, iid=151, r_ui=3.52986, est=3.7986941972307338, details={'actual_k': 20, 'was_impossible': False}),\n",
              " Prediction(uid=196, iid=307, r_ui=3.52986, est=3.447889895105821, details={'actual_k': 20, 'was_impossible': False}),\n",
              " Prediction(uid=196, iid=648, r_ui=3.52986, est=3.498713529319864, details={'actual_k': 20, 'was_impossible': False}),\n",
              " Prediction(uid=196, iid=21, r_ui=3.52986, est=3.7509018960181715, details={'actual_k': 20, 'was_impossible': False}),\n",
              " Prediction(uid=196, iid=832, r_ui=3.52986, est=3.6078590935311783, details={'actual_k': 20, 'was_impossible': False}),\n",
              " Prediction(uid=196, iid=514, r_ui=3.52986, est=3.4964689302587693, details={'actual_k': 20, 'was_impossible': False}),\n",
              " Prediction(uid=196, iid=789, r_ui=3.52986, est=3.8451738375907207, details={'actual_k': 20, 'was_impossible': False}),\n",
              " Prediction(uid=196, iid=485, r_ui=3.52986, est=3.5995078970487513, details={'actual_k': 20, 'was_impossible': False}),\n",
              " Prediction(uid=196, iid=317, r_ui=3.52986, est=3.650695304580203, details={'actual_k': 20, 'was_impossible': False}),\n",
              " Prediction(uid=196, iid=195, r_ui=3.52986, est=3.647549107632258, details={'actual_k': 20, 'was_impossible': False}),\n",
              " Prediction(uid=196, iid=200, r_ui=3.52986, est=3.6508407480239238, details={'actual_k': 20, 'was_impossible': False}),\n",
              " Prediction(uid=196, iid=385, r_ui=3.52986, est=3.6018270012981373, details={'actual_k': 20, 'was_impossible': False}),\n",
              " Prediction(uid=196, iid=750, r_ui=3.52986, est=3.6534795790855554, details={'actual_k': 20, 'was_impossible': False}),\n",
              " Prediction(uid=196, iid=264, r_ui=3.52986, est=3.595839490852342, details={'actual_k': 20, 'was_impossible': False}),\n",
              " Prediction(uid=196, iid=245, r_ui=3.52986, est=3.6494265565857273, details={'actual_k': 20, 'was_impossible': False}),\n",
              " Prediction(uid=196, iid=135, r_ui=3.52986, est=3.6037044254799335, details={'actual_k': 20, 'was_impossible': False}),\n",
              " Prediction(uid=196, iid=1147, r_ui=3.52986, est=3.5979955070851317, details={'actual_k': 20, 'was_impossible': False}),\n",
              " Prediction(uid=196, iid=471, r_ui=3.52986, est=3.5475427924982967, details={'actual_k': 20, 'was_impossible': False}),\n",
              " Prediction(uid=196, iid=658, r_ui=3.52986, est=3.402245068620137, details={'actual_k': 20, 'was_impossible': False}),\n",
              " Prediction(uid=196, iid=140, r_ui=3.52986, est=3.7001957862559585, details={'actual_k': 20, 'was_impossible': False}),\n",
              " Prediction(uid=196, iid=379, r_ui=3.52986, est=3.6926527508773757, details={'actual_k': 20, 'was_impossible': False}),\n",
              " Prediction(uid=196, iid=815, r_ui=3.52986, est=3.6001834086751394, details={'actual_k': 20, 'was_impossible': False}),\n",
              " Prediction(uid=196, iid=479, r_ui=3.52986, est=3.651099988951829, details={'actual_k': 20, 'was_impossible': False}),\n",
              " Prediction(uid=196, iid=368, r_ui=3.52986, est=3.5035104396756456, details={'actual_k': 20, 'was_impossible': False}),\n",
              " Prediction(uid=196, iid=1211, r_ui=3.52986, est=3.697920124619864, details={'actual_k': 20, 'was_impossible': False}),\n",
              " Prediction(uid=196, iid=1134, r_ui=3.52986, est=3.491025451981017, details={'actual_k': 20, 'was_impossible': False}),\n",
              " Prediction(uid=196, iid=836, r_ui=3.52986, est=3.6972856146928206, details={'actual_k': 20, 'was_impossible': False}),\n",
              " Prediction(uid=196, iid=272, r_ui=3.52986, est=3.6483643978311546, details={'actual_k': 20, 'was_impossible': False}),\n",
              " Prediction(uid=196, iid=756, r_ui=3.52986, est=3.4001812876390556, details={'actual_k': 20, 'was_impossible': False}),\n",
              " Prediction(uid=196, iid=787, r_ui=3.52986, est=3.7001011983328764, details={'actual_k': 20, 'was_impossible': False}),\n",
              " Prediction(uid=196, iid=14, r_ui=3.52986, est=3.648984116849203, details={'actual_k': 20, 'was_impossible': False}),\n",
              " Prediction(uid=196, iid=955, r_ui=3.52986, est=3.59799390461911, details={'actual_k': 20, 'was_impossible': False}),\n",
              " Prediction(uid=196, iid=419, r_ui=3.52986, est=3.5523234924985947, details={'actual_k': 20, 'was_impossible': False}),\n",
              " Prediction(uid=196, iid=405, r_ui=3.52986, est=3.750508849697243, details={'actual_k': 20, 'was_impossible': False}),\n",
              " Prediction(uid=196, iid=504, r_ui=3.52986, est=3.6488548842761483, details={'actual_k': 20, 'was_impossible': False}),\n",
              " Prediction(uid=196, iid=466, r_ui=3.52986, est=3.7438790401376703, details={'actual_k': 20, 'was_impossible': False}),\n",
              " Prediction(uid=196, iid=268, r_ui=3.52986, est=3.352294579434284, details={'actual_k': 20, 'was_impossible': False}),\n",
              " Prediction(uid=196, iid=117, r_ui=3.52986, est=3.650461577164423, details={'actual_k': 20, 'was_impossible': False}),\n",
              " Prediction(uid=196, iid=273, r_ui=3.52986, est=3.45006327693249, details={'actual_k': 20, 'was_impossible': False}),\n",
              " Prediction(uid=196, iid=559, r_ui=3.52986, est=3.5532484947173875, details={'actual_k': 20, 'was_impossible': False}),\n",
              " Prediction(uid=196, iid=794, r_ui=3.52986, est=3.750439781775605, details={'actual_k': 20, 'was_impossible': False}),\n",
              " Prediction(uid=196, iid=323, r_ui=3.52986, est=3.541563368701128, details={'actual_k': 20, 'was_impossible': False}),\n",
              " Prediction(uid=196, iid=177, r_ui=3.52986, est=4.000200455189572, details={'actual_k': 20, 'was_impossible': False}),\n",
              " Prediction(uid=196, iid=231, r_ui=3.52986, est=3.8492270720443833, details={'actual_k': 20, 'was_impossible': False}),\n",
              " Prediction(uid=196, iid=2, r_ui=3.52986, est=3.5497181845714247, details={'actual_k': 20, 'was_impossible': False}),\n",
              " Prediction(uid=196, iid=137, r_ui=3.52986, est=3.54832817589812, details={'actual_k': 20, 'was_impossible': False}),\n",
              " Prediction(uid=196, iid=1336, r_ui=3.52986, est=3.84598717680451, details={'actual_k': 20, 'was_impossible': False}),\n",
              " Prediction(uid=196, iid=164, r_ui=3.52986, est=3.5982901295454806, details={'actual_k': 20, 'was_impossible': False}),\n",
              " Prediction(uid=196, iid=281, r_ui=3.52986, est=3.248144184398578, details={'actual_k': 20, 'was_impossible': False}),\n",
              " Prediction(uid=196, iid=1240, r_ui=3.52986, est=3.4366458350316296, details={'actual_k': 20, 'was_impossible': False}),\n",
              " Prediction(uid=196, iid=298, r_ui=3.52986, est=3.5491296105162276, details={'actual_k': 20, 'was_impossible': False}),\n",
              " Prediction(uid=196, iid=443, r_ui=3.52986, est=3.946140482283129, details={'actual_k': 20, 'was_impossible': False}),\n",
              " Prediction(uid=196, iid=1035, r_ui=3.52986, est=3.5978865889782945, details={'actual_k': 20, 'was_impossible': False}),\n",
              " Prediction(uid=196, iid=79, r_ui=3.52986, est=3.7501848529691113, details={'actual_k': 20, 'was_impossible': False}),\n",
              " Prediction(uid=196, iid=258, r_ui=3.52986, est=3.6997625594192693, details={'actual_k': 20, 'was_impossible': False}),\n",
              " Prediction(uid=196, iid=455, r_ui=3.52986, est=3.641756043160751, details={'actual_k': 20, 'was_impossible': False}),\n",
              " Prediction(uid=196, iid=755, r_ui=3.52986, est=3.4998447566449706, details={'actual_k': 20, 'was_impossible': False}),\n",
              " Prediction(uid=196, iid=673, r_ui=3.52986, est=3.8959903164142355, details={'actual_k': 20, 'was_impossible': False}),\n",
              " Prediction(uid=196, iid=172, r_ui=3.52986, est=3.6964709246389424, details={'actual_k': 20, 'was_impossible': False}),\n",
              " Prediction(uid=196, iid=1217, r_ui=3.52986, est=3.545488397676558, details={'actual_k': 20, 'was_impossible': False}),\n",
              " Prediction(uid=196, iid=719, r_ui=3.52986, est=3.5053754470157448, details={'actual_k': 20, 'was_impossible': False}),\n",
              " Prediction(uid=196, iid=1267, r_ui=3.52986, est=3.496998572114681, details={'actual_k': 20, 'was_impossible': False}),\n",
              " Prediction(uid=196, iid=930, r_ui=3.52986, est=3.4479711563176374, details={'actual_k': 20, 'was_impossible': False}),\n",
              " Prediction(uid=196, iid=216, r_ui=3.52986, est=3.648641424520202, details={'actual_k': 20, 'was_impossible': False}),\n",
              " Prediction(uid=196, iid=1079, r_ui=3.52986, est=3.549396650516111, details={'actual_k': 20, 'was_impossible': False}),\n",
              " Prediction(uid=196, iid=452, r_ui=3.52986, est=3.6529476981620146, details={'actual_k': 20, 'was_impossible': False}),\n",
              " Prediction(uid=196, iid=61, r_ui=3.52986, est=3.6956898833487144, details={'actual_k': 20, 'was_impossible': False}),\n",
              " Prediction(uid=196, iid=48, r_ui=3.52986, est=3.70035992623853, details={'actual_k': 20, 'was_impossible': False}),\n",
              " Prediction(uid=196, iid=360, r_ui=3.52986, est=3.7499837087878385, details={'actual_k': 20, 'was_impossible': False}),\n",
              " Prediction(uid=196, iid=77, r_ui=3.52986, est=3.8488318761715377, details={'actual_k': 20, 'was_impossible': False}),\n",
              " Prediction(uid=196, iid=476, r_ui=3.52986, est=3.4939471788682863, details={'actual_k': 20, 'was_impossible': False}),\n",
              " Prediction(uid=196, iid=483, r_ui=3.52986, est=3.601783751982353, details={'actual_k': 20, 'was_impossible': False}),\n",
              " Prediction(uid=196, iid=748, r_ui=3.52986, est=3.6040476701040203, details={'actual_k': 20, 'was_impossible': False}),\n",
              " Prediction(uid=196, iid=220, r_ui=3.52986, est=3.397087560711569, details={'actual_k': 20, 'was_impossible': False}),\n",
              " Prediction(uid=196, iid=255, r_ui=3.52986, est=3.601624640045296, details={'actual_k': 20, 'was_impossible': False}),\n",
              " Prediction(uid=196, iid=280, r_ui=3.52986, est=3.8026794010411815, details={'actual_k': 20, 'was_impossible': False}),\n",
              " Prediction(uid=196, iid=408, r_ui=3.52986, est=3.5473431451927366, details={'actual_k': 20, 'was_impossible': False}),\n",
              " Prediction(uid=196, iid=235, r_ui=3.52986, est=3.651457047286911, details={'actual_k': 20, 'was_impossible': False}),\n",
              " Prediction(uid=196, iid=228, r_ui=3.52986, est=3.698103893661207, details={'actual_k': 20, 'was_impossible': False}),\n",
              " Prediction(uid=196, iid=1098, r_ui=3.52986, est=3.445965856487855, details={'actual_k': 20, 'was_impossible': False}),\n",
              " Prediction(uid=196, iid=347, r_ui=3.52986, est=3.6524366007131883, details={'actual_k': 20, 'was_impossible': False}),\n",
              " Prediction(uid=196, iid=178, r_ui=3.52986, est=3.600101383626478, details={'actual_k': 20, 'was_impossible': False}),\n",
              " Prediction(uid=196, iid=478, r_ui=3.52986, est=3.4012476574420267, details={'actual_k': 20, 'was_impossible': False}),\n",
              " Prediction(uid=196, iid=688, r_ui=3.52986, est=3.6595658598308023, details={'actual_k': 20, 'was_impossible': False}),\n",
              " Prediction(uid=196, iid=10, r_ui=3.52986, est=3.5517932546083175, details={'actual_k': 20, 'was_impossible': False}),\n",
              " Prediction(uid=196, iid=127, r_ui=3.52986, est=3.599836053633922, details={'actual_k': 20, 'was_impossible': False}),\n",
              " Prediction(uid=196, iid=106, r_ui=3.52986, est=3.499338396029053, details={'actual_k': 20, 'was_impossible': False}),\n",
              " Prediction(uid=196, iid=69, r_ui=3.52986, est=3.6483835309733506, details={'actual_k': 20, 'was_impossible': False}),\n",
              " Prediction(uid=196, iid=944, r_ui=3.52986, est=3.7502355613078664, details={'actual_k': 20, 'was_impossible': False}),\n",
              " Prediction(uid=196, iid=790, r_ui=3.52986, est=3.7989364670338603, details={'actual_k': 20, 'was_impossible': False}),\n",
              " Prediction(uid=196, iid=1091, r_ui=3.52986, est=3.5477597986117995, details={'actual_k': 20, 'was_impossible': False}),\n",
              " Prediction(uid=196, iid=214, r_ui=3.52986, est=3.603496072664174, details={'actual_k': 20, 'was_impossible': False}),\n",
              " Prediction(uid=196, iid=1028, r_ui=3.52986, est=3.3980932643504165, details={'actual_k': 20, 'was_impossible': False}),\n",
              " Prediction(uid=196, iid=554, r_ui=3.52986, est=3.3505062016631397, details={'actual_k': 20, 'was_impossible': False}),\n",
              " Prediction(uid=196, iid=109, r_ui=3.52986, est=3.642881370190922, details={'actual_k': 20, 'was_impossible': False}),\n",
              " Prediction(uid=196, iid=171, r_ui=3.52986, est=3.4001874483289276, details={'actual_k': 20, 'was_impossible': False}),\n",
              " Prediction(uid=196, iid=318, r_ui=3.52986, est=3.74931357431589, details={'actual_k': 20, 'was_impossible': False}),\n",
              " Prediction(uid=196, iid=568, r_ui=3.52986, est=3.599201195244096, details={'actual_k': 20, 'was_impossible': False}),\n",
              " Prediction(uid=196, iid=842, r_ui=3.52986, est=3.6997004145516366, details={'actual_k': 20, 'was_impossible': False}),\n",
              " Prediction(uid=196, iid=65, r_ui=3.52986, est=3.696316284436199, details={'actual_k': 20, 'was_impossible': False}),\n",
              " Prediction(uid=196, iid=591, r_ui=3.52986, est=3.7998669870999087, details={'actual_k': 20, 'was_impossible': False}),\n",
              " Prediction(uid=196, iid=401, r_ui=3.52986, est=3.8063825114077785, details={'actual_k': 20, 'was_impossible': False}),\n",
              " Prediction(uid=196, iid=339, r_ui=3.52986, est=3.5925616115570644, details={'actual_k': 20, 'was_impossible': False}),\n",
              " Prediction(uid=196, iid=746, r_ui=3.52986, est=3.6461418879051077, details={'actual_k': 20, 'was_impossible': False}),\n",
              " Prediction(uid=196, iid=68, r_ui=3.52986, est=3.649481379326036, details={'actual_k': 20, 'was_impossible': False}),\n",
              " Prediction(uid=196, iid=7, r_ui=3.52986, est=3.60050297113288, details={'actual_k': 20, 'was_impossible': False}),\n",
              " Prediction(uid=196, iid=1018, r_ui=3.52986, est=3.7444313621092538, details={'actual_k': 20, 'was_impossible': False}),\n",
              " Prediction(uid=196, iid=218, r_ui=3.52986, est=3.6480684847461005, details={'actual_k': 20, 'was_impossible': False}),\n",
              " Prediction(uid=196, iid=623, r_ui=3.52986, est=3.6943401300326952, details={'actual_k': 20, 'was_impossible': False}),\n",
              " Prediction(uid=196, iid=334, r_ui=3.52986, est=3.4849611528135718, details={'actual_k': 20, 'was_impossible': False}),\n",
              " Prediction(uid=196, iid=344, r_ui=3.52986, est=3.6472613156160936, details={'actual_k': 20, 'was_impossible': False}),\n",
              " Prediction(uid=196, iid=145, r_ui=3.52986, est=3.3971450769952742, details={'actual_k': 20, 'was_impossible': False}),\n",
              " Prediction(uid=196, iid=56, r_ui=3.52986, est=3.6505492942727735, details={'actual_k': 20, 'was_impossible': False}),\n",
              " Prediction(uid=196, iid=89, r_ui=3.52986, est=3.5502417479843555, details={'actual_k': 20, 'was_impossible': False}),\n",
              " Prediction(uid=196, iid=141, r_ui=3.52986, est=3.899004425399867, details={'actual_k': 20, 'was_impossible': False}),\n",
              " Prediction(uid=196, iid=576, r_ui=3.52986, est=3.746634071172267, details={'actual_k': 20, 'was_impossible': False}),\n",
              " Prediction(uid=196, iid=133, r_ui=3.52986, est=3.5965296831154134, details={'actual_k': 20, 'was_impossible': False}),\n",
              " Prediction(uid=196, iid=813, r_ui=3.52986, est=3.6979964276825723, details={'actual_k': 20, 'was_impossible': False}),\n",
              " Prediction(uid=196, iid=872, r_ui=3.52986, est=3.744109038929763, details={'actual_k': 20, 'was_impossible': False}),\n",
              " Prediction(uid=196, iid=146, r_ui=3.52986, est=3.8051318380159915, details={'actual_k': 20, 'was_impossible': False}),\n",
              " Prediction(uid=196, iid=507, r_ui=3.52986, est=3.8961711337265634, details={'actual_k': 20, 'was_impossible': False}),\n",
              " Prediction(uid=196, iid=367, r_ui=3.52986, est=3.7980432456126727, details={'actual_k': 20, 'was_impossible': False}),\n",
              " Prediction(uid=196, iid=468, r_ui=3.52986, est=3.5498512248167247, details={'actual_k': 20, 'was_impossible': False}),\n",
              " Prediction(uid=196, iid=595, r_ui=3.52986, est=3.7492626398470064, details={'actual_k': 20, 'was_impossible': False}),\n",
              " Prediction(uid=196, iid=11, r_ui=3.52986, est=3.499296236336712, details={'actual_k': 20, 'was_impossible': False}),\n",
              " Prediction(uid=196, iid=520, r_ui=3.52986, est=3.4476840950777827, details={'actual_k': 20, 'was_impossible': False}),\n",
              " Prediction(uid=196, iid=82, r_ui=3.52986, est=3.5985464633851616, details={'actual_k': 20, 'was_impossible': False}),\n",
              " Prediction(uid=196, iid=501, r_ui=3.52986, est=3.8045128265454746, details={'actual_k': 20, 'was_impossible': False}),\n",
              " Prediction(uid=196, iid=3, r_ui=3.52986, est=3.7575434513281407, details={'actual_k': 20, 'was_impossible': False}),\n",
              " Prediction(uid=196, iid=695, r_ui=3.52986, est=3.440437505949066, details={'actual_k': 20, 'was_impossible': False}),\n",
              " Prediction(uid=196, iid=198, r_ui=3.52986, est=3.549209728782657, details={'actual_k': 20, 'was_impossible': False}),\n",
              " Prediction(uid=196, iid=189, r_ui=3.52986, est=3.6486131022274892, details={'actual_k': 20, 'was_impossible': False}),\n",
              " Prediction(uid=196, iid=767, r_ui=3.52986, est=3.4014590036577466, details={'actual_k': 20, 'was_impossible': False}),\n",
              " Prediction(uid=196, iid=705, r_ui=3.52986, est=3.649308890452537, details={'actual_k': 20, 'was_impossible': False}),\n",
              " Prediction(uid=196, iid=64, r_ui=3.52986, est=3.700666548560873, details={'actual_k': 20, 'was_impossible': False}),\n",
              " Prediction(uid=196, iid=357, r_ui=3.52986, est=3.7991519382335417, details={'actual_k': 20, 'was_impossible': False}),\n",
              " Prediction(uid=196, iid=484, r_ui=3.52986, est=3.6499245391549486, details={'actual_k': 20, 'was_impossible': False}),\n",
              " Prediction(uid=196, iid=508, r_ui=3.52986, est=3.5975081316914097, details={'actual_k': 20, 'was_impossible': False}),\n",
              " Prediction(uid=196, iid=303, r_ui=3.52986, est=3.548940629460782, details={'actual_k': 20, 'was_impossible': False}),\n",
              " Prediction(uid=196, iid=215, r_ui=3.52986, est=3.6521353058033763, details={'actual_k': 20, 'was_impossible': False}),\n",
              " Prediction(uid=196, iid=749, r_ui=3.52986, est=3.5930303711859026, details={'actual_k': 20, 'was_impossible': False}),\n",
              " Prediction(uid=196, iid=829, r_ui=3.52986, est=3.698396750461797, details={'actual_k': 20, 'was_impossible': False}),\n",
              " Prediction(uid=196, iid=204, r_ui=3.52986, est=3.647378477633329, details={'actual_k': 20, 'was_impossible': False}),\n",
              " Prediction(uid=196, iid=1295, r_ui=3.52986, est=3.4516439583765597, details={'actual_k': 20, 'was_impossible': False}),\n",
              " Prediction(uid=196, iid=33, r_ui=3.52986, est=3.6995474307446066, details={'actual_k': 20, 'was_impossible': False}),\n",
              " Prediction(uid=196, iid=160, r_ui=3.52986, est=3.7464643473928136, details={'actual_k': 20, 'was_impossible': False}),\n",
              " Prediction(uid=196, iid=321, r_ui=3.52986, est=3.44871741578767, details={'actual_k': 20, 'was_impossible': False}),\n",
              " Prediction(uid=196, iid=343, r_ui=3.52986, est=3.4987833267565205, details={'actual_k': 20, 'was_impossible': False}),\n",
              " Prediction(uid=196, iid=227, r_ui=3.52986, est=3.646696433921187, details={'actual_k': 20, 'was_impossible': False}),\n",
              " Prediction(uid=196, iid=191, r_ui=3.52986, est=3.6502148369691043, details={'actual_k': 20, 'was_impossible': False}),\n",
              " Prediction(uid=196, iid=903, r_ui=3.52986, est=3.897977795623145, details={'actual_k': 20, 'was_impossible': False}),\n",
              " Prediction(uid=196, iid=183, r_ui=3.52986, est=3.4986026083053927, details={'actual_k': 20, 'was_impossible': False}),\n",
              " Prediction(uid=196, iid=724, r_ui=3.52986, est=3.6477845676577196, details={'actual_k': 20, 'was_impossible': False}),\n",
              " Prediction(uid=196, iid=430, r_ui=3.52986, est=3.747748250908193, details={'actual_k': 20, 'was_impossible': False}),\n",
              " Prediction(uid=196, iid=1197, r_ui=3.52986, est=3.400632475123061, details={'actual_k': 20, 'was_impossible': False}),\n",
              " Prediction(uid=196, iid=134, r_ui=3.52986, est=3.8008117975256415, details={'actual_k': 20, 'was_impossible': False}),\n",
              " Prediction(uid=196, iid=751, r_ui=3.52986, est=3.4976260294493233, details={'actual_k': 20, 'was_impossible': False}),\n",
              " Prediction(uid=196, iid=212, r_ui=3.52986, est=3.5458524417558728, details={'actual_k': 20, 'was_impossible': False}),\n",
              " Prediction(uid=196, iid=256, r_ui=3.52986, est=3.450272837295043, details={'actual_k': 20, 'was_impossible': False}),\n",
              " Prediction(uid=196, iid=662, r_ui=3.52986, est=3.7451306513171883, details={'actual_k': 20, 'was_impossible': False}),\n",
              " Prediction(uid=196, iid=984, r_ui=3.52986, est=3.586800613213135, details={'actual_k': 20, 'was_impossible': False}),\n",
              " Prediction(uid=196, iid=1067, r_ui=3.52986, est=3.697765884424735, details={'actual_k': 20, 'was_impossible': False}),\n",
              " Prediction(uid=196, iid=410, r_ui=3.52986, est=3.7915447074071236, details={'actual_k': 20, 'was_impossible': False}),\n",
              " Prediction(uid=196, iid=879, r_ui=3.52986, est=3.5972962759317517, details={'actual_k': 20, 'was_impossible': False}),\n",
              " Prediction(uid=196, iid=271, r_ui=3.52986, est=3.393667011108422, details={'actual_k': 20, 'was_impossible': False}),\n",
              " Prediction(uid=196, iid=1086, r_ui=3.52986, est=3.2978859817182684, details={'actual_k': 20, 'was_impossible': False}),\n",
              " Prediction(uid=196, iid=649, r_ui=3.52986, est=3.5492805173310504, details={'actual_k': 20, 'was_impossible': False}),\n",
              " Prediction(uid=196, iid=951, r_ui=3.52986, est=3.603912544722214, details={'actual_k': 20, 'was_impossible': False}),\n",
              " Prediction(uid=196, iid=197, r_ui=3.52986, est=3.7523547858790502, details={'actual_k': 20, 'was_impossible': False}),\n",
              " Prediction(uid=196, iid=678, r_ui=3.52986, est=3.5409158391286333, details={'actual_k': 20, 'was_impossible': False}),\n",
              " Prediction(uid=196, iid=199, r_ui=3.52986, est=3.4483743262800712, details={'actual_k': 20, 'was_impossible': False}),\n",
              " Prediction(uid=196, iid=709, r_ui=3.52986, est=3.3985848995418184, details={'actual_k': 20, 'was_impossible': False}),\n",
              " Prediction(uid=196, iid=169, r_ui=3.52986, est=3.6005593409764893, details={'actual_k': 20, 'was_impossible': False}),\n",
              " Prediction(uid=196, iid=597, r_ui=3.52986, est=3.5965844829696727, details={'actual_k': 20, 'was_impossible': False}),\n",
              " Prediction(uid=196, iid=1393, r_ui=3.52986, est=3.399816455909991, details={'actual_k': 20, 'was_impossible': False}),\n",
              " Prediction(uid=196, iid=333, r_ui=3.52986, est=3.5991418294935347, details={'actual_k': 20, 'was_impossible': False}),\n",
              " Prediction(uid=196, iid=1115, r_ui=3.52986, est=3.447087278334163, details={'actual_k': 20, 'was_impossible': False}),\n",
              " Prediction(uid=196, iid=577, r_ui=3.52986, est=3.648600205956485, details={'actual_k': 20, 'was_impossible': False}),\n",
              " Prediction(uid=196, iid=378, r_ui=3.52986, est=3.799978338897603, details={'actual_k': 20, 'was_impossible': False}),\n",
              " Prediction(uid=196, iid=425, r_ui=3.52986, est=3.749345284908213, details={'actual_k': 20, 'was_impossible': False}),\n",
              " Prediction(uid=196, iid=959, r_ui=3.52986, est=3.8922044758057788, details={'actual_k': 20, 'was_impossible': False}),\n",
              " Prediction(uid=196, iid=1224, r_ui=3.52986, est=3.646934415672917, details={'actual_k': 20, 'was_impossible': False}),\n",
              " Prediction(uid=196, iid=1017, r_ui=3.52986, est=3.595574788772297, details={'actual_k': 20, 'was_impossible': False}),\n",
              " Prediction(uid=196, iid=175, r_ui=3.52986, est=3.602101141268784, details={'actual_k': 20, 'was_impossible': False}),\n",
              " Prediction(uid=196, iid=558, r_ui=3.52986, est=3.5023602428874825, details={'actual_k': 20, 'was_impossible': False}),\n",
              " Prediction(uid=196, iid=206, r_ui=3.52986, est=3.249397658116723, details={'actual_k': 20, 'was_impossible': False}),\n",
              " Prediction(uid=196, iid=402, r_ui=3.52986, est=3.7049377702528403, details={'actual_k': 20, 'was_impossible': False}),\n",
              " Prediction(uid=196, iid=640, r_ui=3.52986, est=3.7917016214299766, details={'actual_k': 20, 'was_impossible': False}),\n",
              " Prediction(uid=196, iid=522, r_ui=3.52986, est=3.4954345238990325, details={'actual_k': 20, 'was_impossible': False}),\n",
              " Prediction(uid=196, iid=62, r_ui=3.52986, est=3.7463697445359223, details={'actual_k': 20, 'was_impossible': False}),\n",
              " Prediction(uid=196, iid=12, r_ui=3.52986, est=3.748512350625626, details={'actual_k': 20, 'was_impossible': False}),\n",
              " Prediction(uid=196, iid=291, r_ui=3.52986, est=3.499783267250808, details={'actual_k': 20, 'was_impossible': False}),\n",
              " Prediction(uid=196, iid=462, r_ui=3.52986, est=3.7486746445604484, details={'actual_k': 20, 'was_impossible': False}),\n",
              " Prediction(uid=196, iid=612, r_ui=3.52986, est=3.5527262973664278, details={'actual_k': 20, 'was_impossible': False}),\n",
              " Prediction(uid=196, iid=758, r_ui=3.52986, est=3.252285073857428, details={'actual_k': 20, 'was_impossible': False}),\n",
              " Prediction(uid=196, iid=163, r_ui=3.52986, est=3.7984503304408483, details={'actual_k': 20, 'was_impossible': False}),\n",
              " Prediction(uid=196, iid=1451, r_ui=3.52986, est=3.5985875390298765, details={'actual_k': 20, 'was_impossible': False}),\n",
              " Prediction(uid=196, iid=250, r_ui=3.52986, est=3.644838182574151, details={'actual_k': 20, 'was_impossible': False}),\n",
              " Prediction(uid=196, iid=823, r_ui=3.52986, est=3.651283154577529, details={'actual_k': 20, 'was_impossible': False}),\n",
              " Prediction(uid=196, iid=186, r_ui=3.52986, est=3.548481640158186, details={'actual_k': 20, 'was_impossible': False}),\n",
              " Prediction(uid=196, iid=731, r_ui=3.52986, est=3.846879384292784, details={'actual_k': 20, 'was_impossible': False}),\n",
              " Prediction(uid=196, iid=71, r_ui=3.52986, est=3.9482250614267502, details={'actual_k': 20, 'was_impossible': False}),\n",
              " Prediction(uid=196, iid=781, r_ui=3.52986, est=3.599755916651954, details={'actual_k': 20, 'was_impossible': False}),\n",
              " Prediction(uid=196, iid=176, r_ui=3.52986, est=3.5467072356779115, details={'actual_k': 20, 'was_impossible': False}),\n",
              " Prediction(uid=196, iid=1181, r_ui=3.52986, est=3.700660204146358, details={'actual_k': 20, 'was_impossible': False}),\n",
              " Prediction(uid=196, iid=78, r_ui=3.52986, est=3.9507000905361873, details={'actual_k': 20, 'was_impossible': False}),\n",
              " Prediction(uid=196, iid=436, r_ui=3.52986, est=3.5988714275929072, details={'actual_k': 20, 'was_impossible': False}),\n",
              " Prediction(uid=196, iid=631, r_ui=3.52986, est=3.8493845197288437, details={'actual_k': 20, 'was_impossible': False}),\n",
              " Prediction(uid=196, iid=716, r_ui=3.52986, est=3.5436453214047674, details={'actual_k': 20, 'was_impossible': False}),\n",
              " Prediction(uid=196, iid=188, r_ui=3.52986, est=3.7486229737589727, details={'actual_k': 20, 'was_impossible': False}),\n",
              " Prediction(uid=196, iid=699, r_ui=3.52986, est=3.351354614765373, details={'actual_k': 20, 'was_impossible': False}),\n",
              " Prediction(uid=196, iid=604, r_ui=3.52986, est=3.4004473030995337, details={'actual_k': 20, 'was_impossible': False}),\n",
              " Prediction(uid=196, iid=97, r_ui=3.52986, est=3.650567883815966, details={'actual_k': 20, 'was_impossible': False}),\n",
              " Prediction(uid=196, iid=460, r_ui=3.52986, est=3.946512138012026, details={'actual_k': 20, 'was_impossible': False}),\n",
              " Prediction(uid=196, iid=715, r_ui=3.52986, est=3.5504983737832174, details={'actual_k': 20, 'was_impossible': False}),\n",
              " Prediction(uid=196, iid=17, r_ui=3.52986, est=3.7403524830515127, details={'actual_k': 20, 'was_impossible': False}),\n",
              " Prediction(uid=196, iid=315, r_ui=3.52986, est=3.6489182932631574, details={'actual_k': 20, 'was_impossible': False}),\n",
              " Prediction(uid=196, iid=505, r_ui=3.52986, est=3.59617620135031, details={'actual_k': 20, 'was_impossible': False}),\n",
              " Prediction(uid=196, iid=279, r_ui=3.52986, est=3.645648526707421, details={'actual_k': 20, 'was_impossible': False}),\n",
              " Prediction(uid=196, iid=80, r_ui=3.52986, est=3.6523991799355437, details={'actual_k': 20, 'was_impossible': False}),\n",
              " Prediction(uid=196, iid=60, r_ui=3.52986, est=3.5492170206039213, details={'actual_k': 20, 'was_impossible': False}),\n",
              " Prediction(uid=196, iid=325, r_ui=3.52986, est=3.73057579923437, details={'actual_k': 20, 'was_impossible': False}),\n",
              " Prediction(uid=196, iid=407, r_ui=3.52986, est=3.5992566320691877, details={'actual_k': 20, 'was_impossible': False}),\n",
              " Prediction(uid=196, iid=531, r_ui=3.52986, est=3.7497921268766023, details={'actual_k': 20, 'was_impossible': False}),\n",
              " Prediction(uid=196, iid=587, r_ui=3.52986, est=3.599581144556018, details={'actual_k': 20, 'was_impossible': False}),\n",
              " Prediction(uid=196, iid=892, r_ui=3.52986, est=3.8519008696836785, details={'actual_k': 20, 'was_impossible': False}),\n",
              " Prediction(uid=196, iid=1047, r_ui=3.52986, est=3.5984844112222545, details={'actual_k': 20, 'was_impossible': False}),\n",
              " Prediction(uid=196, iid=47, r_ui=3.52986, est=3.799437816629787, details={'actual_k': 20, 'was_impossible': False}),\n",
              " Prediction(uid=196, iid=217, r_ui=3.52986, est=3.3509557287315577, details={'actual_k': 20, 'was_impossible': False}),\n",
              " Prediction(uid=196, iid=259, r_ui=3.52986, est=3.5475925720231962, details={'actual_k': 20, 'was_impossible': False}),\n",
              " Prediction(uid=196, iid=596, r_ui=3.52986, est=3.55066719332595, details={'actual_k': 20, 'was_impossible': False}),\n",
              " Prediction(uid=196, iid=960, r_ui=3.52986, est=3.490903166664047, details={'actual_k': 20, 'was_impossible': False}),\n",
              " Prediction(uid=196, iid=211, r_ui=3.52986, est=3.599772875372731, details={'actual_k': 20, 'was_impossible': False}),\n",
              " Prediction(uid=196, iid=938, r_ui=3.52986, est=3.656644005757885, details={'actual_k': 20, 'was_impossible': False}),\n",
              " Prediction(uid=196, iid=1060, r_ui=3.52986, est=3.553205969063079, details={'actual_k': 20, 'was_impossible': False}),\n",
              " Prediction(uid=196, iid=404, r_ui=3.52986, est=3.754221260631719, details={'actual_k': 20, 'was_impossible': False}),\n",
              " Prediction(uid=196, iid=305, r_ui=3.52986, est=3.493835640883994, details={'actual_k': 20, 'was_impossible': False}),\n",
              " Prediction(uid=196, iid=210, r_ui=3.52986, est=3.5498963580016483, details={'actual_k': 20, 'was_impossible': False}),\n",
              " Prediction(uid=196, iid=278, r_ui=3.52986, est=3.6530132643751245, details={'actual_k': 20, 'was_impossible': False}),\n",
              " Prediction(uid=196, iid=770, r_ui=3.52986, est=3.7486833594945153, details={'actual_k': 20, 'was_impossible': False}),\n",
              " Prediction(uid=196, iid=252, r_ui=3.52986, est=3.6512617516570978, details={'actual_k': 20, 'was_impossible': False}),\n",
              " Prediction(uid=196, iid=156, r_ui=3.52986, est=3.702963081734683, details={'actual_k': 20, 'was_impossible': False}),\n",
              " Prediction(uid=196, iid=1110, r_ui=3.52986, est=3.4499557227408197, details={'actual_k': 20, 'was_impossible': False}),\n",
              " Prediction(uid=196, iid=350, r_ui=3.52986, est=3.2537073274118735, details={'actual_k': 20, 'was_impossible': False}),\n",
              " Prediction(uid=196, iid=431, r_ui=3.52986, est=3.598536728147709, details={'actual_k': 20, 'was_impossible': False}),\n",
              " Prediction(uid=196, iid=475, r_ui=3.52986, est=3.603833669929207, details={'actual_k': 20, 'was_impossible': False}),\n",
              " Prediction(uid=196, iid=182, r_ui=3.52986, est=3.5500180271440005, details={'actual_k': 20, 'was_impossible': False}),\n",
              " Prediction(uid=196, iid=50, r_ui=3.52986, est=3.699167891102574, details={'actual_k': 20, 'was_impossible': False}),\n",
              " Prediction(uid=196, iid=365, r_ui=3.52986, est=3.844416445840935, details={'actual_k': 20, 'was_impossible': False}),\n",
              " Prediction(uid=196, iid=187, r_ui=3.52986, est=3.598953420586281, details={'actual_k': 20, 'was_impossible': False}),\n",
              " Prediction(uid=196, iid=289, r_ui=3.52986, est=3.49634459470568, details={'actual_k': 20, 'was_impossible': False}),\n",
              " Prediction(uid=196, iid=185, r_ui=3.52986, est=3.7027801881282127, details={'actual_k': 20, 'was_impossible': False}),\n",
              " Prediction(uid=196, iid=712, r_ui=3.52986, est=3.649674076947411, details={'actual_k': 20, 'was_impossible': False}),\n",
              " Prediction(uid=196, iid=742, r_ui=3.52986, est=3.4994689437472477, details={'actual_k': 20, 'was_impossible': False}),\n",
              " Prediction(uid=196, iid=732, r_ui=3.52986, est=3.6474989600794014, details={'actual_k': 20, 'was_impossible': False}),\n",
              " Prediction(uid=196, iid=168, r_ui=3.52986, est=3.6491630396367696, details={'actual_k': 20, 'was_impossible': False}),\n",
              " Prediction(uid=196, iid=550, r_ui=3.52986, est=3.5999850601608387, details={'actual_k': 20, 'was_impossible': False}),\n",
              " Prediction(uid=196, iid=849, r_ui=3.52986, est=3.493906575515668, details={'actual_k': 20, 'was_impossible': False}),\n",
              " Prediction(uid=196, iid=406, r_ui=3.52986, est=3.394825021957593, details={'actual_k': 20, 'was_impossible': False}),\n",
              " Prediction(uid=196, iid=150, r_ui=3.52986, est=3.598669949332802, details={'actual_k': 20, 'was_impossible': False}),\n",
              " Prediction(uid=196, iid=869, r_ui=3.52986, est=3.5442385863536447, details={'actual_k': 20, 'was_impossible': False}),\n",
              " Prediction(uid=196, iid=184, r_ui=3.52986, est=3.4948795745731096, details={'actual_k': 20, 'was_impossible': False}),\n",
              " Prediction(uid=196, iid=371, r_ui=3.52986, est=3.647769684680209, details={'actual_k': 20, 'was_impossible': False}),\n",
              " Prediction(uid=196, iid=720, r_ui=3.52986, est=3.598147870884716, details={'actual_k': 20, 'was_impossible': False}),\n",
              " Prediction(uid=196, iid=873, r_ui=3.52986, est=3.6952966851464333, details={'actual_k': 20, 'was_impossible': False}),\n",
              " Prediction(uid=196, iid=922, r_ui=3.52986, est=3.345779187926355, details={'actual_k': 20, 'was_impossible': False}),\n",
              " Prediction(uid=196, iid=57, r_ui=3.52986, est=3.6957599686223306, details={'actual_k': 20, 'was_impossible': False}),\n",
              " Prediction(uid=196, iid=370, r_ui=3.52986, est=3.4001505242117536, details={'actual_k': 20, 'was_impossible': False}),\n",
              " Prediction(uid=196, iid=249, r_ui=3.52986, est=3.7003977289223036, details={'actual_k': 20, 'was_impossible': False}),\n",
              " Prediction(uid=196, iid=721, r_ui=3.52986, est=3.743536511426345, details={'actual_k': 20, 'was_impossible': False}),\n",
              " Prediction(uid=196, iid=611, r_ui=3.52986, est=3.545072638393874, details={'actual_k': 20, 'was_impossible': False}),\n",
              " Prediction(uid=196, iid=142, r_ui=3.52986, est=3.35065812782194, details={'actual_k': 20, 'was_impossible': False}),\n",
              " Prediction(uid=196, iid=943, r_ui=3.52986, est=3.445901589307996, details={'actual_k': 20, 'was_impossible': False}),\n",
              " Prediction(uid=196, iid=126, r_ui=3.52986, est=3.195953206173765, details={'actual_k': 20, 'was_impossible': False}),\n",
              " Prediction(uid=196, iid=824, r_ui=3.52986, est=3.643118302348803, details={'actual_k': 20, 'was_impossible': False}),\n",
              " Prediction(uid=196, iid=58, r_ui=3.52986, est=3.750757589220598, details={'actual_k': 20, 'was_impossible': False}),\n",
              " Prediction(uid=196, iid=680, r_ui=3.52986, est=3.6435623985408334, details={'actual_k': 20, 'was_impossible': False}),\n",
              " Prediction(uid=196, iid=741, r_ui=3.52986, est=3.6944378522416472, details={'actual_k': 20, 'was_impossible': False}),\n",
              " Prediction(uid=196, iid=1061, r_ui=3.52986, est=3.7054202950200263, details={'actual_k': 20, 'was_impossible': False}),\n",
              " Prediction(uid=196, iid=448, r_ui=3.52986, est=3.697980120697577, details={'actual_k': 20, 'was_impossible': False}),\n",
              " Prediction(uid=196, iid=900, r_ui=3.52986, est=3.398482260808095, details={'actual_k': 20, 'was_impossible': False}),\n",
              " Prediction(uid=196, iid=941, r_ui=3.52986, est=3.453341189486815, details={'actual_k': 20, 'was_impossible': False}),\n",
              " Prediction(uid=196, iid=905, r_ui=3.52986, est=3.546985909426431, details={'actual_k': 20, 'was_impossible': False}),\n",
              " Prediction(uid=196, iid=1497, r_ui=3.52986, est=3.8997876061571524, details={'actual_k': 20, 'was_impossible': False}),\n",
              " Prediction(uid=196, iid=55, r_ui=3.52986, est=3.650814611787305, details={'actual_k': 20, 'was_impossible': False}),\n",
              " Prediction(uid=196, iid=744, r_ui=3.52986, est=3.696815265126821, details={'actual_k': 20, 'was_impossible': False}),\n",
              " Prediction(uid=196, iid=642, r_ui=3.52986, est=3.5478136537792895, details={'actual_k': 20, 'was_impossible': False}),\n",
              " Prediction(uid=196, iid=1015, r_ui=3.52986, est=3.745592251952068, details={'actual_k': 20, 'was_impossible': False}),\n",
              " Prediction(uid=196, iid=121, r_ui=3.52986, est=3.696923359778397, details={'actual_k': 20, 'was_impossible': False}),\n",
              " Prediction(uid=196, iid=301, r_ui=3.52986, est=3.450175926317303, details={'actual_k': 20, 'was_impossible': False}),\n",
              " Prediction(uid=196, iid=81, r_ui=3.52986, est=3.750782628018607, details={'actual_k': 20, 'was_impossible': False}),\n",
              " Prediction(uid=196, iid=284, r_ui=3.52986, est=3.398167213116215, details={'actual_k': 20, 'was_impossible': False}),\n",
              " Prediction(uid=196, iid=740, r_ui=3.52986, est=3.5011727820379037, details={'actual_k': 20, 'was_impossible': False}),\n",
              " Prediction(uid=196, iid=22, r_ui=3.52986, est=3.5994232774290915, details={'actual_k': 20, 'was_impossible': False}),\n",
              " Prediction(uid=196, iid=864, r_ui=3.52986, est=3.5455775697813157, details={'actual_k': 20, 'was_impossible': False}),\n",
              " Prediction(uid=196, iid=1099, r_ui=3.52986, est=3.5007365046202072, details={'actual_k': 20, 'was_impossible': False}),\n",
              " Prediction(uid=196, iid=961, r_ui=3.52986, est=3.704822403398316, details={'actual_k': 20, 'was_impossible': False}),\n",
              " Prediction(uid=196, iid=812, r_ui=3.52986, est=3.646227207205567, details={'actual_k': 20, 'was_impossible': False}),\n",
              " Prediction(uid=196, iid=240, r_ui=3.52986, est=3.7979816316457513, details={'actual_k': 20, 'was_impossible': False}),\n",
              " Prediction(uid=196, iid=376, r_ui=3.52986, est=3.6487921285966785, details={'actual_k': 20, 'was_impossible': False}),\n",
              " Prediction(uid=196, iid=931, r_ui=3.52986, est=3.3510533411780528, details={'actual_k': 20, 'was_impossible': False}),\n",
              " Prediction(uid=196, iid=717, r_ui=3.52986, est=3.440161113397438, details={'actual_k': 20, 'was_impossible': False}),\n",
              " Prediction(uid=196, iid=399, r_ui=3.52986, est=3.503468852128705, details={'actual_k': 20, 'was_impossible': False}),\n",
              " Prediction(uid=196, iid=1039, r_ui=3.52986, est=3.5458427768204417, details={'actual_k': 20, 'was_impossible': False}),\n",
              " Prediction(uid=196, iid=1114, r_ui=3.52986, est=3.653580930112181, details={'actual_k': 20, 'was_impossible': False}),\n",
              " Prediction(uid=196, iid=292, r_ui=3.52986, est=3.552070812644399, details={'actual_k': 20, 'was_impossible': False}),\n",
              " Prediction(uid=196, iid=561, r_ui=3.52986, est=3.5508942988460497, details={'actual_k': 20, 'was_impossible': False}),\n",
              " Prediction(uid=196, iid=901, r_ui=3.52986, est=3.8677417554359192, details={'actual_k': 20, 'was_impossible': False}),\n",
              " Prediction(uid=196, iid=417, r_ui=3.52986, est=3.5988176764400963, details={'actual_k': 20, 'was_impossible': False}),\n",
              " Prediction(uid=196, iid=809, r_ui=3.52986, est=3.3873816944341604, details={'actual_k': 20, 'was_impossible': False}),\n",
              " Prediction(uid=196, iid=540, r_ui=3.52986, est=3.650681517015404, details={'actual_k': 20, 'was_impossible': False}),\n",
              " Prediction(uid=196, iid=293, r_ui=3.52986, est=3.449050217611843, details={'actual_k': 20, 'was_impossible': False}),\n",
              " Prediction(uid=196, iid=497, r_ui=3.52986, est=3.496971221577598, details={'actual_k': 20, 'was_impossible': False}),\n",
              " Prediction(uid=196, iid=1462, r_ui=3.52986, est=3.600029323938891, details={'actual_k': 20, 'was_impossible': False}),\n",
              " Prediction(uid=196, iid=1246, r_ui=3.52986, est=3.6483384989060075, details={'actual_k': 20, 'was_impossible': False}),\n",
              " Prediction(uid=196, iid=588, r_ui=3.52986, est=3.5504449605782904, details={'actual_k': 20, 'was_impossible': False}),\n",
              " Prediction(uid=196, iid=409, r_ui=3.52986, est=3.7057621386865827, details={'actual_k': 20, 'was_impossible': False}),\n",
              " Prediction(uid=196, iid=739, r_ui=3.52986, est=3.64974892032086, details={'actual_k': 20, 'was_impossible': False}),\n",
              " Prediction(uid=196, iid=661, r_ui=3.52986, est=3.6535867798284976, details={'actual_k': 20, 'was_impossible': False}),\n",
              " Prediction(uid=196, iid=665, r_ui=3.52986, est=3.498610041037584, details={'actual_k': 20, 'was_impossible': False}),\n",
              " Prediction(uid=196, iid=439, r_ui=3.52986, est=3.6994184212304844, details={'actual_k': 20, 'was_impossible': False}),\n",
              " Prediction(uid=196, iid=632, r_ui=3.52986, est=3.5985181549301437, details={'actual_k': 20, 'was_impossible': False}),\n",
              " Prediction(uid=196, iid=1198, r_ui=3.52986, est=3.5487759646077626, details={'actual_k': 20, 'was_impossible': False}),\n",
              " Prediction(uid=196, iid=609, r_ui=3.52986, est=3.549105215047845, details={'actual_k': 20, 'was_impossible': False}),\n",
              " Prediction(uid=196, iid=225, r_ui=3.52986, est=3.749167873076329, details={'actual_k': 20, 'was_impossible': False}),\n",
              " Prediction(uid=196, iid=128, r_ui=3.52986, est=3.7436112427803057, details={'actual_k': 20, 'was_impossible': False}),\n",
              " Prediction(uid=196, iid=866, r_ui=3.52986, est=3.5451656500775206, details={'actual_k': 20, 'was_impossible': False}),\n",
              " Prediction(uid=196, iid=295, r_ui=3.52986, est=3.3962341618834317, details={'actual_k': 20, 'was_impossible': False}),\n",
              " Prediction(uid=196, iid=49, r_ui=3.52986, est=3.6005201511238965, details={'actual_k': 20, 'was_impossible': False}),\n",
              " Prediction(uid=196, iid=626, r_ui=3.52986, est=3.599637864435004, details={'actual_k': 20, 'was_impossible': False}),\n",
              " Prediction(uid=196, iid=707, r_ui=3.52986, est=3.7479588554600296, details={'actual_k': 20, 'was_impossible': False}),\n",
              " Prediction(uid=196, iid=586, r_ui=3.52986, est=3.602242135377399, details={'actual_k': 20, 'was_impossible': False}),\n",
              " Prediction(uid=196, iid=593, r_ui=3.52986, est=3.79185653169414, details={'actual_k': 20, 'was_impossible': False}),\n",
              " Prediction(uid=196, iid=147, r_ui=3.52986, est=3.648716823852961, details={'actual_k': 20, 'was_impossible': False}),\n",
              " Prediction(uid=196, iid=1220, r_ui=3.52986, est=3.5971149182708864, details={'actual_k': 20, 'was_impossible': False}),\n",
              " Prediction(uid=196, iid=492, r_ui=3.52986, est=3.6486301872510603, details={'actual_k': 20, 'was_impossible': False}),\n",
              " Prediction(uid=196, iid=620, r_ui=3.52986, est=3.551184685252918, details={'actual_k': 20, 'was_impossible': False}),\n",
              " Prediction(uid=196, iid=161, r_ui=3.52986, est=3.6482271073116075, details={'actual_k': 20, 'was_impossible': False}),\n",
              " Prediction(uid=196, iid=1070, r_ui=3.52986, est=3.6470287846968046, details={'actual_k': 20, 'was_impossible': False}),\n",
              " Prediction(uid=196, iid=449, r_ui=3.52986, est=3.694721937743542, details={'actual_k': 20, 'was_impossible': False}),\n",
              " Prediction(uid=196, iid=948, r_ui=3.52986, est=3.5387387118095615, details={'actual_k': 20, 'was_impossible': False}),\n",
              " Prediction(uid=196, iid=509, r_ui=3.52986, est=3.697801093032523, details={'actual_k': 20, 'was_impossible': False}),\n",
              " Prediction(uid=196, iid=870, r_ui=3.52986, est=3.800693535193245, details={'actual_k': 20, 'was_impossible': False}),\n",
              " Prediction(uid=196, iid=39, r_ui=3.52986, est=3.9477873441132316, details={'actual_k': 20, 'was_impossible': False}),\n",
              " Prediction(uid=196, iid=1100, r_ui=3.52986, est=3.5939870440720383, details={'actual_k': 20, 'was_impossible': False}),\n",
              " Prediction(uid=196, iid=820, r_ui=3.52986, est=3.749462199564021, details={'actual_k': 20, 'was_impossible': False}),\n",
              " Prediction(uid=196, iid=660, r_ui=3.52986, est=3.6477599093132818, details={'actual_k': 20, 'was_impossible': False}),\n",
              " Prediction(uid=196, iid=120, r_ui=3.52986, est=3.5545880974799346, details={'actual_k': 20, 'was_impossible': False}),\n",
              " Prediction(uid=196, iid=780, r_ui=3.52986, est=3.992659657529014, details={'actual_k': 20, 'was_impossible': False}),\n",
              " Prediction(uid=196, iid=44, r_ui=3.52986, est=3.796316955883722, details={'actual_k': 20, 'was_impossible': False}),\n",
              " Prediction(uid=196, iid=686, r_ui=3.52986, est=3.699688801270495, details={'actual_k': 20, 'was_impossible': False}),\n",
              " Prediction(uid=196, iid=28, r_ui=3.52986, est=3.5989778975224356, details={'actual_k': 20, 'was_impossible': False}),\n",
              " Prediction(uid=196, iid=729, r_ui=3.52986, est=3.4020648283842396, details={'actual_k': 20, 'was_impossible': False}),\n",
              " Prediction(uid=196, iid=52, r_ui=3.52986, est=3.651577334419464, details={'actual_k': 20, 'was_impossible': False}),\n",
              " Prediction(uid=196, iid=230, r_ui=3.52986, est=3.697725159116493, details={'actual_k': 20, 'was_impossible': False}),\n",
              " Prediction(uid=196, iid=506, r_ui=3.52986, est=3.8011056086964583, details={'actual_k': 20, 'was_impossible': False}),\n",
              " Prediction(uid=196, iid=566, r_ui=3.52986, est=3.549163696762589, details={'actual_k': 20, 'was_impossible': False}),\n",
              " Prediction(uid=196, iid=774, r_ui=3.52986, est=3.6438371800222, details={'actual_k': 20, 'was_impossible': False}),\n",
              " Prediction(uid=196, iid=1003, r_ui=3.52986, est=3.3600064840221497, details={'actual_k': 20, 'was_impossible': False}),\n",
              " Prediction(uid=196, iid=433, r_ui=3.52986, est=3.6026276963990265, details={'actual_k': 20, 'was_impossible': False}),\n",
              " Prediction(uid=196, iid=99, r_ui=3.52986, est=3.7485679105544336, details={'actual_k': 20, 'was_impossible': False}),\n",
              " Prediction(uid=196, iid=1288, r_ui=3.52986, est=3.309018125493841, details={'actual_k': 20, 'was_impossible': False}),\n",
              " Prediction(uid=196, iid=190, r_ui=3.52986, est=3.7500153425452756, details={'actual_k': 20, 'was_impossible': False}),\n",
              " Prediction(uid=196, iid=1010, r_ui=3.52986, est=3.847004653342619, details={'actual_k': 20, 'was_impossible': False}),\n",
              " Prediction(uid=196, iid=877, r_ui=3.52986, est=3.64956113439511, details={'actual_k': 20, 'was_impossible': False}),\n",
              " Prediction(uid=196, iid=487, r_ui=3.52986, est=3.7460828174899463, details={'actual_k': 20, 'was_impossible': False}),\n",
              " Prediction(uid=196, iid=1052, r_ui=3.52986, est=3.7936813016683075, details={'actual_k': 20, 'was_impossible': False}),\n",
              " Prediction(uid=196, iid=659, r_ui=3.52986, est=3.501045142548896, details={'actual_k': 20, 'was_impossible': False}),\n",
              " Prediction(uid=196, iid=927, r_ui=3.52986, est=3.799501718831466, details={'actual_k': 20, 'was_impossible': False}),\n",
              " Prediction(uid=196, iid=696, r_ui=3.52986, est=3.3971369346350313, details={'actual_k': 20, 'was_impossible': False}),\n",
              " Prediction(uid=196, iid=179, r_ui=3.52986, est=3.597729885567216, details={'actual_k': 20, 'was_impossible': False}),\n",
              " Prediction(uid=196, iid=440, r_ui=3.52986, est=3.558449367616919, details={'actual_k': 20, 'was_impossible': False}),\n",
              " Prediction(uid=196, iid=806, r_ui=3.52986, est=3.84404147012165, details={'actual_k': 20, 'was_impossible': False}),\n",
              " Prediction(uid=196, iid=572, r_ui=3.52986, est=3.600085607463965, details={'actual_k': 20, 'was_impossible': False}),\n",
              " Prediction(uid=196, iid=654, r_ui=3.52986, est=3.803094738841988, details={'actual_k': 20, 'was_impossible': False}),\n",
              " Prediction(uid=196, iid=324, r_ui=3.52986, est=3.547823615533724, details={'actual_k': 20, 'was_impossible': False}),\n",
              " Prediction(uid=196, iid=736, r_ui=3.52986, est=3.7006126232329684, details={'actual_k': 20, 'was_impossible': False}),\n",
              " Prediction(uid=196, iid=92, r_ui=3.52986, est=3.6041072667564666, details={'actual_k': 20, 'was_impossible': False}),\n",
              " Prediction(uid=196, iid=461, r_ui=3.52986, est=3.4487750784464835, details={'actual_k': 20, 'was_impossible': False}),\n",
              " Prediction(uid=196, iid=129, r_ui=3.52986, est=3.448261687407806, details={'actual_k': 20, 'was_impossible': False}),\n",
              " Prediction(uid=196, iid=9, r_ui=3.52986, est=3.9007872076018515, details={'actual_k': 20, 'was_impossible': False}),\n",
              " Prediction(uid=196, iid=152, r_ui=3.52986, est=3.7480827444114633, details={'actual_k': 20, 'was_impossible': False}),\n",
              " Prediction(uid=196, iid=233, r_ui=3.52986, est=3.7998884604789107, details={'actual_k': 20, 'was_impossible': False}),\n",
              " Prediction(uid=196, iid=589, r_ui=3.52986, est=3.5941821379696632, details={'actual_k': 20, 'was_impossible': False}),\n",
              " Prediction(uid=196, iid=203, r_ui=3.52986, est=3.6000371745773707, details={'actual_k': 20, 'was_impossible': False}),\n",
              " Prediction(uid=196, iid=1034, r_ui=3.52986, est=3.6417624490501006, details={'actual_k': 20, 'was_impossible': False}),\n",
              " Prediction(uid=196, iid=923, r_ui=3.52986, est=3.695046727721601, details={'actual_k': 20, 'was_impossible': False}),\n",
              " Prediction(uid=196, iid=463, r_ui=3.52986, est=3.70058182380037, details={'actual_k': 20, 'was_impossible': False}),\n",
              " Prediction(uid=196, iid=122, r_ui=3.52986, est=3.648041396485856, details={'actual_k': 20, 'was_impossible': False}),\n",
              " Prediction(uid=196, iid=310, r_ui=3.52986, est=3.4499583684592907, details={'actual_k': 20, 'was_impossible': False}),\n",
              " Prediction(uid=196, iid=447, r_ui=3.52986, est=3.7982730008893313, details={'actual_k': 20, 'was_impossible': False}),\n",
              " Prediction(uid=196, iid=412, r_ui=3.52986, est=3.7959463450102344, details={'actual_k': 20, 'was_impossible': False}),\n",
              " Prediction(uid=196, iid=1428, r_ui=3.52986, est=3.646680678231134, details={'actual_k': 20, 'was_impossible': False}),\n",
              " Prediction(uid=196, iid=977, r_ui=3.52986, est=3.7011377597915898, details={'actual_k': 20, 'was_impossible': False}),\n",
              " Prediction(uid=196, iid=1065, r_ui=3.52986, est=3.545917738929286, details={'actual_k': 20, 'was_impossible': False}),\n",
              " Prediction(uid=196, iid=421, r_ui=3.52986, est=3.5474404137878355, details={'actual_k': 20, 'was_impossible': False}),\n",
              " Prediction(uid=196, iid=937, r_ui=3.52986, est=3.8442592566381735, details={'actual_k': 20, 'was_impossible': False}),\n",
              " Prediction(uid=196, iid=583, r_ui=3.52986, est=3.302359264138341, details={'actual_k': 20, 'was_impossible': False}),\n",
              " Prediction(uid=196, iid=831, r_ui=3.52986, est=3.600063157671486, details={'actual_k': 20, 'was_impossible': False}),\n",
              " Prediction(uid=196, iid=543, r_ui=3.52986, est=3.6025642076744844, details={'actual_k': 20, 'was_impossible': False}),\n",
              " Prediction(uid=196, iid=926, r_ui=3.52986, est=3.393582719713645, details={'actual_k': 20, 'was_impossible': False}),\n",
              " Prediction(uid=196, iid=155, r_ui=3.52986, est=3.7456452862187515, details={'actual_k': 20, 'was_impossible': False}),\n",
              " Prediction(uid=196, iid=53, r_ui=3.52986, est=3.645913083301056, details={'actual_k': 20, 'was_impossible': False}),\n",
              " Prediction(uid=196, iid=91, r_ui=3.52986, est=3.5501800166111965, details={'actual_k': 20, 'was_impossible': False}),\n",
              " Prediction(uid=196, iid=477, r_ui=3.52986, est=3.505568361526567, details={'actual_k': 20, 'was_impossible': False}),\n",
              " Prediction(uid=196, iid=472, r_ui=3.52986, est=3.5019333722795434, details={'actual_k': 20, 'was_impossible': False}),\n",
              " Prediction(uid=196, iid=761, r_ui=3.52986, est=3.3503001484034605, details={'actual_k': 20, 'was_impossible': False}),\n",
              " Prediction(uid=196, iid=1286, r_ui=3.52986, est=3.251010316858236, details={'actual_k': 20, 'was_impossible': False}),\n",
              " Prediction(uid=196, iid=93, r_ui=3.52986, est=3.650795942875897, details={'actual_k': 20, 'was_impossible': False}),\n",
              " Prediction(uid=196, iid=644, r_ui=3.52986, est=3.700975718452559, details={'actual_k': 20, 'was_impossible': False}),\n",
              " Prediction(uid=196, iid=982, r_ui=3.52986, est=3.449909782573558, details={'actual_k': 20, 'was_impossible': False}),\n",
              " Prediction(uid=196, iid=491, r_ui=3.52986, est=3.802714306568487, details={'actual_k': 20, 'was_impossible': False}),\n",
              " Prediction(uid=196, iid=511, r_ui=3.52986, est=3.698587810931047, details={'actual_k': 20, 'was_impossible': False}),\n",
              " Prediction(uid=196, iid=397, r_ui=3.52986, est=3.692811128957141, details={'actual_k': 20, 'was_impossible': False}),\n",
              " Prediction(uid=196, iid=162, r_ui=3.52986, est=3.696835429283735, details={'actual_k': 20, 'was_impossible': False}),\n",
              " Prediction(uid=196, iid=513, r_ui=3.52986, est=3.44998240875578, details={'actual_k': 20, 'was_impossible': False}),\n",
              " Prediction(uid=196, iid=375, r_ui=3.52986, est=3.56773515454637, details={'actual_k': 20, 'was_impossible': False}),\n",
              " Prediction(uid=196, iid=38, r_ui=3.52986, est=3.7473999811117884, details={'actual_k': 20, 'was_impossible': False}),\n",
              " Prediction(uid=196, iid=418, r_ui=3.52986, est=3.749703212036553, details={'actual_k': 20, 'was_impossible': False}),\n",
              " Prediction(uid=196, iid=858, r_ui=3.52986, est=3.8, details={'actual_k': 20, 'was_impossible': False}),\n",
              " Prediction(uid=196, iid=131, r_ui=3.52986, est=3.8481720159824433, details={'actual_k': 20, 'was_impossible': False}),\n",
              " Prediction(uid=196, iid=87, r_ui=3.52986, est=3.6480877967920384, details={'actual_k': 20, 'was_impossible': False}),\n",
              " Prediction(uid=196, iid=725, r_ui=3.52986, est=3.449743637464122, details={'actual_k': 20, 'was_impossible': False}),\n",
              " Prediction(uid=196, iid=72, r_ui=3.52986, est=3.74499785189034, details={'actual_k': 20, 'was_impossible': False}),\n",
              " Prediction(uid=196, iid=1133, r_ui=3.52986, est=3.55043923629853, details={'actual_k': 20, 'was_impossible': False}),\n",
              " Prediction(uid=196, iid=125, r_ui=3.52986, est=3.65069502706722, details={'actual_k': 20, 'was_impossible': False}),\n",
              " Prediction(uid=196, iid=1248, r_ui=3.52986, est=3.3983560575860965, details={'actual_k': 20, 'was_impossible': False}),\n",
              " Prediction(uid=196, iid=354, r_ui=3.52986, est=3.6462721995210883, details={'actual_k': 20, 'was_impossible': False}),\n",
              " Prediction(uid=196, iid=105, r_ui=3.52986, est=3.643717189731512, details={'actual_k': 20, 'was_impossible': False}),\n",
              " Prediction(uid=196, iid=73, r_ui=3.52986, est=3.647441476497482, details={'actual_k': 20, 'was_impossible': False}),\n",
              " Prediction(uid=196, iid=239, r_ui=3.52986, est=3.6470149504951013, details={'actual_k': 20, 'was_impossible': False}),\n",
              " Prediction(uid=196, iid=860, r_ui=3.52986, est=3.5019397125882734, details={'actual_k': 20, 'was_impossible': False}),\n",
              " Prediction(uid=196, iid=1046, r_ui=3.52986, est=3.7475045600230876, details={'actual_k': 20, 'was_impossible': False}),\n",
              " Prediction(uid=196, iid=1178, r_ui=3.52986, est=3.5475058985137364, details={'actual_k': 20, 'was_impossible': False}),\n",
              " Prediction(uid=196, iid=523, r_ui=3.52986, est=3.7023662676227707, details={'actual_k': 20, 'was_impossible': False}),\n",
              " Prediction(uid=196, iid=634, r_ui=3.52986, est=3.7504802321226403, details={'actual_k': 20, 'was_impossible': False}),\n",
              " Prediction(uid=196, iid=1245, r_ui=3.52986, est=3.906740823115294, details={'actual_k': 20, 'was_impossible': False}),\n",
              " Prediction(uid=196, iid=974, r_ui=3.52986, est=3.836645115198604, details={'actual_k': 20, 'was_impossible': False}),\n",
              " Prediction(uid=196, iid=619, r_ui=3.52986, est=3.64554769953427, details={'actual_k': 20, 'was_impossible': False}),\n",
              " Prediction(uid=196, iid=107, r_ui=3.52986, est=3.5983721078458886, details={'actual_k': 20, 'was_impossible': False}),\n",
              " Prediction(uid=196, iid=213, r_ui=3.52986, est=3.651237100478337, details={'actual_k': 20, 'was_impossible': False}),\n",
              " Prediction(uid=196, iid=319, r_ui=3.52986, est=3.6965226122414907, details={'actual_k': 20, 'was_impossible': False}),\n",
              " Prediction(uid=196, iid=963, r_ui=3.52986, est=3.8509065492607224, details={'actual_k': 20, 'was_impossible': False}),\n",
              " Prediction(uid=196, iid=875, r_ui=3.52986, est=3.741153480556822, details={'actual_k': 20, 'was_impossible': False}),\n",
              " Prediction(uid=196, iid=180, r_ui=3.52986, est=3.6512479074665287, details={'actual_k': 20, 'was_impossible': False}),\n",
              " Prediction(uid=196, iid=1033, r_ui=3.52986, est=3.894886361503796, details={'actual_k': 20, 'was_impossible': False}),\n",
              " Prediction(uid=196, iid=380, r_ui=3.52986, est=3.547903707606465, details={'actual_k': 20, 'was_impossible': False}),\n",
              " Prediction(uid=196, iid=59, r_ui=3.52986, est=3.8016167848470377, details={'actual_k': 20, 'was_impossible': False}),\n",
              " Prediction(uid=196, iid=1078, r_ui=3.52986, est=3.7963672169212215, details={'actual_k': 20, 'was_impossible': False}),\n",
              " Prediction(uid=196, iid=585, r_ui=3.52986, est=3.7537469679774036, details={'actual_k': 20, 'was_impossible': False}),\n",
              " Prediction(uid=196, iid=148, r_ui=3.52986, est=3.849365892333677, details={'actual_k': 20, 'was_impossible': False}),\n",
              " Prediction(uid=196, iid=683, r_ui=3.52986, est=3.6366551065026336, details={'actual_k': 20, 'was_impossible': False}),\n",
              " Prediction(uid=196, iid=454, r_ui=3.52986, est=3.701144898508387, details={'actual_k': 20, 'was_impossible': False}),\n",
              " Prediction(uid=196, iid=737, r_ui=3.52986, est=3.68717224040383, details={'actual_k': 20, 'was_impossible': False}),\n",
              " Prediction(uid=196, iid=524, r_ui=3.52986, est=3.698850804539709, details={'actual_k': 20, 'was_impossible': False}),\n",
              " Prediction(uid=196, iid=995, r_ui=3.52986, est=3.551449504169575, details={'actual_k': 20, 'was_impossible': False}),\n",
              " Prediction(uid=196, iid=616, r_ui=3.52986, est=3.697774523751374, details={'actual_k': 20, 'was_impossible': False}),\n",
              " Prediction(uid=196, iid=945, r_ui=3.52986, est=3.4965936941427995, details={'actual_k': 20, 'was_impossible': False}),\n",
              " Prediction(uid=196, iid=299, r_ui=3.52986, est=3.311744121737865, details={'actual_k': 20, 'was_impossible': False}),\n",
              " Prediction(uid=196, iid=792, r_ui=3.52986, est=3.8501176557340813, details={'actual_k': 20, 'was_impossible': False}),\n",
              " Prediction(uid=196, iid=708, r_ui=3.52986, est=3.4512247804267515, details={'actual_k': 20, 'was_impossible': False}),\n",
              " Prediction(uid=196, iid=950, r_ui=3.52986, est=3.6449925299001773, details={'actual_k': 20, 'was_impossible': False}),\n",
              " Prediction(uid=196, iid=27, r_ui=3.52986, est=3.646745671964358, details={'actual_k': 20, 'was_impossible': False}),\n",
              " Prediction(uid=196, iid=747, r_ui=3.52986, est=3.7486246522510687, details={'actual_k': 20, 'was_impossible': False}),\n",
              " Prediction(uid=196, iid=85, r_ui=3.52986, est=3.498482243883522, details={'actual_k': 20, 'was_impossible': False}),\n",
              " Prediction(uid=196, iid=516, r_ui=3.52986, est=3.6447023227975257, details={'actual_k': 20, 'was_impossible': False}),\n",
              " Prediction(uid=196, iid=1063, r_ui=3.52986, est=3.798502535602362, details={'actual_k': 20, 'was_impossible': False}),\n",
              " Prediction(uid=196, iid=682, r_ui=3.52986, est=3.6924574823221676, details={'actual_k': 20, 'was_impossible': False}),\n",
              " Prediction(uid=196, iid=221, r_ui=3.52986, est=3.801183482266634, details={'actual_k': 20, 'was_impossible': False}),\n",
              " Prediction(uid=196, iid=1150, r_ui=3.52986, est=3.7475547911953955, details={'actual_k': 20, 'was_impossible': False}),\n",
              " Prediction(uid=196, iid=847, r_ui=3.52986, est=3.647548309457641, details={'actual_k': 20, 'was_impossible': False}),\n",
              " Prediction(uid=196, iid=138, r_ui=3.52986, est=3.6530908952509877, details={'actual_k': 20, 'was_impossible': False}),\n",
              " Prediction(uid=196, iid=517, r_ui=3.52986, est=3.8520384449026337, details={'actual_k': 20, 'was_impossible': False}),\n",
              " Prediction(uid=196, iid=283, r_ui=3.52986, est=3.301044726368045, details={'actual_k': 20, 'was_impossible': False}),\n",
              " Prediction(uid=196, iid=602, r_ui=3.52986, est=3.598509181848836, details={'actual_k': 20, 'was_impossible': False}),\n",
              " Prediction(uid=196, iid=573, r_ui=3.52986, est=3.6525925810521223, details={'actual_k': 20, 'was_impossible': False}),\n",
              " Prediction(uid=196, iid=617, r_ui=3.52986, est=3.4962384915228744, details={'actual_k': 20, 'was_impossible': False}),\n",
              " Prediction(uid=196, iid=569, r_ui=3.52986, est=3.2999682320585744, details={'actual_k': 20, 'was_impossible': False}),\n",
              " Prediction(uid=196, iid=1332, r_ui=3.52986, est=3.7505796068260113, details={'actual_k': 20, 'was_impossible': False}),\n",
              " Prediction(uid=196, iid=703, r_ui=3.52986, est=3.551878223500365, details={'actual_k': 20, 'was_impossible': False}),\n",
              " Prediction(uid=196, iid=386, r_ui=3.52986, est=3.6477041849952463, details={'actual_k': 20, 'was_impossible': False}),\n",
              " Prediction(uid=196, iid=331, r_ui=3.52986, est=3.640939916946169, details={'actual_k': 20, 'was_impossible': False}),\n",
              " Prediction(uid=196, iid=355, r_ui=3.52986, est=3.4964631237514117, details={'actual_k': 20, 'was_impossible': False}),\n",
              " Prediction(uid=196, iid=949, r_ui=3.52986, est=3.650323290340563, details={'actual_k': 20, 'was_impossible': False}),\n",
              " Prediction(uid=196, iid=488, r_ui=3.52986, est=3.548936861267387, details={'actual_k': 20, 'was_impossible': False}),\n",
              " Prediction(uid=196, iid=114, r_ui=3.52986, est=3.701905899110763, details={'actual_k': 20, 'was_impossible': False}),\n",
              " Prediction(uid=196, iid=24, r_ui=3.52986, est=3.448724990712239, details={'actual_k': 20, 'was_impossible': False}),\n",
              " Prediction(uid=196, iid=763, r_ui=3.52986, est=3.4985848956088974, details={'actual_k': 20, 'was_impossible': False}),\n",
              " Prediction(uid=196, iid=43, r_ui=3.52986, est=3.4096466658495945, details={'actual_k': 20, 'was_impossible': False}),\n",
              " Prediction(uid=196, iid=953, r_ui=3.52986, est=3.5469400066825427, details={'actual_k': 20, 'was_impossible': False}),\n",
              " Prediction(uid=196, iid=670, r_ui=3.52986, est=3.5414357565153587, details={'actual_k': 20, 'was_impossible': False}),\n",
              " Prediction(uid=196, iid=510, r_ui=3.52986, est=3.5989021076511145, details={'actual_k': 20, 'was_impossible': False}),\n",
              " Prediction(uid=196, iid=372, r_ui=3.52986, est=3.350448564411956, details={'actual_k': 20, 'was_impossible': False}),\n",
              " Prediction(uid=196, iid=335, r_ui=3.52986, est=3.753852217354848, details={'actual_k': 20, 'was_impossible': False}),\n",
              " Prediction(uid=196, iid=779, r_ui=3.52986, est=3.4932440308601267, details={'actual_k': 20, 'was_impossible': False}),\n",
              " Prediction(uid=196, iid=435, r_ui=3.52986, est=3.6010184202380424, details={'actual_k': 20, 'was_impossible': False}),\n",
              " Prediction(uid=196, iid=223, r_ui=3.52986, est=3.6991496189960906, details={'actual_k': 20, 'was_impossible': False}),\n",
              " Prediction(uid=196, iid=1334, r_ui=3.52986, est=3.95, details={'actual_k': 20, 'was_impossible': False}),\n",
              " Prediction(uid=196, iid=835, r_ui=3.52986, est=3.4998987964097443, details={'actual_k': 20, 'was_impossible': False}),\n",
              " Prediction(uid=196, iid=1327, r_ui=3.52986, est=3.5998380664265466, details={'actual_k': 18, 'was_impossible': False}),\n",
              " Prediction(uid=196, iid=263, r_ui=3.52986, est=3.7390754814156004, details={'actual_k': 20, 'was_impossible': False}),\n",
              " Prediction(uid=196, iid=450, r_ui=3.52986, est=3.734973648897973, details={'actual_k': 20, 'was_impossible': False}),\n",
              " Prediction(uid=196, iid=651, r_ui=3.52986, est=3.5998265536673872, details={'actual_k': 20, 'was_impossible': False}),\n",
              " Prediction(uid=196, iid=316, r_ui=3.52986, est=3.5992925692011486, details={'actual_k': 20, 'was_impossible': False}),\n",
              " Prediction(uid=196, iid=929, r_ui=3.52986, est=3.59512743502318, details={'actual_k': 20, 'was_impossible': False}),\n",
              " Prediction(uid=196, iid=1041, r_ui=3.52986, est=3.6461802300820723, details={'actual_k': 20, 'was_impossible': False}),\n",
              " Prediction(uid=196, iid=424, r_ui=3.52986, est=3.6488982450078438, details={'actual_k': 20, 'was_impossible': False}),\n",
              " Prediction(uid=196, iid=429, r_ui=3.52986, est=3.753287577044972, details={'actual_k': 20, 'was_impossible': False}),\n",
              " Prediction(uid=196, iid=868, r_ui=3.52986, est=3.4988648539932554, details={'actual_k': 20, 'was_impossible': False}),\n",
              " Prediction(uid=196, iid=1161, r_ui=3.52986, est=3.702394898314526, details={'actual_k': 20, 'was_impossible': False}),\n",
              " Prediction(uid=196, iid=166, r_ui=3.52986, est=3.6485248106824497, details={'actual_k': 20, 'was_impossible': False}),\n",
              " Prediction(uid=196, iid=1162, r_ui=3.52986, est=3.9495305774609073, details={'actual_k': 20, 'was_impossible': False}),\n",
              " Prediction(uid=196, iid=1019, r_ui=3.52986, est=3.5938692118288946, details={'actual_k': 20, 'was_impossible': False}),\n",
              " Prediction(uid=196, iid=908, r_ui=3.52986, est=3.797691639642157, details={'actual_k': 20, 'was_impossible': False}),\n",
              " Prediction(uid=196, iid=1160, r_ui=3.52986, est=3.394316138395828, details={'actual_k': 20, 'was_impossible': False}),\n",
              " Prediction(uid=196, iid=676, r_ui=3.52986, est=3.6905885966178342, details={'actual_k': 20, 'was_impossible': False}),\n",
              " Prediction(uid=196, iid=1012, r_ui=3.52986, est=3.5458225865966635, details={'actual_k': 20, 'was_impossible': False}),\n",
              " Prediction(uid=196, iid=1209, r_ui=3.52986, est=3.7924299156803083, details={'actual_k': 20, 'was_impossible': False}),\n",
              " Prediction(uid=196, iid=693, r_ui=3.52986, est=3.399214308794892, details={'actual_k': 20, 'was_impossible': False}),\n",
              " Prediction(uid=196, iid=282, r_ui=3.52986, est=3.552140357446149, details={'actual_k': 20, 'was_impossible': False}),\n",
              " Prediction(uid=196, iid=253, r_ui=3.52986, est=3.2437979566144053, details={'actual_k': 20, 'was_impossible': False}),\n",
              " Prediction(uid=196, iid=1350, r_ui=3.52986, est=3.8, details={'actual_k': 20, 'was_impossible': False}),\n",
              " Prediction(uid=196, iid=363, r_ui=3.52986, est=3.552833424315501, details={'actual_k': 20, 'was_impossible': False}),\n",
              " Prediction(uid=196, iid=300, r_ui=3.52986, est=3.698675488068263, details={'actual_k': 20, 'was_impossible': False}),\n",
              " Prediction(uid=196, iid=1346, r_ui=3.52986, est=3.5, details={'actual_k': 20, 'was_impossible': False}),\n",
              " Prediction(uid=196, iid=1119, r_ui=3.52986, est=3.4502948070722326, details={'actual_k': 20, 'was_impossible': False}),\n",
              " Prediction(uid=196, iid=674, r_ui=3.52986, est=3.5966667571893196, details={'actual_k': 20, 'was_impossible': False}),\n",
              " Prediction(uid=196, iid=527, r_ui=3.52986, est=3.6504480018216494, details={'actual_k': 20, 'was_impossible': False}),\n",
              " Prediction(uid=196, iid=1397, r_ui=3.52986, est=3.8947957101644066, details={'actual_k': 20, 'was_impossible': False}),\n",
              " Prediction(uid=196, iid=807, r_ui=3.52986, est=3.3560232817716362, details={'actual_k': 20, 'was_impossible': False}),\n",
              " Prediction(uid=196, iid=657, r_ui=3.52986, est=3.751694981638378, details={'actual_k': 20, 'was_impossible': False}),\n",
              " Prediction(uid=196, iid=1142, r_ui=3.52986, est=3.501399006011222, details={'actual_k': 20, 'was_impossible': False}),\n",
              " Prediction(uid=196, iid=113, r_ui=3.52986, est=3.498411267799153, details={'actual_k': 20, 'was_impossible': False}),\n",
              " Prediction(uid=196, iid=426, r_ui=3.52986, est=3.6040308767625717, details={'actual_k': 20, 'was_impossible': False}),\n",
              " Prediction(uid=196, iid=1109, r_ui=3.52986, est=3.5464282901806077, details={'actual_k': 20, 'was_impossible': False}),\n",
              " Prediction(uid=196, iid=898, r_ui=3.52986, est=3.491336230418263, details={'actual_k': 20, 'was_impossible': False}),\n",
              " Prediction(uid=196, iid=723, r_ui=3.52986, est=3.6011100541130725, details={'actual_k': 20, 'was_impossible': False}),\n",
              " Prediction(uid=196, iid=243, r_ui=3.52986, est=3.4897319547768917, details={'actual_k': 20, 'was_impossible': False}),\n",
              " Prediction(uid=196, iid=582, r_ui=3.52986, est=3.799775975443727, details={'actual_k': 20, 'was_impossible': False}),\n",
              " Prediction(uid=196, iid=778, r_ui=3.52986, est=3.4033054692370572, details={'actual_k': 20, 'was_impossible': False}),\n",
              " Prediction(uid=196, iid=308, r_ui=3.52986, est=3.644510403299104, details={'actual_k': 20, 'was_impossible': False}),\n",
              " Prediction(uid=196, iid=641, r_ui=3.52986, est=3.5963043242594903, details={'actual_k': 20, 'was_impossible': False}),\n",
              " Prediction(uid=196, iid=1165, r_ui=3.52986, est=3.6431581756572244, details={'actual_k': 20, 'was_impossible': False}),\n",
              " Prediction(uid=196, iid=764, r_ui=3.52986, est=3.4844612042423515, details={'actual_k': 20, 'was_impossible': False}),\n",
              " Prediction(uid=196, iid=1011, r_ui=3.52986, est=3.5549060487298823, details={'actual_k': 20, 'was_impossible': False}),\n",
              " Prediction(uid=196, iid=1101, r_ui=3.52986, est=3.598249449804676, details={'actual_k': 20, 'was_impossible': False}),\n",
              " Prediction(uid=196, iid=396, r_ui=3.52986, est=3.7014169768398903, details={'actual_k': 20, 'was_impossible': False}),\n",
              " Prediction(uid=196, iid=1260, r_ui=3.52986, est=3.7498921390170468, details={'actual_k': 20, 'was_impossible': False}),\n",
              " Prediction(uid=196, iid=904, r_ui=3.52986, est=3.5890749432528533, details={'actual_k': 20, 'was_impossible': False}),\n",
              " Prediction(uid=196, iid=312, r_ui=3.52986, est=3.3993273605621908, details={'actual_k': 20, 'was_impossible': False}),\n",
              " Prediction(uid=196, iid=1048, r_ui=3.52986, est=3.739821565062551, details={'actual_k': 20, 'was_impossible': False}),\n",
              " Prediction(uid=196, iid=627, r_ui=3.52986, est=3.6948816471475268, details={'actual_k': 20, 'was_impossible': False}),\n",
              " Prediction(uid=196, iid=571, r_ui=3.52986, est=3.7945877145321427, details={'actual_k': 20, 'was_impossible': False}),\n",
              " Prediction(uid=196, iid=552, r_ui=3.52986, est=3.6511751230517735, details={'actual_k': 20, 'was_impossible': False}),\n",
              " Prediction(uid=196, iid=1278, r_ui=3.52986, est=3.599871297520491, details={'actual_k': 20, 'was_impossible': False}),\n",
              " Prediction(uid=196, iid=499, r_ui=3.52986, est=3.7450757903353087, details={'actual_k': 20, 'was_impossible': False}),\n",
              " Prediction(uid=196, iid=1186, r_ui=3.52986, est=3.549863134777822, details={'actual_k': 20, 'was_impossible': False}),\n",
              " Prediction(uid=196, iid=1057, r_ui=3.52986, est=3.9935467451416464, details={'actual_k': 20, 'was_impossible': False}),\n",
              " Prediction(uid=196, iid=207, r_ui=3.52986, est=3.5987025905238395, details={'actual_k': 20, 'was_impossible': False}),\n",
              " Prediction(uid=196, iid=309, r_ui=3.52986, est=3.740031296653599, details={'actual_k': 20, 'was_impossible': False}),\n",
              " Prediction(uid=196, iid=671, r_ui=3.52986, est=3.802522542038002, details={'actual_k': 20, 'was_impossible': False}),\n",
              " Prediction(uid=196, iid=83, r_ui=3.52986, est=3.5972511807176666, details={'actual_k': 20, 'was_impossible': False}),\n",
              " Prediction(uid=196, iid=482, r_ui=3.52986, est=3.851309629897579, details={'actual_k': 20, 'was_impossible': False}),\n",
              " Prediction(uid=196, iid=276, r_ui=3.52986, est=3.599524267067859, details={'actual_k': 20, 'was_impossible': False}),\n",
              " Prediction(uid=196, iid=1094, r_ui=3.52986, est=3.940881503383269, details={'actual_k': 20, 'was_impossible': False}),\n",
              " Prediction(uid=196, iid=647, r_ui=3.52986, est=3.600174868682714, details={'actual_k': 20, 'was_impossible': False}),\n",
              " Prediction(uid=196, iid=578, r_ui=3.52986, est=3.4958749854088973, details={'actual_k': 20, 'was_impossible': False}),\n",
              " Prediction(uid=196, iid=1021, r_ui=3.52986, est=3.4944807351483127, details={'actual_k': 20, 'was_impossible': False}),\n",
              " Prediction(uid=196, iid=886, r_ui=3.52986, est=3.539162257016418, details={'actual_k': 20, 'was_impossible': False}),\n",
              " Prediction(uid=196, iid=1151, r_ui=3.52986, est=3.7017166081713486, details={'actual_k': 20, 'was_impossible': False}),\n",
              " Prediction(uid=196, iid=855, r_ui=3.52986, est=3.6960882982376866, details={'actual_k': 20, 'was_impossible': False}),\n",
              " Prediction(uid=196, iid=942, r_ui=3.52986, est=3.2463149002870684, details={'actual_k': 20, 'was_impossible': False}),\n",
              " Prediction(uid=196, iid=826, r_ui=3.52986, est=3.7021963942637552, details={'actual_k': 20, 'was_impossible': False}),\n",
              " Prediction(uid=196, iid=1044, r_ui=3.52986, est=3.50224878748422, details={'actual_k': 20, 'was_impossible': False}),\n",
              " Prediction(uid=196, iid=254, r_ui=3.52986, est=3.498289101415971, details={'actual_k': 20, 'was_impossible': False}),\n",
              " Prediction(uid=196, iid=290, r_ui=3.52986, est=3.601163495514122, details={'actual_k': 20, 'was_impossible': False}),\n",
              " Prediction(uid=196, iid=848, r_ui=3.52986, est=3.647993581642348, details={'actual_k': 20, 'was_impossible': False}),\n",
              " Prediction(uid=196, iid=542, r_ui=3.52986, est=4.00169828560793, details={'actual_k': 20, 'was_impossible': False}),\n",
              " Prediction(uid=196, iid=581, r_ui=3.52986, est=3.602194572034874, details={'actual_k': 20, 'was_impossible': False}),\n",
              " Prediction(uid=196, iid=1229, r_ui=3.52986, est=3.3465784186289693, details={'actual_k': 20, 'was_impossible': False}),\n",
              " Prediction(uid=196, iid=718, r_ui=3.52986, est=3.698011292499537, details={'actual_k': 20, 'was_impossible': False}),\n",
              " Prediction(uid=196, iid=337, r_ui=3.52986, est=3.848722404820302, details={'actual_k': 20, 'was_impossible': False}),\n",
              " Prediction(uid=196, iid=1107, r_ui=3.52986, est=3.2909780075330355, details={'actual_k': 20, 'was_impossible': False}),\n",
              " Prediction(uid=196, iid=539, r_ui=3.52986, est=3.4501610826193145, details={'actual_k': 20, 'was_impossible': False}),\n",
              " Prediction(uid=196, iid=821, r_ui=3.52986, est=3.6018145863711024, details={'actual_k': 20, 'was_impossible': False}),\n",
              " Prediction(uid=196, iid=364, r_ui=3.52986, est=3.8081335865137196, details={'actual_k': 20, 'was_impossible': False}),\n",
              " Prediction(uid=196, iid=553, r_ui=3.52986, est=3.6007696258338546, details={'actual_k': 20, 'was_impossible': False}),\n",
              " Prediction(uid=196, iid=313, r_ui=3.52986, est=3.6004538173573097, details={'actual_k': 20, 'was_impossible': False}),\n",
              " Prediction(uid=196, iid=1218, r_ui=3.52986, est=3.7507741039481224, details={'actual_k': 20, 'was_impossible': False}),\n",
              " Prediction(uid=196, iid=115, r_ui=3.52986, est=3.5940867404643946, details={'actual_k': 20, 'was_impossible': False}),\n",
              " Prediction(uid=196, iid=1129, r_ui=3.52986, est=3.5040504698101747, details={'actual_k': 20, 'was_impossible': False}),\n",
              " Prediction(uid=196, iid=493, r_ui=3.52986, est=3.650800525368548, details={'actual_k': 20, 'was_impossible': False}),\n",
              " Prediction(uid=196, iid=36, r_ui=3.52986, est=3.745675999336971, details={'actual_k': 20, 'was_impossible': False}),\n",
              " Prediction(uid=196, iid=205, r_ui=3.52986, est=3.6964310348022518, details={'actual_k': 20, 'was_impossible': False}),\n",
              " Prediction(uid=196, iid=102, r_ui=3.52986, est=3.749642665223591, details={'actual_k': 20, 'was_impossible': False}),\n",
              " Prediction(uid=196, iid=1249, r_ui=3.52986, est=3.448094182749055, details={'actual_k': 20, 'was_impossible': False}),\n",
              " Prediction(uid=196, iid=773, r_ui=3.52986, est=3.448766563721904, details={'actual_k': 20, 'was_impossible': False}),\n",
              " Prediction(uid=196, iid=494, r_ui=3.52986, est=3.7011938642005178, details={'actual_k': 20, 'was_impossible': False}),\n",
              " Prediction(uid=196, iid=192, r_ui=3.52986, est=3.749237218211325, details={'actual_k': 20, 'was_impossible': False}),\n",
              " Prediction(uid=196, iid=687, r_ui=3.52986, est=3.4035126105536477, details={'actual_k': 20, 'was_impossible': False}),\n",
              " Prediction(uid=196, iid=772, r_ui=3.52986, est=3.4996639121469904, details={'actual_k': 20, 'was_impossible': False}),\n",
              " Prediction(uid=196, iid=921, r_ui=3.52986, est=3.850805171798901, details={'actual_k': 20, 'was_impossible': False}),\n",
              " Prediction(uid=196, iid=42, r_ui=3.52986, est=3.4482914577348622, details={'actual_k': 20, 'was_impossible': False}),\n",
              " Prediction(uid=196, iid=469, r_ui=3.52986, est=3.502598238262937, details={'actual_k': 20, 'was_impossible': False}),\n",
              " Prediction(uid=196, iid=874, r_ui=3.52986, est=3.5467124888218295, details={'actual_k': 20, 'was_impossible': False}),\n",
              " Prediction(uid=196, iid=1216, r_ui=3.52986, est=4.0506920732628675, details={'actual_k': 20, 'was_impossible': False}),\n",
              " Prediction(uid=196, iid=1139, r_ui=3.52986, est=3.4504099552336593, details={'actual_k': 20, 'was_impossible': False}),\n",
              " Prediction(uid=196, iid=547, r_ui=3.52986, est=3.536184078040116, details={'actual_k': 20, 'was_impossible': False}),\n",
              " Prediction(uid=196, iid=157, r_ui=3.52986, est=3.5509697239362565, details={'actual_k': 20, 'was_impossible': False}),\n",
              " Prediction(uid=196, iid=1208, r_ui=3.52986, est=3.5449645855323015, details={'actual_k': 20, 'was_impossible': False}),\n",
              " Prediction(uid=196, iid=1157, r_ui=3.52986, est=3.4857896493671645, details={'actual_k': 20, 'was_impossible': False}),\n",
              " Prediction(uid=196, iid=808, r_ui=3.52986, est=3.900249112323962, details={'actual_k': 20, 'was_impossible': False}),\n",
              " Prediction(uid=196, iid=906, r_ui=3.52986, est=3.5955847147161912, details={'actual_k': 20, 'was_impossible': False}),\n",
              " Prediction(uid=196, iid=535, r_ui=3.52986, est=3.692242912854326, details={'actual_k': 20, 'was_impossible': False}),\n",
              " Prediction(uid=196, iid=470, r_ui=3.52986, est=3.5531793692083045, details={'actual_k': 20, 'was_impossible': False}),\n",
              " Prediction(uid=196, iid=714, r_ui=3.52986, est=3.400343705282699, details={'actual_k': 20, 'was_impossible': False}),\n",
              " Prediction(uid=196, iid=939, r_ui=3.52986, est=3.4988005372389206, details={'actual_k': 20, 'was_impossible': False}),\n",
              " Prediction(uid=196, iid=738, r_ui=3.52986, est=3.3503304362904043, details={'actual_k': 20, 'was_impossible': False}),\n",
              " Prediction(uid=196, iid=525, r_ui=3.52986, est=3.7508294419616943, details={'actual_k': 20, 'was_impossible': False}),\n",
              " Prediction(uid=196, iid=1037, r_ui=3.52986, est=3.6985878183012195, details={'actual_k': 20, 'was_impossible': False}),\n",
              " Prediction(uid=196, iid=530, r_ui=3.52986, est=3.601093409117781, details={'actual_k': 20, 'was_impossible': False}),\n",
              " Prediction(uid=196, iid=528, r_ui=3.52986, est=3.4492670936630025, details={'actual_k': 20, 'was_impossible': False}),\n",
              " Prediction(uid=196, iid=754, r_ui=3.52986, est=3.5939154116201633, details={'actual_k': 20, 'was_impossible': False}),\n",
              " Prediction(uid=196, iid=1436, r_ui=3.52986, est=3.399876818773654, details={'actual_k': 20, 'was_impossible': False}),\n",
              " Prediction(uid=196, iid=771, r_ui=3.52986, est=3.39553670475143, details={'actual_k': 20, 'was_impossible': False}),\n",
              " Prediction(uid=196, iid=226, r_ui=3.52986, est=3.549014510663183, details={'actual_k': 20, 'was_impossible': False}),\n",
              " Prediction(uid=196, iid=1383, r_ui=3.52986, est=3.6984062022308697, details={'actual_k': 20, 'was_impossible': False}),\n",
              " Prediction(uid=196, iid=745, r_ui=3.52986, est=3.498385114154557, details={'actual_k': 20, 'was_impossible': False}),\n",
              " Prediction(uid=196, iid=1316, r_ui=3.52986, est=3.705917033220166, details={'actual_k': 20, 'was_impossible': False}),\n",
              " Prediction(uid=196, iid=846, r_ui=3.52986, est=3.650852285293905, details={'actual_k': 20, 'was_impossible': False}),\n",
              " Prediction(uid=196, iid=605, r_ui=3.52986, est=3.8934929643727174, details={'actual_k': 20, 'was_impossible': False}),\n",
              " Prediction(uid=196, iid=575, r_ui=3.52986, est=3.7050116483965447, details={'actual_k': 20, 'was_impossible': False}),\n",
              " Prediction(uid=196, iid=1284, r_ui=3.52986, est=3.598911770777791, details={'actual_k': 20, 'was_impossible': False}),\n",
              " Prediction(uid=196, iid=1298, r_ui=3.52986, est=3.4997509499277313, details={'actual_k': 20, 'was_impossible': False}),\n",
              " Prediction(uid=196, iid=529, r_ui=3.52986, est=3.5497026990973195, details={'actual_k': 20, 'was_impossible': False}),\n",
              " Prediction(uid=196, iid=743, r_ui=3.52986, est=3.616927327941001, details={'actual_k': 20, 'was_impossible': False}),\n",
              " Prediction(uid=196, iid=840, r_ui=3.52986, est=3.652531810330027, details={'actual_k': 20, 'was_impossible': False}),\n",
              " Prediction(uid=196, iid=244, r_ui=3.52986, est=3.3937568115594803, details={'actual_k': 20, 'was_impossible': False}),\n",
              " Prediction(uid=196, iid=760, r_ui=3.52986, est=3.640236672339281, details={'actual_k': 20, 'was_impossible': False}),\n",
              " Prediction(uid=196, iid=1006, r_ui=3.52986, est=3.6383720022464194, details={'actual_k': 20, 'was_impossible': False}),\n",
              " Prediction(uid=196, iid=1228, r_ui=3.52986, est=3.500077471756856, details={'actual_k': 20, 'was_impossible': False}),\n",
              " Prediction(uid=196, iid=1095, r_ui=3.52986, est=3.545302274377017, details={'actual_k': 20, 'was_impossible': False}),\n",
              " Prediction(uid=196, iid=34, r_ui=3.52986, est=3.5832560208277062, details={'actual_k': 20, 'was_impossible': False}),\n",
              " Prediction(uid=196, iid=103, r_ui=3.52986, est=4.041970209408018, details={'actual_k': 20, 'was_impossible': False}),\n",
              " Prediction(uid=196, iid=441, r_ui=3.52986, est=3.3999395216475996, details={'actual_k': 20, 'was_impossible': False}),\n",
              " Prediction(uid=196, iid=90, r_ui=3.52986, est=3.452901093676386, details={'actual_k': 20, 'was_impossible': False}),\n",
              " Prediction(uid=196, iid=1005, r_ui=3.52986, est=3.6458982455228073, details={'actual_k': 20, 'was_impossible': False}),\n",
              " Prediction(uid=196, iid=863, r_ui=3.52986, est=3.5485175171880994, details={'actual_k': 20, 'was_impossible': False}),\n",
              " Prediction(uid=196, iid=473, r_ui=3.52986, est=3.7995711424477863, details={'actual_k': 20, 'was_impossible': False}),\n",
              " Prediction(uid=196, iid=1281, r_ui=3.52986, est=3.705718377102488, details={'actual_k': 20, 'was_impossible': False}),\n",
              " Prediction(uid=196, iid=356, r_ui=3.52986, est=3.6022732313622514, details={'actual_k': 20, 'was_impossible': False}),\n",
              " Prediction(uid=196, iid=630, r_ui=3.52986, est=3.89640227614584, details={'actual_k': 20, 'was_impossible': False}),\n",
              " Prediction(uid=196, iid=793, r_ui=3.52986, est=3.64493621105806, details={'actual_k': 20, 'was_impossible': False}),\n",
              " Prediction(uid=196, iid=766, r_ui=3.52986, est=3.5977935982870926, details={'actual_k': 20, 'was_impossible': False}),\n",
              " Prediction(uid=196, iid=1206, r_ui=3.52986, est=3.7390746381291775, details={'actual_k': 20, 'was_impossible': False}),\n",
              " Prediction(uid=196, iid=1342, r_ui=3.52986, est=3.626380438914447, details={'actual_k': 16, 'was_impossible': False}),\n",
              " Prediction(uid=196, iid=980, r_ui=3.52986, est=3.450202969685988, details={'actual_k': 20, 'was_impossible': False}),\n",
              " Prediction(uid=196, iid=1263, r_ui=3.52986, est=3.6432555509391005, details={'actual_k': 20, 'was_impossible': False}),\n",
              " Prediction(uid=196, iid=1376, r_ui=3.52986, est=3.5482935154046067, details={'actual_k': 20, 'was_impossible': False}),\n",
              " Prediction(uid=196, iid=1182, r_ui=3.52986, est=3.4061607015285014, details={'actual_k': 20, 'was_impossible': False}),\n",
              " Prediction(uid=196, iid=457, r_ui=3.52986, est=3.5870443838343515, details={'actual_k': 20, 'was_impossible': False}),\n",
              " Prediction(uid=196, iid=710, r_ui=3.52986, est=3.497755622523932, details={'actual_k': 20, 'was_impossible': False}),\n",
              " Prediction(uid=196, iid=615, r_ui=3.52986, est=3.4990119245489555, details={'actual_k': 20, 'was_impossible': False}),\n",
              " Prediction(uid=196, iid=101, r_ui=3.52986, est=3.6036382774888542, details={'actual_k': 20, 'was_impossible': False}),\n",
              " Prediction(uid=196, iid=697, r_ui=3.52986, est=3.743795316549396, details={'actual_k': 20, 'was_impossible': False}),\n",
              " Prediction(uid=196, iid=1199, r_ui=3.52986, est=3.5399519534207067, details={'actual_k': 20, 'was_impossible': False}),\n",
              " Prediction(uid=196, iid=395, r_ui=3.52986, est=3.9442382045148725, details={'actual_k': 20, 'was_impossible': False}),\n",
              " Prediction(uid=196, iid=983, r_ui=3.52986, est=4.043825087099088, details={'actual_k': 20, 'was_impossible': False}),\n",
              " Prediction(uid=196, iid=684, r_ui=3.52986, est=3.5500885161346445, details={'actual_k': 20, 'was_impossible': False}),\n",
              " Prediction(uid=196, iid=971, r_ui=3.52986, est=3.4963808361027895, details={'actual_k': 20, 'was_impossible': False}),\n",
              " Prediction(uid=196, iid=1116, r_ui=3.52986, est=3.700044046351654, details={'actual_k': 20, 'was_impossible': False}),\n",
              " Prediction(uid=196, iid=267, r_ui=3.52986, est=3.49704912362774, details={'actual_k': 20, 'was_impossible': False}),\n",
              " Prediction(uid=196, iid=556, r_ui=3.52986, est=3.3437882041472378, details={'actual_k': 20, 'was_impossible': False}),\n",
              " Prediction(uid=196, iid=853, r_ui=3.52986, est=3.4487680695968668, details={'actual_k': 20, 'was_impossible': False}),\n",
              " Prediction(uid=196, iid=311, r_ui=3.52986, est=3.6932367777938224, details={'actual_k': 20, 'was_impossible': False}),\n",
              " Prediction(uid=196, iid=1073, r_ui=3.52986, est=3.3430971211044365, details={'actual_k': 20, 'was_impossible': False}),\n",
              " Prediction(uid=196, iid=975, r_ui=3.52986, est=3.75195854863203, details={'actual_k': 20, 'was_impossible': False}),\n",
              " Prediction(uid=196, iid=361, r_ui=3.52986, est=3.75, details={'actual_k': 20, 'was_impossible': False}),\n",
              " Prediction(uid=196, iid=643, r_ui=3.52986, est=3.850154334354266, details={'actual_k': 20, 'was_impossible': False}),\n",
              " Prediction(uid=196, iid=704, r_ui=3.52986, est=3.702099126888877, details={'actual_k': 20, 'was_impossible': False}),\n",
              " Prediction(uid=196, iid=997, r_ui=3.52986, est=3.654032082293723, details={'actual_k': 20, 'was_impossible': False}),\n",
              " Prediction(uid=196, iid=260, r_ui=3.52986, est=3.49729696974313, details={'actual_k': 20, 'was_impossible': False}),\n",
              " Prediction(uid=196, iid=990, r_ui=3.52986, est=3.8436041550352593, details={'actual_k': 20, 'was_impossible': False}),\n",
              " Prediction(uid=196, iid=969, r_ui=3.52986, est=3.59719059584231, details={'actual_k': 20, 'was_impossible': False}),\n",
              " Prediction(uid=196, iid=167, r_ui=3.52986, est=3.4497781240738545, details={'actual_k': 20, 'was_impossible': False}),\n",
              " Prediction(uid=196, iid=650, r_ui=3.52986, est=3.6469466747221677, details={'actual_k': 20, 'was_impossible': False}),\n",
              " Prediction(uid=196, iid=320, r_ui=3.52986, est=3.6955547901247985, details={'actual_k': 20, 'was_impossible': False}),\n",
              " Prediction(uid=196, iid=63, r_ui=3.52986, est=3.6528507604700793, details={'actual_k': 20, 'was_impossible': False}),\n",
              " Prediction(uid=196, iid=965, r_ui=3.52986, est=3.6975723628680077, details={'actual_k': 20, 'was_impossible': False}),\n",
              " Prediction(uid=196, iid=652, r_ui=3.52986, est=3.546520067976346, details={'actual_k': 20, 'was_impossible': False}),\n",
              " Prediction(uid=196, iid=1059, r_ui=3.52986, est=3.343246188376582, details={'actual_k': 20, 'was_impossible': False}),\n",
              " Prediction(uid=196, iid=882, r_ui=3.52986, est=3.597383316924328, details={'actual_k': 20, 'was_impossible': False}),\n",
              " Prediction(uid=196, iid=1164, r_ui=3.52986, est=3.5428143768361835, details={'actual_k': 20, 'was_impossible': False}),\n",
              " Prediction(uid=196, iid=1207, r_ui=3.52986, est=3.59509402605397, details={'actual_k': 20, 'was_impossible': False}),\n",
              " Prediction(uid=196, iid=786, r_ui=3.52986, est=3.543262135579419, details={'actual_k': 20, 'was_impossible': False}),\n",
              " Prediction(uid=196, iid=614, r_ui=3.52986, est=3.5522306084344932, details={'actual_k': 20, 'was_impossible': False}),\n",
              " Prediction(uid=196, iid=810, r_ui=3.52986, est=3.2470712631762666, details={'actual_k': 20, 'was_impossible': False}),\n",
              " Prediction(uid=196, iid=1222, r_ui=3.52986, est=3.5095467447186484, details={'actual_k': 20, 'was_impossible': False}),\n",
              " Prediction(uid=196, iid=139, r_ui=3.52986, est=3.699424119031356, details={'actual_k': 20, 'was_impossible': False}),\n",
              " Prediction(uid=196, iid=769, r_ui=3.52986, est=3.744601910598629, details={'actual_k': 20, 'was_impossible': False}),\n",
              " Prediction(uid=196, iid=765, r_ui=3.52986, est=3.5009983164925798, details={'actual_k': 20, 'was_impossible': False}),\n",
              " Prediction(uid=196, iid=624, r_ui=3.52986, est=3.6966324036373344, details={'actual_k': 20, 'was_impossible': False}),\n",
              " Prediction(uid=196, iid=1001, r_ui=3.52986, est=3.2893772292910457, details={'actual_k': 20, 'was_impossible': False}),\n",
              " Prediction(uid=196, iid=797, r_ui=3.52986, est=3.4925246811391006, details={'actual_k': 20, 'was_impossible': False}),\n",
              " Prediction(uid=196, iid=883, r_ui=3.52986, est=3.704415084411068, details={'actual_k': 20, 'was_impossible': False}),\n",
              " Prediction(uid=196, iid=752, r_ui=3.52986, est=3.446756997475612, details={'actual_k': 20, 'was_impossible': False}),\n",
              " Prediction(uid=196, iid=1315, r_ui=3.52986, est=3.4488176746019064, details={'actual_k': 20, 'was_impossible': False}),\n",
              " Prediction(uid=196, iid=560, r_ui=3.52986, est=3.5951575358951446, details={'actual_k': 20, 'was_impossible': False}),\n",
              " Prediction(uid=196, iid=345, r_ui=3.52986, est=3.7446130827696082, details={'actual_k': 20, 'was_impossible': False}),\n",
              " Prediction(uid=196, iid=1194, r_ui=3.52986, est=3.5450398081896037, details={'actual_k': 20, 'was_impossible': False}),\n",
              " Prediction(uid=196, iid=464, r_ui=3.52986, est=3.6951424904790136, details={'actual_k': 20, 'was_impossible': False}),\n",
              " Prediction(uid=196, iid=1348, r_ui=3.52986, est=3.625, details={'actual_k': 16, 'was_impossible': False}),\n",
              " Prediction(uid=196, iid=932, r_ui=3.52986, est=3.4981470097468375, details={'actual_k': 20, 'was_impossible': False}),\n",
              " Prediction(uid=196, iid=1179, r_ui=3.52986, est=3.454622759964148, details={'actual_k': 20, 'was_impossible': False}),\n",
              " Prediction(uid=196, iid=536, r_ui=3.52986, est=3.3976321524055675, details={'actual_k': 20, 'was_impossible': False}),\n",
              " Prediction(uid=196, iid=369, r_ui=3.52986, est=3.611138914945419, details={'actual_k': 20, 'was_impossible': False}),\n",
              " Prediction(uid=196, iid=1250, r_ui=3.52986, est=3.553515222772903, details={'actual_k': 20, 'was_impossible': False}),\n",
              " Prediction(uid=196, iid=880, r_ui=3.52986, est=3.843905898968768, details={'actual_k': 20, 'was_impossible': False}),\n",
              " Prediction(uid=196, iid=629, r_ui=3.52986, est=3.4977265937532924, details={'actual_k': 20, 'was_impossible': False}),\n",
              " Prediction(uid=196, iid=775, r_ui=3.52986, est=3.842874323878071, details={'actual_k': 20, 'was_impossible': False}),\n",
              " Prediction(uid=196, iid=1289, r_ui=3.52986, est=4.202435603862276, details={'actual_k': 20, 'was_impossible': False}),\n",
              " Prediction(uid=196, iid=544, r_ui=3.52986, est=3.395648252154405, details={'actual_k': 20, 'was_impossible': False}),\n",
              " Prediction(uid=196, iid=170, r_ui=3.52986, est=3.549317865871472, details={'actual_k': 20, 'was_impossible': False}),\n",
              " Prediction(uid=196, iid=1518, r_ui=3.52986, est=3.802043712338629, details={'actual_k': 20, 'was_impossible': False}),\n",
              " Prediction(uid=196, iid=413, r_ui=3.52986, est=3.6478463352677304, details={'actual_k': 20, 'was_impossible': False}),\n",
              " Prediction(uid=196, iid=618, r_ui=3.52986, est=3.598763923082856, details={'actual_k': 20, 'was_impossible': False}),\n",
              " Prediction(uid=196, iid=326, r_ui=3.52986, est=3.4465809309968565, details={'actual_k': 20, 'was_impossible': False}),\n",
              " Prediction(uid=196, iid=123, r_ui=3.52986, est=3.5474494395399785, details={'actual_k': 20, 'was_impossible': False}),\n",
              " Prediction(uid=196, iid=628, r_ui=3.52986, est=3.6508837829026377, details={'actual_k': 20, 'was_impossible': False}),\n",
              " Prediction(uid=196, iid=262, r_ui=3.52986, est=3.4981338773817297, details={'actual_k': 20, 'was_impossible': False}),\n",
              " Prediction(uid=196, iid=31, r_ui=3.52986, est=3.749482712809981, details={'actual_k': 20, 'was_impossible': False}),\n",
              " Prediction(uid=196, iid=1180, r_ui=3.52986, est=3.3605135742437375, details={'actual_k': 20, 'was_impossible': False}),\n",
              " Prediction(uid=196, iid=414, r_ui=3.52986, est=3.6479583061706338, details={'actual_k': 20, 'was_impossible': False}),\n",
              " Prediction(uid=196, iid=490, r_ui=3.52986, est=3.348671445675556, details={'actual_k': 20, 'was_impossible': False}),\n",
              " Prediction(uid=196, iid=839, r_ui=3.52986, est=3.7500407082834535, details={'actual_k': 20, 'was_impossible': False}),\n",
              " Prediction(uid=196, iid=453, r_ui=3.52986, est=3.83955934943882, details={'actual_k': 20, 'was_impossible': False}),\n",
              " Prediction(uid=196, iid=149, r_ui=3.52986, est=3.646923916012495, details={'actual_k': 20, 'was_impossible': False}),\n",
              " Prediction(uid=196, iid=1320, r_ui=3.52986, est=3.625, details={'actual_k': 16, 'was_impossible': False}),\n",
              " Prediction(uid=196, iid=827, r_ui=3.52986, est=3.445999890535709, details={'actual_k': 20, 'was_impossible': False}),\n",
              " Prediction(uid=196, iid=124, r_ui=3.52986, est=3.649995355618585, details={'actual_k': 20, 'was_impossible': False}),\n",
              " Prediction(uid=196, iid=570, r_ui=3.52986, est=3.698432370543437, details={'actual_k': 20, 'was_impossible': False}),\n",
              " Prediction(uid=196, iid=843, r_ui=3.52986, est=3.549905638986052, details={'actual_k': 20, 'was_impossible': False}),\n",
              " Prediction(uid=196, iid=844, r_ui=3.52986, est=3.434000238472299, details={'actual_k': 20, 'was_impossible': False}),\n",
              " Prediction(uid=196, iid=420, r_ui=3.52986, est=3.8011847772611764, details={'actual_k': 20, 'was_impossible': False}),\n",
              " Prediction(uid=196, iid=590, r_ui=3.52986, est=3.8458985439795277, details={'actual_k': 20, 'was_impossible': False}),\n",
              " Prediction(uid=196, iid=1230, r_ui=3.52986, est=3.536630596123802, details={'actual_k': 20, 'was_impossible': False}),\n",
              " Prediction(uid=196, iid=1324, r_ui=3.52986, est=3.799791231216667, details={'actual_k': 20, 'was_impossible': False}),\n",
              " Prediction(uid=196, iid=895, r_ui=3.52986, est=3.5921433902165205, details={'actual_k': 20, 'was_impossible': False}),\n",
              " Prediction(uid=196, iid=1149, r_ui=3.52986, est=3.500764538689764, details={'actual_k': 20, 'was_impossible': False}),\n",
              " Prediction(uid=196, iid=567, r_ui=3.52986, est=3.4003031827095453, details={'actual_k': 20, 'was_impossible': False}),\n",
              " Prediction(uid=196, iid=606, r_ui=3.52986, est=3.5994819831407003, details={'actual_k': 20, 'was_impossible': False}),\n",
              " Prediction(uid=196, iid=816, r_ui=3.52986, est=3.499546051954089, details={'actual_k': 20, 'was_impossible': False}),\n",
              " Prediction(uid=196, iid=672, r_ui=3.52986, est=3.5944548516466948, details={'actual_k': 20, 'was_impossible': False}),\n",
              " Prediction(uid=196, iid=584, r_ui=3.52986, est=3.7493106534713427, details={'actual_k': 20, 'was_impossible': False}),\n",
              " Prediction(uid=196, iid=521, r_ui=3.52986, est=3.843856778685489, details={'actual_k': 20, 'was_impossible': False}),\n",
              " Prediction(uid=196, iid=728, r_ui=3.52986, est=3.7525860215881783, details={'actual_k': 20, 'was_impossible': False}),\n",
              " Prediction(uid=196, iid=689, r_ui=3.52986, est=3.5429041516962627, details={'actual_k': 20, 'was_impossible': False}),\n",
              " Prediction(uid=196, iid=329, r_ui=3.52986, est=3.6531804888853436, details={'actual_k': 20, 'was_impossible': False}),\n",
              " Prediction(uid=196, iid=859, r_ui=3.52986, est=3.5582208430108393, details={'actual_k': 20, 'was_impossible': False}),\n",
              " Prediction(uid=196, iid=456, r_ui=3.52986, est=3.4455712948072206, details={'actual_k': 20, 'was_impossible': False}),\n",
              " Prediction(uid=196, iid=791, r_ui=3.52986, est=3.5915242858175396, details={'actual_k': 20, 'was_impossible': False}),\n",
              " Prediction(uid=196, iid=159, r_ui=3.52986, est=3.7020409829462855, details={'actual_k': 20, 'was_impossible': False}),\n",
              " Prediction(uid=196, iid=489, r_ui=3.52986, est=3.3967383269832645, details={'actual_k': 20, 'was_impossible': False}),\n",
              " Prediction(uid=196, iid=1266, r_ui=3.52986, est=3.4936267026512557, details={'actual_k': 20, 'was_impossible': False}),\n",
              " Prediction(uid=196, iid=1416, r_ui=3.52986, est=3.697526796073124, details={'actual_k': 20, 'was_impossible': False}),\n",
              " Prediction(uid=196, iid=988, r_ui=3.52986, est=3.4357697396362146, details={'actual_k': 20, 'was_impossible': False}),\n",
              " Prediction(uid=196, iid=636, r_ui=3.52986, est=3.5994798228383456, details={'actual_k': 20, 'was_impossible': False}),\n",
              " Prediction(uid=196, iid=1411, r_ui=3.52986, est=3.606187157284073, details={'actual_k': 20, 'was_impossible': False}),\n",
              " Prediction(uid=196, iid=533, r_ui=3.52986, est=3.7470367874847055, details={'actual_k': 20, 'was_impossible': False}),\n",
              " Prediction(uid=196, iid=1394, r_ui=3.52986, est=3.8, details={'actual_k': 20, 'was_impossible': False}),\n",
              " Prediction(uid=196, iid=819, r_ui=3.52986, est=3.546602463178594, details={'actual_k': 20, 'was_impossible': False}),\n",
              " Prediction(uid=196, iid=495, r_ui=3.52986, est=3.699476014026312, details={'actual_k': 20, 'was_impossible': False}),\n",
              " Prediction(uid=196, iid=1093, r_ui=3.52986, est=3.387593791896062, details={'actual_k': 20, 'was_impossible': False}),\n",
              " Prediction(uid=196, iid=1492, r_ui=3.52986, est=3.65, details={'actual_k': 20, 'was_impossible': False}),\n",
              " Prediction(uid=196, iid=30, r_ui=3.52986, est=3.65028337877825, details={'actual_k': 20, 'was_impossible': False}),\n",
              " Prediction(uid=196, iid=314, r_ui=3.52986, est=3.7496901217837735, details={'actual_k': 20, 'was_impossible': False}),\n",
              " Prediction(uid=196, iid=958, r_ui=3.52986, est=3.252033874703086, details={'actual_k': 20, 'was_impossible': False}),\n",
              " Prediction(uid=196, iid=841, r_ui=3.52986, est=3.7474923009531675, details={'actual_k': 20, 'was_impossible': False}),\n",
              " Prediction(uid=196, iid=838, r_ui=3.52986, est=3.5510309604499257, details={'actual_k': 20, 'was_impossible': False}),\n",
              " Prediction(uid=196, iid=702, r_ui=3.52986, est=3.2389716737461107, details={'actual_k': 20, 'was_impossible': False}),\n",
              " Prediction(uid=196, iid=1020, r_ui=3.52986, est=3.598473244129246, details={'actual_k': 20, 'was_impossible': False}),\n",
              " Prediction(uid=196, iid=947, r_ui=3.52986, est=3.300150520991711, details={'actual_k': 20, 'was_impossible': False}),\n",
              " Prediction(uid=196, iid=1000, r_ui=3.52986, est=3.8041735437830884, details={'actual_k': 20, 'was_impossible': False}),\n",
              " Prediction(uid=196, iid=104, r_ui=3.52986, est=3.923518238252454, details={'actual_k': 20, 'was_impossible': False}),\n",
              " Prediction(uid=196, iid=1322, r_ui=3.52986, est=3.702196309162547, details={'actual_k': 20, 'was_impossible': False}),\n",
              " Prediction(uid=196, iid=622, r_ui=3.52986, est=3.350846984466739, details={'actual_k': 20, 'was_impossible': False}),\n",
              " Prediction(uid=196, iid=481, r_ui=3.52986, est=3.597189724038238, details={'actual_k': 20, 'was_impossible': False}),\n",
              " Prediction(uid=196, iid=532, r_ui=3.52986, est=3.44413591271628, details={'actual_k': 20, 'was_impossible': False}),\n",
              " Prediction(uid=196, iid=915, r_ui=3.52986, est=3.847612891504558, details={'actual_k': 20, 'was_impossible': False}),\n",
              " Prediction(uid=196, iid=502, r_ui=3.52986, est=3.499160451453764, details={'actual_k': 20, 'was_impossible': False}),\n",
              " Prediction(uid=196, iid=1291, r_ui=3.52986, est=3.4534605792533433, details={'actual_k': 20, 'was_impossible': False}),\n",
              " Prediction(uid=196, iid=330, r_ui=3.52986, est=3.7480442224517923, details={'actual_k': 20, 'was_impossible': False}),\n",
              " Prediction(uid=196, iid=802, r_ui=3.52986, est=3.9001565099735385, details={'actual_k': 20, 'was_impossible': False}),\n",
              " Prediction(uid=196, iid=37, r_ui=3.52986, est=3.55191966038546, details={'actual_k': 20, 'was_impossible': False}),\n",
              " Prediction(uid=196, iid=1025, r_ui=3.52986, est=3.529991502504031, details={'actual_k': 20, 'was_impossible': False}),\n",
              " Prediction(uid=196, iid=1364, r_ui=3.52986, est=3.625, details={'actual_k': 16, 'was_impossible': False}),\n",
              " Prediction(uid=196, iid=266, r_ui=3.52986, est=3.447702160861021, details={'actual_k': 20, 'was_impossible': False}),\n",
              " Prediction(uid=196, iid=727, r_ui=3.52986, est=3.5476448025227953, details={'actual_k': 20, 'was_impossible': False}),\n",
              " Prediction(uid=196, iid=828, r_ui=3.52986, est=3.501834458379183, details={'actual_k': 20, 'was_impossible': False}),\n",
              " Prediction(uid=196, iid=548, r_ui=3.52986, est=3.395584942522837, details={'actual_k': 20, 'was_impossible': False}),\n",
              " Prediction(uid=196, iid=1132, r_ui=3.52986, est=3.491620815916692, details={'actual_k': 20, 'was_impossible': False}),\n",
              " Prediction(uid=196, iid=993, r_ui=3.52986, est=3.5010511337399968, details={'actual_k': 20, 'was_impossible': False}),\n",
              " Prediction(uid=196, iid=136, r_ui=3.52986, est=3.799176661835544, details={'actual_k': 20, 'was_impossible': False}),\n",
              " Prediction(uid=196, iid=996, r_ui=3.52986, est=3.6419862638235068, details={'actual_k': 20, 'was_impossible': False}),\n",
              " Prediction(uid=196, iid=562, r_ui=3.52986, est=3.4995181489880633, details={'actual_k': 20, 'was_impossible': False}),\n",
              " Prediction(uid=196, iid=653, r_ui=3.52986, est=3.597085359459755, details={'actual_k': 20, 'was_impossible': False}),\n",
              " Prediction(uid=196, iid=74, r_ui=3.52986, est=3.890336694437682, details={'actual_k': 20, 'was_impossible': False}),\n",
              " Prediction(uid=196, iid=1493, r_ui=3.52986, est=3.65, details={'actual_k': 20, 'was_impossible': False}),\n",
              " Prediction(uid=196, iid=45, r_ui=3.52986, est=3.402217494591799, details={'actual_k': 20, 'was_impossible': False}),\n",
              " Prediction(uid=196, iid=867, r_ui=3.52986, est=3.5958857593067557, details={'actual_k': 20, 'was_impossible': False}),\n",
              " Prediction(uid=196, iid=876, r_ui=3.52986, est=3.7055630523883605, details={'actual_k': 20, 'was_impossible': False}),\n",
              " Prediction(uid=196, iid=158, r_ui=3.52986, est=3.6047612857072378, details={'actual_k': 20, 'was_impossible': False}),\n",
              " Prediction(uid=196, iid=1183, r_ui=3.52986, est=3.741085937696366, details={'actual_k': 20, 'was_impossible': False}),\n",
              " Prediction(uid=196, iid=500, r_ui=3.52986, est=3.4007081709108262, details={'actual_k': 20, 'was_impossible': False}),\n",
              " Prediction(uid=196, iid=610, r_ui=3.52986, est=3.3486035916456367, details={'actual_k': 20, 'was_impossible': False}),\n",
              " Prediction(uid=196, iid=887, r_ui=3.52986, est=3.5926690374911496, details={'actual_k': 20, 'was_impossible': False}),\n",
              " Prediction(uid=196, iid=1299, r_ui=3.52986, est=3.6521032598368723, details={'actual_k': 20, 'was_impossible': False}),\n",
              " Prediction(uid=196, iid=918, r_ui=3.52986, est=3.6503794821119255, details={'actual_k': 20, 'was_impossible': False}),\n",
              " Prediction(uid=196, iid=41, r_ui=3.52986, est=3.9025821561194043, details={'actual_k': 20, 'was_impossible': False}),\n",
              " Prediction(uid=196, iid=1066, r_ui=3.52986, est=3.7413029157305164, details={'actual_k': 20, 'was_impossible': False}),\n",
              " Prediction(uid=196, iid=336, r_ui=3.52986, est=3.6468571635313207, details={'actual_k': 20, 'was_impossible': False}),\n",
              " Prediction(uid=196, iid=1117, r_ui=3.52986, est=3.6017927911035224, details={'actual_k': 20, 'was_impossible': False}),\n",
              " Prediction(uid=196, iid=1169, r_ui=3.52986, est=3.500294746977814, details={'actual_k': 20, 'was_impossible': False}),\n",
              " Prediction(uid=196, iid=1262, r_ui=3.52986, est=3.498055662670639, details={'actual_k': 20, 'was_impossible': False}),\n",
              " Prediction(uid=196, iid=348, r_ui=3.52986, est=3.602880544141672, details={'actual_k': 20, 'was_impossible': False}),\n",
              " Prediction(uid=196, iid=270, r_ui=3.52986, est=3.6001327907705667, details={'actual_k': 20, 'was_impossible': False}),\n",
              " Prediction(uid=196, iid=1053, r_ui=3.52986, est=3.7007998408204954, details={'actual_k': 20, 'was_impossible': False}),\n",
              " Prediction(uid=196, iid=1464, r_ui=3.52986, est=3.6511375512305606, details={'actual_k': 20, 'was_impossible': False}),\n",
              " Prediction(uid=196, iid=374, r_ui=3.52986, est=3.3989756535392672, details={'actual_k': 20, 'was_impossible': False}),\n",
              " Prediction(uid=196, iid=621, r_ui=3.52986, est=3.4913945835555014, details={'actual_k': 20, 'was_impossible': False}),\n",
              " Prediction(uid=196, iid=607, r_ui=3.52986, est=3.294861899039018, details={'actual_k': 20, 'was_impossible': False}),\n",
              " Prediction(uid=196, iid=1030, r_ui=3.52986, est=3.6541775258247657, details={'actual_k': 20, 'was_impossible': False}),\n",
              " Prediction(uid=196, iid=777, r_ui=3.52986, est=3.8482083153572493, details={'actual_k': 20, 'was_impossible': False}),\n",
              " Prediction(uid=196, iid=700, r_ui=3.52986, est=3.691211459771352, details={'actual_k': 20, 'was_impossible': False}),\n",
              " Prediction(uid=196, iid=297, r_ui=3.52986, est=3.7013715383507195, details={'actual_k': 20, 'was_impossible': False}),\n",
              " Prediction(uid=196, iid=925, r_ui=3.52986, est=3.6522733139818606, details={'actual_k': 20, 'was_impossible': False}),\n",
              " Prediction(uid=196, iid=928, r_ui=3.52986, est=3.594362790666206, details={'actual_k': 20, 'was_impossible': False}),\n",
              " Prediction(uid=196, iid=394, r_ui=3.52986, est=3.846309840585442, details={'actual_k': 20, 'was_impossible': False}),\n",
              " Prediction(uid=196, iid=549, r_ui=3.52986, est=3.5492876195644927, details={'actual_k': 20, 'was_impossible': False}),\n",
              " Prediction(uid=196, iid=999, r_ui=3.52986, est=3.250670102689148, details={'actual_k': 20, 'was_impossible': False}),\n",
              " Prediction(uid=196, iid=1471, r_ui=3.52986, est=3.5484747282822053, details={'actual_k': 20, 'was_impossible': False}),\n",
              " Prediction(uid=196, iid=341, r_ui=3.52986, est=3.633323903388677, details={'actual_k': 20, 'was_impossible': False}),\n",
              " Prediction(uid=196, iid=1009, r_ui=3.52986, est=3.439705756878834, details={'actual_k': 20, 'was_impossible': False}),\n",
              " Prediction(uid=196, iid=391, r_ui=3.52986, est=3.7514712019502663, details={'actual_k': 20, 'was_impossible': False}),\n",
              " Prediction(uid=196, iid=467, r_ui=3.52986, est=3.848997190408108, details={'actual_k': 20, 'was_impossible': False}),\n",
              " Prediction(uid=196, iid=811, r_ui=3.52986, est=3.6959363084780215, details={'actual_k': 20, 'was_impossible': False}),\n",
              " Prediction(uid=196, iid=805, r_ui=3.52986, est=3.6483970678656106, details={'actual_k': 20, 'was_impossible': False}),\n",
              " Prediction(uid=196, iid=519, r_ui=3.52986, est=3.5992482344590533, details={'actual_k': 20, 'was_impossible': False}),\n",
              " Prediction(uid=196, iid=1036, r_ui=3.52986, est=3.7489018934546197, details={'actual_k': 20, 'was_impossible': False}),\n",
              " Prediction(uid=196, iid=84, r_ui=3.52986, est=3.846711668381967, details={'actual_k': 20, 'was_impossible': False}),\n",
              " Prediction(uid=196, iid=894, r_ui=3.52986, est=3.547373198004356, details={'actual_k': 20, 'was_impossible': False}),\n",
              " Prediction(uid=196, iid=574, r_ui=3.52986, est=3.3907478516377263, details={'actual_k': 20, 'was_impossible': False}),\n",
              " Prediction(uid=196, iid=1113, r_ui=3.52986, est=3.3975270388024588, details={'actual_k': 20, 'was_impossible': False}),\n",
              " Prediction(uid=196, iid=1306, r_ui=3.52986, est=3.6356938437163593, details={'actual_k': 18, 'was_impossible': False}),\n",
              " Prediction(uid=196, iid=638, r_ui=3.52986, est=3.596842644825506, details={'actual_k': 20, 'was_impossible': False}),\n",
              " Prediction(uid=196, iid=1314, r_ui=3.52986, est=3.4367536479645406, details={'actual_k': 20, 'was_impossible': False}),\n",
              " Prediction(uid=196, iid=1131, r_ui=3.52986, est=3.451360977132647, details={'actual_k': 20, 'was_impossible': False}),\n",
              " Prediction(uid=196, iid=1069, r_ui=3.52986, est=3.5430236740919616, details={'actual_k': 20, 'was_impossible': False}),\n",
              " Prediction(uid=196, iid=1084, r_ui=3.52986, est=3.7468569592050867, details={'actual_k': 20, 'was_impossible': False}),\n",
              " Prediction(uid=196, iid=1407, r_ui=3.52986, est=3.5893021925975153, details={'actual_k': 20, 'was_impossible': False}),\n",
              " Prediction(uid=196, iid=878, r_ui=3.52986, est=3.202751199770179, details={'actual_k': 20, 'was_impossible': False}),\n",
              " Prediction(uid=196, iid=1242, r_ui=3.52986, est=3.696527760642481, details={'actual_k': 20, 'was_impossible': False}),\n",
              " Prediction(uid=196, iid=359, r_ui=3.52986, est=3.6525625044604895, details={'actual_k': 20, 'was_impossible': False}),\n",
              " Prediction(uid=196, iid=579, r_ui=3.52986, est=3.4480976901451412, details={'actual_k': 20, 'was_impossible': False}),\n",
              " Prediction(uid=196, iid=884, r_ui=3.52986, est=3.395702169846423, details={'actual_k': 20, 'was_impossible': False}),\n",
              " Prediction(uid=196, iid=691, r_ui=3.52986, est=3.5496990647345243, details={'actual_k': 20, 'was_impossible': False}),\n",
              " Prediction(uid=196, iid=954, r_ui=3.52986, est=3.749815654033897, details={'actual_k': 20, 'was_impossible': False}),\n",
              " Prediction(uid=196, iid=261, r_ui=3.52986, est=3.5466576962427543, details={'actual_k': 20, 'was_impossible': False}),\n",
              " Prediction(uid=196, iid=1112, r_ui=3.52986, est=3.5480173180578483, details={'actual_k': 20, 'was_impossible': False}),\n",
              " Prediction(uid=196, iid=1090, r_ui=3.52986, est=3.5807229743938724, details={'actual_k': 20, 'was_impossible': False}),\n",
              " Prediction(uid=196, iid=445, r_ui=3.52986, est=3.648050420642968, details={'actual_k': 20, 'was_impossible': False}),\n",
              " Prediction(uid=196, iid=635, r_ui=3.52986, est=3.343077699988808, details={'actual_k': 20, 'was_impossible': False}),\n",
              " Prediction(uid=196, iid=1135, r_ui=3.52986, est=3.4958194083676126, details={'actual_k': 20, 'was_impossible': False}),\n",
              " Prediction(uid=196, iid=76, r_ui=3.52986, est=3.7513843794434916, details={'actual_k': 20, 'was_impossible': False}),\n",
              " Prediction(uid=196, iid=1082, r_ui=3.52986, est=3.702811499796533, details={'actual_k': 20, 'was_impossible': False}),\n",
              " Prediction(uid=196, iid=1215, r_ui=3.52986, est=3.690618556070857, details={'actual_k': 20, 'was_impossible': False}),\n",
              " Prediction(uid=196, iid=1328, r_ui=3.52986, est=3.6, details={'actual_k': 20, 'was_impossible': False}),\n",
              " Prediction(uid=196, iid=1013, r_ui=3.52986, est=3.5955410891685076, details={'actual_k': 20, 'was_impossible': False}),\n",
              " Prediction(uid=196, iid=1170, r_ui=3.52986, est=3.5896046712549112, details={'actual_k': 20, 'was_impossible': False}),\n",
              " Prediction(uid=196, iid=1265, r_ui=3.52986, est=3.5487163537974995, details={'actual_k': 20, 'was_impossible': False}),\n",
              " Prediction(uid=196, iid=735, r_ui=3.52986, est=3.5482941818181875, details={'actual_k': 20, 'was_impossible': False}),\n",
              " Prediction(uid=196, iid=352, r_ui=3.52986, est=3.6161699243877607, details={'actual_k': 20, 'was_impossible': False}),\n",
              " Prediction(uid=196, iid=833, r_ui=3.52986, est=3.5416549883282107, details={'actual_k': 20, 'was_impossible': False}),\n",
              " Prediction(uid=196, iid=722, r_ui=3.52986, est=3.6441555028472803, details={'actual_k': 20, 'was_impossible': False}),\n",
              " Prediction(uid=196, iid=434, r_ui=3.52986, est=3.648917057610618, details={'actual_k': 20, 'was_impossible': False}),\n",
              " Prediction(uid=196, iid=801, r_ui=3.52986, est=3.699644858428314, details={'actual_k': 20, 'was_impossible': False}),\n",
              " Prediction(uid=196, iid=224, r_ui=3.52986, est=3.598905724095466, details={'actual_k': 20, 'was_impossible': False}),\n",
              " Prediction(uid=196, iid=358, r_ui=3.52986, est=3.5496434562475585, details={'actual_k': 20, 'was_impossible': False}),\n",
              " Prediction(uid=196, iid=966, r_ui=3.52986, est=3.7991778156059315, details={'actual_k': 20, 'was_impossible': False}),\n",
              " Prediction(uid=196, iid=1351, r_ui=3.52986, est=3.7000393482354865, details={'actual_k': 20, 'was_impossible': False}),\n",
              " Prediction(uid=196, iid=675, r_ui=3.52986, est=3.694739596946509, details={'actual_k': 20, 'was_impossible': False}),\n",
              " Prediction(uid=196, iid=991, r_ui=3.52986, est=3.496908400626622, details={'actual_k': 20, 'was_impossible': False}),\n",
              " Prediction(uid=196, iid=633, r_ui=3.52986, est=3.498730659179734, details={'actual_k': 20, 'was_impossible': False}),\n",
              " Prediction(uid=196, iid=1102, r_ui=3.52986, est=3.6447955925358477, details={'actual_k': 20, 'was_impossible': False}),\n",
              " Prediction(uid=196, iid=1424, r_ui=3.52986, est=3.6476573759053816, details={'actual_k': 20, 'was_impossible': False}),\n",
              " Prediction(uid=196, iid=1163, r_ui=3.52986, est=3.64472015299529, details={'actual_k': 20, 'was_impossible': False}),\n",
              " Prediction(uid=196, iid=1413, r_ui=3.52986, est=3.638459367549761, details={'actual_k': 20, 'was_impossible': False}),\n",
              " Prediction(uid=196, iid=830, r_ui=3.52986, est=3.9, details={'actual_k': 20, 'was_impossible': False}),\n",
              " Prediction(uid=196, iid=924, r_ui=3.52986, est=3.850295655181706, details={'actual_k': 20, 'was_impossible': False}),\n",
              " Prediction(uid=196, iid=976, r_ui=3.52986, est=3.9997582906714277, details={'actual_k': 20, 'was_impossible': False}),\n",
              " Prediction(uid=196, iid=825, r_ui=3.52986, est=3.3491892186519543, details={'actual_k': 20, 'was_impossible': False}),\n",
              " Prediction(uid=196, iid=389, r_ui=3.52986, est=3.4988248181294, details={'actual_k': 20, 'was_impossible': False}),\n",
              " ...]"
            ]
          },
          "metadata": {
            "tags": []
          },
          "execution_count": 149
        }
      ]
    },
    {
      "cell_type": "code",
      "metadata": {
        "id": "NIQAuEo4rHA2"
      },
      "source": [
        "#Ordenamos de mayor a menor estimación de relevancia\n",
        "user_predictions.sort(key=lambda x : x.est, reverse=True)"
      ],
      "execution_count": null,
      "outputs": []
    },
    {
      "cell_type": "code",
      "metadata": {
        "id": "GmcwrOJ-sy9G"
      },
      "source": [
        "#tomamos las 10 primeras predicciones\n",
        "user_predictions=user_predictions[0:10]"
      ],
      "execution_count": null,
      "outputs": []
    },
    {
      "cell_type": "markdown",
      "metadata": {
        "id": "C14I7ePPOsI_"
      },
      "source": [
        "\n",
        "\n"
      ]
    },
    {
      "cell_type": "code",
      "metadata": {
        "id": "FFaVRp3dtBZF",
        "colab": {
          "base_uri": "https://localhost:8080/"
        },
        "outputId": "afa7e0de-7104-436c-d58c-956ccd5a88bd"
      },
      "source": [
        "user_predictions"
      ],
      "execution_count": null,
      "outputs": [
        {
          "output_type": "execute_result",
          "data": {
            "text/plain": [
              "[Prediction(uid=196, iid=1309, r_ui=3.52986, est=4.5, details={'actual_k': 4, 'was_impossible': False}),\n",
              " Prediction(uid=196, iid=1310, r_ui=3.52986, est=4.5, details={'actual_k': 4, 'was_impossible': False}),\n",
              " Prediction(uid=196, iid=1676, r_ui=3.52986, est=4.25, details={'actual_k': 8, 'was_impossible': False}),\n",
              " Prediction(uid=196, iid=1675, r_ui=3.52986, est=4.25, details={'actual_k': 8, 'was_impossible': False}),\n",
              " Prediction(uid=196, iid=1289, r_ui=3.52986, est=4.202435603862276, details={'actual_k': 20, 'was_impossible': False}),\n",
              " Prediction(uid=196, iid=1643, r_ui=3.52986, est=4.097225899300029, details={'actual_k': 20, 'was_impossible': False}),\n",
              " Prediction(uid=196, iid=1593, r_ui=3.52986, est=4.090909090909091, details={'actual_k': 11, 'was_impossible': False}),\n",
              " Prediction(uid=196, iid=935, r_ui=3.52986, est=4.05136705364539, details={'actual_k': 20, 'was_impossible': False}),\n",
              " Prediction(uid=196, iid=1216, r_ui=3.52986, est=4.0506920732628675, details={'actual_k': 20, 'was_impossible': False}),\n",
              " Prediction(uid=196, iid=1312, r_ui=3.52986, est=4.049246841254085, details={'actual_k': 20, 'was_impossible': False})]"
            ]
          },
          "metadata": {
            "tags": []
          },
          "execution_count": 154
        }
      ]
    },
    {
      "cell_type": "code",
      "metadata": {
        "id": "7kRPNGHEtcux"
      },
      "source": [
        "#Se convierte a dataframe\n",
        "labels = ['movie id', 'estimation']\n",
        "df_predictions = pd.DataFrame.from_records(list(map(lambda x: (x.iid, x.est) , user_predictions)), columns=labels)"
      ],
      "execution_count": null,
      "outputs": []
    },
    {
      "cell_type": "code",
      "metadata": {
        "id": "2jN05Pskz8jN",
        "colab": {
          "base_uri": "https://localhost:8080/",
          "height": 363
        },
        "outputId": "187fe92c-073a-4baf-b37c-7e453fa60452"
      },
      "source": [
        "df_predictions"
      ],
      "execution_count": null,
      "outputs": [
        {
          "output_type": "execute_result",
          "data": {
            "text/html": [
              "<div>\n",
              "<style scoped>\n",
              "    .dataframe tbody tr th:only-of-type {\n",
              "        vertical-align: middle;\n",
              "    }\n",
              "\n",
              "    .dataframe tbody tr th {\n",
              "        vertical-align: top;\n",
              "    }\n",
              "\n",
              "    .dataframe thead th {\n",
              "        text-align: right;\n",
              "    }\n",
              "</style>\n",
              "<table border=\"1\" class=\"dataframe\">\n",
              "  <thead>\n",
              "    <tr style=\"text-align: right;\">\n",
              "      <th></th>\n",
              "      <th>movie id</th>\n",
              "      <th>estimation</th>\n",
              "    </tr>\n",
              "  </thead>\n",
              "  <tbody>\n",
              "    <tr>\n",
              "      <th>0</th>\n",
              "      <td>1309</td>\n",
              "      <td>4.500000</td>\n",
              "    </tr>\n",
              "    <tr>\n",
              "      <th>1</th>\n",
              "      <td>1310</td>\n",
              "      <td>4.500000</td>\n",
              "    </tr>\n",
              "    <tr>\n",
              "      <th>2</th>\n",
              "      <td>1676</td>\n",
              "      <td>4.250000</td>\n",
              "    </tr>\n",
              "    <tr>\n",
              "      <th>3</th>\n",
              "      <td>1675</td>\n",
              "      <td>4.250000</td>\n",
              "    </tr>\n",
              "    <tr>\n",
              "      <th>4</th>\n",
              "      <td>1289</td>\n",
              "      <td>4.202436</td>\n",
              "    </tr>\n",
              "    <tr>\n",
              "      <th>5</th>\n",
              "      <td>1643</td>\n",
              "      <td>4.097226</td>\n",
              "    </tr>\n",
              "    <tr>\n",
              "      <th>6</th>\n",
              "      <td>1593</td>\n",
              "      <td>4.090909</td>\n",
              "    </tr>\n",
              "    <tr>\n",
              "      <th>7</th>\n",
              "      <td>935</td>\n",
              "      <td>4.051367</td>\n",
              "    </tr>\n",
              "    <tr>\n",
              "      <th>8</th>\n",
              "      <td>1216</td>\n",
              "      <td>4.050692</td>\n",
              "    </tr>\n",
              "    <tr>\n",
              "      <th>9</th>\n",
              "      <td>1312</td>\n",
              "      <td>4.049247</td>\n",
              "    </tr>\n",
              "  </tbody>\n",
              "</table>\n",
              "</div>"
            ],
            "text/plain": [
              "   movie id  estimation\n",
              "0      1309    4.500000\n",
              "1      1310    4.500000\n",
              "2      1676    4.250000\n",
              "3      1675    4.250000\n",
              "4      1289    4.202436\n",
              "5      1643    4.097226\n",
              "6      1593    4.090909\n",
              "7       935    4.051367\n",
              "8      1216    4.050692\n",
              "9      1312    4.049247"
            ]
          },
          "metadata": {
            "tags": []
          },
          "execution_count": 156
        }
      ]
    },
    {
      "cell_type": "code",
      "metadata": {
        "id": "YvWQuyJGuaGV",
        "colab": {
          "base_uri": "https://localhost:8080/",
          "height": 363
        },
        "outputId": "94420f7b-7629-4407-85e6-ea972d219316"
      },
      "source": [
        "#Lo unimos con el dataframe de películas\n",
        "df_predictions.merge(items[['movie title','IMDb URL ']], how='left', right_index=True, left_on='movie id')"
      ],
      "execution_count": null,
      "outputs": [
        {
          "output_type": "execute_result",
          "data": {
            "text/html": [
              "<div>\n",
              "<style scoped>\n",
              "    .dataframe tbody tr th:only-of-type {\n",
              "        vertical-align: middle;\n",
              "    }\n",
              "\n",
              "    .dataframe tbody tr th {\n",
              "        vertical-align: top;\n",
              "    }\n",
              "\n",
              "    .dataframe thead th {\n",
              "        text-align: right;\n",
              "    }\n",
              "</style>\n",
              "<table border=\"1\" class=\"dataframe\">\n",
              "  <thead>\n",
              "    <tr style=\"text-align: right;\">\n",
              "      <th></th>\n",
              "      <th>movie id</th>\n",
              "      <th>estimation</th>\n",
              "      <th>movie title</th>\n",
              "      <th>IMDb URL</th>\n",
              "    </tr>\n",
              "  </thead>\n",
              "  <tbody>\n",
              "    <tr>\n",
              "      <th>0</th>\n",
              "      <td>1309</td>\n",
              "      <td>4.500000</td>\n",
              "      <td>Very Natural Thing, A (1974)</td>\n",
              "      <td>http://us.imdb.com/M/title-exact?Very%20Natura...</td>\n",
              "    </tr>\n",
              "    <tr>\n",
              "      <th>1</th>\n",
              "      <td>1310</td>\n",
              "      <td>4.500000</td>\n",
              "      <td>Walk in the Sun, A (1945)</td>\n",
              "      <td>http://us.imdb.com/M/title-exact?Walk%20in%20t...</td>\n",
              "    </tr>\n",
              "    <tr>\n",
              "      <th>2</th>\n",
              "      <td>1676</td>\n",
              "      <td>4.250000</td>\n",
              "      <td>War at Home, The (1996)</td>\n",
              "      <td>http://us.imdb.com/M/title-exact?War%20at%20Ho...</td>\n",
              "    </tr>\n",
              "    <tr>\n",
              "      <th>3</th>\n",
              "      <td>1675</td>\n",
              "      <td>4.250000</td>\n",
              "      <td>Sunchaser, The (1996)</td>\n",
              "      <td>http://us.imdb.com/M/title-exact?Sunchaser,%20...</td>\n",
              "    </tr>\n",
              "    <tr>\n",
              "      <th>4</th>\n",
              "      <td>1289</td>\n",
              "      <td>4.202436</td>\n",
              "      <td>Jack and Sarah (1995)</td>\n",
              "      <td>http://us.imdb.com/M/title-exact?Jack%20and%20...</td>\n",
              "    </tr>\n",
              "    <tr>\n",
              "      <th>5</th>\n",
              "      <td>1643</td>\n",
              "      <td>4.097226</td>\n",
              "      <td>Angel Baby (1995)</td>\n",
              "      <td>http://us.imdb.com/Title?Angel+Baby+(1995/I)</td>\n",
              "    </tr>\n",
              "    <tr>\n",
              "      <th>6</th>\n",
              "      <td>1593</td>\n",
              "      <td>4.090909</td>\n",
              "      <td>Death in Brunswick (1991)</td>\n",
              "      <td>http://us.imdb.com/M/title-exact?Death%20in%20...</td>\n",
              "    </tr>\n",
              "    <tr>\n",
              "      <th>7</th>\n",
              "      <td>935</td>\n",
              "      <td>4.051367</td>\n",
              "      <td>Paradise Road (1997)</td>\n",
              "      <td>http://us.imdb.com/M/title-exact?Paradise%20Ro...</td>\n",
              "    </tr>\n",
              "    <tr>\n",
              "      <th>8</th>\n",
              "      <td>1216</td>\n",
              "      <td>4.050692</td>\n",
              "      <td>Kissed (1996)</td>\n",
              "      <td>http://us.imdb.com/M/title-exact?Kissed%20%281...</td>\n",
              "    </tr>\n",
              "    <tr>\n",
              "      <th>9</th>\n",
              "      <td>1312</td>\n",
              "      <td>4.049247</td>\n",
              "      <td>Pompatus of Love, The (1996)</td>\n",
              "      <td>http://us.imdb.com/M/title-exact?Pompatus%20of...</td>\n",
              "    </tr>\n",
              "  </tbody>\n",
              "</table>\n",
              "</div>"
            ],
            "text/plain": [
              "   movie id  ...                                          IMDb URL \n",
              "0      1309  ...  http://us.imdb.com/M/title-exact?Very%20Natura...\n",
              "1      1310  ...  http://us.imdb.com/M/title-exact?Walk%20in%20t...\n",
              "2      1676  ...  http://us.imdb.com/M/title-exact?War%20at%20Ho...\n",
              "3      1675  ...  http://us.imdb.com/M/title-exact?Sunchaser,%20...\n",
              "4      1289  ...  http://us.imdb.com/M/title-exact?Jack%20and%20...\n",
              "5      1643  ...       http://us.imdb.com/Title?Angel+Baby+(1995/I)\n",
              "6      1593  ...  http://us.imdb.com/M/title-exact?Death%20in%20...\n",
              "7       935  ...  http://us.imdb.com/M/title-exact?Paradise%20Ro...\n",
              "8      1216  ...  http://us.imdb.com/M/title-exact?Kissed%20%281...\n",
              "9      1312  ...  http://us.imdb.com/M/title-exact?Pompatus%20of...\n",
              "\n",
              "[10 rows x 4 columns]"
            ]
          },
          "metadata": {
            "tags": []
          },
          "execution_count": 157
        }
      ]
    },
    {
      "cell_type": "markdown",
      "metadata": {
        "id": "4oAheKoNvTU0"
      },
      "source": [
        "## Utilice las siguientes celdas para encontrar la respuesta a las siguientes preguntas\n",
        "\n",
        "Cree al menos 2 usuarios (al primero asígnele el id 944) y cree para cada usuario ratings nuevos (puede hacerlo haciendo a traves del [dataframe](https://pandas.pydata.org/pandas-docs/stable/reference/api/pandas.DataFrame.append.html), o añadiendo líneas al archivo). Asigne a un usuario preferencias de un segmento popular (mainstream) y a otro preferencias de un nicho.\n",
        "\n",
        "¿Que tan bien cree que el sistema esta respondiendo a los gustos del usuario?\n",
        "\n",
        "¿Que tan bien cree que el sistema esta respondiendo al objetivo de buscar items para el usuario dentro de la cola larga?"
      ]
    },
    {
      "cell_type": "code",
      "metadata": {
        "id": "mQ4vk_19unXV",
        "colab": {
          "base_uri": "https://localhost:8080/",
          "height": 167
        },
        "outputId": "6f9fa9b9-c147-4007-b6b9-e9930fbfbce7"
      },
      "source": [
        "ratings.head()"
      ],
      "execution_count": null,
      "outputs": [
        {
          "output_type": "error",
          "ename": "NameError",
          "evalue": "ignored",
          "traceback": [
            "\u001b[0;31m---------------------------------------------------------------------------\u001b[0m",
            "\u001b[0;31mNameError\u001b[0m                                 Traceback (most recent call last)",
            "\u001b[0;32m<ipython-input-1-a5d1d4105667>\u001b[0m in \u001b[0;36m<module>\u001b[0;34m()\u001b[0m\n\u001b[0;32m----> 1\u001b[0;31m \u001b[0mratings\u001b[0m\u001b[0;34m.\u001b[0m\u001b[0mhead\u001b[0m\u001b[0;34m(\u001b[0m\u001b[0;34m)\u001b[0m\u001b[0;34m\u001b[0m\u001b[0;34m\u001b[0m\u001b[0m\n\u001b[0m",
            "\u001b[0;31mNameError\u001b[0m: name 'ratings' is not defined"
          ]
        }
      ]
    },
    {
      "cell_type": "code",
      "metadata": {
        "id": "EcoiOZIavjLl",
        "colab": {
          "base_uri": "https://localhost:8080/"
        },
        "outputId": "acd5e3cf-f1b2-46ef-efc8-fd244ad7c98f"
      },
      "source": [
        "len(ratings.item_id.unique())"
      ],
      "execution_count": null,
      "outputs": [
        {
          "output_type": "execute_result",
          "data": {
            "text/plain": [
              "1682"
            ]
          },
          "metadata": {
            "tags": []
          },
          "execution_count": 159
        }
      ]
    }
  ]
}