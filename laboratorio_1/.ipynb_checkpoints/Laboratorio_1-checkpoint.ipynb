{
 "cells": [
  {
   "cell_type": "markdown",
   "metadata": {
    "id": "-ODlNBWj3QZx"
   },
   "source": [
    "# MINE 4201- SR -  Laboratorio 1 \n",
    "# Exploración modelos KNN\n",
    "\n"
   ]
  },
  {
   "cell_type": "markdown",
   "metadata": {},
   "source": [
    "## Elaborado por:\n",
    "* Cristian C. Moreno Mojica(c.morenom@uniandes.edu.co) \n",
    "* Juan J. Ovalle Villamil(jj.ovalle@uniandes.edu.co) \n",
    "* Maria C. Rodríguez Niño (mc.rodriguezn12@uniandes.edu.co)"
   ]
  },
  {
   "cell_type": "markdown",
   "metadata": {
    "id": "ed1-j-PSjcXX"
   },
   "source": [
    "### Vamos a utilizar las siguientes librerias en el laboratorio\n"
   ]
  },
  {
   "cell_type": "code",
   "execution_count": 1,
   "metadata": {
    "id": "MZy484IS5l04"
   },
   "outputs": [],
   "source": [
    "import os\n",
    "import numpy as np\n",
    "import pandas as pd\n",
    "import seaborn as sns\n",
    "from surprise import Reader\n",
    "from surprise import Dataset\n",
    "from surprise.model_selection import train_test_split\n",
    "from surprise import KNNBasic\n",
    "from surprise import accuracy\n",
    "import random\n",
    "import matplotlib.pyplot as plt\n",
    "\n",
    "#Para garantizar reproducibilidad en resultados\n",
    "seed = 10\n",
    "random.seed(seed)\n",
    "np.random.seed(seed)\n"
   ]
  },
  {
   "cell_type": "markdown",
   "metadata": {
    "id": "VApWKvPdWmtm"
   },
   "source": [
    "## Suba al servidor los archivos u.data y u.item que se encuentran en el dataset descargado, en la pestaña files"
   ]
  },
  {
   "cell_type": "code",
   "execution_count": 2,
   "metadata": {
    "colab": {
     "base_uri": "https://localhost:8080/",
     "height": 219
    },
    "id": "-ayxnwj06r4C",
    "outputId": "429af697-7101-4246-82fa-3f3db2ea2119"
   },
   "outputs": [
    {
     "name": "stdout",
     "output_type": "stream",
     "text": [
      "Los archivos han sido cargados\n"
     ]
    }
   ],
   "source": [
    "if not (os.path.exists('content/u.data') and os.path.exists('content/u.item')):\n",
    "  raise ValueError('Los archivos u.data e u.item no fueron encontrados en el path')\n",
    "else:\n",
    "  print(\"Los archivos han sido cargados\")"
   ]
  },
  {
   "cell_type": "code",
   "execution_count": 3,
   "metadata": {
    "id": "2fY0BV4Y7Cfn"
   },
   "outputs": [],
   "source": [
    "ratings=pd.read_csv('content/u.data', sep = '\\t', names = [ 'user_id', 'item_id', 'rating', 'timestamp' ] )"
   ]
  },
  {
   "cell_type": "code",
   "execution_count": 4,
   "metadata": {
    "colab": {
     "base_uri": "https://localhost:8080/"
    },
    "id": "4xh6HByEXjLN",
    "outputId": "117255af-1f4f-4224-f618-595d34636993"
   },
   "outputs": [
    {
     "name": "stderr",
     "output_type": "stream",
     "text": [
      "/home/dot/anaconda3/envs/andes/lib/python3.7/site-packages/ipykernel_launcher.py:3: ParserWarning: Falling back to the 'python' engine because the 'c' engine does not support regex separators (separators > 1 char and different from '\\s+' are interpreted as regex); you can avoid this warning by specifying engine='python'.\n",
      "  This is separate from the ipykernel package so we can avoid doing imports until\n"
     ]
    }
   ],
   "source": [
    "items=pd.read_csv('content/u.item', sep = '\\|', names = ['movie id' ,'movie title','release date','video release date','IMDb URL ','unknown',\n",
    "                                                          'Action','Adventure','Animation','Children','Comedy','Crime','Documentary','Drama',\n",
    "                                                          'Fantasy','Film-Noir','Horror','Musical','Mystery','Romance','Sci-Fi','Thriller','War','Western'], encoding='latin-1' )"
   ]
  },
  {
   "cell_type": "markdown",
   "metadata": {
    "id": "hyGTV0lPiGZJ"
   },
   "source": [
    "Verifique que los ratings y los items hayan sido cargados correctamente\n",
    "\n",
    "\n",
    "\n"
   ]
  },
  {
   "cell_type": "code",
   "execution_count": 5,
   "metadata": {
    "colab": {
     "base_uri": "https://localhost:8080/",
     "height": 293
    },
    "id": "JF-3Z1T4iAaI",
    "outputId": "e5bb33ac-34c7-4da7-b64e-57d486d89355",
    "scrolled": true
   },
   "outputs": [
    {
     "data": {
      "text/html": [
       "<div>\n",
       "<style scoped>\n",
       "    .dataframe tbody tr th:only-of-type {\n",
       "        vertical-align: middle;\n",
       "    }\n",
       "\n",
       "    .dataframe tbody tr th {\n",
       "        vertical-align: top;\n",
       "    }\n",
       "\n",
       "    .dataframe thead th {\n",
       "        text-align: right;\n",
       "    }\n",
       "</style>\n",
       "<table border=\"1\" class=\"dataframe\">\n",
       "  <thead>\n",
       "    <tr style=\"text-align: right;\">\n",
       "      <th></th>\n",
       "      <th>user_id</th>\n",
       "      <th>item_id</th>\n",
       "      <th>rating</th>\n",
       "      <th>timestamp</th>\n",
       "    </tr>\n",
       "  </thead>\n",
       "  <tbody>\n",
       "    <tr>\n",
       "      <th>0</th>\n",
       "      <td>196</td>\n",
       "      <td>242</td>\n",
       "      <td>3</td>\n",
       "      <td>881250949</td>\n",
       "    </tr>\n",
       "    <tr>\n",
       "      <th>1</th>\n",
       "      <td>186</td>\n",
       "      <td>302</td>\n",
       "      <td>3</td>\n",
       "      <td>891717742</td>\n",
       "    </tr>\n",
       "  </tbody>\n",
       "</table>\n",
       "</div>"
      ],
      "text/plain": [
       "   user_id  item_id  rating  timestamp\n",
       "0      196      242       3  881250949\n",
       "1      186      302       3  891717742"
      ]
     },
     "metadata": {},
     "output_type": "display_data"
    },
    {
     "data": {
      "text/html": [
       "<div>\n",
       "<style scoped>\n",
       "    .dataframe tbody tr th:only-of-type {\n",
       "        vertical-align: middle;\n",
       "    }\n",
       "\n",
       "    .dataframe tbody tr th {\n",
       "        vertical-align: top;\n",
       "    }\n",
       "\n",
       "    .dataframe thead th {\n",
       "        text-align: right;\n",
       "    }\n",
       "</style>\n",
       "<table border=\"1\" class=\"dataframe\">\n",
       "  <thead>\n",
       "    <tr style=\"text-align: right;\">\n",
       "      <th></th>\n",
       "      <th>movie id</th>\n",
       "      <th>movie title</th>\n",
       "      <th>release date</th>\n",
       "      <th>video release date</th>\n",
       "      <th>IMDb URL</th>\n",
       "      <th>unknown</th>\n",
       "      <th>Action</th>\n",
       "      <th>Adventure</th>\n",
       "      <th>Animation</th>\n",
       "      <th>Children</th>\n",
       "      <th>...</th>\n",
       "      <th>Fantasy</th>\n",
       "      <th>Film-Noir</th>\n",
       "      <th>Horror</th>\n",
       "      <th>Musical</th>\n",
       "      <th>Mystery</th>\n",
       "      <th>Romance</th>\n",
       "      <th>Sci-Fi</th>\n",
       "      <th>Thriller</th>\n",
       "      <th>War</th>\n",
       "      <th>Western</th>\n",
       "    </tr>\n",
       "  </thead>\n",
       "  <tbody>\n",
       "    <tr>\n",
       "      <th>0</th>\n",
       "      <td>1</td>\n",
       "      <td>Toy Story (1995)</td>\n",
       "      <td>01-Jan-1995</td>\n",
       "      <td>NaN</td>\n",
       "      <td>http://us.imdb.com/M/title-exact?Toy%20Story%2...</td>\n",
       "      <td>0</td>\n",
       "      <td>0</td>\n",
       "      <td>0</td>\n",
       "      <td>1</td>\n",
       "      <td>1</td>\n",
       "      <td>...</td>\n",
       "      <td>0</td>\n",
       "      <td>0</td>\n",
       "      <td>0</td>\n",
       "      <td>0</td>\n",
       "      <td>0</td>\n",
       "      <td>0</td>\n",
       "      <td>0</td>\n",
       "      <td>0</td>\n",
       "      <td>0</td>\n",
       "      <td>0</td>\n",
       "    </tr>\n",
       "    <tr>\n",
       "      <th>1</th>\n",
       "      <td>2</td>\n",
       "      <td>GoldenEye (1995)</td>\n",
       "      <td>01-Jan-1995</td>\n",
       "      <td>NaN</td>\n",
       "      <td>http://us.imdb.com/M/title-exact?GoldenEye%20(...</td>\n",
       "      <td>0</td>\n",
       "      <td>1</td>\n",
       "      <td>1</td>\n",
       "      <td>0</td>\n",
       "      <td>0</td>\n",
       "      <td>...</td>\n",
       "      <td>0</td>\n",
       "      <td>0</td>\n",
       "      <td>0</td>\n",
       "      <td>0</td>\n",
       "      <td>0</td>\n",
       "      <td>0</td>\n",
       "      <td>0</td>\n",
       "      <td>1</td>\n",
       "      <td>0</td>\n",
       "      <td>0</td>\n",
       "    </tr>\n",
       "  </tbody>\n",
       "</table>\n",
       "<p>2 rows × 24 columns</p>\n",
       "</div>"
      ],
      "text/plain": [
       "   movie id       movie title release date  video release date  \\\n",
       "0         1  Toy Story (1995)  01-Jan-1995                 NaN   \n",
       "1         2  GoldenEye (1995)  01-Jan-1995                 NaN   \n",
       "\n",
       "                                           IMDb URL   unknown  Action  \\\n",
       "0  http://us.imdb.com/M/title-exact?Toy%20Story%2...        0       0   \n",
       "1  http://us.imdb.com/M/title-exact?GoldenEye%20(...        0       1   \n",
       "\n",
       "   Adventure  Animation  Children  ...  Fantasy  Film-Noir  Horror  Musical  \\\n",
       "0          0          1         1  ...        0          0       0        0   \n",
       "1          1          0         0  ...        0          0       0        0   \n",
       "\n",
       "   Mystery  Romance  Sci-Fi  Thriller  War  Western  \n",
       "0        0        0       0         0    0        0  \n",
       "1        0        0       0         1    0        0  \n",
       "\n",
       "[2 rows x 24 columns]"
      ]
     },
     "execution_count": 5,
     "metadata": {},
     "output_type": "execute_result"
    }
   ],
   "source": [
    "display(ratings.head(2))\n",
    "items.head(2)"
   ]
  },
  {
   "cell_type": "code",
   "execution_count": 6,
   "metadata": {
    "id": "ztMyJLZjRIiU"
   },
   "outputs": [
    {
     "data": {
      "text/html": [
       "<div>\n",
       "<style scoped>\n",
       "    .dataframe tbody tr th:only-of-type {\n",
       "        vertical-align: middle;\n",
       "    }\n",
       "\n",
       "    .dataframe tbody tr th {\n",
       "        vertical-align: top;\n",
       "    }\n",
       "\n",
       "    .dataframe thead th {\n",
       "        text-align: right;\n",
       "    }\n",
       "</style>\n",
       "<table border=\"1\" class=\"dataframe\">\n",
       "  <thead>\n",
       "    <tr style=\"text-align: right;\">\n",
       "      <th></th>\n",
       "      <th>movie id</th>\n",
       "      <th>movie title</th>\n",
       "      <th>release date</th>\n",
       "      <th>video release date</th>\n",
       "      <th>IMDb URL</th>\n",
       "      <th>unknown</th>\n",
       "      <th>Action</th>\n",
       "      <th>Adventure</th>\n",
       "      <th>Animation</th>\n",
       "      <th>Children</th>\n",
       "      <th>...</th>\n",
       "      <th>Fantasy</th>\n",
       "      <th>Film-Noir</th>\n",
       "      <th>Horror</th>\n",
       "      <th>Musical</th>\n",
       "      <th>Mystery</th>\n",
       "      <th>Romance</th>\n",
       "      <th>Sci-Fi</th>\n",
       "      <th>Thriller</th>\n",
       "      <th>War</th>\n",
       "      <th>Western</th>\n",
       "    </tr>\n",
       "    <tr>\n",
       "      <th>movie id</th>\n",
       "      <th></th>\n",
       "      <th></th>\n",
       "      <th></th>\n",
       "      <th></th>\n",
       "      <th></th>\n",
       "      <th></th>\n",
       "      <th></th>\n",
       "      <th></th>\n",
       "      <th></th>\n",
       "      <th></th>\n",
       "      <th></th>\n",
       "      <th></th>\n",
       "      <th></th>\n",
       "      <th></th>\n",
       "      <th></th>\n",
       "      <th></th>\n",
       "      <th></th>\n",
       "      <th></th>\n",
       "      <th></th>\n",
       "      <th></th>\n",
       "      <th></th>\n",
       "    </tr>\n",
       "  </thead>\n",
       "  <tbody>\n",
       "    <tr>\n",
       "      <th>1</th>\n",
       "      <td>1</td>\n",
       "      <td>Toy Story (1995)</td>\n",
       "      <td>01-Jan-1995</td>\n",
       "      <td>NaN</td>\n",
       "      <td>http://us.imdb.com/M/title-exact?Toy%20Story%2...</td>\n",
       "      <td>0</td>\n",
       "      <td>0</td>\n",
       "      <td>0</td>\n",
       "      <td>1</td>\n",
       "      <td>1</td>\n",
       "      <td>...</td>\n",
       "      <td>0</td>\n",
       "      <td>0</td>\n",
       "      <td>0</td>\n",
       "      <td>0</td>\n",
       "      <td>0</td>\n",
       "      <td>0</td>\n",
       "      <td>0</td>\n",
       "      <td>0</td>\n",
       "      <td>0</td>\n",
       "      <td>0</td>\n",
       "    </tr>\n",
       "  </tbody>\n",
       "</table>\n",
       "<p>1 rows × 24 columns</p>\n",
       "</div>"
      ],
      "text/plain": [
       "          movie id       movie title release date  video release date  \\\n",
       "movie id                                                                \n",
       "1                1  Toy Story (1995)  01-Jan-1995                 NaN   \n",
       "\n",
       "                                                  IMDb URL   unknown  Action  \\\n",
       "movie id                                                                       \n",
       "1         http://us.imdb.com/M/title-exact?Toy%20Story%2...        0       0   \n",
       "\n",
       "          Adventure  Animation  Children  ...  Fantasy  Film-Noir  Horror  \\\n",
       "movie id                                  ...                               \n",
       "1                 0          1         1  ...        0          0       0   \n",
       "\n",
       "          Musical  Mystery  Romance  Sci-Fi  Thriller  War  Western  \n",
       "movie id                                                             \n",
       "1               0        0        0       0         0    0        0  \n",
       "\n",
       "[1 rows x 24 columns]"
      ]
     },
     "execution_count": 6,
     "metadata": {},
     "output_type": "execute_result"
    }
   ],
   "source": [
    "# Se cambia el índice por la columna movie id\n",
    "items=items.set_index(items['movie id'])\n",
    "items.head(1)"
   ]
  },
  {
   "cell_type": "markdown",
   "metadata": {
    "id": "lkhrr5u0lVl_"
   },
   "source": [
    "## Visualice la distribución de ratings, ¿Qué puede decir al respecto?"
   ]
  },
  {
   "cell_type": "code",
   "execution_count": 7,
   "metadata": {
    "colab": {
     "base_uri": "https://localhost:8080/"
    },
    "id": "wavh7C1WqXyI",
    "outputId": "e29fe985-3c0b-43fa-d7c2-1c358f322ad3"
   },
   "outputs": [
    {
     "data": {
      "text/html": [
       "<div>\n",
       "<style scoped>\n",
       "    .dataframe tbody tr th:only-of-type {\n",
       "        vertical-align: middle;\n",
       "    }\n",
       "\n",
       "    .dataframe tbody tr th {\n",
       "        vertical-align: top;\n",
       "    }\n",
       "\n",
       "    .dataframe thead th {\n",
       "        text-align: right;\n",
       "    }\n",
       "</style>\n",
       "<table border=\"1\" class=\"dataframe\">\n",
       "  <thead>\n",
       "    <tr style=\"text-align: right;\">\n",
       "      <th></th>\n",
       "      <th>Rating</th>\n",
       "      <th>Perc_rating</th>\n",
       "    </tr>\n",
       "  </thead>\n",
       "  <tbody>\n",
       "    <tr>\n",
       "      <th>0</th>\n",
       "      <td>4</td>\n",
       "      <td>34.174</td>\n",
       "    </tr>\n",
       "    <tr>\n",
       "      <th>1</th>\n",
       "      <td>3</td>\n",
       "      <td>27.145</td>\n",
       "    </tr>\n",
       "    <tr>\n",
       "      <th>2</th>\n",
       "      <td>5</td>\n",
       "      <td>21.201</td>\n",
       "    </tr>\n",
       "    <tr>\n",
       "      <th>3</th>\n",
       "      <td>2</td>\n",
       "      <td>11.370</td>\n",
       "    </tr>\n",
       "    <tr>\n",
       "      <th>4</th>\n",
       "      <td>1</td>\n",
       "      <td>6.110</td>\n",
       "    </tr>\n",
       "  </tbody>\n",
       "</table>\n",
       "</div>"
      ],
      "text/plain": [
       "   Rating  Perc_rating\n",
       "0       4       34.174\n",
       "1       3       27.145\n",
       "2       5       21.201\n",
       "3       2       11.370\n",
       "4       1        6.110"
      ]
     },
     "execution_count": 7,
     "metadata": {},
     "output_type": "execute_result"
    }
   ],
   "source": [
    "pd.DataFrame((ratings.rating.value_counts()/len(ratings))*100).reset_index().rename(columns= {'index':'Rating',\n",
    "                                                                                             'rating':'Perc_rating'})"
   ]
  },
  {
   "cell_type": "code",
   "execution_count": 8,
   "metadata": {
    "colab": {
     "base_uri": "https://localhost:8080/",
     "height": 296
    },
    "id": "CrVPRhE_ZkvM",
    "outputId": "89a50391-4fc5-44f6-b741-5f2c39ffd9f3"
   },
   "outputs": [
    {
     "data": {
      "image/png": "[encoded data removed]",
      "text/plain": [
       "<Figure size 432x288 with 1 Axes>"
      ]
     },
     "metadata": {
      "needs_background": "light"
     },
     "output_type": "display_data"
    }
   ],
   "source": [
    "sns.countplot(y='rating', data=ratings)\n",
    "plt.title('Distribución de calificaciones')\n",
    "plt.show()"
   ]
  },
  {
   "cell_type": "markdown",
   "metadata": {
    "id": "gmhIRCIwwq-U"
   },
   "source": [
    "La distribución de los puntajes asignados a  las peliculas ( valores entre 1 y 5)   presentan una distribución en la cual  la mayor asiganción de puntaje  dad para el valor \"4\" con un 34.1% de usuarios, continuado con el puntajaje \"3\" con un 27%  luego el \"5\" con un 21.2% y por ultimos el valor de \"2\" con 11.3% y \"1\" con 6.11%. Indicando que porcentaje de califcaciones que podriamos decir como bajas corresponde al 17.48%."
   ]
  },
  {
   "cell_type": "markdown",
   "metadata": {
    "id": "Rvyd2GmRnegf"
   },
   "source": [
    "## En la siguiente celda se esta calculando el número de ratings por usuario y  el promedio de sus calificaciones, el dataframe esta ordenado por el número de calificaciones"
   ]
  },
  {
   "cell_type": "code",
   "execution_count": 9,
   "metadata": {
    "colab": {
     "base_uri": "https://localhost:8080/",
     "height": 450
    },
    "id": "JapJ5D8Sg8ZZ",
    "outputId": "68f8e01f-da1f-43ca-b856-3dbf53341767"
   },
   "outputs": [
    {
     "data": {
      "text/html": [
       "<div>\n",
       "<style scoped>\n",
       "    .dataframe tbody tr th:only-of-type {\n",
       "        vertical-align: middle;\n",
       "    }\n",
       "\n",
       "    .dataframe tbody tr th {\n",
       "        vertical-align: top;\n",
       "    }\n",
       "\n",
       "    .dataframe thead th {\n",
       "        text-align: right;\n",
       "    }\n",
       "</style>\n",
       "<table border=\"1\" class=\"dataframe\">\n",
       "  <thead>\n",
       "    <tr style=\"text-align: right;\">\n",
       "      <th></th>\n",
       "      <th>user_id</th>\n",
       "      <th>count</th>\n",
       "      <th>mean</th>\n",
       "    </tr>\n",
       "  </thead>\n",
       "  <tbody>\n",
       "    <tr>\n",
       "      <th>0</th>\n",
       "      <td>405</td>\n",
       "      <td>737</td>\n",
       "      <td>1.834464</td>\n",
       "    </tr>\n",
       "    <tr>\n",
       "      <th>1</th>\n",
       "      <td>655</td>\n",
       "      <td>685</td>\n",
       "      <td>2.908029</td>\n",
       "    </tr>\n",
       "    <tr>\n",
       "      <th>2</th>\n",
       "      <td>13</td>\n",
       "      <td>636</td>\n",
       "      <td>3.097484</td>\n",
       "    </tr>\n",
       "    <tr>\n",
       "      <th>3</th>\n",
       "      <td>450</td>\n",
       "      <td>540</td>\n",
       "      <td>3.864815</td>\n",
       "    </tr>\n",
       "    <tr>\n",
       "      <th>4</th>\n",
       "      <td>276</td>\n",
       "      <td>518</td>\n",
       "      <td>3.465251</td>\n",
       "    </tr>\n",
       "    <tr>\n",
       "      <th>...</th>\n",
       "      <td>...</td>\n",
       "      <td>...</td>\n",
       "      <td>...</td>\n",
       "    </tr>\n",
       "    <tr>\n",
       "      <th>938</th>\n",
       "      <td>685</td>\n",
       "      <td>20</td>\n",
       "      <td>2.050000</td>\n",
       "    </tr>\n",
       "    <tr>\n",
       "      <th>939</th>\n",
       "      <td>475</td>\n",
       "      <td>20</td>\n",
       "      <td>3.600000</td>\n",
       "    </tr>\n",
       "    <tr>\n",
       "      <th>940</th>\n",
       "      <td>36</td>\n",
       "      <td>20</td>\n",
       "      <td>3.800000</td>\n",
       "    </tr>\n",
       "    <tr>\n",
       "      <th>941</th>\n",
       "      <td>732</td>\n",
       "      <td>20</td>\n",
       "      <td>3.700000</td>\n",
       "    </tr>\n",
       "    <tr>\n",
       "      <th>942</th>\n",
       "      <td>596</td>\n",
       "      <td>20</td>\n",
       "      <td>3.600000</td>\n",
       "    </tr>\n",
       "  </tbody>\n",
       "</table>\n",
       "<p>943 rows × 3 columns</p>\n",
       "</div>"
      ],
      "text/plain": [
       "     user_id  count      mean\n",
       "0        405    737  1.834464\n",
       "1        655    685  2.908029\n",
       "2         13    636  3.097484\n",
       "3        450    540  3.864815\n",
       "4        276    518  3.465251\n",
       "..       ...    ...       ...\n",
       "938      685     20  2.050000\n",
       "939      475     20  3.600000\n",
       "940       36     20  3.800000\n",
       "941      732     20  3.700000\n",
       "942      596     20  3.600000\n",
       "\n",
       "[943 rows x 3 columns]"
      ]
     },
     "metadata": {},
     "output_type": "display_data"
    }
   ],
   "source": [
    "display(ratings.groupby('user_id')['rating'].agg({'count','mean'}).sort_values(by='count', ascending=False).reset_index())"
   ]
  },
  {
   "cell_type": "markdown",
   "metadata": {
    "id": "IOH5jtpUokKn"
   },
   "source": [
    "## Utilice las siguientes celdas para encontrar respuesta a las siguientes preguntas\n",
    "\n",
    "¿Cómo es la distribución del número de ratings por usuario?"
   ]
  },
  {
   "cell_type": "code",
   "execution_count": 10,
   "metadata": {
    "colab": {
     "base_uri": "https://localhost:8080/",
     "height": 369
    },
    "id": "9PA43szmpTiQ",
    "outputId": "fce0a5b4-bfc0-478a-f7be-f42fb711a38d"
   },
   "outputs": [
    {
     "data": {
      "image/png": "[encoded data removed]",
      "text/plain": [
       "<Figure size 360x360 with 1 Axes>"
      ]
     },
     "metadata": {
      "needs_background": "light"
     },
     "output_type": "display_data"
    }
   ],
   "source": [
    "ratings_count = ratings.groupby('user_id')['rating'].agg({'count'}).sort_values(by='count', ascending=False)\n",
    "sns.displot(y='count', data=ratings_count)\n",
    "plt.xlabel('conteo')\n",
    "plt.ylabel('Numero de calificaciones')\n",
    "plt.show()"
   ]
  },
  {
   "cell_type": "markdown",
   "metadata": {},
   "source": [
    "¿Cómo es la distribución del promedio de calificación por usuario?"
   ]
  },
  {
   "cell_type": "code",
   "execution_count": 11,
   "metadata": {
    "colab": {
     "base_uri": "https://localhost:8080/",
     "height": 369
    },
    "id": "O2UkypiRpTLA",
    "outputId": "98ea50c2-7090-4c0b-e2d3-fb1b2d338ec7"
   },
   "outputs": [
    {
     "data": {
      "image/png": "[encoded data removed]",
      "text/plain": [
       "<Figure size 360x360 with 1 Axes>"
      ]
     },
     "metadata": {
      "needs_background": "light"
     },
     "output_type": "display_data"
    }
   ],
   "source": [
    "mean_rating = ratings.groupby('user_id')['rating'].agg({'mean'}).reset_index()\n",
    "sns.displot(y='mean', data=mean_rating)\n",
    "plt.show()"
   ]
  },
  {
   "cell_type": "markdown",
   "metadata": {
    "id": "Sb2m2qv9sqZt"
   },
   "source": [
    "## En la siguiente celda se esta calculando el número de ratings por items, el promedio de sus calificaciones y la varianza de sus calificaciones. "
   ]
  },
  {
   "cell_type": "code",
   "execution_count": 12,
   "metadata": {
    "id": "xXZw4Iy2aARs"
   },
   "outputs": [
    {
     "data": {
      "text/html": [
       "<div>\n",
       "<style scoped>\n",
       "    .dataframe tbody tr th:only-of-type {\n",
       "        vertical-align: middle;\n",
       "    }\n",
       "\n",
       "    .dataframe tbody tr th {\n",
       "        vertical-align: top;\n",
       "    }\n",
       "\n",
       "    .dataframe thead th {\n",
       "        text-align: right;\n",
       "    }\n",
       "</style>\n",
       "<table border=\"1\" class=\"dataframe\">\n",
       "  <thead>\n",
       "    <tr style=\"text-align: right;\">\n",
       "      <th></th>\n",
       "      <th>item_id</th>\n",
       "      <th>count</th>\n",
       "      <th>mean</th>\n",
       "      <th>var</th>\n",
       "      <th>movie title</th>\n",
       "    </tr>\n",
       "  </thead>\n",
       "  <tbody>\n",
       "    <tr>\n",
       "      <th>0</th>\n",
       "      <td>1</td>\n",
       "      <td>452</td>\n",
       "      <td>3.878319</td>\n",
       "      <td>0.860992</td>\n",
       "      <td>Toy Story (1995)</td>\n",
       "    </tr>\n",
       "    <tr>\n",
       "      <th>1</th>\n",
       "      <td>2</td>\n",
       "      <td>131</td>\n",
       "      <td>3.206107</td>\n",
       "      <td>0.934116</td>\n",
       "      <td>GoldenEye (1995)</td>\n",
       "    </tr>\n",
       "    <tr>\n",
       "      <th>2</th>\n",
       "      <td>3</td>\n",
       "      <td>90</td>\n",
       "      <td>3.033333</td>\n",
       "      <td>1.470787</td>\n",
       "      <td>Four Rooms (1995)</td>\n",
       "    </tr>\n",
       "  </tbody>\n",
       "</table>\n",
       "</div>"
      ],
      "text/plain": [
       "   item_id  count      mean       var        movie title\n",
       "0        1    452  3.878319  0.860992   Toy Story (1995)\n",
       "1        2    131  3.206107  0.934116   GoldenEye (1995)\n",
       "2        3     90  3.033333  1.470787  Four Rooms (1995)"
      ]
     },
     "execution_count": 12,
     "metadata": {},
     "output_type": "execute_result"
    }
   ],
   "source": [
    "ratings.groupby('item_id')['rating'].agg({'count','mean','var'}).join(items['movie title'], how='left').reset_index().head(3)"
   ]
  },
  {
   "cell_type": "markdown",
   "metadata": {
    "id": "mLsd_rohxMhc"
   },
   "source": [
    "## Utilice las siguientes celdas para encontrar la respuesta a las siguientes preguntas\n",
    "\n",
    "¿Cuáles son los items con más calificaciones?  \n"
   ]
  },
  {
   "cell_type": "code",
   "execution_count": 13,
   "metadata": {
    "colab": {
     "base_uri": "https://localhost:8080/",
     "height": 677
    },
    "id": "TP264UnaCzm5",
    "outputId": "c7829893-8a54-4327-9122-64c40f6a6d54",
    "scrolled": true
   },
   "outputs": [
    {
     "data": {
      "text/html": [
       "<div>\n",
       "<style scoped>\n",
       "    .dataframe tbody tr th:only-of-type {\n",
       "        vertical-align: middle;\n",
       "    }\n",
       "\n",
       "    .dataframe tbody tr th {\n",
       "        vertical-align: top;\n",
       "    }\n",
       "\n",
       "    .dataframe thead th {\n",
       "        text-align: right;\n",
       "    }\n",
       "</style>\n",
       "<table border=\"1\" class=\"dataframe\">\n",
       "  <thead>\n",
       "    <tr style=\"text-align: right;\">\n",
       "      <th></th>\n",
       "      <th>item_id</th>\n",
       "      <th>Numero_calificaciones</th>\n",
       "    </tr>\n",
       "  </thead>\n",
       "  <tbody>\n",
       "    <tr>\n",
       "      <th>49</th>\n",
       "      <td>50</td>\n",
       "      <td>583</td>\n",
       "    </tr>\n",
       "    <tr>\n",
       "      <th>257</th>\n",
       "      <td>258</td>\n",
       "      <td>509</td>\n",
       "    </tr>\n",
       "    <tr>\n",
       "      <th>99</th>\n",
       "      <td>100</td>\n",
       "      <td>508</td>\n",
       "    </tr>\n",
       "    <tr>\n",
       "      <th>180</th>\n",
       "      <td>181</td>\n",
       "      <td>507</td>\n",
       "    </tr>\n",
       "    <tr>\n",
       "      <th>293</th>\n",
       "      <td>294</td>\n",
       "      <td>485</td>\n",
       "    </tr>\n",
       "    <tr>\n",
       "      <th>285</th>\n",
       "      <td>286</td>\n",
       "      <td>481</td>\n",
       "    </tr>\n",
       "    <tr>\n",
       "      <th>287</th>\n",
       "      <td>288</td>\n",
       "      <td>478</td>\n",
       "    </tr>\n",
       "    <tr>\n",
       "      <th>0</th>\n",
       "      <td>1</td>\n",
       "      <td>452</td>\n",
       "    </tr>\n",
       "    <tr>\n",
       "      <th>299</th>\n",
       "      <td>300</td>\n",
       "      <td>431</td>\n",
       "    </tr>\n",
       "    <tr>\n",
       "      <th>120</th>\n",
       "      <td>121</td>\n",
       "      <td>429</td>\n",
       "    </tr>\n",
       "  </tbody>\n",
       "</table>\n",
       "</div>"
      ],
      "text/plain": [
       "     item_id  Numero_calificaciones\n",
       "49        50                    583\n",
       "257      258                    509\n",
       "99       100                    508\n",
       "180      181                    507\n",
       "293      294                    485\n",
       "285      286                    481\n",
       "287      288                    478\n",
       "0          1                    452\n",
       "299      300                    431\n",
       "120      121                    429"
      ]
     },
     "execution_count": 13,
     "metadata": {},
     "output_type": "execute_result"
    }
   ],
   "source": [
    "ratings.groupby('item_id').size().reset_index(name = 'conteo').sort_values(by = 'conteo', ascending = False).head(10).rename(columns= {'conteo':'Numero_calificaciones'})"
   ]
  },
  {
   "cell_type": "markdown",
   "metadata": {},
   "source": [
    "¿Se puede observar el fenomeno de cola larga en este dataset?, evidencielo por medio de un gráfico"
   ]
  },
  {
   "cell_type": "code",
   "execution_count": 14,
   "metadata": {},
   "outputs": [
    {
     "data": {
      "image/png": "[encoded data removed]",
      "text/plain": [
       "<Figure size 432x288 with 1 Axes>"
      ]
     },
     "metadata": {
      "needs_background": "light"
     },
     "output_type": "display_data"
    }
   ],
   "source": [
    "data_r =ratings.groupby('item_id').size().reset_index(name = 'conteo').sort_values(by = 'conteo', ascending = False)\n",
    "data_r = data_r.reset_index(drop=True)\n",
    "data_r = data_r.assign(index=data_r.index)\n",
    "plt.bar(data_r.index,data_r.conteo)\n",
    "plt.xticks([])\n",
    "plt.xlabel('Items')\n",
    "plt.ylabel('Conteo')\n",
    "plt.show()"
   ]
  },
  {
   "cell_type": "markdown",
   "metadata": {
    "id": "kG9eggK7cQIc"
   },
   "source": [
    "## Creación de listas de recomendación no personalizadas\n",
    "\n",
    "Genere inicialmente una lista de recomendación de tamaño 10 no personalizada con los items con mejor promedio, en teoría estos serían los mejores items del dataset y una buena lista inicial con los elementos más aclamados por los usuarios del sistema\n",
    "\n",
    "¿Qué problemas tiene generar una lista no personalizada solamente con el promedio?\n",
    "\n",
    "¿Es posible generar una mejor lista de recomendación teniendo en cuenta que tanto el número de ratings del item como su promedio? \n",
    "\n",
    "Cree una lista top 10 con los mejores items globales siguiendo la estrategia seleccionada\n",
    "\n",
    "Ver: \n",
    "\n",
    "http://www.evanmiller.org/how-not-to-sort-by-average-rating.html\n",
    "\n",
    "https://es.wikipedia.org/wiki/Intervalo_de_confianza\n"
   ]
  },
  {
   "cell_type": "code",
   "execution_count": 18,
   "metadata": {
    "id": "LD-po-a_5xL1"
   },
   "outputs": [],
   "source": [
    "### Top 10  de los items con mejores promedios"
   ]
  },
  {
   "cell_type": "code",
   "execution_count": 16,
   "metadata": {
    "colab": {
     "base_uri": "https://localhost:8080/",
     "height": 363
    },
    "id": "4XMG1LkAdXAv",
    "outputId": "78fcb083-c558-474b-9fe4-5841f09791a4"
   },
   "outputs": [
    {
     "data": {
      "text/html": [
       "<div>\n",
       "<style scoped>\n",
       "    .dataframe tbody tr th:only-of-type {\n",
       "        vertical-align: middle;\n",
       "    }\n",
       "\n",
       "    .dataframe tbody tr th {\n",
       "        vertical-align: top;\n",
       "    }\n",
       "\n",
       "    .dataframe thead th {\n",
       "        text-align: right;\n",
       "    }\n",
       "</style>\n",
       "<table border=\"1\" class=\"dataframe\">\n",
       "  <thead>\n",
       "    <tr style=\"text-align: right;\">\n",
       "      <th></th>\n",
       "      <th>item_id</th>\n",
       "      <th>mean</th>\n",
       "      <th>movie title</th>\n",
       "    </tr>\n",
       "  </thead>\n",
       "  <tbody>\n",
       "    <tr>\n",
       "      <th>49</th>\n",
       "      <td>50</td>\n",
       "      <td>583</td>\n",
       "      <td>I.Q. (1994)</td>\n",
       "    </tr>\n",
       "    <tr>\n",
       "      <th>257</th>\n",
       "      <td>258</td>\n",
       "      <td>509</td>\n",
       "      <td>Men in Black (1997)</td>\n",
       "    </tr>\n",
       "    <tr>\n",
       "      <th>99</th>\n",
       "      <td>100</td>\n",
       "      <td>508</td>\n",
       "      <td>Snow White and the Seven Dwarfs (1937)</td>\n",
       "    </tr>\n",
       "    <tr>\n",
       "      <th>180</th>\n",
       "      <td>181</td>\n",
       "      <td>507</td>\n",
       "      <td>Apocalypse Now (1979)</td>\n",
       "    </tr>\n",
       "    <tr>\n",
       "      <th>293</th>\n",
       "      <td>294</td>\n",
       "      <td>485</td>\n",
       "      <td>Donnie Brasco (1997)</td>\n",
       "    </tr>\n",
       "    <tr>\n",
       "      <th>285</th>\n",
       "      <td>286</td>\n",
       "      <td>481</td>\n",
       "      <td>Secrets &amp; Lies (1996)</td>\n",
       "    </tr>\n",
       "    <tr>\n",
       "      <th>287</th>\n",
       "      <td>288</td>\n",
       "      <td>478</td>\n",
       "      <td>Marvin's Room (1996)</td>\n",
       "    </tr>\n",
       "    <tr>\n",
       "      <th>0</th>\n",
       "      <td>1</td>\n",
       "      <td>452</td>\n",
       "      <td>NaN</td>\n",
       "    </tr>\n",
       "    <tr>\n",
       "      <th>299</th>\n",
       "      <td>300</td>\n",
       "      <td>431</td>\n",
       "      <td>Hoodlum (1997)</td>\n",
       "    </tr>\n",
       "    <tr>\n",
       "      <th>120</th>\n",
       "      <td>121</td>\n",
       "      <td>429</td>\n",
       "      <td>Striptease (1996)</td>\n",
       "    </tr>\n",
       "  </tbody>\n",
       "</table>\n",
       "</div>"
      ],
      "text/plain": [
       "     item_id  mean                             movie title\n",
       "49        50   583                             I.Q. (1994)\n",
       "257      258   509                     Men in Black (1997)\n",
       "99       100   508  Snow White and the Seven Dwarfs (1937)\n",
       "180      181   507                   Apocalypse Now (1979)\n",
       "293      294   485                    Donnie Brasco (1997)\n",
       "285      286   481                   Secrets & Lies (1996)\n",
       "287      288   478                    Marvin's Room (1996)\n",
       "0          1   452                                     NaN\n",
       "299      300   431                          Hoodlum (1997)\n",
       "120      121   429                       Striptease (1996)"
      ]
     },
     "execution_count": 16,
     "metadata": {},
     "output_type": "execute_result"
    }
   ],
   "source": [
    "ratings.groupby('item_id').size().reset_index(name = 'mean').sort_values(by = 'mean', ascending = False).head(10).join(items['movie title'], how='left')"
   ]
  },
  {
   "cell_type": "code",
   "execution_count": 17,
   "metadata": {
    "colab": {
     "base_uri": "https://localhost:8080/",
     "height": 363
    },
    "id": "XWiogp7udWwI",
    "outputId": "7cf2daf7-8124-4063-aa6f-ebfb08a0a6fb"
   },
   "outputs": [
    {
     "data": {
      "text/html": [
       "<div>\n",
       "<style scoped>\n",
       "    .dataframe tbody tr th:only-of-type {\n",
       "        vertical-align: middle;\n",
       "    }\n",
       "\n",
       "    .dataframe tbody tr th {\n",
       "        vertical-align: top;\n",
       "    }\n",
       "\n",
       "    .dataframe thead th {\n",
       "        text-align: right;\n",
       "    }\n",
       "</style>\n",
       "<table border=\"1\" class=\"dataframe\">\n",
       "  <thead>\n",
       "    <tr style=\"text-align: right;\">\n",
       "      <th></th>\n",
       "      <th>movie title</th>\n",
       "      <th>numero_calificacione</th>\n",
       "      <th>promedio_calificaciones</th>\n",
       "      <th>peso</th>\n",
       "    </tr>\n",
       "  </thead>\n",
       "  <tbody>\n",
       "    <tr>\n",
       "      <th>49</th>\n",
       "      <td>I.Q. (1994)</td>\n",
       "      <td>583</td>\n",
       "      <td>4.358491</td>\n",
       "      <td>0.871698</td>\n",
       "    </tr>\n",
       "    <tr>\n",
       "      <th>99</th>\n",
       "      <td>Snow White and the Seven Dwarfs (1937)</td>\n",
       "      <td>508</td>\n",
       "      <td>4.155512</td>\n",
       "      <td>0.724185</td>\n",
       "    </tr>\n",
       "    <tr>\n",
       "      <th>180</th>\n",
       "      <td>Apocalypse Now (1979)</td>\n",
       "      <td>507</td>\n",
       "      <td>4.007890</td>\n",
       "      <td>0.697084</td>\n",
       "    </tr>\n",
       "    <tr>\n",
       "      <th>257</th>\n",
       "      <td>Men in Black (1997)</td>\n",
       "      <td>509</td>\n",
       "      <td>3.803536</td>\n",
       "      <td>0.664151</td>\n",
       "    </tr>\n",
       "    <tr>\n",
       "      <th>173</th>\n",
       "      <td>Princess Bride, The (1987)</td>\n",
       "      <td>420</td>\n",
       "      <td>4.252381</td>\n",
       "      <td>0.612693</td>\n",
       "    </tr>\n",
       "    <tr>\n",
       "      <th>126</th>\n",
       "      <td>Spitfire Grill, The (1996)</td>\n",
       "      <td>413</td>\n",
       "      <td>4.283293</td>\n",
       "      <td>0.606861</td>\n",
       "    </tr>\n",
       "    <tr>\n",
       "      <th>285</th>\n",
       "      <td>Secrets &amp; Lies (1996)</td>\n",
       "      <td>481</td>\n",
       "      <td>3.656965</td>\n",
       "      <td>0.603431</td>\n",
       "    </tr>\n",
       "    <tr>\n",
       "      <th>0</th>\n",
       "      <td>NaN</td>\n",
       "      <td>452</td>\n",
       "      <td>3.878319</td>\n",
       "      <td>0.601372</td>\n",
       "    </tr>\n",
       "    <tr>\n",
       "      <th>97</th>\n",
       "      <td>Dances with Wolves (1990)</td>\n",
       "      <td>390</td>\n",
       "      <td>4.289744</td>\n",
       "      <td>0.573928</td>\n",
       "    </tr>\n",
       "    <tr>\n",
       "      <th>287</th>\n",
       "      <td>Marvin's Room (1996)</td>\n",
       "      <td>478</td>\n",
       "      <td>3.441423</td>\n",
       "      <td>0.564322</td>\n",
       "    </tr>\n",
       "  </tbody>\n",
       "</table>\n",
       "</div>"
      ],
      "text/plain": [
       "                                movie title  numero_calificacione  \\\n",
       "49                              I.Q. (1994)                   583   \n",
       "99   Snow White and the Seven Dwarfs (1937)                   508   \n",
       "180                   Apocalypse Now (1979)                   507   \n",
       "257                     Men in Black (1997)                   509   \n",
       "173              Princess Bride, The (1987)                   420   \n",
       "126              Spitfire Grill, The (1996)                   413   \n",
       "285                   Secrets & Lies (1996)                   481   \n",
       "0                                       NaN                   452   \n",
       "97                Dances with Wolves (1990)                   390   \n",
       "287                    Marvin's Room (1996)                   478   \n",
       "\n",
       "     promedio_calificaciones      peso  \n",
       "49                  4.358491  0.871698  \n",
       "99                  4.155512  0.724185  \n",
       "180                 4.007890  0.697084  \n",
       "257                 3.803536  0.664151  \n",
       "173                 4.252381  0.612693  \n",
       "126                 4.283293  0.606861  \n",
       "285                 3.656965  0.603431  \n",
       "0                   3.878319  0.601372  \n",
       "97                  4.289744  0.573928  \n",
       "287                 3.441423  0.564322  "
      ]
     },
     "execution_count": 17,
     "metadata": {},
     "output_type": "execute_result"
    }
   ],
   "source": [
    "### https://www.sciencedirect.com/science/article/pii/S1877050918308718\n",
    "\n",
    "f = ratings.groupby('item_id')['rating'].agg({'count','mean'}).reset_index().rename(columns={'count':'numero_calificacione',\n",
    "                                                                                          'mean':'promedio_calificaciones'})\n",
    "def weight_item(mean,count,count_max):\n",
    "    return (mean/5) *(count/count_max)\n",
    "n = f.numero_calificacione.max()\n",
    "f = f.assign(peso = f.apply(lambda x: weight_item(x.numero_calificacione,x.promedio_calificaciones,n),axis=1))\n",
    "f.sort_values(by='peso',ascending=False).head(10).join(items['movie title'], how='left')[['movie title','numero_calificacione', \t'promedio_calificaciones', \t'peso']]"
   ]
  },
  {
   "cell_type": "markdown",
   "metadata": {
    "id": "c7BO4guxySk3"
   },
   "source": [
    "# Creación del dataset de entrenamiento y prueba\n",
    "\n",
    "El próximo paso es cargar los datos a surprise, para esto vamos a inicializar un modelo de datos de surprise con la información de los ratings cargados en el dataframe"
   ]
  },
  {
   "cell_type": "code",
   "execution_count": 18,
   "metadata": {
    "id": "xzF3iMfVzWiz"
   },
   "outputs": [],
   "source": [
    "reader = Reader( rating_scale = ( 1, 5 ) )\n",
    "#Se crea el dataset a partir del dataframe\n",
    "surprise_dataset = Dataset.load_from_df( ratings[ [ 'user_id', 'item_id', 'rating' ] ], reader )"
   ]
  },
  {
   "cell_type": "markdown",
   "metadata": {
    "id": "aBSHMZu-IaDE"
   },
   "source": [
    "Se divide el dataset en entrenamiento y test. El dataset de entrenamiento será presentado al algoritmo de recomendación y el dataset de test nos servirá para medir qué tan buenas fueron las predicciones del sistema de recomendación. El conjunto de test generado es una lista con los ratings de prueba"
   ]
  },
  {
   "cell_type": "code",
   "execution_count": 19,
   "metadata": {
    "id": "wVCXEv2zHDN7"
   },
   "outputs": [],
   "source": [
    "train_set, test_set=  train_test_split(surprise_dataset, test_size=.2)"
   ]
  },
  {
   "cell_type": "code",
   "execution_count": 20,
   "metadata": {
    "colab": {
     "base_uri": "https://localhost:8080/"
    },
    "id": "HDamSIDVZabW",
    "outputId": "d81d27cd-2125-4a00-e8e7-35ecd162f46c"
   },
   "outputs": [
    {
     "data": {
      "text/plain": [
       "(154, 302, 4.0)"
      ]
     },
     "execution_count": 20,
     "metadata": {},
     "output_type": "execute_result"
    }
   ],
   "source": [
    "#Este es el primer elemento del dataset de prueba (usuario 154, pelicula 302, rating 4)\n",
    "test_set[0]"
   ]
  },
  {
   "cell_type": "markdown",
   "metadata": {
    "id": "kOd-SiVhLd_x"
   },
   "source": [
    "## Creación de modelo de filtrado colaborativo basado en similitud con usuarios o items cercanos\n",
    "\n",
    "Surprise cuenta con la implementación de los modelos colaborativos dentro de la clase [KNNBasic](https://surprise.readthedocs.io/en/stable/knn_inspired.html) \n",
    "\n",
    "El modelo recibe los siguientes parámetros: \n",
    "\n",
    "\n",
    "*   k: El máximo número de vecinos con el que se hará la extrapolación\n",
    "*   min_k : El mínimo número de vecinos con el que se extrapolará un rating\n",
    "*   sim_options : Opciones de similitud pasadas como un diccionario de python, aqui se le configura al modelo el tipo de similitud a usar para encontrar los vecinos y si la extrapolación debe hacerse usando usuarios o items similares. Revise el formato y similitudes disponibles en surprise en [este link](https://surprise.readthedocs.io/en/stable/prediction_algorithms.html#similarity-measure-configuration)\n",
    "\n",
    "\n",
    "\n"
   ]
  },
  {
   "cell_type": "code",
   "execution_count": 21,
   "metadata": {
    "id": "s5A8reiHLdXy"
   },
   "outputs": [],
   "source": [
    "# se crea un modelo knnbasic item-item con similitud coseno \n",
    "sim_options = {'name': 'cosine',\n",
    "               'user_based': False  # calcule similitud item-item\n",
    "               }\n",
    "algo = KNNBasic(k=20, min_k=2, sim_options=sim_options)"
   ]
  },
  {
   "cell_type": "code",
   "execution_count": 22,
   "metadata": {
    "colab": {
     "base_uri": "https://localhost:8080/"
    },
    "id": "_G8gUHeoUzR-",
    "outputId": "078d0045-eb1b-4def-f370-cdb22740d7ac"
   },
   "outputs": [
    {
     "name": "stdout",
     "output_type": "stream",
     "text": [
      "Computing the cosine similarity matrix...\n",
      "Done computing similarity matrix.\n"
     ]
    },
    {
     "data": {
      "text/plain": [
       "<surprise.prediction_algorithms.knns.KNNBasic at 0x7f597f2d0050>"
      ]
     },
     "execution_count": 22,
     "metadata": {},
     "output_type": "execute_result"
    }
   ],
   "source": [
    "#Se le pasa la matriz de utilidad al algoritmo \n",
    "algo.fit(trainset=train_set)"
   ]
  },
  {
   "cell_type": "markdown",
   "metadata": {
    "id": "4B1_I0LqY6rd"
   },
   "source": [
    "Una vez cargados los ratings al modelo, se puede realizar una predicción para un usuario, en este caso vamos a calcular la predicción que el modelo esta realizando para la primera entrada del dataset de test la predicción para el usuario con id 154 y el item con id 302, que corresponde a la película L.A. Confidential (1997)"
   ]
  },
  {
   "cell_type": "code",
   "execution_count": 22,
   "metadata": {
    "colab": {
     "base_uri": "https://localhost:8080/"
    },
    "id": "AdwrR8gVFQuD",
    "outputId": "07abc33e-0ebe-4d05-cdfe-8c71c26f10ca"
   },
   "outputs": [
    {
     "data": {
      "text/plain": [
       "Prediction(uid=154, iid=302, r_ui=None, est=4.249202065377386, details={'actual_k': 20, 'was_impossible': False})"
      ]
     },
     "execution_count": 22,
     "metadata": {},
     "output_type": "execute_result"
    }
   ],
   "source": [
    "#Verifique la propiedad est de la predicción\n",
    "algo.predict(154,302)"
   ]
  },
  {
   "cell_type": "code",
   "execution_count": 23,
   "metadata": {
    "colab": {
     "base_uri": "https://localhost:8080/"
    },
    "id": "H3l5kMLEGM_A",
    "outputId": "b4761788-bb15-4edc-8a1a-671f7da1906d"
   },
   "outputs": [
    {
     "data": {
      "text/plain": [
       "4"
      ]
     },
     "execution_count": 23,
     "metadata": {},
     "output_type": "execute_result"
    }
   ],
   "source": [
    "ratings[(ratings.user_id == 154) & (ratings.item_id==302)]['rating'].values[0]"
   ]
  },
  {
   "cell_type": "markdown",
   "metadata": {
    "id": "75RWLbA2a2BE"
   },
   "source": [
    "Como podemos ver, la predicción (4.24) del modelo no esta alejada de lo que realmente opinó el usuario  (4.0)\n",
    "\n",
    "Para medir la calidad de la predicción para todos los usuarios e items del dataset de prueba, vamos a comparar lo que dice el modelo de predicción vs lo que dice el conjunto de prueba, para esto vamos a usar la métrica [RMSE](https://surprise.readthedocs.io/en/stable/accuracy.html#surprise.accuracy.rmse)\n",
    "\n",
    "Inicialmente calculamos la predicción para todos los elementos del conjunto de test"
   ]
  },
  {
   "cell_type": "code",
   "execution_count": 24,
   "metadata": {
    "id": "xOl2ObNSIk8T"
   },
   "outputs": [],
   "source": [
    "test_predictions=algo.test(test_set)"
   ]
  },
  {
   "cell_type": "code",
   "execution_count": 25,
   "metadata": {
    "colab": {
     "base_uri": "https://localhost:8080/"
    },
    "id": "kRlvK_f2ZN7t",
    "outputId": "e13c5cd0-853e-4b19-9447-dc1c75c5e4cc"
   },
   "outputs": [
    {
     "data": {
      "text/plain": [
       "[Prediction(uid=154, iid=302, r_ui=4.0, est=4.249202065377386, details={'actual_k': 20, 'was_impossible': False}),\n",
       " Prediction(uid=896, iid=484, r_ui=4.0, est=2.8976616922320964, details={'actual_k': 20, 'was_impossible': False}),\n",
       " Prediction(uid=230, iid=371, r_ui=4.0, est=4.1968378983432535, details={'actual_k': 20, 'was_impossible': False}),\n",
       " Prediction(uid=234, iid=294, r_ui=3.0, est=3.0978778071364186, details={'actual_k': 20, 'was_impossible': False}),\n",
       " Prediction(uid=25, iid=729, r_ui=4.0, est=4.148885433441103, details={'actual_k': 20, 'was_impossible': False})]"
      ]
     },
     "execution_count": 25,
     "metadata": {},
     "output_type": "execute_result"
    }
   ],
   "source": [
    "#5 primeras predicciones\n",
    "test_predictions[0:5]"
   ]
  },
  {
   "cell_type": "markdown",
   "metadata": {
    "id": "yqgYbxzwe59D"
   },
   "source": [
    "Ahora se mide el RMSE de las predicciones vs el valor del dataset"
   ]
  },
  {
   "cell_type": "code",
   "execution_count": 26,
   "metadata": {
    "colab": {
     "base_uri": "https://localhost:8080/"
    },
    "id": "RDK_8jlUeyVL",
    "outputId": "9585db8f-8865-4f11-f1ac-fbe9ae8480e8"
   },
   "outputs": [
    {
     "name": "stdout",
     "output_type": "stream",
     "text": [
      "RMSE: 1.0453\n"
     ]
    },
    {
     "data": {
      "text/plain": [
       "1.0453343976192102"
      ]
     },
     "execution_count": 26,
     "metadata": {},
     "output_type": "execute_result"
    }
   ],
   "source": [
    "# En promedio, el sistema encuentra ratings que estan una estrella por encima o por debajo del rating del usuario\n",
    "accuracy.rmse( test_predictions, verbose = True )"
   ]
  },
  {
   "cell_type": "markdown",
   "metadata": {
    "id": "Ge8msMcPgFwy"
   },
   "source": [
    "## Utilice las siguientes celdas para encontrar la respuesta a las siguientes preguntas\n",
    "\n",
    "¿Cuál es el RMSE de un modelo usuario-usuario con los mismos parámetros de similitud?\n"
   ]
  },
  {
   "cell_type": "code",
   "execution_count": 27,
   "metadata": {},
   "outputs": [
    {
     "name": "stdout",
     "output_type": "stream",
     "text": [
      "Computing the cosine similarity matrix...\n",
      "Done computing similarity matrix.\n",
      "RMSE: 1.0166\n"
     ]
    },
    {
     "data": {
      "text/plain": [
       "1.0166414414593592"
      ]
     },
     "execution_count": 27,
     "metadata": {},
     "output_type": "execute_result"
    }
   ],
   "source": [
    "# se crea un modelo knnbasic item-item con similitud coseno \n",
    "sim_options = {'name': 'cosine',\n",
    "               'user_based': True  # calcule similitud item-item\n",
    "               }\n",
    "algo = KNNBasic(k=20, min_k=2, sim_options=sim_options)\n",
    "algo.fit(trainset=train_set)\n",
    "test_predictions=algo.test(test_set)\n",
    "accuracy.rmse( test_predictions, verbose = True )"
   ]
  },
  {
   "cell_type": "markdown",
   "metadata": {},
   "source": [
    "¿Cuál es el efecto de cambiar el número de vecinos en la calidad del modelo usuario-usuario ? \n",
    "\n",
    "Pruebe para un número diferente de vecinos (e.j 5, 10, 20, 50, 100)"
   ]
  },
  {
   "cell_type": "code",
   "execution_count": 28,
   "metadata": {
    "colab": {
     "base_uri": "https://localhost:8080/"
    },
    "id": "0Eb-sHBnfw8b",
    "outputId": "63bb2d6f-6e37-4f9b-8900-b6f10a282039",
    "scrolled": false
   },
   "outputs": [
    {
     "name": "stdout",
     "output_type": "stream",
     "text": [
      "Computing the cosine similarity matrix...\n",
      "Done computing similarity matrix.\n",
      "Computing the cosine similarity matrix...\n",
      "Done computing similarity matrix.\n",
      "Computing the cosine similarity matrix...\n",
      "Done computing similarity matrix.\n",
      "Computing the cosine similarity matrix...\n",
      "Done computing similarity matrix.\n",
      "Computing the cosine similarity matrix...\n",
      "Done computing similarity matrix.\n",
      "Computing the cosine similarity matrix...\n",
      "Done computing similarity matrix.\n",
      "Computing the cosine similarity matrix...\n",
      "Done computing similarity matrix.\n",
      "Computing the cosine similarity matrix...\n",
      "Done computing similarity matrix.\n",
      "Computing the cosine similarity matrix...\n",
      "Done computing similarity matrix.\n",
      "Computing the cosine similarity matrix...\n",
      "Done computing similarity matrix.\n"
     ]
    },
    {
     "data": {
      "text/html": [
       "<div>\n",
       "<style scoped>\n",
       "    .dataframe tbody tr th:only-of-type {\n",
       "        vertical-align: middle;\n",
       "    }\n",
       "\n",
       "    .dataframe tbody tr th {\n",
       "        vertical-align: top;\n",
       "    }\n",
       "\n",
       "    .dataframe thead th {\n",
       "        text-align: right;\n",
       "    }\n",
       "</style>\n",
       "<table border=\"1\" class=\"dataframe\">\n",
       "  <thead>\n",
       "    <tr style=\"text-align: right;\">\n",
       "      <th></th>\n",
       "      <th>k</th>\n",
       "      <th>predict</th>\n",
       "    </tr>\n",
       "  </thead>\n",
       "  <tbody>\n",
       "    <tr>\n",
       "      <th>0</th>\n",
       "      <td>2</td>\n",
       "      <td>4.500000</td>\n",
       "    </tr>\n",
       "    <tr>\n",
       "      <th>1</th>\n",
       "      <td>12</td>\n",
       "      <td>4.416667</td>\n",
       "    </tr>\n",
       "    <tr>\n",
       "      <th>2</th>\n",
       "      <td>22</td>\n",
       "      <td>4.318182</td>\n",
       "    </tr>\n",
       "    <tr>\n",
       "      <th>3</th>\n",
       "      <td>32</td>\n",
       "      <td>4.187538</td>\n",
       "    </tr>\n",
       "    <tr>\n",
       "      <th>4</th>\n",
       "      <td>42</td>\n",
       "      <td>4.238004</td>\n",
       "    </tr>\n",
       "    <tr>\n",
       "      <th>5</th>\n",
       "      <td>52</td>\n",
       "      <td>4.269073</td>\n",
       "    </tr>\n",
       "    <tr>\n",
       "      <th>6</th>\n",
       "      <td>62</td>\n",
       "      <td>4.290042</td>\n",
       "    </tr>\n",
       "    <tr>\n",
       "      <th>7</th>\n",
       "      <td>72</td>\n",
       "      <td>4.222369</td>\n",
       "    </tr>\n",
       "    <tr>\n",
       "      <th>8</th>\n",
       "      <td>82</td>\n",
       "      <td>4.195464</td>\n",
       "    </tr>\n",
       "    <tr>\n",
       "      <th>9</th>\n",
       "      <td>92</td>\n",
       "      <td>4.206700</td>\n",
       "    </tr>\n",
       "  </tbody>\n",
       "</table>\n",
       "</div>"
      ],
      "text/plain": [
       "    k   predict\n",
       "0   2  4.500000\n",
       "1  12  4.416667\n",
       "2  22  4.318182\n",
       "3  32  4.187538\n",
       "4  42  4.238004\n",
       "5  52  4.269073\n",
       "6  62  4.290042\n",
       "7  72  4.222369\n",
       "8  82  4.195464\n",
       "9  92  4.206700"
      ]
     },
     "execution_count": 28,
     "metadata": {},
     "output_type": "execute_result"
    }
   ],
   "source": [
    "### convertirlo en una tabla\n",
    "tabla = pd.DataFrame()\n",
    "for i in range(2,100,10):\n",
    "  sim_options = {'name': 'cosine',\n",
    "                'user_based': True  # calcule similitud item-item\n",
    "                }\n",
    "  algo = KNNBasic(k=i, min_k=2, sim_options=sim_options)\n",
    "  algo.fit(trainset=train_set)\n",
    "  tabla.loc[i,'predict']= (algo.predict(154,302).est)\n",
    "tabla.reset_index().rename(columns={'index':'k'})"
   ]
  },
  {
   "cell_type": "markdown",
   "metadata": {
    "id": "ZqMr2MlbkJch"
   },
   "source": [
    "## Generando listas de predicciones para los usuarios\n",
    "\n",
    "Retomemos nuestro modelo inicial y ajustémolo con todos los ratings disponibles\n",
    "\n",
    "Para generar una lista de recomendación se debe crear un dataset de \"test\" con las entradas faltantes de la matriz utilidad para que el modelo cree las predicciones (terminar de llenar la matriz de utilidad)\n",
    "\n"
   ]
  },
  {
   "cell_type": "code",
   "execution_count": 34,
   "metadata": {},
   "outputs": [
    {
     "data": {
      "text/plain": [
       "(196, 302, 3.52986)"
      ]
     },
     "execution_count": 34,
     "metadata": {},
     "output_type": "execute_result"
    }
   ],
   "source": [
    "test[0]"
   ]
  },
  {
   "cell_type": "code",
   "execution_count": 39,
   "metadata": {},
   "outputs": [
    {
     "data": {
      "text/plain": [
       "[Prediction(uid=196, iid=377, r_ui=3.52986, est=3.531852919263047, details={'actual_k': 20, 'was_impossible': False}),\n",
       " Prediction(uid=196, iid=51, r_ui=3.52986, est=3.59549677885145, details={'actual_k': 20, 'was_impossible': False}),\n",
       " Prediction(uid=196, iid=346, r_ui=3.52986, est=3.5471070543165877, details={'actual_k': 20, 'was_impossible': False}),\n",
       " Prediction(uid=196, iid=474, r_ui=3.52986, est=3.7990088769026116, details={'actual_k': 20, 'was_impossible': False})]"
      ]
     },
     "execution_count": 39,
     "metadata": {},
     "output_type": "execute_result"
    }
   ],
   "source": [
    "algo.test(test[1:5])"
   ]
  },
  {
   "cell_type": "code",
   "execution_count": 37,
   "metadata": {
    "colab": {
     "base_uri": "https://localhost:8080/"
    },
    "id": "y0ZYsiPXktjg",
    "outputId": "73449aaa-c41f-4f4c-ac5e-bfa6909f2753"
   },
   "outputs": [
    {
     "name": "stdout",
     "output_type": "stream",
     "text": [
      "Computing the cosine similarity matrix...\n",
      "Done computing similarity matrix.\n"
     ]
    },
    {
     "data": {
      "text/plain": [
       "<surprise.prediction_algorithms.knns.KNNBasic at 0x7f055e413290>"
      ]
     },
     "execution_count": 37,
     "metadata": {},
     "output_type": "execute_result"
    }
   ],
   "source": [
    "#Se crea el dataset para modelo \n",
    "rating_data=surprise_dataset.build_full_trainset()\n",
    "# Se crea dataset de \"prueba\" con las entradas faltantes para generar las predicciones\n",
    "test=rating_data.build_anti_testset()\n",
    "\n",
    "# se crea el mismo modelo que el del ejemplo\n",
    "sim_options = {'name': 'cosine',\n",
    "               'user_based': False  # calcule similitud item-item\n",
    "               }\n",
    "algo = KNNBasic(k=20, min_k=2, sim_options=sim_options)\n",
    "algo.fit(rating_data)\n",
    "#predictions=algo.test(test)"
   ]
  },
  {
   "cell_type": "code",
   "execution_count": 34,
   "metadata": {
    "colab": {
     "base_uri": "https://localhost:8080/"
    },
    "id": "eH2O_3iFsR6e",
    "outputId": "a1de1ee1-aeea-4053-ad1f-498cdd5faa89"
   },
   "outputs": [
    {
     "data": {
      "text/plain": [
       "[Prediction(uid=196, iid=302, r_ui=3.52986, est=3.4998074068929244, details={'actual_k': 20, 'was_impossible': False}),\n",
       " Prediction(uid=196, iid=377, r_ui=3.52986, est=3.531852919263047, details={'actual_k': 20, 'was_impossible': False}),\n",
       " Prediction(uid=196, iid=51, r_ui=3.52986, est=3.59549677885145, details={'actual_k': 20, 'was_impossible': False}),\n",
       " Prediction(uid=196, iid=346, r_ui=3.52986, est=3.5471070543165877, details={'actual_k': 20, 'was_impossible': False}),\n",
       " Prediction(uid=196, iid=474, r_ui=3.52986, est=3.7990088769026116, details={'actual_k': 20, 'was_impossible': False}),\n",
       " Prediction(uid=196, iid=265, r_ui=3.52986, est=3.4464297466659812, details={'actual_k': 20, 'was_impossible': False}),\n",
       " Prediction(uid=196, iid=465, r_ui=3.52986, est=3.5022156502733557, details={'actual_k': 20, 'was_impossible': False}),\n",
       " Prediction(uid=196, iid=451, r_ui=3.52986, est=3.6948301041629965, details={'actual_k': 20, 'was_impossible': False}),\n",
       " Prediction(uid=196, iid=86, r_ui=3.52986, est=3.750152492406962, details={'actual_k': 20, 'was_impossible': False}),\n",
       " Prediction(uid=196, iid=1014, r_ui=3.52986, est=3.345072753258412, details={'actual_k': 20, 'was_impossible': False})]"
      ]
     },
     "execution_count": 34,
     "metadata": {},
     "output_type": "execute_result"
    }
   ],
   "source": [
    "#10 primeras predicciones\n",
    "predictions[0:10]"
   ]
  },
  {
   "cell_type": "code",
   "execution_count": 35,
   "metadata": {
    "colab": {
     "base_uri": "https://localhost:8080/"
    },
    "id": "Bd8lOnRXpPBm",
    "outputId": "afedb76e-cefc-437f-82d5-726302dd4c0d"
   },
   "outputs": [],
   "source": [
    "#Predicciones para usuario 196\n",
    "user_predictions=list(filter(lambda x: x[0]==196,predictions))"
   ]
  },
  {
   "cell_type": "code",
   "execution_count": 36,
   "metadata": {
    "id": "NIQAuEo4rHA2"
   },
   "outputs": [],
   "source": [
    "#Ordenamos de mayor a menor estimación de relevancia\n",
    "user_predictions.sort(key=lambda x : x.est, reverse=True)"
   ]
  },
  {
   "cell_type": "code",
   "execution_count": 37,
   "metadata": {
    "id": "GmcwrOJ-sy9G"
   },
   "outputs": [],
   "source": [
    "#tomamos las 10 primeras predicciones\n",
    "user_predictions=user_predictions[0:10]"
   ]
  },
  {
   "cell_type": "markdown",
   "metadata": {
    "id": "C14I7ePPOsI_"
   },
   "source": [
    "\n",
    "\n"
   ]
  },
  {
   "cell_type": "code",
   "execution_count": 38,
   "metadata": {
    "id": "7kRPNGHEtcux"
   },
   "outputs": [
    {
     "data": {
      "text/html": [
       "<div>\n",
       "<style scoped>\n",
       "    .dataframe tbody tr th:only-of-type {\n",
       "        vertical-align: middle;\n",
       "    }\n",
       "\n",
       "    .dataframe tbody tr th {\n",
       "        vertical-align: top;\n",
       "    }\n",
       "\n",
       "    .dataframe thead th {\n",
       "        text-align: right;\n",
       "    }\n",
       "</style>\n",
       "<table border=\"1\" class=\"dataframe\">\n",
       "  <thead>\n",
       "    <tr style=\"text-align: right;\">\n",
       "      <th></th>\n",
       "      <th>movie id</th>\n",
       "      <th>estimation</th>\n",
       "    </tr>\n",
       "  </thead>\n",
       "  <tbody>\n",
       "    <tr>\n",
       "      <th>0</th>\n",
       "      <td>1309</td>\n",
       "      <td>4.500000</td>\n",
       "    </tr>\n",
       "    <tr>\n",
       "      <th>1</th>\n",
       "      <td>1310</td>\n",
       "      <td>4.500000</td>\n",
       "    </tr>\n",
       "    <tr>\n",
       "      <th>2</th>\n",
       "      <td>1676</td>\n",
       "      <td>4.250000</td>\n",
       "    </tr>\n",
       "    <tr>\n",
       "      <th>3</th>\n",
       "      <td>1675</td>\n",
       "      <td>4.250000</td>\n",
       "    </tr>\n",
       "    <tr>\n",
       "      <th>4</th>\n",
       "      <td>1289</td>\n",
       "      <td>4.202436</td>\n",
       "    </tr>\n",
       "    <tr>\n",
       "      <th>5</th>\n",
       "      <td>1643</td>\n",
       "      <td>4.097226</td>\n",
       "    </tr>\n",
       "    <tr>\n",
       "      <th>6</th>\n",
       "      <td>1593</td>\n",
       "      <td>4.090909</td>\n",
       "    </tr>\n",
       "    <tr>\n",
       "      <th>7</th>\n",
       "      <td>935</td>\n",
       "      <td>4.051367</td>\n",
       "    </tr>\n",
       "    <tr>\n",
       "      <th>8</th>\n",
       "      <td>1216</td>\n",
       "      <td>4.050692</td>\n",
       "    </tr>\n",
       "    <tr>\n",
       "      <th>9</th>\n",
       "      <td>1312</td>\n",
       "      <td>4.049247</td>\n",
       "    </tr>\n",
       "  </tbody>\n",
       "</table>\n",
       "</div>"
      ],
      "text/plain": [
       "   movie id  estimation\n",
       "0      1309    4.500000\n",
       "1      1310    4.500000\n",
       "2      1676    4.250000\n",
       "3      1675    4.250000\n",
       "4      1289    4.202436\n",
       "5      1643    4.097226\n",
       "6      1593    4.090909\n",
       "7       935    4.051367\n",
       "8      1216    4.050692\n",
       "9      1312    4.049247"
      ]
     },
     "execution_count": 38,
     "metadata": {},
     "output_type": "execute_result"
    }
   ],
   "source": [
    "#Se convierte a dataframe\n",
    "labels = ['movie id', 'estimation']\n",
    "df_predictions = pd.DataFrame.from_records(list(map(lambda x: (x.iid, x.est) , user_predictions)), columns=labels)\n",
    "df_predictions"
   ]
  },
  {
   "cell_type": "code",
   "execution_count": 39,
   "metadata": {
    "colab": {
     "base_uri": "https://localhost:8080/",
     "height": 363
    },
    "id": "YvWQuyJGuaGV",
    "outputId": "94420f7b-7629-4407-85e6-ea972d219316"
   },
   "outputs": [
    {
     "data": {
      "text/html": [
       "<div>\n",
       "<style scoped>\n",
       "    .dataframe tbody tr th:only-of-type {\n",
       "        vertical-align: middle;\n",
       "    }\n",
       "\n",
       "    .dataframe tbody tr th {\n",
       "        vertical-align: top;\n",
       "    }\n",
       "\n",
       "    .dataframe thead th {\n",
       "        text-align: right;\n",
       "    }\n",
       "</style>\n",
       "<table border=\"1\" class=\"dataframe\">\n",
       "  <thead>\n",
       "    <tr style=\"text-align: right;\">\n",
       "      <th></th>\n",
       "      <th>movie id</th>\n",
       "      <th>estimation</th>\n",
       "      <th>movie title</th>\n",
       "      <th>IMDb URL</th>\n",
       "    </tr>\n",
       "  </thead>\n",
       "  <tbody>\n",
       "    <tr>\n",
       "      <th>0</th>\n",
       "      <td>1309</td>\n",
       "      <td>4.500000</td>\n",
       "      <td>Very Natural Thing, A (1974)</td>\n",
       "      <td>http://us.imdb.com/M/title-exact?Very%20Natura...</td>\n",
       "    </tr>\n",
       "    <tr>\n",
       "      <th>1</th>\n",
       "      <td>1310</td>\n",
       "      <td>4.500000</td>\n",
       "      <td>Walk in the Sun, A (1945)</td>\n",
       "      <td>http://us.imdb.com/M/title-exact?Walk%20in%20t...</td>\n",
       "    </tr>\n",
       "    <tr>\n",
       "      <th>2</th>\n",
       "      <td>1676</td>\n",
       "      <td>4.250000</td>\n",
       "      <td>War at Home, The (1996)</td>\n",
       "      <td>http://us.imdb.com/M/title-exact?War%20at%20Ho...</td>\n",
       "    </tr>\n",
       "    <tr>\n",
       "      <th>3</th>\n",
       "      <td>1675</td>\n",
       "      <td>4.250000</td>\n",
       "      <td>Sunchaser, The (1996)</td>\n",
       "      <td>http://us.imdb.com/M/title-exact?Sunchaser,%20...</td>\n",
       "    </tr>\n",
       "    <tr>\n",
       "      <th>4</th>\n",
       "      <td>1289</td>\n",
       "      <td>4.202436</td>\n",
       "      <td>Jack and Sarah (1995)</td>\n",
       "      <td>http://us.imdb.com/M/title-exact?Jack%20and%20...</td>\n",
       "    </tr>\n",
       "    <tr>\n",
       "      <th>5</th>\n",
       "      <td>1643</td>\n",
       "      <td>4.097226</td>\n",
       "      <td>Angel Baby (1995)</td>\n",
       "      <td>http://us.imdb.com/Title?Angel+Baby+(1995/I)</td>\n",
       "    </tr>\n",
       "    <tr>\n",
       "      <th>6</th>\n",
       "      <td>1593</td>\n",
       "      <td>4.090909</td>\n",
       "      <td>Death in Brunswick (1991)</td>\n",
       "      <td>http://us.imdb.com/M/title-exact?Death%20in%20...</td>\n",
       "    </tr>\n",
       "    <tr>\n",
       "      <th>7</th>\n",
       "      <td>935</td>\n",
       "      <td>4.051367</td>\n",
       "      <td>Paradise Road (1997)</td>\n",
       "      <td>http://us.imdb.com/M/title-exact?Paradise%20Ro...</td>\n",
       "    </tr>\n",
       "    <tr>\n",
       "      <th>8</th>\n",
       "      <td>1216</td>\n",
       "      <td>4.050692</td>\n",
       "      <td>Kissed (1996)</td>\n",
       "      <td>http://us.imdb.com/M/title-exact?Kissed%20%281...</td>\n",
       "    </tr>\n",
       "    <tr>\n",
       "      <th>9</th>\n",
       "      <td>1312</td>\n",
       "      <td>4.049247</td>\n",
       "      <td>Pompatus of Love, The (1996)</td>\n",
       "      <td>http://us.imdb.com/M/title-exact?Pompatus%20of...</td>\n",
       "    </tr>\n",
       "  </tbody>\n",
       "</table>\n",
       "</div>"
      ],
      "text/plain": [
       "   movie id  estimation                   movie title  \\\n",
       "0      1309    4.500000  Very Natural Thing, A (1974)   \n",
       "1      1310    4.500000     Walk in the Sun, A (1945)   \n",
       "2      1676    4.250000       War at Home, The (1996)   \n",
       "3      1675    4.250000         Sunchaser, The (1996)   \n",
       "4      1289    4.202436         Jack and Sarah (1995)   \n",
       "5      1643    4.097226             Angel Baby (1995)   \n",
       "6      1593    4.090909     Death in Brunswick (1991)   \n",
       "7       935    4.051367          Paradise Road (1997)   \n",
       "8      1216    4.050692                 Kissed (1996)   \n",
       "9      1312    4.049247  Pompatus of Love, The (1996)   \n",
       "\n",
       "                                           IMDb URL   \n",
       "0  http://us.imdb.com/M/title-exact?Very%20Natura...  \n",
       "1  http://us.imdb.com/M/title-exact?Walk%20in%20t...  \n",
       "2  http://us.imdb.com/M/title-exact?War%20at%20Ho...  \n",
       "3  http://us.imdb.com/M/title-exact?Sunchaser,%20...  \n",
       "4  http://us.imdb.com/M/title-exact?Jack%20and%20...  \n",
       "5       http://us.imdb.com/Title?Angel+Baby+(1995/I)  \n",
       "6  http://us.imdb.com/M/title-exact?Death%20in%20...  \n",
       "7  http://us.imdb.com/M/title-exact?Paradise%20Ro...  \n",
       "8  http://us.imdb.com/M/title-exact?Kissed%20%281...  \n",
       "9  http://us.imdb.com/M/title-exact?Pompatus%20of...  "
      ]
     },
     "execution_count": 39,
     "metadata": {},
     "output_type": "execute_result"
    }
   ],
   "source": [
    "#Lo unimos con el dataframe de películas\n",
    "df_predictions.merge(items[['movie title','IMDb URL ']], how='left', right_index=True, left_on='movie id')"
   ]
  },
  {
   "cell_type": "markdown",
   "metadata": {
    "id": "4oAheKoNvTU0"
   },
   "source": [
    "## Utilice las siguientes celdas para encontrar la respuesta a las siguientes preguntas\n",
    "\n",
    "Cree al menos 2 usuarios (al primero asígnele el id 944) y cree para cada usuario ratings nuevos (puede hacerlo haciendo a traves del [dataframe](https://pandas.pydata.org/pandas-docs/stable/reference/api/pandas.DataFrame.append.html), o añadiendo líneas al archivo). Asigne a un usuario preferencias de un segmento popular (mainstream) y a otro preferencias de un nicho."
   ]
  },
  {
   "cell_type": "code",
   "execution_count": 40,
   "metadata": {},
   "outputs": [],
   "source": [
    "new_user = pd.read_csv('content/Datos_usuarios_nuevos.csv',sep=',',usecols=['user_id','item_id','rating'])\n",
    "ratings_new = ratings.append(new_user)\n",
    "items_melt = pd.melt(items[['movie id','unknown', 'Action', 'Adventure', 'Animation', 'Children',\n",
    "       'Comedy', 'Crime', 'Documentary', 'Drama', 'Fantasy', 'Film-Noir',\n",
    "       'Horror', 'Musical', 'Mystery', 'Romance', 'Sci-Fi', 'Thriller', 'War',\n",
    "       'Western']], id_vars='movie id', var_name='genero')\n",
    "items_melt = items_melt[items_melt.value==1]\n",
    "items_melt = items_melt.groupby(['movie id']).agg({'genero': lambda x: '|'.join(x)}).reset_index()\n",
    "items_melt = items_melt.merge(items[['movie title']],on='movie id', how ='inner')"
   ]
  },
  {
   "cell_type": "code",
   "execution_count": 41,
   "metadata": {
    "colab": {
     "base_uri": "https://localhost:8080/",
     "height": 167
    },
    "id": "mQ4vk_19unXV",
    "outputId": "6f9fa9b9-c147-4007-b6b9-e9930fbfbce7"
   },
   "outputs": [],
   "source": [
    "reader = Reader( rating_scale = ( 1, 5 ) )\n",
    "#Se crea el dataset a partir del dataframe\n",
    "surprise_dataset = Dataset.load_from_df( ratings_new[ [ 'user_id', 'item_id', 'rating' ] ], reader )\n",
    "train_set, test_set=  train_test_split(surprise_dataset, test_size=.3)"
   ]
  },
  {
   "cell_type": "code",
   "execution_count": 42,
   "metadata": {},
   "outputs": [
    {
     "name": "stdout",
     "output_type": "stream",
     "text": [
      "Computing the cosine similarity matrix...\n",
      "Done computing similarity matrix.\n"
     ]
    }
   ],
   "source": [
    "#Se crea el dataset para modelo \n",
    "rating_data=surprise_dataset.build_full_trainset()\n",
    "# Se crea dataset de \"prueba\" con las entradas faltantes para generar las predicciones\n",
    "test=rating_data.build_anti_testset()\n",
    "\n",
    "# se crea el mismo modelo que el del ejemplo\n",
    "sim_options = {'name': 'cosine',\n",
    "               'user_based': False  # calcule similitud item-item\n",
    "               }\n",
    "algo = KNNBasic(k=20, min_k=2, sim_options=sim_options)\n",
    "algo.fit(rating_data)\n",
    "predictions=algo.test(test)"
   ]
  },
  {
   "cell_type": "markdown",
   "metadata": {},
   "source": [
    "### usuario 944"
   ]
  },
  {
   "cell_type": "code",
   "execution_count": 43,
   "metadata": {
    "scrolled": true
   },
   "outputs": [
    {
     "data": {
      "text/html": [
       "<div>\n",
       "<style scoped>\n",
       "    .dataframe tbody tr th:only-of-type {\n",
       "        vertical-align: middle;\n",
       "    }\n",
       "\n",
       "    .dataframe tbody tr th {\n",
       "        vertical-align: top;\n",
       "    }\n",
       "\n",
       "    .dataframe thead th {\n",
       "        text-align: right;\n",
       "    }\n",
       "</style>\n",
       "<table border=\"1\" class=\"dataframe\">\n",
       "  <thead>\n",
       "    <tr style=\"text-align: right;\">\n",
       "      <th></th>\n",
       "      <th>movie id</th>\n",
       "      <th>estimation</th>\n",
       "      <th>genero</th>\n",
       "      <th>movie title</th>\n",
       "    </tr>\n",
       "  </thead>\n",
       "  <tbody>\n",
       "    <tr>\n",
       "      <th>0</th>\n",
       "      <td>1504</td>\n",
       "      <td>5.000000</td>\n",
       "      <td>Comedy</td>\n",
       "      <td>Bewegte Mann, Der (1994)</td>\n",
       "    </tr>\n",
       "    <tr>\n",
       "      <th>1</th>\n",
       "      <td>1606</td>\n",
       "      <td>5.000000</td>\n",
       "      <td>Crime</td>\n",
       "      <td>Deceiver (1997)</td>\n",
       "    </tr>\n",
       "    <tr>\n",
       "      <th>2</th>\n",
       "      <td>1080</td>\n",
       "      <td>4.500000</td>\n",
       "      <td>Comedy</td>\n",
       "      <td>Celestial Clockwork (1994)</td>\n",
       "    </tr>\n",
       "    <tr>\n",
       "      <th>3</th>\n",
       "      <td>1130</td>\n",
       "      <td>4.500000</td>\n",
       "      <td>Documentary</td>\n",
       "      <td>Jupiter's Wife (1994)</td>\n",
       "    </tr>\n",
       "    <tr>\n",
       "      <th>4</th>\n",
       "      <td>1294</td>\n",
       "      <td>4.333333</td>\n",
       "      <td>Documentary</td>\n",
       "      <td>Ayn Rand: A Sense of Life (1997)</td>\n",
       "    </tr>\n",
       "    <tr>\n",
       "      <th>5</th>\n",
       "      <td>1526</td>\n",
       "      <td>4.333333</td>\n",
       "      <td>Drama|Romance|Thriller</td>\n",
       "      <td>Witness (1985)</td>\n",
       "    </tr>\n",
       "    <tr>\n",
       "      <th>6</th>\n",
       "      <td>1677</td>\n",
       "      <td>4.333333</td>\n",
       "      <td>Drama</td>\n",
       "      <td>Sweet Nothing (1995)</td>\n",
       "    </tr>\n",
       "    <tr>\n",
       "      <th>7</th>\n",
       "      <td>1241</td>\n",
       "      <td>4.200000</td>\n",
       "      <td>Comedy|Drama</td>\n",
       "      <td>Van, The (1996)</td>\n",
       "    </tr>\n",
       "    <tr>\n",
       "      <th>8</th>\n",
       "      <td>1682</td>\n",
       "      <td>4.000000</td>\n",
       "      <td>Drama</td>\n",
       "      <td>Scream of Stone (Schrei aus Stein) (1991)</td>\n",
       "    </tr>\n",
       "    <tr>\n",
       "      <th>9</th>\n",
       "      <td>1251</td>\n",
       "      <td>3.946101</td>\n",
       "      <td>Comedy</td>\n",
       "      <td>A Chef in Love (1996)</td>\n",
       "    </tr>\n",
       "  </tbody>\n",
       "</table>\n",
       "</div>"
      ],
      "text/plain": [
       "   movie id  estimation                  genero  \\\n",
       "0      1504    5.000000                  Comedy   \n",
       "1      1606    5.000000                   Crime   \n",
       "2      1080    4.500000                  Comedy   \n",
       "3      1130    4.500000             Documentary   \n",
       "4      1294    4.333333             Documentary   \n",
       "5      1526    4.333333  Drama|Romance|Thriller   \n",
       "6      1677    4.333333                   Drama   \n",
       "7      1241    4.200000            Comedy|Drama   \n",
       "8      1682    4.000000                   Drama   \n",
       "9      1251    3.946101                  Comedy   \n",
       "\n",
       "                                 movie title  \n",
       "0                   Bewegte Mann, Der (1994)  \n",
       "1                            Deceiver (1997)  \n",
       "2                 Celestial Clockwork (1994)  \n",
       "3                      Jupiter's Wife (1994)  \n",
       "4           Ayn Rand: A Sense of Life (1997)  \n",
       "5                             Witness (1985)  \n",
       "6                       Sweet Nothing (1995)  \n",
       "7                            Van, The (1996)  \n",
       "8  Scream of Stone (Schrei aus Stein) (1991)  \n",
       "9                      A Chef in Love (1996)  "
      ]
     },
     "execution_count": 43,
     "metadata": {},
     "output_type": "execute_result"
    }
   ],
   "source": [
    "user_predictions_944=list(filter(lambda x: x[0]==944,predictions))\n",
    "user_predictions_944.sort(key=lambda x : x.est, reverse=True)\n",
    "labels = ['movie id', 'estimation']\n",
    "user_predictions_944 = pd.DataFrame.from_records(list(map(lambda x: (x.iid, x.est) , user_predictions_944)), columns=labels)\n",
    "user_predictions_944.merge(items_melt,on='movie id',how='inner').head(10)"
   ]
  },
  {
   "cell_type": "markdown",
   "metadata": {},
   "source": [
    "### usuario 945"
   ]
  },
  {
   "cell_type": "code",
   "execution_count": 44,
   "metadata": {
    "scrolled": true
   },
   "outputs": [
    {
     "data": {
      "text/html": [
       "<div>\n",
       "<style scoped>\n",
       "    .dataframe tbody tr th:only-of-type {\n",
       "        vertical-align: middle;\n",
       "    }\n",
       "\n",
       "    .dataframe tbody tr th {\n",
       "        vertical-align: top;\n",
       "    }\n",
       "\n",
       "    .dataframe thead th {\n",
       "        text-align: right;\n",
       "    }\n",
       "</style>\n",
       "<table border=\"1\" class=\"dataframe\">\n",
       "  <thead>\n",
       "    <tr style=\"text-align: right;\">\n",
       "      <th></th>\n",
       "      <th>movie id</th>\n",
       "      <th>estimation</th>\n",
       "      <th>genero</th>\n",
       "      <th>movie title</th>\n",
       "    </tr>\n",
       "  </thead>\n",
       "  <tbody>\n",
       "    <tr>\n",
       "      <th>0</th>\n",
       "      <td>1602</td>\n",
       "      <td>5.000000</td>\n",
       "      <td>Drama</td>\n",
       "      <td>Price Above Rubies, A (1998)</td>\n",
       "    </tr>\n",
       "    <tr>\n",
       "      <th>1</th>\n",
       "      <td>1596</td>\n",
       "      <td>4.666667</td>\n",
       "      <td>Action|Sci-Fi|Thriller</td>\n",
       "      <td>Nemesis 2: Nebula (1995)</td>\n",
       "    </tr>\n",
       "    <tr>\n",
       "      <th>2</th>\n",
       "      <td>1595</td>\n",
       "      <td>4.666667</td>\n",
       "      <td>Action|Thriller</td>\n",
       "      <td>Shopping (1994)</td>\n",
       "    </tr>\n",
       "    <tr>\n",
       "      <th>3</th>\n",
       "      <td>1436</td>\n",
       "      <td>4.500000</td>\n",
       "      <td>Drama|Romance</td>\n",
       "      <td>Mr. Jones (1993)</td>\n",
       "    </tr>\n",
       "    <tr>\n",
       "      <th>4</th>\n",
       "      <td>1616</td>\n",
       "      <td>4.500000</td>\n",
       "      <td>Drama</td>\n",
       "      <td>Desert Winds (1995)</td>\n",
       "    </tr>\n",
       "    <tr>\n",
       "      <th>5</th>\n",
       "      <td>1677</td>\n",
       "      <td>4.500000</td>\n",
       "      <td>Drama</td>\n",
       "      <td>Sweet Nothing (1995)</td>\n",
       "    </tr>\n",
       "    <tr>\n",
       "      <th>6</th>\n",
       "      <td>1679</td>\n",
       "      <td>4.500000</td>\n",
       "      <td>Romance|Thriller</td>\n",
       "      <td>B. Monkey (1998)</td>\n",
       "    </tr>\n",
       "    <tr>\n",
       "      <th>7</th>\n",
       "      <td>1678</td>\n",
       "      <td>4.500000</td>\n",
       "      <td>Drama</td>\n",
       "      <td>Mat' i syn (1997)</td>\n",
       "    </tr>\n",
       "    <tr>\n",
       "      <th>8</th>\n",
       "      <td>1680</td>\n",
       "      <td>4.500000</td>\n",
       "      <td>Drama|Romance</td>\n",
       "      <td>Sliding Doors (1998)</td>\n",
       "    </tr>\n",
       "    <tr>\n",
       "      <th>9</th>\n",
       "      <td>1526</td>\n",
       "      <td>4.428571</td>\n",
       "      <td>Drama|Romance|Thriller</td>\n",
       "      <td>Witness (1985)</td>\n",
       "    </tr>\n",
       "  </tbody>\n",
       "</table>\n",
       "</div>"
      ],
      "text/plain": [
       "   movie id  estimation                  genero                   movie title\n",
       "0      1602    5.000000                   Drama  Price Above Rubies, A (1998)\n",
       "1      1596    4.666667  Action|Sci-Fi|Thriller      Nemesis 2: Nebula (1995)\n",
       "2      1595    4.666667         Action|Thriller               Shopping (1994)\n",
       "3      1436    4.500000           Drama|Romance              Mr. Jones (1993)\n",
       "4      1616    4.500000                   Drama           Desert Winds (1995)\n",
       "5      1677    4.500000                   Drama          Sweet Nothing (1995)\n",
       "6      1679    4.500000        Romance|Thriller              B. Monkey (1998)\n",
       "7      1678    4.500000                   Drama             Mat' i syn (1997)\n",
       "8      1680    4.500000           Drama|Romance          Sliding Doors (1998)\n",
       "9      1526    4.428571  Drama|Romance|Thriller                Witness (1985)"
      ]
     },
     "execution_count": 44,
     "metadata": {},
     "output_type": "execute_result"
    }
   ],
   "source": [
    "user_predictions_945 = list(filter(lambda x: x[0]==945,predictions))\n",
    "user_predictions_945.sort(key=lambda x : x.est, reverse=True)\n",
    "labels = ['movie id', 'estimation']\n",
    "user_predictions_945 = pd.DataFrame.from_records(list(map(lambda x: (x.iid, x.est) , user_predictions_945)), columns=labels)\n",
    "user_predictions_945.merge(items_melt,on='movie id',how='inner').head(10)"
   ]
  },
  {
   "cell_type": "markdown",
   "metadata": {},
   "source": [
    "¿Que tan bien cree que el sistema esta respondiendo al objetivo de buscar items para el usuario dentro de la cola larga?"
   ]
  },
  {
   "cell_type": "code",
   "execution_count": 45,
   "metadata": {},
   "outputs": [],
   "source": [
    "item_raking = ratings.groupby('item_id').size().reset_index(name = 'conteo').sort_values(by = 'conteo', ascending = False)\n",
    "item_raking = item_raking[item_raking.conteo >= item_raking.conteo.quantile(0.75)].rename(columns= {'item_id':'movie id'})\n",
    "items_tail = item_raking.merge(items_melt,on='movie id',how='inner')"
   ]
  },
  {
   "cell_type": "code",
   "execution_count": 46,
   "metadata": {},
   "outputs": [
    {
     "data": {
      "text/plain": [
       "0.0"
      ]
     },
     "execution_count": 46,
     "metadata": {},
     "output_type": "execute_result"
    }
   ],
   "source": [
    "### Número de items dentro de  cola larga.\n",
    "len(items_tail[(items_tail['movie id'].isin(user_predictions_944.head(50)['movie id']))])/50"
   ]
  },
  {
   "cell_type": "markdown",
   "metadata": {},
   "source": [
    "¿Que tan bien cree que el sistema esta respondiendo a los gustos del usuario?"
   ]
  },
  {
   "cell_type": "code",
   "execution_count": 47,
   "metadata": {},
   "outputs": [
    {
     "data": {
      "image/png": "[encoded data removed]",
      "text/plain": [
       "<Figure size 432x288 with 1 Axes>"
      ]
     },
     "metadata": {
      "needs_background": "light"
     },
     "output_type": "display_data"
    }
   ],
   "source": [
    "A =user_predictions_944.merge(items_melt,on='movie id',how='inner').head(10)['genero'].apply(lambda x: x.split('|'))\n",
    "def list_x(A):\n",
    "    f = pd.DataFrame()\n",
    "    for j in range(len(A)):\n",
    "         f = f.append(pd.DataFrame([i for i in A[j]]))\n",
    "    return f\n",
    "        \n",
    "sns.countplot(x = list_x(A)[0])\n",
    "plt.title('recomendacion')\n",
    "plt.show()"
   ]
  },
  {
   "cell_type": "code",
   "execution_count": 48,
   "metadata": {},
   "outputs": [
    {
     "data": {
      "image/png": "[encoded data removed]",
      "text/plain": [
       "<Figure size 432x288 with 1 Axes>"
      ]
     },
     "metadata": {
      "needs_background": "light"
     },
     "output_type": "display_data"
    }
   ],
   "source": [
    "A = new_user[new_user.user_id == 944].merge(items_melt,left_on ='item_id' ,right_on='movie id',how='inner')['genero'].apply(lambda x: x.split('|'))\n",
    "sns.countplot(x = list_x(A)[0])\n",
    "plt.title('perfil')\n",
    "plt.show()"
   ]
  },
  {
   "cell_type": "markdown",
   "metadata": {},
   "source": [
    "### Punto 3 Lenskit"
   ]
  },
  {
   "cell_type": "code",
   "execution_count": 49,
   "metadata": {},
   "outputs": [],
   "source": [
    "from lenskit import crossfold as xf\n",
    "from lenskit import batch, topn, util\n",
    "from lenskit.algorithms import Recommender, als, item_knn as knn\n",
    "import lenskit.metrics.predict as pm"
   ]
  },
  {
   "cell_type": "code",
   "execution_count": 50,
   "metadata": {},
   "outputs": [],
   "source": [
    "def eval(aname, algo, train, test):\n",
    "    fittable = util.clone(algo)\n",
    "    fittable = Recommender.adapt(fittable)\n",
    "    fittable.fit(train)\n",
    "    users = test.user.unique()\n",
    "    # now we run the recommender\n",
    "    recs = batch.recommend(fittable, users, 100)\n",
    "    # add the algorithm name for analyzability\n",
    "    recs['Algorithm'] = aname\n",
    "    return recs\n",
    "\n",
    "\n",
    "def evaluate_predictions(name, algo, train, test):\n",
    "    algo_cloned = util.clone(algo)\n",
    "    algo_cloned.fit(train)\n",
    "    return test.assign(preds=algo_cloned.predict(test), algo=name)"
   ]
  },
  {
   "cell_type": "code",
   "execution_count": 51,
   "metadata": {
    "scrolled": true
   },
   "outputs": [],
   "source": [
    "ratings_test = ratings.rename(columns={'user_id':'user',\n",
    "                                       'item_id':'item'})\n",
    "algo_ii = knn.ItemItem(20,2)\n",
    "ratings_test = ratings_test.reset_index(drop=True)"
   ]
  },
  {
   "cell_type": "code",
   "execution_count": 56,
   "metadata": {
    "scrolled": true
   },
   "outputs": [],
   "source": [
    "all_recs = []\n",
    "test_data = []\n",
    "for train, test in xf.partition_users(ratings_test[['user', 'item', 'rating']], 5, xf.SampleFrac(0.2)):\n",
    "    test_data.append(test)\n",
    "    all_recs.append(eval('ItemItem', algo_ii, train, test))"
   ]
  },
  {
   "cell_type": "code",
   "execution_count": 57,
   "metadata": {
    "scrolled": true
   },
   "outputs": [
    {
     "data": {
      "text/html": [
       "<div>\n",
       "<style scoped>\n",
       "    .dataframe tbody tr th:only-of-type {\n",
       "        vertical-align: middle;\n",
       "    }\n",
       "\n",
       "    .dataframe tbody tr th {\n",
       "        vertical-align: top;\n",
       "    }\n",
       "\n",
       "    .dataframe thead th {\n",
       "        text-align: right;\n",
       "    }\n",
       "</style>\n",
       "<table border=\"1\" class=\"dataframe\">\n",
       "  <thead>\n",
       "    <tr style=\"text-align: right;\">\n",
       "      <th></th>\n",
       "      <th>item</th>\n",
       "      <th>score</th>\n",
       "      <th>user</th>\n",
       "      <th>rank</th>\n",
       "      <th>Algorithm</th>\n",
       "      <th>movie id</th>\n",
       "      <th>genero</th>\n",
       "      <th>movie title</th>\n",
       "    </tr>\n",
       "  </thead>\n",
       "  <tbody>\n",
       "    <tr>\n",
       "      <th>0</th>\n",
       "      <td>1449</td>\n",
       "      <td>4.968587</td>\n",
       "      <td>196</td>\n",
       "      <td>1</td>\n",
       "      <td>ItemItem</td>\n",
       "      <td>1449</td>\n",
       "      <td>Drama</td>\n",
       "      <td>Pather Panchali (1955)</td>\n",
       "    </tr>\n",
       "    <tr>\n",
       "      <th>1</th>\n",
       "      <td>701</td>\n",
       "      <td>4.923219</td>\n",
       "      <td>196</td>\n",
       "      <td>2</td>\n",
       "      <td>ItemItem</td>\n",
       "      <td>701</td>\n",
       "      <td>Documentary</td>\n",
       "      <td>Wonderful, Horrible Life of Leni Riefenstahl, ...</td>\n",
       "    </tr>\n",
       "    <tr>\n",
       "      <th>2</th>\n",
       "      <td>114</td>\n",
       "      <td>4.776318</td>\n",
       "      <td>196</td>\n",
       "      <td>3</td>\n",
       "      <td>ItemItem</td>\n",
       "      <td>114</td>\n",
       "      <td>Animation</td>\n",
       "      <td>Wallace &amp; Gromit: The Best of Aardman Animatio...</td>\n",
       "    </tr>\n",
       "    <tr>\n",
       "      <th>3</th>\n",
       "      <td>134</td>\n",
       "      <td>4.731477</td>\n",
       "      <td>196</td>\n",
       "      <td>4</td>\n",
       "      <td>ItemItem</td>\n",
       "      <td>134</td>\n",
       "      <td>Drama</td>\n",
       "      <td>Citizen Kane (1941)</td>\n",
       "    </tr>\n",
       "    <tr>\n",
       "      <th>4</th>\n",
       "      <td>1125</td>\n",
       "      <td>4.689272</td>\n",
       "      <td>196</td>\n",
       "      <td>5</td>\n",
       "      <td>ItemItem</td>\n",
       "      <td>1125</td>\n",
       "      <td>Thriller</td>\n",
       "      <td>Innocents, The (1961)</td>\n",
       "    </tr>\n",
       "    <tr>\n",
       "      <th>5</th>\n",
       "      <td>178</td>\n",
       "      <td>4.602984</td>\n",
       "      <td>196</td>\n",
       "      <td>6</td>\n",
       "      <td>ItemItem</td>\n",
       "      <td>178</td>\n",
       "      <td>Drama</td>\n",
       "      <td>12 Angry Men (1957)</td>\n",
       "    </tr>\n",
       "    <tr>\n",
       "      <th>6</th>\n",
       "      <td>1301</td>\n",
       "      <td>4.598086</td>\n",
       "      <td>196</td>\n",
       "      <td>7</td>\n",
       "      <td>ItemItem</td>\n",
       "      <td>1301</td>\n",
       "      <td>Comedy</td>\n",
       "      <td>Stripes (1981)</td>\n",
       "    </tr>\n",
       "    <tr>\n",
       "      <th>7</th>\n",
       "      <td>479</td>\n",
       "      <td>4.584965</td>\n",
       "      <td>196</td>\n",
       "      <td>8</td>\n",
       "      <td>ItemItem</td>\n",
       "      <td>479</td>\n",
       "      <td>Mystery|Thriller</td>\n",
       "      <td>Vertigo (1958)</td>\n",
       "    </tr>\n",
       "    <tr>\n",
       "      <th>8</th>\n",
       "      <td>1524</td>\n",
       "      <td>4.574161</td>\n",
       "      <td>196</td>\n",
       "      <td>9</td>\n",
       "      <td>ItemItem</td>\n",
       "      <td>1524</td>\n",
       "      <td>Drama</td>\n",
       "      <td>Kaspar Hauser (1993)</td>\n",
       "    </tr>\n",
       "    <tr>\n",
       "      <th>9</th>\n",
       "      <td>488</td>\n",
       "      <td>4.571544</td>\n",
       "      <td>196</td>\n",
       "      <td>10</td>\n",
       "      <td>ItemItem</td>\n",
       "      <td>488</td>\n",
       "      <td>Film-Noir</td>\n",
       "      <td>Sunset Blvd. (1950)</td>\n",
       "    </tr>\n",
       "  </tbody>\n",
       "</table>\n",
       "</div>"
      ],
      "text/plain": [
       "   item     score  user  rank Algorithm  movie id            genero  \\\n",
       "0  1449  4.968587   196     1  ItemItem      1449             Drama   \n",
       "1   701  4.923219   196     2  ItemItem       701       Documentary   \n",
       "2   114  4.776318   196     3  ItemItem       114         Animation   \n",
       "3   134  4.731477   196     4  ItemItem       134             Drama   \n",
       "4  1125  4.689272   196     5  ItemItem      1125          Thriller   \n",
       "5   178  4.602984   196     6  ItemItem       178             Drama   \n",
       "6  1301  4.598086   196     7  ItemItem      1301            Comedy   \n",
       "7   479  4.584965   196     8  ItemItem       479  Mystery|Thriller   \n",
       "8  1524  4.574161   196     9  ItemItem      1524             Drama   \n",
       "9   488  4.571544   196    10  ItemItem       488         Film-Noir   \n",
       "\n",
       "                                         movie title  \n",
       "0                             Pather Panchali (1955)  \n",
       "1  Wonderful, Horrible Life of Leni Riefenstahl, ...  \n",
       "2  Wallace & Gromit: The Best of Aardman Animatio...  \n",
       "3                                Citizen Kane (1941)  \n",
       "4                              Innocents, The (1961)  \n",
       "5                                12 Angry Men (1957)  \n",
       "6                                     Stripes (1981)  \n",
       "7                                     Vertigo (1958)  \n",
       "8                               Kaspar Hauser (1993)  \n",
       "9                                Sunset Blvd. (1950)  "
      ]
     },
     "execution_count": 57,
     "metadata": {},
     "output_type": "execute_result"
    }
   ],
   "source": [
    "all_recs_ = pd.concat(all_recs, ignore_index=True)\n",
    "all_recs_[all_recs_.user==196].merge(items_melt,left_on='item', right_on='movie id',how='inner').head(10)"
   ]
  },
  {
   "cell_type": "code",
   "execution_count": 58,
   "metadata": {},
   "outputs": [
    {
     "name": "stdout",
     "output_type": "stream",
     "text": [
      "RMSE: 0.9021564096221717\n"
     ]
    }
   ],
   "source": [
    "preds_itemitem = pd.concat(evaluate_predictions('itemitem', algo_ii, train, test) for (train, test) in xf.partition_users(ratings_test, 5, xf.SampleFrac(0.2)))\n",
    "print(f'RMSE: {pm.rmse(preds_itemitem.preds, preds_itemitem.rating)}')"
   ]
  }
 ],
 "metadata": {
  "colab": {
   "collapsed_sections": [],
   "name": "Copia de MINE_4201_SR_Laboratorio_1.ipynb",
   "provenance": [],
   "toc_visible": true
  },
  "kernelspec": {
   "display_name": "Python 3",
   "language": "python",
   "name": "python3"
  },
  "language_info": {
   "codemirror_mode": {
    "name": "ipython",
    "version": 3
   },
   "file_extension": ".py",
   "mimetype": "text/x-python",
   "name": "python",
   "nbconvert_exporter": "python",
   "pygments_lexer": "ipython3",
   "version": "3.7.9"
  }
 },
 "nbformat": 4,
 "nbformat_minor": 1
}
